{
 "cells": [
  {
   "cell_type": "code",
   "execution_count": 50,
   "metadata": {
    "collapsed": true
   },
   "outputs": [],
   "source": [
    "import numpy as np\n",
    "import pandas as pd"
   ]
  },
  {
   "cell_type": "code",
   "execution_count": 48,
   "metadata": {
    "collapsed": false
   },
   "outputs": [],
   "source": [
    "def compoundterms(ethnicities, terms, filename):\n",
    "    rows = []\n",
    "\n",
    "    for ethnicity in ethnicities:\n",
    "        row = []\n",
    "        for term in terms:\n",
    "            new_word = ethnicity + term\n",
    "            #print(new_word)\n",
    "            row.append(new_word)\n",
    "        rows.append(row)\n",
    "\n",
    "    #print(rows)\n",
    "\n",
    "    csv_data = pd.DataFrame.from_records(rows, index=ethnicities, columns=terms)\n",
    "    csv_data.to_csv(filename)\n",
    "    #print(csv_data)"
   ]
  },
  {
   "cell_type": "markdown",
   "metadata": {},
   "source": [
    "# **All Terms**"
   ]
  },
  {
   "cell_type": "code",
   "execution_count": 39,
   "metadata": {
    "collapsed": false
   },
   "outputs": [],
   "source": [
    "all_ethnicities = [\"White\", \"European\", \"Caucasian\", \"Spanish\", \"Mexican\", \"Hispanic\", \"Latino\", \"Chicano\", \n",
    "               \"Puerto Rican\", \"Dominican\", \"Black\", \"Negro\", \"African\", \"Middle Eastern\", \"Arab\", \"Persian\", \n",
    "              \"Iranian\", \"Turkish\", \"North African\", \"Asian\", \"Chinese\", \"Japanese\", \"Korean\", \"Vietnamese\", \n",
    "               \"Filipino\", \"East Asian\", \"Indian\", \"Asian Indian\", \"South Asian\", \"Pakistani\", \"Bangladeshi\", \n",
    "              \"Pacific Islander\", \"Native Hawaiian\", \"Guamanian\", \"Chamorro\", \"Samoan\", \"American Indian\", \n",
    "              \"Eskimo\", \"Alaska Native\", \"Native American\", \"Inuit\", \"First Nations\"]\n",
    "\n",
    "all_terms = [\"s\", \" American\", \" Americans\", \"-American\", \"-Americans\", \" individual\", \" individuals\", \" human being\", \n",
    "         \" human beings\", \" person\", \" people\", \" peoples\", \" kid\", \" kids\", \" child\", \" children\", \" boy\", \n",
    "         \" boys\", \" man\", \" men\", \" girl\", \" girls\", \" woman\", \" women\", \" guy\", \" guys\", \" dude\", \" dudes\", \n",
    "         \" baby\", \" babies\", \" infant\", \" infants\", \" teenager\", \" teenagers\", \" adolescent\", \" adolescents\", \n",
    "         \" adult\", \" adults\", \" family\", \" families\", \" folk\", \" folks\", \" husband\", \" husbands\", \" wife\", \n",
    "         \" wives\", \" friend\", \" friends\", \" boyfriend\", \" guy friends\", \" girlfriend\", \" girlfriends\", \n",
    "         \" girl friends\", \" student\", \" students\", \" professor\", \" professors\", \" teacher\", \" teachers\", \n",
    "         \" population\", \" populations\", \" populace\", \" immigrant\", \" immigrants\", \" community\", \" communities\", \n",
    "         \" citizen\", \" citizens\", \" resident\", \" residents\", \" majority\", \" majorities\", \" minority\", \" minorities\", \n",
    "        \" member\", \" members\", \" voter\", \" voters\", \" occupant\", \" occupants\", \" subject\", \" subjects\", \" participant\", \n",
    "         \" participants\", \" commoner\", \" commoners\", \" inhabitant\", \" inhabitants\", \" settler\", \" settlers\", \" villager\", \n",
    "         \" villagers\", \" scholar\", \" scholars\", \" civilian\", \" civilians\", \" representative\", \" representatives\", \" personage\", \n",
    "        \" customer\", \" customers\", \" consumer\", \" consumers\", \" worker\", \" workers\", \" employee\", \" employees\", \" employer\", \n",
    "         \" employers\", \" gal\", \" gals\", \" gentleman\", \" gentlemen\", \" lady\", \" ladies\", \" son\", \" sons\", \" spouse\", \" spouses\", \n",
    "        \" papa\", \" aunt\", \" aunts\", \" niece\", \" nieces\", \" nephew\", \" nephews\", \" uncle\", \" uncles\", \" cousin\", \" cousins\", \n",
    "        \" brother\", \" brothers\", \" sister\", \" sisters\", \" doctor\", \" doctors\", \" nurse\", \" nurses\", \" lawyer\", \" lawyers\", \n",
    "        \" master\", \" masters\", \" President\", \" Presidents\", \" secretary\", \" secretaries\", \" engineer\", \" engineers\", \n",
    "         \" police officer\", \" police officers\", \" tutor\", \" tutors\", \" identity\", \" identities\", \" self\", \" selves\", \n",
    "         \" heritage\", \" background\", \" ethnicity\"]\n",
    "\n",
    "compoundterms(all_ethnicities, all_terms, \"/Users/roxannemoadel-attie1/compsocial/Census Map/Census_Map_All_Terms.csv\")"
   ]
  },
  {
   "cell_type": "markdown",
   "metadata": {},
   "source": [
    "# **National/Global Level Terms**"
   ]
  },
  {
   "cell_type": "code",
   "execution_count": 40,
   "metadata": {
    "collapsed": false
   },
   "outputs": [],
   "source": [
    "global_ethnicities = [\"White\", \"European\", \"Caucasian\", \"Spanish\", \"Mexican\", \"Hispanic\", \"Latino\", \"Chicano\", \n",
    "               \"Puerto Rican\", \"Dominican\", \"Black\", \"Negro\", \"African\", \"Middle Eastern\", \"Arab\", \"Persian\", \n",
    "              \"Iranian\", \"Turkish\", \"North African\", \"Asian\", \"Chinese\", \"Japanese\", \"Korean\", \"Vietnamese\", \n",
    "               \"Filipino\", \"East Asian\", \"Indian\", \"Asian Indian\", \"South Asian\", \"Pakistani\", \"Bangladeshi\", \n",
    "              \"Pacific Islander\", \"Native Hawaiian\", \"Guamanian\", \"Chamorro\", \"Samoan\", \"American Indian\", \n",
    "              \"Eskimo\", \"Alaska Native\", \"Native American\", \"Inuit\", \"First Nations\"]\n",
    "\n",
    "global_terms = [\"s\", \" American\", \" Americans\", \"-American\", \"-Americans\", \" individual\", \" individuals\", \" human being\", \n",
    "         \" human beings\", \" person\", \" people\", \" peoples\", \" folk\", \" folks\", \" population\", \" populations\", \" populace\", \n",
    "         \" immigrant\", \" immigrants\", \" community\", \" communities\", \" citizen\", \" citizens\", \" resident\", \" residents\", \n",
    "         \" majority\", \" majorities\", \" minority\", \" minorities\", \" member\", \" members\", \" voter\", \" voters\", \" occupant\", \n",
    "         \" occupants\", \" subject\", \" subjects\", \" participant\", \" participants\", \" commoner\", \" commoners\", \" inhabitant\", \n",
    "         \" inhabitants\", \" settler\", \" settlers\", \" villager\", \" villagers\", \" civilian\", \" civilians\", \" representative\", \n",
    "         \" representatives\", \" personage\", \" customer\", \" customers\", \" consumer\", \" consumers\", \" worker\", \" workers\", \n",
    "         \" employee\", \" employees\", \" employer\", \" employers\"]\n",
    "\n",
    "compoundterms(global_ethnicities, global_terms, \"/Users/roxannemoadel-attie1/compsocial/Census Map/Census_Map_Global_Terms.csv\")"
   ]
  },
  {
   "cell_type": "markdown",
   "metadata": {},
   "source": [
    "# **Local Level/Role-Specific Terms**"
   ]
  },
  {
   "cell_type": "code",
   "execution_count": 41,
   "metadata": {
    "collapsed": false
   },
   "outputs": [],
   "source": [
    "local_ethnicities = [\"White\", \"European\", \"Caucasian\", \"Spanish\", \"Mexican\", \"Hispanic\", \"Latino\", \"Chicano\", \n",
    "               \"Puerto Rican\", \"Dominican\", \"Black\", \"Negro\", \"African\", \"Middle Eastern\", \"Arab\", \"Persian\", \n",
    "              \"Iranian\", \"Turkish\", \"North African\", \"Asian\", \"Chinese\", \"Japanese\", \"Korean\", \"Vietnamese\", \n",
    "               \"Filipino\", \"East Asian\", \"Indian\", \"Asian Indian\", \"South Asian\", \"Pakistani\", \"Bangladeshi\", \n",
    "              \"Pacific Islander\", \"Native Hawaiian\", \"Guamanian\", \"Chamorro\", \"Samoan\", \"American Indian\", \n",
    "              \"Eskimo\", \"Alaska Native\", \"Native American\", \"Inuit\", \"First Nations\"]\n",
    "\n",
    "local_terms = [\" kid\", \" kids\", \" child\", \" children\", \" boy\", \n",
    "         \" boys\", \" man\", \" men\", \" girl\", \" girls\", \" woman\", \" women\", \" guy\", \" guys\", \" dude\", \" dudes\", \n",
    "         \" baby\", \" babies\", \" infant\", \" infants\", \" teenager\", \" teenagers\", \" adolescent\", \" adolescents\", \n",
    "         \" adult\", \" adults\", \" family\", \" families\", \" husband\", \" husbands\", \" wife\", \n",
    "         \" wives\", \" friend\", \" friends\", \" boyfriend\", \" guy friends\", \" girlfriend\", \" girlfriends\", \n",
    "         \" girl friends\", \" student\", \" students\", \" professor\", \" professors\", \" teacher\", \" teachers\", \n",
    "         \" scholar\", \" scholars\", \" gal\", \" gals\", \" gentleman\", \" gentlemen\", \" lady\", \" ladies\", \" son\", \" sons\", \n",
    "         \" spouse\", \" spouses\", \" papa\", \" aunt\", \" aunts\", \" niece\", \" nieces\", \" nephew\", \" nephews\", \" uncle\", \n",
    "         \" uncles\", \" cousin\", \" cousins\", \" brother\", \" brothers\", \" sister\", \" sisters\", \" doctor\", \" doctors\", \n",
    "         \" nurse\", \" nurses\", \" lawyer\", \" lawyers\", \" master\", \" masters\", \" President\", \" Presidents\", \" secretary\", \n",
    "         \" secretaries\", \" engineer\", \" engineers\", \" police officer\", \" police officers\", \" tutor\", \" tutors\"]\n",
    "\n",
    "compoundterms(local_ethnicities, local_terms, \"/Users/roxannemoadel-attie1/compsocial/Census Map/Census_Map_Local_Terms.csv\")"
   ]
  },
  {
   "cell_type": "markdown",
   "metadata": {},
   "source": [
    "# **Conceptual Terms**"
   ]
  },
  {
   "cell_type": "code",
   "execution_count": 42,
   "metadata": {
    "collapsed": false
   },
   "outputs": [],
   "source": [
    "conceptual_ethnicities = [\"White\", \"European\", \"Caucasian\", \"Spanish\", \"Mexican\", \"Hispanic\", \"Latino\", \"Chicano\", \n",
    "               \"Puerto Rican\", \"Dominican\", \"Black\", \"Negro\", \"African\", \"Middle Eastern\", \"Arab\", \"Persian\", \n",
    "              \"Iranian\", \"Turkish\", \"North African\", \"Asian\", \"Chinese\", \"Japanese\", \"Korean\", \"Vietnamese\", \n",
    "               \"Filipino\", \"East Asian\", \"Indian\", \"Asian Indian\", \"South Asian\", \"Pakistani\", \"Bangladeshi\", \n",
    "              \"Pacific Islander\", \"Native Hawaiian\", \"Guamanian\", \"Chamorro\", \"Samoan\", \"American Indian\", \n",
    "              \"Eskimo\", \"Alaska Native\", \"Native American\", \"Inuit\", \"First Nations\"]\n",
    "\n",
    "conceptual_terms = [\" identity\", \" identities\", \" self\", \" selves\", \" heritage\", \" background\", \" ethnicity\"]\n",
    "\n",
    "compoundterms(conceptual_ethnicities, conceptual_terms, \"/Users/roxannemoadel-attie1/compsocial/Census Map/Census_Map_Conceptual_Terms.csv\")"
   ]
  },
  {
   "cell_type": "markdown",
   "metadata": {},
   "source": [
    "# **Adjective + Race Terms**"
   ]
  },
  {
   "cell_type": "code",
   "execution_count": 49,
   "metadata": {
    "collapsed": false
   },
   "outputs": [],
   "source": [
    "adjective_ethnicities = [\" White\", \" European\", \" Caucasian\", \" Spanish\", \" Mexican\", \" Hispanic\", \" Latino\", \" Chicano\", \n",
    "               \" Puerto Rican\", \" Dominican\", \" Black\", \" Negro\", \" African\", \" Middle Eastern\", \" Arab\", \" Persian\", \n",
    "              \" Iranian\", \" Turkish\", \" North African\", \" Asian\", \" Chinese\", \" Japanese\", \" Korean\", \" Vietnamese\", \n",
    "               \" Filipino\", \" East Asian\", \" Indian\", \" Asian Indian\", \" South Asian\", \" Pakistani\", \" Bangladeshi\", \n",
    "              \" Pacific Islander\", \" Native Hawaiian\", \" Guamanian\", \" Chamorro\", \" Samoan\", \" American Indian\", \n",
    "              \" Eskimo\", \" Alaska Native\", \" Native American\", \" Inuit\", \" First Nations\"]\n",
    "\n",
    "adjective_terms = [\"native\", \"Native\", \"prototypical\", \"Protoypical\", \"stereotypical\", \"Stereotypical\", \"average\", \"Average\", \n",
    "         \"atypical\", \"Atypical\"]\n",
    "\n",
    "compoundterms(adjective_terms, adjective_ethnicities, \"/Users/roxannemoadel-attie1/compsocial/Census Map/Census_Map_Adjective_Terms.csv\")\n"
   ]
  }
 ],
 "metadata": {
  "kernelspec": {
   "display_name": "Python 3",
   "language": "python",
   "name": "python3"
  },
  "language_info": {
   "codemirror_mode": {
    "name": "ipython",
    "version": 3
   },
   "file_extension": ".py",
   "mimetype": "text/x-python",
   "name": "python",
   "nbconvert_exporter": "python",
   "pygments_lexer": "ipython3",
   "version": "3.5.2"
  }
 },
 "nbformat": 4,
 "nbformat_minor": 0
}
