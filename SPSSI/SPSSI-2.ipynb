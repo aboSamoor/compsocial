{
 "cells": [
  {
   "cell_type": "code",
   "execution_count": 1,
   "metadata": {
    "collapsed": false
   },
   "outputs": [],
   "source": [
    "import pandas as pd\n",
    "import numpy as np\n",
    "import os.path as p\n",
    "from collections import defaultdict"
   ]
  },
  {
   "cell_type": "code",
   "execution_count": 2,
   "metadata": {
    "collapsed": false
   },
   "outputs": [],
   "source": [
    "df = pd.read_csv(\"/home/rmyeid/notebooks/compsocial/SPSSI_2nd year project_timepoint 1.csv\",  header=0)"
   ]
  },
  {
   "cell_type": "code",
   "execution_count": 3,
   "metadata": {
    "collapsed": false
   },
   "outputs": [
    {
     "data": {
      "text/html": [
       "<div style=\"max-height:1000px;max-width:1500px;overflow:auto;\">\n",
       "<table border=\"1\" class=\"dataframe\">\n",
       "  <thead>\n",
       "    <tr style=\"text-align: right;\">\n",
       "      <th></th>\n",
       "      <th>Unnamed: 0</th>\n",
       "      <th>VERSION</th>\n",
       "      <th>ID_1</th>\n",
       "      <th>ID_2</th>\n",
       "      <th>ID_3</th>\n",
       "      <th>CEN_0</th>\n",
       "      <th>CEN_1_1</th>\n",
       "      <th>CEN_1_2</th>\n",
       "      <th>CEN_1_3</th>\n",
       "      <th>CEN_1_4</th>\n",
       "      <th>...</th>\n",
       "      <th>MOTH_EDU_TEXT</th>\n",
       "      <th>RES</th>\n",
       "      <th>NOT_0</th>\n",
       "      <th>NOT_0_TEXT</th>\n",
       "      <th>LocationLatitude</th>\n",
       "      <th>LocationLongitude</th>\n",
       "      <th>LocationAccuracy</th>\n",
       "      <th>identity_categorization</th>\n",
       "      <th>census10.1</th>\n",
       "      <th>census12.1</th>\n",
       "    </tr>\n",
       "  </thead>\n",
       "  <tbody>\n",
       "    <tr>\n",
       "      <th>0</th>\n",
       "      <td> 1</td>\n",
       "      <td> SP</td>\n",
       "      <td>   Emily Marlow</td>\n",
       "      <td>   emily.marlow@stonybrook.edu</td>\n",
       "      <td>     ejmarlow@gmail.com</td>\n",
       "      <td> 1</td>\n",
       "      <td> 1</td>\n",
       "      <td>NaN</td>\n",
       "      <td>NaN</td>\n",
       "      <td>NaN</td>\n",
       "      <td>...</td>\n",
       "      <td>         NaN</td>\n",
       "      <td> 2</td>\n",
       "      <td> 1</td>\n",
       "      <td> NaN</td>\n",
       "      <td> 40.906403</td>\n",
       "      <td>-73.131897</td>\n",
       "      <td>-1</td>\n",
       "      <td> monocultural</td>\n",
       "      <td>                      white</td>\n",
       "      <td>                      white</td>\n",
       "    </tr>\n",
       "    <tr>\n",
       "      <th>1</th>\n",
       "      <td> 2</td>\n",
       "      <td> SP</td>\n",
       "      <td>   Michael Chen</td>\n",
       "      <td> michael.chen.2@stonybrook.edu</td>\n",
       "      <td>    mchen1496@yahoo.com</td>\n",
       "      <td> 1</td>\n",
       "      <td> 1</td>\n",
       "      <td>NaN</td>\n",
       "      <td>NaN</td>\n",
       "      <td>NaN</td>\n",
       "      <td>...</td>\n",
       "      <td> Associate's</td>\n",
       "      <td> 2</td>\n",
       "      <td> 1</td>\n",
       "      <td> NaN</td>\n",
       "      <td> 40.931702</td>\n",
       "      <td>-73.114197</td>\n",
       "      <td>-1</td>\n",
       "      <td> monocultural</td>\n",
       "      <td>                      asian</td>\n",
       "      <td>                      asian</td>\n",
       "    </tr>\n",
       "    <tr>\n",
       "      <th>2</th>\n",
       "      <td> 3</td>\n",
       "      <td> SP</td>\n",
       "      <td>  Milvin Shroff</td>\n",
       "      <td>  milvin.shroff@stonybrook.edu</td>\n",
       "      <td> shroffmilvin@gmail.com</td>\n",
       "      <td> 1</td>\n",
       "      <td> 1</td>\n",
       "      <td>NaN</td>\n",
       "      <td>NaN</td>\n",
       "      <td>NaN</td>\n",
       "      <td>...</td>\n",
       "      <td>         NaN</td>\n",
       "      <td> 2</td>\n",
       "      <td> 1</td>\n",
       "      <td> NaN</td>\n",
       "      <td> 40.906403</td>\n",
       "      <td>-73.131897</td>\n",
       "      <td>-1</td>\n",
       "      <td> monocultural</td>\n",
       "      <td>                      asian</td>\n",
       "      <td>                      asian</td>\n",
       "    </tr>\n",
       "    <tr>\n",
       "      <th>3</th>\n",
       "      <td> 4</td>\n",
       "      <td> SP</td>\n",
       "      <td>   Aditi Sharma</td>\n",
       "      <td>   aditi.sharma@stonybrook.edu</td>\n",
       "      <td>    india2153@gmail.com</td>\n",
       "      <td> 1</td>\n",
       "      <td> 1</td>\n",
       "      <td>NaN</td>\n",
       "      <td>NaN</td>\n",
       "      <td>NaN</td>\n",
       "      <td>...</td>\n",
       "      <td>         NaN</td>\n",
       "      <td> 2</td>\n",
       "      <td> 1</td>\n",
       "      <td> NaN</td>\n",
       "      <td> 40.906403</td>\n",
       "      <td>-73.131897</td>\n",
       "      <td>-1</td>\n",
       "      <td>   bicultural</td>\n",
       "      <td>                asian,white</td>\n",
       "      <td>                asian,white</td>\n",
       "    </tr>\n",
       "    <tr>\n",
       "      <th>4</th>\n",
       "      <td> 5</td>\n",
       "      <td> SP</td>\n",
       "      <td> jeffery bailey</td>\n",
       "      <td> jeffery.bailey@stonybrook.edu</td>\n",
       "      <td>    jeffery41@gmail.com</td>\n",
       "      <td> 1</td>\n",
       "      <td> 1</td>\n",
       "      <td>NaN</td>\n",
       "      <td>NaN</td>\n",
       "      <td>NaN</td>\n",
       "      <td>...</td>\n",
       "      <td>         n/a</td>\n",
       "      <td> 2</td>\n",
       "      <td> 1</td>\n",
       "      <td> NaN</td>\n",
       "      <td> 40.819504</td>\n",
       "      <td>-73.920898</td>\n",
       "      <td>-1</td>\n",
       "      <td> monocultural</td>\n",
       "      <td> black or african american </td>\n",
       "      <td> black or african american </td>\n",
       "    </tr>\n",
       "  </tbody>\n",
       "</table>\n",
       "<p>5 rows × 271 columns</p>\n",
       "</div>"
      ],
      "text/plain": [
       "   Unnamed: 0 VERSION            ID_1                           ID_2  \\\n",
       "0           1      SP    Emily Marlow    emily.marlow@stonybrook.edu   \n",
       "1           2      SP    Michael Chen  michael.chen.2@stonybrook.edu   \n",
       "2           3      SP   Milvin Shroff   milvin.shroff@stonybrook.edu   \n",
       "3           4      SP    Aditi Sharma    aditi.sharma@stonybrook.edu   \n",
       "4           5      SP  jeffery bailey  jeffery.bailey@stonybrook.edu   \n",
       "\n",
       "                     ID_3  CEN_0  CEN_1_1  CEN_1_2  CEN_1_3  CEN_1_4  \\\n",
       "0      ejmarlow@gmail.com      1        1      NaN      NaN      NaN   \n",
       "1     mchen1496@yahoo.com      1        1      NaN      NaN      NaN   \n",
       "2  shroffmilvin@gmail.com      1        1      NaN      NaN      NaN   \n",
       "3     india2153@gmail.com      1        1      NaN      NaN      NaN   \n",
       "4     jeffery41@gmail.com      1        1      NaN      NaN      NaN   \n",
       "\n",
       "              ...              MOTH_EDU_TEXT RES  NOT_0  NOT_0_TEXT  \\\n",
       "0             ...                        NaN   2      1         NaN   \n",
       "1             ...                Associate's   2      1         NaN   \n",
       "2             ...                        NaN   2      1         NaN   \n",
       "3             ...                        NaN   2      1         NaN   \n",
       "4             ...                        n/a   2      1         NaN   \n",
       "\n",
       "   LocationLatitude  LocationLongitude  LocationAccuracy  \\\n",
       "0         40.906403         -73.131897                -1   \n",
       "1         40.931702         -73.114197                -1   \n",
       "2         40.906403         -73.131897                -1   \n",
       "3         40.906403         -73.131897                -1   \n",
       "4         40.819504         -73.920898                -1   \n",
       "\n",
       "   identity_categorization                  census10.1  \\\n",
       "0             monocultural                       white   \n",
       "1             monocultural                       asian   \n",
       "2             monocultural                       asian   \n",
       "3               bicultural                 asian,white   \n",
       "4             monocultural  black or african american    \n",
       "\n",
       "                   census12.1  \n",
       "0                       white  \n",
       "1                       asian  \n",
       "2                       asian  \n",
       "3                 asian,white  \n",
       "4  black or african american   \n",
       "\n",
       "[5 rows x 271 columns]"
      ]
     },
     "execution_count": 3,
     "metadata": {},
     "output_type": "execute_result"
    }
   ],
   "source": [
    "df.head()"
   ]
  },
  {
   "cell_type": "code",
   "execution_count": 4,
   "metadata": {
    "collapsed": false
   },
   "outputs": [
    {
     "name": "stdout",
     "output_type": "stream",
     "text": [
      "351\n"
     ]
    }
   ],
   "source": [
    "print len(df)"
   ]
  },
  {
   "cell_type": "markdown",
   "metadata": {},
   "source": [
    "## Data Cleaning"
   ]
  },
  {
   "cell_type": "markdown",
   "metadata": {},
   "source": [
    "1. ~~Create a new column, which labels monoculturals, biculturals and multiculturals~~\n",
    "1. ~~Categorize cultural labels into Census groups (quantify demographics)~~\n",
    "1. Determine subgroups of monoculturals and biculturals (based on ingroup prototypicality)\n",
    "1. ~~Create a sub-dataset for the SPSSI poster~~ \n",
    "1. ~~Check for missing data~~"
   ]
  },
  {
   "cell_type": "code",
   "execution_count": 5,
   "metadata": {
    "collapsed": false
   },
   "outputs": [
    {
     "data": {
      "text/html": [
       "<div style=\"max-height:1000px;max-width:1500px;overflow:auto;\">\n",
       "<table border=\"1\" class=\"dataframe\">\n",
       "  <thead>\n",
       "    <tr style=\"text-align: right;\">\n",
       "      <th></th>\n",
       "      <th>census10</th>\n",
       "      <th>census12</th>\n",
       "    </tr>\n",
       "  </thead>\n",
       "  <tbody>\n",
       "    <tr>\n",
       "      <th>0</th>\n",
       "      <td>                      white</td>\n",
       "      <td>                      white</td>\n",
       "    </tr>\n",
       "    <tr>\n",
       "      <th>1</th>\n",
       "      <td>                      asian</td>\n",
       "      <td>                      asian</td>\n",
       "    </tr>\n",
       "    <tr>\n",
       "      <th>2</th>\n",
       "      <td>                      asian</td>\n",
       "      <td>                      asian</td>\n",
       "    </tr>\n",
       "    <tr>\n",
       "      <th>3</th>\n",
       "      <td>                asian,white</td>\n",
       "      <td>                asian,white</td>\n",
       "    </tr>\n",
       "    <tr>\n",
       "      <th>4</th>\n",
       "      <td> black or african american </td>\n",
       "      <td> black or african american </td>\n",
       "    </tr>\n",
       "  </tbody>\n",
       "</table>\n",
       "</div>"
      ],
      "text/plain": [
       "                     census10                    census12\n",
       "0                       white                       white\n",
       "1                       asian                       asian\n",
       "2                       asian                       asian\n",
       "3                 asian,white                 asian,white\n",
       "4  black or african american   black or african american "
      ]
     },
     "execution_count": 5,
     "metadata": {},
     "output_type": "execute_result"
    }
   ],
   "source": [
    "df[[\"census10\", \"census12\"]].head()"
   ]
  },
  {
   "cell_type": "markdown",
   "metadata": {},
   "source": [
    "### Census 10 Stats According to Genetic Categorization"
   ]
  },
  {
   "cell_type": "markdown",
   "metadata": {},
   "source": [
    "#### Mono"
   ]
  },
  {
   "cell_type": "code",
   "execution_count": 6,
   "metadata": {
    "collapsed": false
   },
   "outputs": [
    {
     "data": {
      "text/plain": [
       "[('asian', 121),\n",
       " ('white', 120),\n",
       " ('hispanic or latino', 31),\n",
       " ('black or african american', 14),\n",
       " ('american indian or alaskan native', 1)]"
      ]
     },
     "execution_count": 6,
     "metadata": {},
     "output_type": "execute_result"
    }
   ],
   "source": [
    "df_mono = df[df.gen_identity_categorization == \"monocultural\"]\n",
    "identity_counts = defaultdict(lambda: 0)\n",
    "census10_counts = df_mono.census10.value_counts()\n",
    "for x,c  in zip(census10_counts.index.values, census10_counts.values):\n",
    "  for j in [k.strip() for k in x.split(',')]:\n",
    "    identity_counts[j] += c\n",
    "sorted(identity_counts.items(), key=lambda(x,y):y, reverse=True)"
   ]
  },
  {
   "cell_type": "markdown",
   "metadata": {},
   "source": [
    "#### Bi"
   ]
  },
  {
   "cell_type": "code",
   "execution_count": 7,
   "metadata": {
    "collapsed": false
   },
   "outputs": [
    {
     "data": {
      "text/plain": [
       "[('white', 51),\n",
       " ('hispanic or latino', 17),\n",
       " ('black or african american', 11),\n",
       " ('asian', 10),\n",
       " ('american indian or alaskan native', 1),\n",
       " ('black or african american/asian', 1),\n",
       " ('native hawaiian or pacific islander', 1)]"
      ]
     },
     "execution_count": 7,
     "metadata": {},
     "output_type": "execute_result"
    }
   ],
   "source": [
    "df_bi = df[df.gen_identity_categorization ==\"bicultural\"]\n",
    "identity_counts = defaultdict(lambda: 0)\n",
    "census10_counts = df_bi.census10.value_counts()\n",
    "for x,c  in zip(census10_counts.index.values, census10_counts.values):\n",
    "  for j in [k.strip() for k in x.split(',')]:\n",
    "    identity_counts[j] += c\n",
    "sorted(identity_counts.items(), key=lambda(x,y):y, reverse=True)"
   ]
  },
  {
   "cell_type": "markdown",
   "metadata": {},
   "source": [
    "#### Multi"
   ]
  },
  {
   "cell_type": "code",
   "execution_count": 8,
   "metadata": {
    "collapsed": false
   },
   "outputs": [
    {
     "data": {
      "text/plain": [
       "[('white', 64),\n",
       " ('hispanic or latino', 10),\n",
       " ('black or african american', 5),\n",
       " ('asian', 5),\n",
       " ('other', 2),\n",
       " ('american indian or alaskan native', 2),\n",
       " ('hipanic/white', 1)]"
      ]
     },
     "execution_count": 8,
     "metadata": {},
     "output_type": "execute_result"
    }
   ],
   "source": [
    "df_multi =  df[df.gen_identity_categorization ==\"multicultural\"]\n",
    "identity_counts = defaultdict(lambda: 0)\n",
    "census10_counts = df_multi.census10.value_counts()\n",
    "for x,c  in zip(census10_counts.index.values, census10_counts.values):\n",
    "  for j in [k.strip() for k in x.split(',')]:\n",
    "    identity_counts[j] += c\n",
    "sorted(identity_counts.items(), key=lambda(x,y):y, reverse=True)"
   ]
  },
  {
   "cell_type": "markdown",
   "metadata": {},
   "source": [
    "### Census 10 Total Stats"
   ]
  },
  {
   "cell_type": "code",
   "execution_count": 9,
   "metadata": {
    "collapsed": false
   },
   "outputs": [
    {
     "data": {
      "text/plain": [
       "[('white', 237),\n",
       " ('asian', 137),\n",
       " ('hispanic or latino', 58),\n",
       " ('black or african american', 31),\n",
       " ('n/a', 9),\n",
       " ('american indian or alaskan native', 4),\n",
       " ('other', 2),\n",
       " ('hipanic/white', 1),\n",
       " ('black or african american/asian', 1),\n",
       " ('native hawaiian or pacific islander', 1)]"
      ]
     },
     "execution_count": 9,
     "metadata": {},
     "output_type": "execute_result"
    }
   ],
   "source": [
    "df_all =  df\n",
    "identity_counts = defaultdict(lambda: 0)\n",
    "census10_counts = df_all.census10.value_counts()\n",
    "for x,c  in zip(census10_counts.index.values, census10_counts.values):\n",
    "  for j in [k.strip() for k in x.split(',')]:\n",
    "    identity_counts[j] += c\n",
    "sorted(identity_counts.items(), key=lambda(x,y):y, reverse=True)"
   ]
  },
  {
   "cell_type": "markdown",
   "metadata": {},
   "source": [
    "##Perceived Identification"
   ]
  },
  {
   "cell_type": "code",
   "execution_count": 10,
   "metadata": {
    "collapsed": false
   },
   "outputs": [
    {
     "name": "stderr",
     "output_type": "stream",
     "text": [
      "/usr/local/lib/python2.7/dist-packages/pandas/computation/expressions.py:190: UserWarning: evaluating in Python space because the '*' operator is not supported by numexpr for the bool dtype, use '&' instead\n",
      "  unsupported[op_str]))\n"
     ]
    },
    {
     "data": {
      "text/plain": [
       "monocultural     152\n",
       "bicultural       151\n",
       "multicultural     35\n",
       "dtype: int64"
      ]
     },
     "execution_count": 10,
     "metadata": {},
     "output_type": "execute_result"
    }
   ],
   "source": [
    "df[\"per_identity_categorization\"] = np.nan\n",
    "monocultural_index = (np.logical_not(df.IDEN_1A.isnull())) \n",
    "df.loc[monocultural_index, \"per_identity_categorization\"]=\"monocultural\"\n",
    "bicultural_index = (np.logical_not(df.IDEN_1A.isnull())) * (np.logical_not(df.IDEN_2A.isnull())) * (df.IDEN_3A.isnull())\n",
    "df.loc[bicultural_index,\"per_identity_categorization\"]=\"bicultural\"\n",
    "multicultural_index = (np.logical_not(df.IDEN_1A.isnull())) * (np.logical_not(df.IDEN_2A.isnull())) * (np.logical_not(df.IDEN_3A.isnull()))\n",
    "df.loc[multicultural_index, \"per_identity_categorization\"] = \"multicultural\"\n",
    "df.per_identity_categorization.value_counts()"
   ]
  },
  {
   "cell_type": "code",
   "execution_count": 11,
   "metadata": {
    "collapsed": false
   },
   "outputs": [
    {
     "data": {
      "text/plain": [
       "0    monocultural\n",
       "1    monocultural\n",
       "2    monocultural\n",
       "3      bicultural\n",
       "4    monocultural\n",
       "Name: per_identity_categorization, dtype: object"
      ]
     },
     "execution_count": 11,
     "metadata": {},
     "output_type": "execute_result"
    }
   ],
   "source": [
    "df.per_identity_categorization.head()"
   ]
  },
  {
   "cell_type": "markdown",
   "metadata": {},
   "source": [
    "##Identity Mismatch Gen & Per"
   ]
  },
  {
   "cell_type": "code",
   "execution_count": 12,
   "metadata": {
    "collapsed": false
   },
   "outputs": [],
   "source": [
    "GEN_combined = df.GEN_M_1A + \",\" + df.GEN_M_2A + \",\" + df.GEN_M_3A + \",\" + df.GEN_M_4A\n",
    "gen_identities = [set([a.strip().lower() for a in x.strip().split(',')]) for x in GEN_combined.fillna(\"nan\")]\n",
    "gen_num = np.array([len(x) for x in gen_identities])"
   ]
  },
  {
   "cell_type": "code",
   "execution_count": 13,
   "metadata": {
    "collapsed": false
   },
   "outputs": [
    {
     "name": "stdout",
     "output_type": "stream",
     "text": [
      "68\n"
     ]
    }
   ],
   "source": [
    "mul_col_index = df.gen_identity_categorization == \"multicultural\"\n",
    "mul_index = np.where(mul_col_index.values)[0]\n",
    "print len(mul_index)"
   ]
  },
  {
   "cell_type": "code",
   "execution_count": 14,
   "metadata": {
    "collapsed": false
   },
   "outputs": [
    {
     "data": {
      "text/plain": [
       "0     1\n",
       "1     1\n",
       "2     1\n",
       "3     1\n",
       "4   NaN\n",
       "Name: num_gen_identity, dtype: float64"
      ]
     },
     "execution_count": 14,
     "metadata": {},
     "output_type": "execute_result"
    }
   ],
   "source": [
    "df[\"num_gen_identity\"] = np.nan\n",
    "df.loc[df.gen_identity_categorization == \"monocultural\", \"num_gen_identity\"] = 1\n",
    "df.loc[df.gen_identity_categorization == \"bicultural\", \"num_gen_identity\"] = 2\n",
    "df.loc[mul_index, \"num_gen_identity\"] = gen_num[mul_index]\n",
    "df.num_gen_identity.head(5)"
   ]
  },
  {
   "cell_type": "code",
   "execution_count": 15,
   "metadata": {
    "collapsed": false
   },
   "outputs": [],
   "source": [
    "PER_combined = df.IDEN_1A + \",\" + df.IDEN_2A + \",\" + df.IDEN_3A + \",\" + df.IDEN_4A\n",
    "per_identities = [set([a.strip().lower() for a in x.strip().split(',')]) for x in PER_combined.fillna(\"nan\")]\n",
    "per_num = np.array([len(x) for x in per_identities])"
   ]
  },
  {
   "cell_type": "code",
   "execution_count": 16,
   "metadata": {
    "collapsed": false
   },
   "outputs": [
    {
     "name": "stdout",
     "output_type": "stream",
     "text": [
      "35\n"
     ]
    }
   ],
   "source": [
    "mul_col_index2 = df.per_identity_categorization == \"multicultural\"\n",
    "mul_index2 = np.where(mul_col_index2.values)[0]\n",
    "print len(mul_index2)"
   ]
  },
  {
   "cell_type": "code",
   "execution_count": 17,
   "metadata": {
    "collapsed": false
   },
   "outputs": [
    {
     "data": {
      "text/plain": [
       "0    1\n",
       "1    1\n",
       "2    1\n",
       "3    2\n",
       "4    1\n",
       "Name: num_per_identity, dtype: float64"
      ]
     },
     "execution_count": 17,
     "metadata": {},
     "output_type": "execute_result"
    }
   ],
   "source": [
    "df[\"num_per_identity\"] = np.nan\n",
    "df.loc[df.per_identity_categorization == \"monocultural\", \"num_per_identity\"] = 1\n",
    "df.loc[df.per_identity_categorization == \"bicultural\", \"num_per_identity\"] = 2\n",
    "df.loc[mul_index2, \"num_per_identity\"] = per_num[mul_index2]\n",
    "df.num_per_identity.head(5)"
   ]
  },
  {
   "cell_type": "code",
   "execution_count": 18,
   "metadata": {
    "collapsed": false
   },
   "outputs": [
    {
     "data": {
      "text/plain": [
       "0     0\n",
       "1     0\n",
       "2     0\n",
       "3     1\n",
       "4   NaN\n",
       "Name: identity_mismatch_gen_per, dtype: float64"
      ]
     },
     "execution_count": 18,
     "metadata": {},
     "output_type": "execute_result"
    }
   ],
   "source": [
    "df[\"identity_mismatch_gen_per\"] = abs(df.num_gen_identity - df.num_per_identity)\n",
    "df.identity_mismatch_gen_per.head()"
   ]
  },
  {
   "cell_type": "code",
   "execution_count": 19,
   "metadata": {
    "collapsed": false
   },
   "outputs": [],
   "source": [
    "df.loc[df.identity_mismatch_gen_per == 0, \"dich_identity_mismatch_gen_per\"] = 0 \n",
    "df.loc[df.identity_mismatch_gen_per != 0, \"dich_identity_mismatch_gen_per\"] = 1"
   ]
  },
  {
   "cell_type": "markdown",
   "metadata": {},
   "source": [
    "##Census 10 Mono/Bi/Multi Count"
   ]
  },
  {
   "cell_type": "code",
   "execution_count": 20,
   "metadata": {
    "collapsed": false
   },
   "outputs": [
    {
     "data": {
      "text/plain": [
       "0                         white\n",
       "1                         asian\n",
       "2                         asian\n",
       "3                   asian,white\n",
       "4    black or african american \n",
       "Name: census10, dtype: object"
      ]
     },
     "execution_count": 20,
     "metadata": {},
     "output_type": "execute_result"
    }
   ],
   "source": [
    "df.census10.head()"
   ]
  },
  {
   "cell_type": "code",
   "execution_count": 21,
   "metadata": {
    "collapsed": false
   },
   "outputs": [],
   "source": [
    "df[\"census_10_num\"] = [len(set([a.strip().lower() for a in x.strip().split(',')])) for x in df.census10]\n",
    "df.loc[df.census_10_num == 1, \"census_10_identity\"] = \"monocultural\"\n",
    "df.loc[df.census_10_num == 2, \"census_10_identity\"] = \"bicultural\"\n",
    "df.loc[df.census_10_num >2, \"census_10_identity\"] = \"multicultural\"\n",
    "#cen10_num = np.array([len(x) for x in gen_identities])"
   ]
  },
  {
   "cell_type": "markdown",
   "metadata": {},
   "source": [
    "##Census 20 Mono/Bi/Multi Count"
   ]
  },
  {
   "cell_type": "code",
   "execution_count": 22,
   "metadata": {
    "collapsed": false
   },
   "outputs": [],
   "source": [
    "df.rename(columns={\"census12\": \"census20\"}, inplace=True)\n",
    "df[\"census_20_num\"] = [len(set([a.strip().lower() for a in x.strip().split(',')])) for x in df.census20]\n",
    "df.loc[df.census_20_num == 1, \"census_20_identity\"] = \"monocultural\"\n",
    "df.loc[df.census_20_num == 2, \"census_20_identity\"] = \"bicultural\"\n",
    "df.loc[df.census_20_num >2, \"census_20_identity\"] = \"multicultural\" "
   ]
  },
  {
   "cell_type": "markdown",
   "metadata": {},
   "source": [
    "##Identity Mismatch Gen & Census 10"
   ]
  },
  {
   "cell_type": "code",
   "execution_count": 23,
   "metadata": {
    "collapsed": false
   },
   "outputs": [],
   "source": [
    "df[\"identity_mismatch_gen_cen10\"] = abs(df.num_gen_identity - df.census_10_num)"
   ]
  },
  {
   "cell_type": "code",
   "execution_count": 24,
   "metadata": {
    "collapsed": true
   },
   "outputs": [],
   "source": [
    "df.loc[df.identity_mismatch_gen_cen10 == 0, \"dich_identity_mismatch_gen_cen10\"] = 0 \n",
    "df.loc[df.identity_mismatch_gen_cen10 != 0, \"dich_identity_mismatch_gen_cen10\"] = 1"
   ]
  },
  {
   "cell_type": "markdown",
   "metadata": {},
   "source": [
    "##Identity Mismatch Gen & Census 20"
   ]
  },
  {
   "cell_type": "code",
   "execution_count": 25,
   "metadata": {
    "collapsed": false
   },
   "outputs": [],
   "source": [
    "df[\"identity_mismatch_gen_cen20\"] = abs(df.num_gen_identity - df.census_20_num)"
   ]
  },
  {
   "cell_type": "code",
   "execution_count": 26,
   "metadata": {
    "collapsed": true
   },
   "outputs": [],
   "source": [
    "df.loc[df.identity_mismatch_gen_cen20 == 0, \"dich_identity_mismatch_gen_cen20\"] = 0 \n",
    "df.loc[df.identity_mismatch_gen_cen20 != 0, \"dich_identity_mismatch_gen_cen20\"] = 1"
   ]
  },
  {
   "cell_type": "markdown",
   "metadata": {},
   "source": [
    "##Identity Mismatch Per & Census 10"
   ]
  },
  {
   "cell_type": "code",
   "execution_count": 27,
   "metadata": {
    "collapsed": false
   },
   "outputs": [],
   "source": [
    "df[\"identity_mismatch_per_cen10\"] = abs(df.num_per_identity - df.census_10_num)"
   ]
  },
  {
   "cell_type": "code",
   "execution_count": 28,
   "metadata": {
    "collapsed": true
   },
   "outputs": [],
   "source": [
    "df.loc[df.identity_mismatch_per_cen10 == 0, \"dich_identity_mismatch_per_cen10\"] = 0 \n",
    "df.loc[df.identity_mismatch_per_cen10 != 0, \"dich_identity_mismatch_per_cen10\"] = 1"
   ]
  },
  {
   "cell_type": "markdown",
   "metadata": {},
   "source": [
    "##Identity Mismatch Per & Census 20"
   ]
  },
  {
   "cell_type": "code",
   "execution_count": 29,
   "metadata": {
    "collapsed": false
   },
   "outputs": [],
   "source": [
    "df[\"identity_mismatch_per_cen20\"] = abs(df.num_per_identity - df.census_20_num)"
   ]
  },
  {
   "cell_type": "code",
   "execution_count": 30,
   "metadata": {
    "collapsed": true
   },
   "outputs": [],
   "source": [
    "df.loc[df.identity_mismatch_gen_cen20 == 0, \"dich_identity_mismatch_gen_cen20\"] = 0 \n",
    "df.loc[df.identity_mismatch_gen_cen20 != 0, \"dich_identity_mismatch_gen_cen20\"] = 1"
   ]
  },
  {
   "cell_type": "markdown",
   "metadata": {},
   "source": [
    "### Save Dataframe"
   ]
  },
  {
   "cell_type": "code",
   "execution_count": 33,
   "metadata": {
    "collapsed": false
   },
   "outputs": [
    {
     "name": "stdout",
     "output_type": "stream",
     "text": [
      "/data/csc/compsocial/SPSSI\r\n"
     ]
    }
   ],
   "source": [
    "!pwd"
   ]
  },
  {
   "cell_type": "code",
   "execution_count": 32,
   "metadata": {
    "collapsed": true
   },
   "outputs": [],
   "source": [
    "df.to_csv(\"spssi_full_identity_mismatch.csv\")"
   ]
  }
 ],
 "metadata": {
  "kernelspec": {
   "display_name": "Python 2",
   "language": "python",
   "name": "python2"
  },
  "language_info": {
   "codemirror_mode": {
    "name": "ipython",
    "version": 2
   },
   "file_extension": ".py",
   "mimetype": "text/x-python",
   "name": "python",
   "nbconvert_exporter": "python",
   "pygments_lexer": "ipython2",
   "version": "2.7.6"
  }
 },
 "nbformat": 4,
 "nbformat_minor": 0
}
