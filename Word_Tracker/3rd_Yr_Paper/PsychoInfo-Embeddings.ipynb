{
 "cells": [
  {
   "cell_type": "code",
   "execution_count": 1,
   "metadata": {
    "collapsed": false
   },
   "outputs": [],
   "source": [
    "import glob\n",
    "from io import open\n",
    "import pandas as pd\n",
    "from pandas import DataFrame as df\n",
    "from os import path\n",
    "import re\n",
    "import gensim\n",
    "import numpy as np\n",
    "from collections import Counter"
   ]
  },
  {
   "cell_type": "code",
   "execution_count": 2,
   "metadata": {
    "collapsed": false
   },
   "outputs": [],
   "source": [
    "import nltk"
   ]
  },
  {
   "cell_type": "code",
   "execution_count": 3,
   "metadata": {
    "collapsed": true
   },
   "outputs": [],
   "source": [
    "from nltk import word_tokenize"
   ]
  },
  {
   "cell_type": "code",
   "execution_count": 4,
   "metadata": {
    "collapsed": false
   },
   "outputs": [],
   "source": [
    "import matplotlib.pyplot as plt\n",
    "import matplotlib\n",
    "%matplotlib inline"
   ]
  },
  {
   "cell_type": "code",
   "execution_count": 5,
   "metadata": {
    "collapsed": false
   },
   "outputs": [],
   "source": [
    "from tools import get_psycinfo_database"
   ]
  },
  {
   "cell_type": "code",
   "execution_count": 6,
   "metadata": {
    "collapsed": false
   },
   "outputs": [],
   "source": [
    "words_df = get_psycinfo_database()"
   ]
  },
  {
   "cell_type": "code",
   "execution_count": 7,
   "metadata": {
    "collapsed": false
   },
   "outputs": [
    {
     "data": {
      "text/html": [
       "<div>\n",
       "<table border=\"1\" class=\"dataframe\">\n",
       "  <thead>\n",
       "    <tr style=\"text-align: right;\">\n",
       "      <th></th>\n",
       "      <th>Abstract</th>\n",
       "      <th>Accession Number</th>\n",
       "      <th>Author(s)</th>\n",
       "      <th>Type of Book</th>\n",
       "      <th>PsycINFO Classification Code</th>\n",
       "      <th>Conference</th>\n",
       "      <th>Document Type</th>\n",
       "      <th>Grant/Sponsorship</th>\n",
       "      <th>Key Concepts</th>\n",
       "      <th>Institution</th>\n",
       "      <th>...</th>\n",
       "      <th>Population Group</th>\n",
       "      <th>Publication Status</th>\n",
       "      <th>Publication Type</th>\n",
       "      <th>Publisher</th>\n",
       "      <th>Cited References</th>\n",
       "      <th>Title</th>\n",
       "      <th>Tests &amp; Measures</th>\n",
       "      <th>Volume</th>\n",
       "      <th>Date</th>\n",
       "      <th>Term</th>\n",
       "    </tr>\n",
       "  </thead>\n",
       "  <tbody>\n",
       "    <tr>\n",
       "      <th>0</th>\n",
       "      <td>Discussion in multicultural counselling has fo...</td>\n",
       "      <td>Peer Reviewed Journal: 2001-16471-005.</td>\n",
       "      <td>Daya, Roshni</td>\n",
       "      <td>NaN</td>\n",
       "      <td>Psychotherapy &amp; Psychotherapeutic Counseling [...</td>\n",
       "      <td>NaN</td>\n",
       "      <td>Journal Article</td>\n",
       "      <td>NaN</td>\n",
       "      <td>multicultural counseling with principles of ch...</td>\n",
       "      <td>Daya, Roshni: U Calgary, Dept of Educational P...</td>\n",
       "      <td>...</td>\n",
       "      <td>Human</td>\n",
       "      <td>NaN</td>\n",
       "      <td>Journal\\n\\nPeer Reviewed Journal</td>\n",
       "      <td>Canadian Counselling Association; Canada</td>\n",
       "      <td>NaN</td>\n",
       "      <td>Changing the face of multicultural counselling...</td>\n",
       "      <td>NaN</td>\n",
       "      <td>35</td>\n",
       "      <td>2001</td>\n",
       "      <td>multicultural</td>\n",
       "    </tr>\n",
       "    <tr>\n",
       "      <th>1</th>\n",
       "      <td>Investigated 181 counsellors' (mean age 46.5 y...</td>\n",
       "      <td>Peer Reviewed Journal: 2001-16471-004.</td>\n",
       "      <td>Arthur, Nancy\\n\\nJanuszkowski, Tania</td>\n",
       "      <td>NaN</td>\n",
       "      <td>Professional Ethics &amp; Standards &amp; Liability [3...</td>\n",
       "      <td>NaN</td>\n",
       "      <td>Journal Article</td>\n",
       "      <td>NaN</td>\n",
       "      <td>multicultural counseling competencies, Canadia...</td>\n",
       "      <td>Arthur, Nancy: U Calgary, Faculty of Education...</td>\n",
       "      <td>...</td>\n",
       "      <td>Human.  Male.  Female. Adulthood (18 yrs &amp; older)</td>\n",
       "      <td>NaN</td>\n",
       "      <td>Journal\\n\\nPeer Reviewed Journal</td>\n",
       "      <td>Canadian Counselling Association; Canada</td>\n",
       "      <td>Allison, K., Crawford, I., Echemendia, R., Rob...</td>\n",
       "      <td>The multicultural counselling competencies of ...</td>\n",
       "      <td>NaN</td>\n",
       "      <td>35</td>\n",
       "      <td>2001</td>\n",
       "      <td>multicultural</td>\n",
       "    </tr>\n",
       "    <tr>\n",
       "      <th>2</th>\n",
       "      <td>P. Pederson's 3 main criticisms of professiona...</td>\n",
       "      <td>Peer Reviewed Journal: 2001-16471-003.</td>\n",
       "      <td>Pettifor, Jean L</td>\n",
       "      <td>NaN</td>\n",
       "      <td>Professional Ethics &amp; Standards &amp; Liability [3...</td>\n",
       "      <td>NaN</td>\n",
       "      <td>Journal Article</td>\n",
       "      <td>NaN</td>\n",
       "      <td>professional codes of ethics &amp; multicultural c...</td>\n",
       "      <td>Pettifor, Jean L.: U Calgary, Calgary, AB, Canada</td>\n",
       "      <td>...</td>\n",
       "      <td>Human</td>\n",
       "      <td>NaN</td>\n",
       "      <td>Journal\\n\\nPeer Reviewed Journal</td>\n",
       "      <td>Canadian Counselling Association; Canada</td>\n",
       "      <td>American Counseling Association. (1995). Code ...</td>\n",
       "      <td>Are professional codes of ethics relevant for ...</td>\n",
       "      <td>NaN</td>\n",
       "      <td>35</td>\n",
       "      <td>2001</td>\n",
       "      <td>multicultural</td>\n",
       "    </tr>\n",
       "    <tr>\n",
       "      <th>3</th>\n",
       "      <td>The fields of psychology and particularly of c...</td>\n",
       "      <td>Peer Reviewed Journal: 2001-16471-002.</td>\n",
       "      <td>Pedersen, Paul B</td>\n",
       "      <td>NaN</td>\n",
       "      <td>Psychotherapy &amp; Psychotherapeutic Counseling [...</td>\n",
       "      <td>NaN</td>\n",
       "      <td>Journal Article</td>\n",
       "      <td>NaN</td>\n",
       "      <td>multiculturalism &amp; paradigm shift in counseling</td>\n",
       "      <td>Pedersen, Paul B.: U Alabama, Dept of Human St...</td>\n",
       "      <td>...</td>\n",
       "      <td>Human</td>\n",
       "      <td>NaN</td>\n",
       "      <td>Journal\\n\\nPeer Reviewed Journal</td>\n",
       "      <td>Canadian Counselling Association; Canada</td>\n",
       "      <td>Albee, G. W. (1994). The sins of the fathers: ...</td>\n",
       "      <td>Multiculturalism and the paradigm shift in cou...</td>\n",
       "      <td>NaN</td>\n",
       "      <td>35</td>\n",
       "      <td>2001</td>\n",
       "      <td>multicultural</td>\n",
       "    </tr>\n",
       "    <tr>\n",
       "      <th>4</th>\n",
       "      <td>Introduces the special theme issue of the Cana...</td>\n",
       "      <td>Peer Reviewed Journal: 2001-16471-001.</td>\n",
       "      <td>Arthur, Nancy\\n\\nStewart, John</td>\n",
       "      <td>NaN</td>\n",
       "      <td>Psychotherapy &amp; Psychotherapeutic Counseling [...</td>\n",
       "      <td>NaN</td>\n",
       "      <td>Journal Article</td>\n",
       "      <td>NaN</td>\n",
       "      <td>multicultural counselling in new millennium</td>\n",
       "      <td>Arthur, Nancy: U Calgary, Faculty of Education...</td>\n",
       "      <td>...</td>\n",
       "      <td>Human</td>\n",
       "      <td>NaN</td>\n",
       "      <td>Journal\\n\\nPeer Reviewed Journal</td>\n",
       "      <td>Canadian Counselling Association; Canada</td>\n",
       "      <td>Amundson, N., Westwood, M., &amp; Prefontaine, R. ...</td>\n",
       "      <td>Multicultural counselling in the new millenniu...</td>\n",
       "      <td>NaN</td>\n",
       "      <td>35</td>\n",
       "      <td>2001</td>\n",
       "      <td>multicultural</td>\n",
       "    </tr>\n",
       "  </tbody>\n",
       "</table>\n",
       "<p>5 rows × 29 columns</p>\n",
       "</div>"
      ],
      "text/plain": [
       "                                            Abstract  \\\n",
       "0  Discussion in multicultural counselling has fo...   \n",
       "1  Investigated 181 counsellors' (mean age 46.5 y...   \n",
       "2  P. Pederson's 3 main criticisms of professiona...   \n",
       "3  The fields of psychology and particularly of c...   \n",
       "4  Introduces the special theme issue of the Cana...   \n",
       "\n",
       "                         Accession Number  \\\n",
       "0  Peer Reviewed Journal: 2001-16471-005.   \n",
       "1  Peer Reviewed Journal: 2001-16471-004.   \n",
       "2  Peer Reviewed Journal: 2001-16471-003.   \n",
       "3  Peer Reviewed Journal: 2001-16471-002.   \n",
       "4  Peer Reviewed Journal: 2001-16471-001.   \n",
       "\n",
       "                              Author(s) Type of Book  \\\n",
       "0                          Daya, Roshni          NaN   \n",
       "1  Arthur, Nancy\\n\\nJanuszkowski, Tania          NaN   \n",
       "2                      Pettifor, Jean L          NaN   \n",
       "3                      Pedersen, Paul B          NaN   \n",
       "4        Arthur, Nancy\\n\\nStewart, John          NaN   \n",
       "\n",
       "                        PsycINFO Classification Code Conference  \\\n",
       "0  Psychotherapy & Psychotherapeutic Counseling [...        NaN   \n",
       "1  Professional Ethics & Standards & Liability [3...        NaN   \n",
       "2  Professional Ethics & Standards & Liability [3...        NaN   \n",
       "3  Psychotherapy & Psychotherapeutic Counseling [...        NaN   \n",
       "4  Psychotherapy & Psychotherapeutic Counseling [...        NaN   \n",
       "\n",
       "     Document Type Grant/Sponsorship  \\\n",
       "0  Journal Article               NaN   \n",
       "1  Journal Article               NaN   \n",
       "2  Journal Article               NaN   \n",
       "3  Journal Article               NaN   \n",
       "4  Journal Article               NaN   \n",
       "\n",
       "                                        Key Concepts  \\\n",
       "0  multicultural counseling with principles of ch...   \n",
       "1  multicultural counseling competencies, Canadia...   \n",
       "2  professional codes of ethics & multicultural c...   \n",
       "3    multiculturalism & paradigm shift in counseling   \n",
       "4        multicultural counselling in new millennium   \n",
       "\n",
       "                                         Institution      ...        \\\n",
       "0  Daya, Roshni: U Calgary, Dept of Educational P...      ...         \n",
       "1  Arthur, Nancy: U Calgary, Faculty of Education...      ...         \n",
       "2  Pettifor, Jean L.: U Calgary, Calgary, AB, Canada      ...         \n",
       "3  Pedersen, Paul B.: U Alabama, Dept of Human St...      ...         \n",
       "4  Arthur, Nancy: U Calgary, Faculty of Education...      ...         \n",
       "\n",
       "                                    Population Group Publication Status  \\\n",
       "0                                              Human                NaN   \n",
       "1  Human.  Male.  Female. Adulthood (18 yrs & older)                NaN   \n",
       "2                                              Human                NaN   \n",
       "3                                              Human                NaN   \n",
       "4                                              Human                NaN   \n",
       "\n",
       "                   Publication Type                                 Publisher  \\\n",
       "0  Journal\\n\\nPeer Reviewed Journal  Canadian Counselling Association; Canada   \n",
       "1  Journal\\n\\nPeer Reviewed Journal  Canadian Counselling Association; Canada   \n",
       "2  Journal\\n\\nPeer Reviewed Journal  Canadian Counselling Association; Canada   \n",
       "3  Journal\\n\\nPeer Reviewed Journal  Canadian Counselling Association; Canada   \n",
       "4  Journal\\n\\nPeer Reviewed Journal  Canadian Counselling Association; Canada   \n",
       "\n",
       "                                    Cited References  \\\n",
       "0                                                NaN   \n",
       "1  Allison, K., Crawford, I., Echemendia, R., Rob...   \n",
       "2  American Counseling Association. (1995). Code ...   \n",
       "3  Albee, G. W. (1994). The sins of the fathers: ...   \n",
       "4  Amundson, N., Westwood, M., & Prefontaine, R. ...   \n",
       "\n",
       "                                               Title Tests & Measures  Volume  \\\n",
       "0  Changing the face of multicultural counselling...              NaN      35   \n",
       "1  The multicultural counselling competencies of ...              NaN      35   \n",
       "2  Are professional codes of ethics relevant for ...              NaN      35   \n",
       "3  Multiculturalism and the paradigm shift in cou...              NaN      35   \n",
       "4  Multicultural counselling in the new millenniu...              NaN      35   \n",
       "\n",
       "   Date           Term  \n",
       "0  2001  multicultural  \n",
       "1  2001  multicultural  \n",
       "2  2001  multicultural  \n",
       "3  2001  multicultural  \n",
       "4  2001  multicultural  \n",
       "\n",
       "[5 rows x 29 columns]"
      ]
     },
     "execution_count": 7,
     "metadata": {},
     "output_type": "execute_result"
    }
   ],
   "source": [
    "words_df.head()"
   ]
  },
  {
   "cell_type": "markdown",
   "metadata": {},
   "source": [
    "## Generate Corpora"
   ]
  },
  {
   "cell_type": "code",
   "execution_count": 8,
   "metadata": {
    "collapsed": true
   },
   "outputs": [],
   "source": [
    "words_to_replace = {\"/\":\"-\", \"bi-ethnic\": \"biethnic\", \"bi-racial\": \"biracial\", \n",
    "                    \"mono-ethnic\": \"monoethnic\", \"poly-ethnic\": \"polyethnic\", \n",
    "                    \"mono-racial\": \"monoracial\", \"multi-racial\": \"multiracial\",\n",
    "                    \"inter-racial\": \"interracial\", \"mono-cultural\": \"monocultural\",\n",
    "                    \"bi-cultural\": \"bicultural\", \"multi-cultural\": \"multicultural\",\n",
    "                    \"other ethnicity\":\"other-ethnicity\", \"other race\": \"other-race\", \n",
    "                    \"mixed race\": \"mixed-race\", \"mixed ethnicity\": \"mixed-ethnicity\"}"
   ]
  },
  {
   "cell_type": "code",
   "execution_count": 9,
   "metadata": {
    "collapsed": true
   },
   "outputs": [],
   "source": [
    "def FixText(text):\n",
    "    for old, new in words_to_replace.items():\n",
    "        text = text.replace(old, new)\n",
    "    return text"
   ]
  },
  {
   "cell_type": "code",
   "execution_count": 10,
   "metadata": {
    "collapsed": true
   },
   "outputs": [],
   "source": [
    "abstracts = [FixText(x.lower()) for x in words_df.Abstract.fillna(\"\").values]"
   ]
  },
  {
   "cell_type": "code",
   "execution_count": 11,
   "metadata": {
    "collapsed": false
   },
   "outputs": [],
   "source": [
    "abstract_text = [word_tokenize(x) for x in abstracts]"
   ]
  },
  {
   "cell_type": "code",
   "execution_count": 12,
   "metadata": {
    "collapsed": false
   },
   "outputs": [
    {
     "data": {
      "text/plain": [
       "['discussion',\n",
       " 'in',\n",
       " 'multicultural',\n",
       " 'counselling',\n",
       " 'has',\n",
       " 'focused',\n",
       " 'on',\n",
       " 'whether',\n",
       " 'the',\n",
       " 'culture']"
      ]
     },
     "execution_count": 12,
     "metadata": {},
     "output_type": "execute_result"
    }
   ],
   "source": [
    "abstract_text[0][:10]"
   ]
  },
  {
   "cell_type": "code",
   "execution_count": 13,
   "metadata": {
    "collapsed": false
   },
   "outputs": [
    {
     "name": "stdout",
     "output_type": "stream",
     "text": [
      "Number of Abstracts 28305\n",
      "Number of words 5982943\n"
     ]
    }
   ],
   "source": [
    "print(\"Number of Abstracts\", len(abstract_text))\n",
    "print(\"Number of words\", sum(len(x) for x in abstract_text))"
   ]
  },
  {
   "cell_type": "code",
   "execution_count": 14,
   "metadata": {
    "collapsed": false
   },
   "outputs": [],
   "source": [
    "model = gensim.models.Word2Vec(sentences=abstract_text, size=16, window=5, min_count=2, sample=0,\n",
    "                               workers=10, hs=1, sg=1, cbow_mean=0)"
   ]
  },
  {
   "cell_type": "code",
   "execution_count": 15,
   "metadata": {
    "collapsed": false
   },
   "outputs": [
    {
     "data": {
      "text/plain": [
       "43460"
      ]
     },
     "execution_count": 15,
     "metadata": {},
     "output_type": "execute_result"
    }
   ],
   "source": [
    "len(model.vocab.keys())"
   ]
  },
  {
   "cell_type": "code",
   "execution_count": 16,
   "metadata": {
    "collapsed": false
   },
   "outputs": [
    {
     "data": {
      "text/plain": [
       "[('cross-cultural', 0.9751138687133789),\n",
       " ('mentoring', 0.9719057679176331),\n",
       " ('competence', 0.9671137928962708),\n",
       " ('counsellor', 0.9646226167678833),\n",
       " ('globalization-cultural', 0.9614262580871582),\n",
       " ('competency', 0.9608816504478455),\n",
       " ('intercultural', 0.9585008025169373),\n",
       " ('counseling', 0.9583138823509216),\n",
       " ('building', 0.9577609896659851),\n",
       " ('advising', 0.9577390551567078)]"
      ]
     },
     "execution_count": 16,
     "metadata": {},
     "output_type": "execute_result"
    }
   ],
   "source": [
    "model.most_similar_cosmul(\"multicultural\")"
   ]
  },
  {
   "cell_type": "code",
   "execution_count": 17,
   "metadata": {
    "collapsed": false
   },
   "outputs": [
    {
     "data": {
      "text/plain": [
       "[('multiracial', 0.9735256433486938),\n",
       " ('black-white', 0.963637113571167),\n",
       " ('biethnic', 0.9539998173713684),\n",
       " ('ancestry', 0.9502686262130737),\n",
       " ('couples', 0.9479342103004456),\n",
       " ('asian-white', 0.9450501799583435),\n",
       " ('color', 0.9440266489982605),\n",
       " ('intermarried', 0.9414668679237366),\n",
       " ('mixed-race', 0.938458263874054),\n",
       " ('transracially', 0.9382955431938171)]"
      ]
     },
     "execution_count": 17,
     "metadata": {},
     "output_type": "execute_result"
    }
   ],
   "source": [
    "model.most_similar_cosmul(\"biracial\")"
   ]
  },
  {
   "cell_type": "code",
   "execution_count": 18,
   "metadata": {
    "collapsed": false
   },
   "outputs": [
    {
     "data": {
      "text/plain": [
       "[('inauthenticity', 0.9711282253265381),\n",
       " ('nonwhite', 0.9683036208152771),\n",
       " ('single-race', 0.9670130610466003),\n",
       " ('nonanxious', 0.9656296372413635),\n",
       " ('asian-white', 0.9614152908325195),\n",
       " ('same-race', 0.9613317847251892),\n",
       " ('biracials', 0.960681676864624),\n",
       " ('mutltiracials', 0.9588229656219482),\n",
       " ('same-ethnicity', 0.9586841464042664),\n",
       " ('ancestry', 0.9570321440696716)]"
      ]
     },
     "execution_count": 18,
     "metadata": {},
     "output_type": "execute_result"
    }
   ],
   "source": [
    "model.most_similar_cosmul(\"monoracial\")"
   ]
  },
  {
   "cell_type": "code",
   "execution_count": 19,
   "metadata": {
    "collapsed": false
   },
   "outputs": [
    {
     "data": {
      "text/plain": [
       "[('ethnic-racial', 0.9594826102256775),\n",
       " ('group', 0.9570589065551758),\n",
       " ('statuses', 0.9570267796516418),\n",
       " ('identification', 0.9545855522155762),\n",
       " ('affirmation', 0.9505467414855957),\n",
       " ('racial', 0.9486512541770935),\n",
       " ('self-identity', 0.9467672109603882),\n",
       " ('self-identification', 0.9463033080101013),\n",
       " ('matching', 0.9458569884300232),\n",
       " ('identity', 0.9441278576850891)]"
      ]
     },
     "execution_count": 19,
     "metadata": {},
     "output_type": "execute_result"
    }
   ],
   "source": [
    "model.most_similar_cosmul(\"bicultural\", topn=10)"
   ]
  },
  {
   "cell_type": "markdown",
   "metadata": {},
   "source": [
    "## Hierchical Clustering"
   ]
  },
  {
   "cell_type": "code",
   "execution_count": 20,
   "metadata": {
    "collapsed": true
   },
   "outputs": [],
   "source": [
    "from scipy.cluster.hierarchy import dendrogram, linkage"
   ]
  },
  {
   "cell_type": "code",
   "execution_count": 21,
   "metadata": {
    "collapsed": true
   },
   "outputs": [],
   "source": [
    "words = ['monocultural', 'monoracial', 'bicultural', 'biracial', 'biethnic', 'interracial',\n",
    "        'multicultural', 'multiracial', 'multiethnic', 'polycultural', 'polyracial', 'polyethnic',\n",
    "        'mixed race', 'mixed ethnicity', 'other race', 'other ethnicity', 'multiculturalism', 'polyculturalism',\n",
    "         'cultural pluralism']"
   ]
  },
  {
   "cell_type": "code",
   "execution_count": 22,
   "metadata": {
    "collapsed": true
   },
   "outputs": [],
   "source": [
    "expansion = []\n",
    "for w in words:\n",
    "    if w in model:\n",
    "        expansion.extend([x for x,y in model.most_similar(w, topn=50)])\n",
    "counter = Counter(expansion)\n",
    "expansion = [x for x, y in counter.items() if y > 2]"
   ]
  },
  {
   "cell_type": "code",
   "execution_count": 23,
   "metadata": {
    "collapsed": false
   },
   "outputs": [],
   "source": [
    "y = []\n",
    "X = []\n",
    "for w in set(words + expansion):\n",
    "    if w in model:\n",
    "        X.append(model[w])\n",
    "        y.append(w)\n",
    "X = np.asarray(X)\n",
    "X = (X.T / np.linalg.norm(X, axis=1)).T"
   ]
  },
  {
   "cell_type": "code",
   "execution_count": 24,
   "metadata": {
    "collapsed": false
   },
   "outputs": [
    {
     "data": {
      "text/plain": [
       "(26, 16)"
      ]
     },
     "execution_count": 24,
     "metadata": {},
     "output_type": "execute_result"
    }
   ],
   "source": [
    "X.shape"
   ]
  },
  {
   "cell_type": "code",
   "execution_count": 25,
   "metadata": {
    "collapsed": true
   },
   "outputs": [],
   "source": [
    "Z = linkage(X, 'ward')"
   ]
  },
  {
   "cell_type": "code",
   "execution_count": 36,
   "metadata": {
    "collapsed": false,
    "scrolled": false
   },
   "outputs": [
    {
     "data": {
      "image/png": "[encoded data removed]",
      "text/plain": [
       "<matplotlib.figure.Figure at 0x7f61568ff1d0>"
      ]
     },
     "metadata": {},
     "output_type": "display_data"
    }
   ],
   "source": [
    "plt.figure(figsize=(25, 10))\n",
    "#plt.title('Hierarchical Clustering Dendrogram')\n",
    "plt.xlabel('Words')\n",
    "plt.ylabel('distance')\n",
    "#color_threshold=0.9\n",
    "_ = dendrogram(Z,   orientation=\"left\", labels=y, leaf_rotation=0., leaf_font_size=16.)"
   ]
  },
  {
   "cell_type": "markdown",
   "metadata": {},
   "source": [
    "## TODOs"
   ]
  },
  {
   "cell_type": "markdown",
   "metadata": {},
   "source": [
    "1. Foo\n",
    "1. Bar\n"
   ]
  }
 ],
 "metadata": {
  "kernelspec": {
   "display_name": "Python 3",
   "language": "python",
   "name": "python3"
  },
  "language_info": {
   "codemirror_mode": {
    "name": "ipython",
    "version": 3
   },
   "file_extension": ".py",
   "mimetype": "text/x-python",
   "name": "python",
   "nbconvert_exporter": "python",
   "pygments_lexer": "ipython3",
   "version": "3.4.3"
  }
 },
 "nbformat": 4,
 "nbformat_minor": 0
}
