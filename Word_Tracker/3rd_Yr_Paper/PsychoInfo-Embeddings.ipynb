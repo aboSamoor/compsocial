{
 "cells": [
  {
   "cell_type": "code",
   "execution_count": 1,
   "metadata": {
    "collapsed": false
   },
   "outputs": [
    {
     "name": "stderr",
     "output_type": "stream",
     "text": [
      "/usr/local/lib/python3.4/dist-packages/matplotlib/__init__.py:872: UserWarning: axes.color_cycle is deprecated and replaced with axes.prop_cycle; please use the latter.\n",
      "  warnings.warn(self.msg_depr % (key, alt_key))\n"
     ]
    }
   ],
   "source": [
    "import glob\n",
    "from io import open\n",
    "import pandas as pd\n",
    "from pandas import DataFrame as df\n",
    "from os import path\n",
    "import re\n",
    "import gensim\n",
    "import numpy as np\n",
    "from collections import Counter"
   ]
  },
  {
   "cell_type": "code",
   "execution_count": 3,
   "metadata": {
    "collapsed": false
   },
   "outputs": [],
   "source": [
    "import nltk"
   ]
  },
  {
   "cell_type": "code",
   "execution_count": 4,
   "metadata": {
    "collapsed": true
   },
   "outputs": [],
   "source": [
    "from nltk import word_tokenize"
   ]
  },
  {
   "cell_type": "code",
   "execution_count": 5,
   "metadata": {
    "collapsed": false
   },
   "outputs": [],
   "source": [
    "import matplotlib.pyplot as plt\n",
    "import matplotlib\n",
    "%matplotlib inline"
   ]
  },
  {
   "cell_type": "code",
   "execution_count": 6,
   "metadata": {
    "collapsed": false
   },
   "outputs": [],
   "source": [
    "from tools import get_psycinfo_database"
   ]
  },
  {
   "cell_type": "code",
   "execution_count": 7,
   "metadata": {
    "collapsed": false
   },
   "outputs": [],
   "source": [
    "words_df = get_psycinfo_database()"
   ]
  },
  {
   "cell_type": "code",
   "execution_count": 8,
   "metadata": {
    "collapsed": false
   },
   "outputs": [
    {
     "data": {
      "text/html": [
       "<div style=\"max-height:1000px;max-width:1500px;overflow:auto;\">\n",
       "<table border=\"1\" class=\"dataframe\">\n",
       "  <thead>\n",
       "    <tr style=\"text-align: right;\">\n",
       "      <th></th>\n",
       "      <th>Abstract</th>\n",
       "      <th>Accession Number</th>\n",
       "      <th>Author(s)</th>\n",
       "      <th>Type of Book</th>\n",
       "      <th>PsycINFO Classification Code</th>\n",
       "      <th>Conference</th>\n",
       "      <th>Document Type</th>\n",
       "      <th>Grant/Sponsorship</th>\n",
       "      <th>Key Concepts</th>\n",
       "      <th>Institution</th>\n",
       "      <th>...</th>\n",
       "      <th>Population Group</th>\n",
       "      <th>Publication Status</th>\n",
       "      <th>Publication Type</th>\n",
       "      <th>Publisher</th>\n",
       "      <th>Cited References</th>\n",
       "      <th>Title</th>\n",
       "      <th>Tests &amp; Measures</th>\n",
       "      <th>Volume</th>\n",
       "      <th>Date</th>\n",
       "      <th>Term</th>\n",
       "    </tr>\n",
       "  </thead>\n",
       "  <tbody>\n",
       "    <tr>\n",
       "      <th>0</th>\n",
       "      <td> The examination of an Afro-Brazilian martial a...</td>\n",
       "      <td> Peer Reviewed Journal: 2008-17783-005.</td>\n",
       "      <td>                 Joseph, Janelle</td>\n",
       "      <td> NaN</td>\n",
       "      <td>                            Sports [3720].</td>\n",
       "      <td> NaN</td>\n",
       "      <td> Journal Article</td>\n",
       "      <td> NaN</td>\n",
       "      <td> cultural commodity, authenticity, Afro-Brazili...</td>\n",
       "      <td> Joseph, Janelle: University of Toronto, Toront...</td>\n",
       "      <td>...</td>\n",
       "      <td> Human.  Male.  Female. Adulthood (18 yrs &amp; older)</td>\n",
       "      <td> NaN</td>\n",
       "      <td> Journal\\n\\nPeer Reviewed Journal</td>\n",
       "      <td>                    Human Kinetics; US</td>\n",
       "      <td> Assuncao, M. R. (2005). Capoeira: The history ...</td>\n",
       "      <td> The logical paradox of the cultural commodity:...</td>\n",
       "      <td> NaN</td>\n",
       "      <td>  25</td>\n",
       "      <td> 2008</td>\n",
       "      <td> multiculturalism</td>\n",
       "    </tr>\n",
       "    <tr>\n",
       "      <th>1</th>\n",
       "      <td> Reviews the book, Multicultural understanding ...</td>\n",
       "      <td> Peer Reviewed Journal: 2008-17535-024.</td>\n",
       "      <td>                        Kim, Sun</td>\n",
       "      <td> NaN</td>\n",
       "      <td>           Psychological Disorders [3210].</td>\n",
       "      <td> NaN</td>\n",
       "      <td>     Review-Book</td>\n",
       "      <td> NaN</td>\n",
       "      <td> multiculturalism, child psychopathology, adole...</td>\n",
       "      <td> Kim, Sun: Department of Psychiatry, University...</td>\n",
       "      <td>...</td>\n",
       "      <td> Human. Childhood (birth-12 yrs).  Adolescence ...</td>\n",
       "      <td> NaN</td>\n",
       "      <td> Journal\\n\\nPeer Reviewed Journal</td>\n",
       "      <td>         American Psychiatric Assn; US</td>\n",
       "      <td> Hermans, H. J. M., &amp; Kempen, H. J. G. (1999). ...</td>\n",
       "      <td> Review of Multicultural understanding of child...</td>\n",
       "      <td> NaN</td>\n",
       "      <td>  59</td>\n",
       "      <td> 2008</td>\n",
       "      <td> multiculturalism</td>\n",
       "    </tr>\n",
       "    <tr>\n",
       "      <th>2</th>\n",
       "      <td> (create) This chapter considers the impact of ...</td>\n",
       "      <td>                  Book: 2008-17305-010.</td>\n",
       "      <td> Dana, Richard H\\n\\nAllen, James</td>\n",
       "      <td> NaN</td>\n",
       "      <td>  Social Processes &amp; Social Issues [2900].</td>\n",
       "      <td> NaN</td>\n",
       "      <td>         Chapter</td>\n",
       "      <td> NaN</td>\n",
       "      <td> globalization, psychological science, resident...</td>\n",
       "      <td> Dana, Richard H.: Portland State University, R...</td>\n",
       "      <td>...</td>\n",
       "      <td>                                             Human</td>\n",
       "      <td> NaN</td>\n",
       "      <td>              Book\\n\\nEdited Book</td>\n",
       "      <td> Springer Science + Business Media; US</td>\n",
       "      <td>                                               NaN</td>\n",
       "      <td> Globalization: Psychological problems and soci...</td>\n",
       "      <td> NaN</td>\n",
       "      <td> NaN</td>\n",
       "      <td> 2008</td>\n",
       "      <td> multiculturalism</td>\n",
       "    </tr>\n",
       "    <tr>\n",
       "      <th>3</th>\n",
       "      <td> (create) This chapter selects and distills the...</td>\n",
       "      <td>                  Book: 2008-17305-009.</td>\n",
       "      <td>                 Dana, Richard H</td>\n",
       "      <td> NaN</td>\n",
       "      <td> Professional Education &amp; Training [3410].</td>\n",
       "      <td> NaN</td>\n",
       "      <td>         Chapter</td>\n",
       "      <td> NaN</td>\n",
       "      <td> cultural competency training model, at risk mu...</td>\n",
       "      <td> Dana, Richard H.: Portland State University, R...</td>\n",
       "      <td>...</td>\n",
       "      <td>                                             Human</td>\n",
       "      <td> NaN</td>\n",
       "      <td>              Book\\n\\nEdited Book</td>\n",
       "      <td> Springer Science + Business Media; US</td>\n",
       "      <td>                                               NaN</td>\n",
       "      <td>             A cultural competency training model.</td>\n",
       "      <td> NaN</td>\n",
       "      <td> NaN</td>\n",
       "      <td> 2008</td>\n",
       "      <td> multiculturalism</td>\n",
       "    </tr>\n",
       "    <tr>\n",
       "      <th>4</th>\n",
       "      <td> (from the preface) Approaches cultural compete...</td>\n",
       "      <td>                  Book: 2008-17305-008.</td>\n",
       "      <td>              Rogers, Margaret R</td>\n",
       "      <td> NaN</td>\n",
       "      <td> Professional Education &amp; Training [3410].</td>\n",
       "      <td> NaN</td>\n",
       "      <td>         Chapter</td>\n",
       "      <td> NaN</td>\n",
       "      <td> cultural competency education, clinical &amp; coun...</td>\n",
       "      <td> Rogers, Margaret R.: Psychology Department, Un...</td>\n",
       "      <td>...</td>\n",
       "      <td>                                             Human</td>\n",
       "      <td> NaN</td>\n",
       "      <td>              Book\\n\\nEdited Book</td>\n",
       "      <td> Springer Science + Business Media; US</td>\n",
       "      <td>                                               NaN</td>\n",
       "      <td> Cultural competency training in professional p...</td>\n",
       "      <td> NaN</td>\n",
       "      <td> NaN</td>\n",
       "      <td> 2008</td>\n",
       "      <td> multiculturalism</td>\n",
       "    </tr>\n",
       "  </tbody>\n",
       "</table>\n",
       "<p>5 rows × 29 columns</p>\n",
       "</div>"
      ],
      "text/plain": [
       "                                            Abstract  \\\n",
       "0  The examination of an Afro-Brazilian martial a...   \n",
       "1  Reviews the book, Multicultural understanding ...   \n",
       "2  (create) This chapter considers the impact of ...   \n",
       "3  (create) This chapter selects and distills the...   \n",
       "4  (from the preface) Approaches cultural compete...   \n",
       "\n",
       "                         Accession Number                        Author(s)  \\\n",
       "0  Peer Reviewed Journal: 2008-17783-005.                  Joseph, Janelle   \n",
       "1  Peer Reviewed Journal: 2008-17535-024.                         Kim, Sun   \n",
       "2                   Book: 2008-17305-010.  Dana, Richard H\\n\\nAllen, James   \n",
       "3                   Book: 2008-17305-009.                  Dana, Richard H   \n",
       "4                   Book: 2008-17305-008.               Rogers, Margaret R   \n",
       "\n",
       "  Type of Book               PsycINFO Classification Code Conference  \\\n",
       "0          NaN                             Sports [3720].        NaN   \n",
       "1          NaN            Psychological Disorders [3210].        NaN   \n",
       "2          NaN   Social Processes & Social Issues [2900].        NaN   \n",
       "3          NaN  Professional Education & Training [3410].        NaN   \n",
       "4          NaN  Professional Education & Training [3410].        NaN   \n",
       "\n",
       "     Document Type Grant/Sponsorship  \\\n",
       "0  Journal Article               NaN   \n",
       "1      Review-Book               NaN   \n",
       "2          Chapter               NaN   \n",
       "3          Chapter               NaN   \n",
       "4          Chapter               NaN   \n",
       "\n",
       "                                        Key Concepts  \\\n",
       "0  cultural commodity, authenticity, Afro-Brazili...   \n",
       "1  multiculturalism, child psychopathology, adole...   \n",
       "2  globalization, psychological science, resident...   \n",
       "3  cultural competency training model, at risk mu...   \n",
       "4  cultural competency education, clinical & coun...   \n",
       "\n",
       "                                         Institution        ...         \\\n",
       "0  Joseph, Janelle: University of Toronto, Toront...        ...          \n",
       "1  Kim, Sun: Department of Psychiatry, University...        ...          \n",
       "2  Dana, Richard H.: Portland State University, R...        ...          \n",
       "3  Dana, Richard H.: Portland State University, R...        ...          \n",
       "4  Rogers, Margaret R.: Psychology Department, Un...        ...          \n",
       "\n",
       "                                    Population Group Publication Status  \\\n",
       "0  Human.  Male.  Female. Adulthood (18 yrs & older)                NaN   \n",
       "1  Human. Childhood (birth-12 yrs).  Adolescence ...                NaN   \n",
       "2                                              Human                NaN   \n",
       "3                                              Human                NaN   \n",
       "4                                              Human                NaN   \n",
       "\n",
       "                   Publication Type                              Publisher  \\\n",
       "0  Journal\\n\\nPeer Reviewed Journal                     Human Kinetics; US   \n",
       "1  Journal\\n\\nPeer Reviewed Journal          American Psychiatric Assn; US   \n",
       "2               Book\\n\\nEdited Book  Springer Science + Business Media; US   \n",
       "3               Book\\n\\nEdited Book  Springer Science + Business Media; US   \n",
       "4               Book\\n\\nEdited Book  Springer Science + Business Media; US   \n",
       "\n",
       "                                    Cited References  \\\n",
       "0  Assuncao, M. R. (2005). Capoeira: The history ...   \n",
       "1  Hermans, H. J. M., & Kempen, H. J. G. (1999). ...   \n",
       "2                                                NaN   \n",
       "3                                                NaN   \n",
       "4                                                NaN   \n",
       "\n",
       "                                               Title Tests & Measures  Volume  \\\n",
       "0  The logical paradox of the cultural commodity:...              NaN      25   \n",
       "1  Review of Multicultural understanding of child...              NaN      59   \n",
       "2  Globalization: Psychological problems and soci...              NaN     NaN   \n",
       "3              A cultural competency training model.              NaN     NaN   \n",
       "4  Cultural competency training in professional p...              NaN     NaN   \n",
       "\n",
       "   Date              Term  \n",
       "0  2008  multiculturalism  \n",
       "1  2008  multiculturalism  \n",
       "2  2008  multiculturalism  \n",
       "3  2008  multiculturalism  \n",
       "4  2008  multiculturalism  \n",
       "\n",
       "[5 rows x 29 columns]"
      ]
     },
     "execution_count": 8,
     "metadata": {},
     "output_type": "execute_result"
    }
   ],
   "source": [
    "words_df.head()"
   ]
  },
  {
   "cell_type": "markdown",
   "metadata": {},
   "source": [
    "## Generate Corpora"
   ]
  },
  {
   "cell_type": "code",
   "execution_count": 9,
   "metadata": {
    "collapsed": true
   },
   "outputs": [],
   "source": [
    "words_to_replace = {\"/\":\"-\", \"bi-ethnic\": \"biethnic\", \"bi-racial\": \"biracial\", \n",
    "                    \"mono-ethnic\": \"monoethnic\", \"poly-ethnic\": \"polyethnic\", \n",
    "                    \"mono-racial\": \"monoracial\", \"multi-racial\": \"multiracial\",\n",
    "                    \"inter-racial\": \"interracial\", \"mono-cultural\": \"monocultural\",\n",
    "                    \"bi-cultural\": \"bicultural\", \"multi-cultural\": \"multicultural\",\n",
    "                    \"other ethnicity\":\"other-ethnicity\", \"other race\": \"other-race\", \n",
    "                    \"mixed race\": \"mixed-race\", \"mixed ethnicity\": \"mixed-ethnicity\"}"
   ]
  },
  {
   "cell_type": "code",
   "execution_count": 10,
   "metadata": {
    "collapsed": true
   },
   "outputs": [],
   "source": [
    "def FixText(text):\n",
    "    for old, new in words_to_replace.items():\n",
    "        text = text.replace(old, new)\n",
    "    return text"
   ]
  },
  {
   "cell_type": "code",
   "execution_count": 11,
   "metadata": {
    "collapsed": true
   },
   "outputs": [],
   "source": [
    "abstracts = [FixText(x.lower()) for x in words_df.Abstract.fillna(\"\").values]"
   ]
  },
  {
   "cell_type": "code",
   "execution_count": 12,
   "metadata": {
    "collapsed": false
   },
   "outputs": [],
   "source": [
    "abstract_text = [word_tokenize(x) for x in abstracts]"
   ]
  },
  {
   "cell_type": "code",
   "execution_count": 13,
   "metadata": {
    "collapsed": false
   },
   "outputs": [
    {
     "data": {
      "text/plain": [
       "['the',\n",
       " 'examination',\n",
       " 'of',\n",
       " 'an',\n",
       " 'afro-brazilian',\n",
       " 'martial',\n",
       " 'art',\n",
       " ',',\n",
       " 'capoeira',\n",
       " ',']"
      ]
     },
     "execution_count": 13,
     "metadata": {},
     "output_type": "execute_result"
    }
   ],
   "source": [
    "abstract_text[0][:10]"
   ]
  },
  {
   "cell_type": "code",
   "execution_count": 14,
   "metadata": {
    "collapsed": false
   },
   "outputs": [
    {
     "name": "stdout",
     "output_type": "stream",
     "text": [
      "Number of Abstracts 28305\n",
      "Number of words 5982943\n"
     ]
    }
   ],
   "source": [
    "print(\"Number of Abstracts\", len(abstract_text))\n",
    "print(\"Number of words\", sum(len(x) for x in abstract_text))"
   ]
  },
  {
   "cell_type": "code",
   "execution_count": 15,
   "metadata": {
    "collapsed": false
   },
   "outputs": [],
   "source": [
    "model = gensim.models.Word2Vec(sentences=abstract_text, size=16, window=5, min_count=2, sample=0,\n",
    "                               workers=10, hs=1, sg=1, cbow_mean=0)"
   ]
  },
  {
   "cell_type": "code",
   "execution_count": 104,
   "metadata": {
    "collapsed": true
   },
   "outputs": [],
   "source": [
    "model.save(\"data/PsycInfo/processed/abstract_model.pkl\")"
   ]
  },
  {
   "cell_type": "code",
   "execution_count": 105,
   "metadata": {
    "collapsed": false
   },
   "outputs": [
    {
     "name": "stdout",
     "output_type": "stream",
     "text": [
      "-rw-rw-r-- 1 rmyeid rmyeid 24M Mar 27 19:57 data/PsycInfo/processed/abstract_model.pkl\r\n"
     ]
    }
   ],
   "source": [
    "ls -lh data/PsycInfo/processed/abstract_model.pkl"
   ]
  },
  {
   "cell_type": "code",
   "execution_count": 112,
   "metadata": {
    "collapsed": false
   },
   "outputs": [],
   "source": [
    "model = model.load(\"data/PsycInfo/processed/abstract_model.pkl\")"
   ]
  },
  {
   "cell_type": "code",
   "execution_count": 16,
   "metadata": {
    "collapsed": false
   },
   "outputs": [
    {
     "data": {
      "text/plain": [
       "43460"
      ]
     },
     "execution_count": 16,
     "metadata": {},
     "output_type": "execute_result"
    }
   ],
   "source": [
    "len(model.vocab.keys())"
   ]
  },
  {
   "cell_type": "code",
   "execution_count": 18,
   "metadata": {
    "collapsed": false
   },
   "outputs": [
    {
     "data": {
      "text/plain": [
       "[('counseling', 0.9698255062103271),\n",
       " ('counsellor', 0.9680532813072205),\n",
       " ('counselling', 0.9673334360122681),\n",
       " ('professional', 0.96677166223526),\n",
       " ('advocacy', 0.9642621874809265),\n",
       " ('science', 0.9636713266372681),\n",
       " ('sport', 0.9636472463607788),\n",
       " ('psychology', 0.9631773829460144),\n",
       " ('cross-cultural', 0.9626858234405518),\n",
       " ('globalization-cultural', 0.9619668126106262)]"
      ]
     },
     "execution_count": 18,
     "metadata": {},
     "output_type": "execute_result"
    }
   ],
   "source": [
    "model.most_similar_cosmul(\"multicultural\")"
   ]
  },
  {
   "cell_type": "code",
   "execution_count": 19,
   "metadata": {
    "collapsed": false
   },
   "outputs": [
    {
     "data": {
      "text/plain": [
       "[('multiracial', 0.9672592282295227),\n",
       " ('asian-white', 0.9613644480705261),\n",
       " ('ancestry', 0.9550033807754517),\n",
       " ('monoracial', 0.9530125260353088),\n",
       " ('inauthenticity', 0.9526103138923645),\n",
       " ('black-white', 0.9484965205192566),\n",
       " ('nonwhite', 0.9474827647209167),\n",
       " ('ethnic-racial', 0.9473452568054199),\n",
       " ('h3', 0.945253312587738),\n",
       " ('biethnic', 0.9410421252250671)]"
      ]
     },
     "execution_count": 19,
     "metadata": {},
     "output_type": "execute_result"
    }
   ],
   "source": [
    "model.most_similar_cosmul(\"biracial\")"
   ]
  },
  {
   "cell_type": "code",
   "execution_count": 20,
   "metadata": {
    "collapsed": false
   },
   "outputs": [
    {
     "data": {
      "text/plain": [
       "[('nonwhite', 0.9694812297821045),\n",
       " ('inauthenticity', 0.9690624475479126),\n",
       " ('asian-white', 0.9675005078315735),\n",
       " ('black-white', 0.9654460549354553),\n",
       " ('counterparts', 0.9648268818855286),\n",
       " ('tg', 0.9640914797782898),\n",
       " ('monoculturals', 0.9639790654182434),\n",
       " ('ancestry', 0.9626777768135071),\n",
       " ('asian-australian', 0.9614773392677307),\n",
       " ('monoethnic', 0.9604117274284363)]"
      ]
     },
     "execution_count": 20,
     "metadata": {},
     "output_type": "execute_result"
    }
   ],
   "source": [
    "model.most_similar_cosmul(\"monoracial\")"
   ]
  },
  {
   "cell_type": "code",
   "execution_count": 135,
   "metadata": {
    "collapsed": false
   },
   "outputs": [
    {
     "data": {
      "text/plain": [
       "[('ethnic-racial', 0.9406040906906128),\n",
       " ('group', 0.927253246307373),\n",
       " ('monocultural', 0.9029431343078613),\n",
       " ('self-identity', 0.9024025201797485),\n",
       " ('matching', 0.8927230834960938),\n",
       " ('ethnocultural', 0.8855383396148682),\n",
       " ('supervisor-white', 0.8744437098503113),\n",
       " ('identity', 0.8736236691474915),\n",
       " ('self-schema', 0.8724583983421326),\n",
       " ('tricultural', 0.8712344765663147)]"
      ]
     },
     "execution_count": 135,
     "metadata": {},
     "output_type": "execute_result"
    }
   ],
   "source": [
    "model.most_similar(\"bicultural\", topn=10)"
   ]
  },
  {
   "cell_type": "markdown",
   "metadata": {},
   "source": [
    "## Hierchical Clustering"
   ]
  },
  {
   "cell_type": "code",
   "execution_count": 49,
   "metadata": {
    "collapsed": true
   },
   "outputs": [],
   "source": [
    "from scipy.cluster.hierarchy import dendrogram, linkage, set_link_color_palette"
   ]
  },
  {
   "cell_type": "code",
   "execution_count": 23,
   "metadata": {
    "collapsed": true
   },
   "outputs": [],
   "source": [
    "words = ['monocultural', 'monoracial', 'bicultural', 'biracial', 'biethnic', 'interracial',\n",
    "        'multicultural', 'multiracial', 'multiethnic', 'polycultural', 'polyracial', 'polyethnic',\n",
    "        'mixed race', 'mixed ethnicity', 'other race', 'other ethnicity', 'multiculturalism', 'polyculturalism',\n",
    "         'cultural pluralism']"
   ]
  },
  {
   "cell_type": "code",
   "execution_count": 24,
   "metadata": {
    "collapsed": true
   },
   "outputs": [],
   "source": [
    "expansion = []\n",
    "for w in words:\n",
    "    if w in model:\n",
    "        expansion.extend([x for x,y in model.most_similar(w, topn=50)])\n",
    "counter = Counter(expansion)\n",
    "expansion = [x for x, y in counter.items() if y > 2]"
   ]
  },
  {
   "cell_type": "code",
   "execution_count": 137,
   "metadata": {
    "collapsed": false
   },
   "outputs": [],
   "source": [
    "y = []\n",
    "X = []\n",
    "normalized = True\n",
    "for w in set(words + expansion):\n",
    "    if w in model:\n",
    "        v = model.syn0norm[model.vocab[w].index, :] if normalized else model[w]\n",
    "        X.append(v)\n",
    "        y.append(w)\n",
    "X = np.asarray(X)\n",
    "X = (X.T / np.linalg.norm(X, axis=1)).T"
   ]
  },
  {
   "cell_type": "code",
   "execution_count": 138,
   "metadata": {
    "collapsed": false
   },
   "outputs": [
    {
     "data": {
      "text/plain": [
       "(28, 16)"
      ]
     },
     "execution_count": 138,
     "metadata": {},
     "output_type": "execute_result"
    }
   ],
   "source": [
    "X.shape"
   ]
  },
  {
   "cell_type": "code",
   "execution_count": 139,
   "metadata": {
    "collapsed": false
   },
   "outputs": [
    {
     "name": "stdout",
     "output_type": "stream",
     "text": [
      "['fivethirtyeight', 'seaborn-pastel', 'grayscale', 'seaborn-colorblind', 'ggplot', 'seaborn-notebook', 'seaborn-dark-palette', 'dark_background', 'seaborn-whitegrid', 'seaborn-bright', 'bmh', 'seaborn-dark', 'seaborn-poster', 'seaborn-darkgrid', 'seaborn-ticks', 'seaborn-muted', 'seaborn-talk', 'seaborn-deep', 'seaborn-paper', 'classic', 'seaborn-white']\n"
     ]
    }
   ],
   "source": [
    "print(plt.style.available)"
   ]
  },
  {
   "cell_type": "code",
   "execution_count": 92,
   "metadata": {
    "collapsed": false
   },
   "outputs": [],
   "source": [
    "set_link_color_palette([str(x) for x in [0.3, 0.5, 0.75]])"
   ]
  },
  {
   "cell_type": "code",
   "execution_count": 59,
   "metadata": {
    "collapsed": true
   },
   "outputs": [],
   "source": [
    "plt.style.use('fivethirtyeight')"
   ]
  },
  {
   "cell_type": "code",
   "execution_count": 29,
   "metadata": {
    "collapsed": true
   },
   "outputs": [],
   "source": [
    "Z = linkage(X, 'ward')"
   ]
  },
  {
   "cell_type": "code",
   "execution_count": 140,
   "metadata": {
    "collapsed": false,
    "scrolled": false
   },
   "outputs": [
    {
     "data": {
      "image/png": "[encoded data removed]",
      "text/plain": [
       "<matplotlib.figure.Figure at 0x7fdc19685c88>"
      ]
     },
     "metadata": {},
     "output_type": "display_data"
    }
   ],
   "source": [
    "plt.figure(figsize=(25, 10))\n",
    "plt.ylabel('Words', fontsize=20)\n",
    "plt.xlabel('Distance', fontsize=20)\n",
    "plt.grid(False)\n",
    "_ = dendrogram(Z, orientation=\"left\", above_threshold_color='k', color_threshold=1.4, labels=y,\n",
    "               leaf_rotation=0., leaf_font_size=16.)"
   ]
  }
 ],
 "metadata": {
  "kernelspec": {
   "display_name": "Python 3",
   "language": "python",
   "name": "python3"
  },
  "language_info": {
   "codemirror_mode": {
    "name": "ipython",
    "version": 3
   },
   "file_extension": ".py",
   "mimetype": "text/x-python",
   "name": "python",
   "nbconvert_exporter": "python",
   "pygments_lexer": "ipython3",
   "version": "3.4.3"
  }
 },
 "nbformat": 4,
 "nbformat_minor": 0
}
