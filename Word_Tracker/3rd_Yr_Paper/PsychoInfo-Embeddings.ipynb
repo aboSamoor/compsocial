{
 "cells": [
  {
   "cell_type": "code",
   "execution_count": 1,
   "metadata": {
    "collapsed": false
   },
   "outputs": [],
   "source": [
    "import glob\n",
    "from io import open\n",
    "import pandas as pd\n",
    "from pandas import DataFrame as df\n",
    "from os import path\n",
    "import re\n",
    "import gensim\n",
    "import numpy as np\n",
    "from collections import Counter"
   ]
  },
  {
   "cell_type": "code",
   "execution_count": 2,
   "metadata": {
    "collapsed": false
   },
   "outputs": [],
   "source": [
    "import nltk"
   ]
  },
  {
   "cell_type": "code",
   "execution_count": 3,
   "metadata": {
    "collapsed": true
   },
   "outputs": [],
   "source": [
    "from nltk import word_tokenize"
   ]
  },
  {
   "cell_type": "code",
   "execution_count": 4,
   "metadata": {
    "collapsed": false
   },
   "outputs": [],
   "source": [
    "import matplotlib.pyplot as plt\n",
    "import matplotlib\n",
    "%matplotlib inline"
   ]
  },
  {
   "cell_type": "code",
   "execution_count": 5,
   "metadata": {
    "collapsed": false
   },
   "outputs": [],
   "source": [
    "from tools import get_psycinfo_database"
   ]
  },
  {
   "cell_type": "code",
   "execution_count": 13,
   "metadata": {
    "collapsed": false
   },
   "outputs": [
    {
     "name": "stdout",
     "output_type": "stream",
     "text": [
      "data/PsycInfo/csv/multiculturalism_3.csv 1000\n",
      "data/PsycInfo/csv/multiculturalism_6.csv 1624\n",
      "data/PsycInfo/csv/multicultural_5.csv 1000\n",
      "data/PsycInfo/csv/interracial_2.csv 1246\n",
      "data/PsycInfo/csv/multiculturalism_2.csv 1000\n",
      "data/PsycInfo/csv/multiethnic_1.csv 1000\n",
      "data/PsycInfo/csv/multicultural_9.csv 1000\n",
      "data/PsycInfo/csv/polyethnic.csv 7\n",
      "data/PsycInfo/csv/multiculturalism_5.csv 1000\n",
      "data/PsycInfo/csv/bicultural.csv 1784\n",
      "data/PsycInfo/csv/multiculturalism_1.csv 1000\n",
      "data/PsycInfo/csv/multicultural_10.csv 1000\n",
      "data/PsycInfo/csv/polyculturalism.csv 13\n",
      "data/PsycInfo/csv/biethnic.csv 42\n",
      "data/PsycInfo/csv/other race.csv 738\n",
      "data/PsycInfo/csv/other ethnicity.csv 87\n",
      "data/PsycInfo/csv/mixed race.csv 551\n",
      "data/PsycInfo/csv/interracial_1.csv 1500\n",
      "data/PsycInfo/csv/polycultural.csv 14\n",
      "data/PsycInfo/csv/multicultural_3.csv 1000\n",
      "data/PsycInfo/csv/biracial.csv 882\n",
      "data/PsycInfo/csv/multicultural_4.csv 1000\n",
      "data/PsycInfo/csv/multiculturalism_4.csv 1000\n",
      "data/PsycInfo/csv/mixed ethnicity.csv 99\n",
      "data/PsycInfo/csv/multicultural_2.csv 1000\n",
      "data/PsycInfo/csv/monocultural.csv 225\n",
      "data/PsycInfo/csv/cultural pluralism.csv 212\n",
      "data/PsycInfo/csv/multiethnic_2.csv 574\n",
      "data/PsycInfo/csv/monoracial.csv 145\n",
      "data/PsycInfo/csv/multicultural_1.csv 1000\n",
      "data/PsycInfo/csv/multicultural_11.csv 1437\n",
      "data/PsycInfo/csv/monoethnic.csv 29\n",
      "data/PsycInfo/csv/multicultural_6.csv 1000\n",
      "data/PsycInfo/csv/multiracial.csv 1124\n",
      "data/PsycInfo/csv/multicultural_7.csv 1000\n",
      "data/PsycInfo/csv/multicultural_8.csv 1000\n"
     ]
    }
   ],
   "source": [
    "words_df = get_psycinfo_database()"
   ]
  },
  {
   "cell_type": "code",
   "execution_count": 14,
   "metadata": {
    "collapsed": false
   },
   "outputs": [
    {
     "data": {
      "text/html": [
       "<div>\n",
       "<table border=\"1\" class=\"dataframe\">\n",
       "  <thead>\n",
       "    <tr style=\"text-align: right;\">\n",
       "      <th></th>\n",
       "      <th>Abstract</th>\n",
       "      <th>Accession Number</th>\n",
       "      <th>Author(s)</th>\n",
       "      <th>Type of Book</th>\n",
       "      <th>PsycINFO Classification Code</th>\n",
       "      <th>Conference</th>\n",
       "      <th>Document Type</th>\n",
       "      <th>Grant/Sponsorship</th>\n",
       "      <th>Key Concepts</th>\n",
       "      <th>Institution</th>\n",
       "      <th>...</th>\n",
       "      <th>Population Group</th>\n",
       "      <th>Publication Status</th>\n",
       "      <th>Publication Type</th>\n",
       "      <th>Publisher</th>\n",
       "      <th>Cited References</th>\n",
       "      <th>Title</th>\n",
       "      <th>Tests &amp; Measures</th>\n",
       "      <th>Volume</th>\n",
       "      <th>Date</th>\n",
       "      <th>Term</th>\n",
       "    </tr>\n",
       "  </thead>\n",
       "  <tbody>\n",
       "    <tr>\n",
       "      <th>0</th>\n",
       "      <td>(from the chapter) This chapter provides Infor...</td>\n",
       "      <td>Book: 2011-12790-011.</td>\n",
       "      <td>Abakoui, Roki\\n\\nSimmons, Rosemary E</td>\n",
       "      <td>Handbook/Manual</td>\n",
       "      <td>Professional Psychological &amp; Health Personnel ...</td>\n",
       "      <td>NaN</td>\n",
       "      <td>Chapter</td>\n",
       "      <td>NaN</td>\n",
       "      <td>multicultural counseling, cultural competency,...</td>\n",
       "      <td>Abakoui, Roki: Northwestern University, Counse...</td>\n",
       "      <td>...</td>\n",
       "      <td>Human</td>\n",
       "      <td>NaN</td>\n",
       "      <td>Book\\n\\nEdited Book</td>\n",
       "      <td>John Wiley &amp; Sons Inc; US</td>\n",
       "      <td>Abakoui, R. A. (1998). Effects of weight statu...</td>\n",
       "      <td>Sizeism: An unrecognized prejudice. [References].</td>\n",
       "      <td>NaN</td>\n",
       "      <td>NaN</td>\n",
       "      <td>2010</td>\n",
       "      <td>multiculturalism</td>\n",
       "    </tr>\n",
       "    <tr>\n",
       "      <th>1</th>\n",
       "      <td>(from the chapter) The purpose of this chapter...</td>\n",
       "      <td>Book: 2011-12790-010.</td>\n",
       "      <td>Schreier, Barry A\\n\\nDudley Lassiter, Kim</td>\n",
       "      <td>Handbook/Manual</td>\n",
       "      <td>Professional Psychological &amp; Health Personnel ...</td>\n",
       "      <td>NaN</td>\n",
       "      <td>Chapter</td>\n",
       "      <td>NaN</td>\n",
       "      <td>multicultural counseling, cultural competency,...</td>\n",
       "      <td>Schreier, Barry A.: University of Connecticut,...</td>\n",
       "      <td>...</td>\n",
       "      <td>Human</td>\n",
       "      <td>NaN</td>\n",
       "      <td>Book\\n\\nEdited Book</td>\n",
       "      <td>John Wiley &amp; Sons Inc; US</td>\n",
       "      <td>Alexander, C. J. (1997). Growth and intimaty f...</td>\n",
       "      <td>Competencies for working with sexual orientati...</td>\n",
       "      <td>NaN</td>\n",
       "      <td>NaN</td>\n",
       "      <td>2010</td>\n",
       "      <td>multiculturalism</td>\n",
       "    </tr>\n",
       "    <tr>\n",
       "      <th>2</th>\n",
       "      <td>(from the chapter) This chapter provides an ov...</td>\n",
       "      <td>Book: 2011-12790-009.</td>\n",
       "      <td>Sanchez, Delida\\n\\nDavis, Claytie III</td>\n",
       "      <td>Handbook/Manual</td>\n",
       "      <td>Professional Psychological &amp; Health Personnel ...</td>\n",
       "      <td>NaN</td>\n",
       "      <td>Chapter</td>\n",
       "      <td>NaN</td>\n",
       "      <td>multicultural counseling competency, racial co...</td>\n",
       "      <td>Sanchez, Delida: Brooklyn College, City Univer...</td>\n",
       "      <td>...</td>\n",
       "      <td>Human</td>\n",
       "      <td>NaN</td>\n",
       "      <td>Book\\n\\nEdited Book</td>\n",
       "      <td>John Wiley &amp; Sons Inc; US</td>\n",
       "      <td>American Psychological Association. (2003). Gu...</td>\n",
       "      <td>Becoming a racially competent therapist. [Refe...</td>\n",
       "      <td>NaN</td>\n",
       "      <td>NaN</td>\n",
       "      <td>2010</td>\n",
       "      <td>multiculturalism</td>\n",
       "    </tr>\n",
       "    <tr>\n",
       "      <th>3</th>\n",
       "      <td>(from the chapter) There is a growing number o...</td>\n",
       "      <td>Book: 2011-12790-008.</td>\n",
       "      <td>Dixon-Peters, Aisha</td>\n",
       "      <td>Handbook/Manual</td>\n",
       "      <td>Professional Psychological &amp; Health Personnel ...</td>\n",
       "      <td>NaN</td>\n",
       "      <td>Chapter</td>\n",
       "      <td>NaN</td>\n",
       "      <td>multicultural counseling, cultural competency,...</td>\n",
       "      <td>Dixon-Peters, Aisha: California State Universi...</td>\n",
       "      <td>...</td>\n",
       "      <td>Human</td>\n",
       "      <td>NaN</td>\n",
       "      <td>Book\\n\\nEdited Book</td>\n",
       "      <td>John Wiley &amp; Sons Inc; US</td>\n",
       "      <td>AhnAllen, J. M., Suyemoto, K. L., &amp; Carter, A....</td>\n",
       "      <td>Developing multicultural competency in clinica...</td>\n",
       "      <td>NaN</td>\n",
       "      <td>NaN</td>\n",
       "      <td>2010</td>\n",
       "      <td>multiculturalism</td>\n",
       "    </tr>\n",
       "    <tr>\n",
       "      <th>4</th>\n",
       "      <td>(from the chapter) The examination of the diff...</td>\n",
       "      <td>Book: 2011-12790-007.</td>\n",
       "      <td>Stevens, Mark A\\n\\nEnglar-Carlson, Matt</td>\n",
       "      <td>Handbook/Manual</td>\n",
       "      <td>Professional Psychological &amp; Health Personnel ...</td>\n",
       "      <td>NaN</td>\n",
       "      <td>Chapter</td>\n",
       "      <td>NaN</td>\n",
       "      <td>cultural competency, multiculturalism, psychot...</td>\n",
       "      <td>Stevens, Mark A.: California State University ...</td>\n",
       "      <td>...</td>\n",
       "      <td>Human.  Male</td>\n",
       "      <td>NaN</td>\n",
       "      <td>Book\\n\\nEdited Book</td>\n",
       "      <td>John Wiley &amp; Sons Inc; US</td>\n",
       "      <td>Ackerman, S. J., &amp; Hilsenroth, M. J. (2003). A...</td>\n",
       "      <td>Psychotherapy with men: Building practice comp...</td>\n",
       "      <td>NaN</td>\n",
       "      <td>NaN</td>\n",
       "      <td>2010</td>\n",
       "      <td>multiculturalism</td>\n",
       "    </tr>\n",
       "  </tbody>\n",
       "</table>\n",
       "<p>5 rows × 29 columns</p>\n",
       "</div>"
      ],
      "text/plain": [
       "                                            Abstract       Accession Number  \\\n",
       "0  (from the chapter) This chapter provides Infor...  Book: 2011-12790-011.   \n",
       "1  (from the chapter) The purpose of this chapter...  Book: 2011-12790-010.   \n",
       "2  (from the chapter) This chapter provides an ov...  Book: 2011-12790-009.   \n",
       "3  (from the chapter) There is a growing number o...  Book: 2011-12790-008.   \n",
       "4  (from the chapter) The examination of the diff...  Book: 2011-12790-007.   \n",
       "\n",
       "                                   Author(s)     Type of Book  \\\n",
       "0       Abakoui, Roki\\n\\nSimmons, Rosemary E  Handbook/Manual   \n",
       "1  Schreier, Barry A\\n\\nDudley Lassiter, Kim  Handbook/Manual   \n",
       "2      Sanchez, Delida\\n\\nDavis, Claytie III  Handbook/Manual   \n",
       "3                        Dixon-Peters, Aisha  Handbook/Manual   \n",
       "4    Stevens, Mark A\\n\\nEnglar-Carlson, Matt  Handbook/Manual   \n",
       "\n",
       "                        PsycINFO Classification Code Conference Document Type  \\\n",
       "0  Professional Psychological & Health Personnel ...        NaN       Chapter   \n",
       "1  Professional Psychological & Health Personnel ...        NaN       Chapter   \n",
       "2  Professional Psychological & Health Personnel ...        NaN       Chapter   \n",
       "3  Professional Psychological & Health Personnel ...        NaN       Chapter   \n",
       "4  Professional Psychological & Health Personnel ...        NaN       Chapter   \n",
       "\n",
       "  Grant/Sponsorship                                       Key Concepts  \\\n",
       "0               NaN  multicultural counseling, cultural competency,...   \n",
       "1               NaN  multicultural counseling, cultural competency,...   \n",
       "2               NaN  multicultural counseling competency, racial co...   \n",
       "3               NaN  multicultural counseling, cultural competency,...   \n",
       "4               NaN  cultural competency, multiculturalism, psychot...   \n",
       "\n",
       "                                         Institution        ...         \\\n",
       "0  Abakoui, Roki: Northwestern University, Counse...        ...          \n",
       "1  Schreier, Barry A.: University of Connecticut,...        ...          \n",
       "2  Sanchez, Delida: Brooklyn College, City Univer...        ...          \n",
       "3  Dixon-Peters, Aisha: California State Universi...        ...          \n",
       "4  Stevens, Mark A.: California State University ...        ...          \n",
       "\n",
       "  Population Group Publication Status     Publication Type  \\\n",
       "0            Human                NaN  Book\\n\\nEdited Book   \n",
       "1            Human                NaN  Book\\n\\nEdited Book   \n",
       "2            Human                NaN  Book\\n\\nEdited Book   \n",
       "3            Human                NaN  Book\\n\\nEdited Book   \n",
       "4     Human.  Male                NaN  Book\\n\\nEdited Book   \n",
       "\n",
       "                   Publisher  \\\n",
       "0  John Wiley & Sons Inc; US   \n",
       "1  John Wiley & Sons Inc; US   \n",
       "2  John Wiley & Sons Inc; US   \n",
       "3  John Wiley & Sons Inc; US   \n",
       "4  John Wiley & Sons Inc; US   \n",
       "\n",
       "                                    Cited References  \\\n",
       "0  Abakoui, R. A. (1998). Effects of weight statu...   \n",
       "1  Alexander, C. J. (1997). Growth and intimaty f...   \n",
       "2  American Psychological Association. (2003). Gu...   \n",
       "3  AhnAllen, J. M., Suyemoto, K. L., & Carter, A....   \n",
       "4  Ackerman, S. J., & Hilsenroth, M. J. (2003). A...   \n",
       "\n",
       "                                               Title Tests & Measures  Volume  \\\n",
       "0  Sizeism: An unrecognized prejudice. [References].              NaN     NaN   \n",
       "1  Competencies for working with sexual orientati...              NaN     NaN   \n",
       "2  Becoming a racially competent therapist. [Refe...              NaN     NaN   \n",
       "3  Developing multicultural competency in clinica...              NaN     NaN   \n",
       "4  Psychotherapy with men: Building practice comp...              NaN     NaN   \n",
       "\n",
       "   Date              Term  \n",
       "0  2010  multiculturalism  \n",
       "1  2010  multiculturalism  \n",
       "2  2010  multiculturalism  \n",
       "3  2010  multiculturalism  \n",
       "4  2010  multiculturalism  \n",
       "\n",
       "[5 rows x 29 columns]"
      ]
     },
     "execution_count": 14,
     "metadata": {},
     "output_type": "execute_result"
    }
   ],
   "source": [
    "words_df.head()"
   ]
  },
  {
   "cell_type": "markdown",
   "metadata": {},
   "source": [
    "## Generate Corpora"
   ]
  },
  {
   "cell_type": "code",
   "execution_count": 128,
   "metadata": {
    "collapsed": true
   },
   "outputs": [],
   "source": [
    "words_to_replace = {\"/\":\"-\", \"bi-ethnic\": \"biethnic\", \"bi-racial\": \"biracial\", \n",
    "                    \"mono-ethnic\": \"monoethnic\", \"poly-ethnic\": \"polyethnic\", \n",
    "                    \"mono-racial\": \"monoracial\", \"multi-racial\": \"multiracial\",\n",
    "                    \"inter-racial\": \"interracial\", \"mono-cultural\": \"monocultural\",\n",
    "                    \"bi-cultural\": \"bicultural\", \"multi-cultural\": \"multicultural\",\n",
    "                    \"other ethnicity\":\"other-ethnicity\", \"other race\": \"other-race\", \n",
    "                    \"mixed race\": \"mixed-race\", \"mixed ethnicity\": \"mixed-ethnicity\"}"
   ]
  },
  {
   "cell_type": "code",
   "execution_count": 42,
   "metadata": {
    "collapsed": false
   },
   "outputs": [],
   "source": [
    "abstract_text = [[x_.lower() for x_ in word_tokenize(x)] for x in words_df.Abstract.fillna(\"\").values]"
   ]
  },
  {
   "cell_type": "code",
   "execution_count": 43,
   "metadata": {
    "collapsed": false
   },
   "outputs": [
    {
     "data": {
      "text/plain": [
       "['the',\n",
       " 'examination',\n",
       " 'of',\n",
       " 'an',\n",
       " 'afro-brazilian',\n",
       " 'martial',\n",
       " 'art',\n",
       " ',',\n",
       " 'capoeira',\n",
       " ',']"
      ]
     },
     "execution_count": 43,
     "metadata": {},
     "output_type": "execute_result"
    }
   ],
   "source": [
    "abstract_text[0][:10]"
   ]
  },
  {
   "cell_type": "code",
   "execution_count": 44,
   "metadata": {
    "collapsed": false
   },
   "outputs": [
    {
     "name": "stdout",
     "output_type": "stream",
     "text": [
      "Number of Abstracts 28304\n",
      "Number of words 5986261\n"
     ]
    }
   ],
   "source": [
    "print(\"Number of Abstracts\", len(abstract_text))\n",
    "print(\"Number of words\", sum(len(x) for x in abstract_text))"
   ]
  },
  {
   "cell_type": "code",
   "execution_count": 45,
   "metadata": {
    "collapsed": false
   },
   "outputs": [],
   "source": [
    "model = gensim.models.Word2Vec(sentences=abstract_text, size=32, window=5, min_count=2, sample=0,\n",
    "                               workers=10, hs=1, sg=1, cbow_mean=0)"
   ]
  },
  {
   "cell_type": "code",
   "execution_count": 47,
   "metadata": {
    "collapsed": false
   },
   "outputs": [
    {
     "data": {
      "text/plain": [
       "[('counseling', 0.9512667059898376),\n",
       " ('counselling', 0.9383204579353333),\n",
       " ('advocacy', 0.9331955909729004),\n",
       " ('training', 0.9317465424537659),\n",
       " ('sport', 0.9286409020423889),\n",
       " ('sub-fields', 0.9285836815834045),\n",
       " ('culturally-skilled', 0.9274426698684692),\n",
       " ('queering', 0.9263074994087219),\n",
       " ('diversity', 0.9248067736625671),\n",
       " ('cross-cultural', 0.9238433837890625)]"
      ]
     },
     "execution_count": 47,
     "metadata": {},
     "output_type": "execute_result"
    }
   ],
   "source": [
    "model.most_similar_cosmul(\"multicultural\")"
   ]
  },
  {
   "cell_type": "code",
   "execution_count": 48,
   "metadata": {
    "collapsed": false
   },
   "outputs": [
    {
     "data": {
      "text/plain": [
       "[('multiracial', 0.9622998237609863),\n",
       " ('mixed-race', 0.9334530234336853),\n",
       " ('mixed-heritage', 0.9233209490776062),\n",
       " ('black/white', 0.9202012419700623),\n",
       " ('biethnic', 0.9181261658668518),\n",
       " ('asian-white', 0.9160805344581604),\n",
       " ('young', 0.9129253029823303),\n",
       " ('women-women', 0.9126173853874207),\n",
       " ('self-label', 0.9118567109107971),\n",
       " ('bi-racial', 0.9112046360969543)]"
      ]
     },
     "execution_count": 48,
     "metadata": {},
     "output_type": "execute_result"
    }
   ],
   "source": [
    "model.most_similar_cosmul(\"biracial\")"
   ]
  },
  {
   "cell_type": "code",
   "execution_count": 49,
   "metadata": {
    "collapsed": false
   },
   "outputs": [
    {
     "data": {
      "text/plain": [
       "[('single-race', 0.9389999508857727),\n",
       " ('minority/white', 0.9284915328025818),\n",
       " ('asian-white', 0.9261074066162109),\n",
       " ('monoethnic', 0.9253686666488647),\n",
       " ('multiracial', 0.9207021594047546),\n",
       " ('mixed-race', 0.9205929636955261),\n",
       " ('self-identification', 0.9203444123268127),\n",
       " ('black/white', 0.9167036414146423),\n",
       " ('mixed-raced', 0.9164007902145386),\n",
       " ('knowable', 0.9116670489311218)]"
      ]
     },
     "execution_count": 49,
     "metadata": {},
     "output_type": "execute_result"
    }
   ],
   "source": [
    "model.most_similar_cosmul(\"monoracial\")"
   ]
  },
  {
   "cell_type": "code",
   "execution_count": 115,
   "metadata": {
    "collapsed": false
   },
   "outputs": [
    {
     "data": {
      "text/plain": [
       "[('monocultural', 0.9114831686019897),\n",
       " ('self-identity', 0.90879887342453),\n",
       " ('well-functioning', 0.9075254201889038),\n",
       " ('marginal', 0.905578076839447),\n",
       " ('tricultural', 0.8998859524726868),\n",
       " ('identity', 0.8990780711174011),\n",
       " ('acculturation', 0.8976826667785645),\n",
       " ('mismatching', 0.8970291018486023),\n",
       " ('spiritual/religious/nonreligious', 0.8952893614768982),\n",
       " ('singular-majority', 0.8895629644393921)]"
      ]
     },
     "execution_count": 115,
     "metadata": {},
     "output_type": "execute_result"
    }
   ],
   "source": [
    "model.most_similar_cosmul(\"bicultural\", topn=10)"
   ]
  },
  {
   "cell_type": "markdown",
   "metadata": {},
   "source": [
    "## Hierchical Clustering"
   ]
  },
  {
   "cell_type": "code",
   "execution_count": 50,
   "metadata": {
    "collapsed": true
   },
   "outputs": [],
   "source": [
    "from scipy.cluster.hierarchy import dendrogram, linkage"
   ]
  },
  {
   "cell_type": "code",
   "execution_count": 51,
   "metadata": {
    "collapsed": true
   },
   "outputs": [],
   "source": [
    "words = ['monocultural', 'monoracial', 'bicultural', 'biracial', 'biethnic', 'interracial',\n",
    "        'multicultural', 'multiracial', 'multiethnic', 'polycultural', 'polyracial', 'polyethnic',\n",
    "        'mixed race', 'mixed ethnicity', 'other race', 'other ethnicity', 'multiculturalism', 'polyculturalism',\n",
    "         'cultural pluralism']"
   ]
  },
  {
   "cell_type": "code",
   "execution_count": 123,
   "metadata": {
    "collapsed": true
   },
   "outputs": [],
   "source": [
    "expansion = []\n",
    "for w in words:\n",
    "    if w in model:\n",
    "        expansion.extend([x for x,y in model.most_similar(w, topn=50)])\n",
    "counter = Counter(expansion)\n",
    "expansion = [x for x, y in counter.items() if y > 2]"
   ]
  },
  {
   "cell_type": "code",
   "execution_count": 124,
   "metadata": {
    "collapsed": false
   },
   "outputs": [],
   "source": [
    "y = []\n",
    "X = []\n",
    "for w in set(words + expansion):\n",
    "    if w in model:\n",
    "        X.append(model[w])\n",
    "        y.append(w)\n",
    "X = np.asarray(X)\n",
    "X = (X.T / np.linalg.norm(X, axis=1)).T"
   ]
  },
  {
   "cell_type": "code",
   "execution_count": 125,
   "metadata": {
    "collapsed": false
   },
   "outputs": [
    {
     "data": {
      "text/plain": [
       "(33, 32)"
      ]
     },
     "execution_count": 125,
     "metadata": {},
     "output_type": "execute_result"
    }
   ],
   "source": [
    "X.shape"
   ]
  },
  {
   "cell_type": "code",
   "execution_count": 126,
   "metadata": {
    "collapsed": true
   },
   "outputs": [],
   "source": [
    "Z = linkage(X, 'ward')"
   ]
  },
  {
   "cell_type": "code",
   "execution_count": 127,
   "metadata": {
    "collapsed": false
   },
   "outputs": [
    {
     "data": {
      "image/png": "[encoded data removed]",
      "text/plain": [
       "<matplotlib.figure.Figure at 0x7f67bea91828>"
      ]
     },
     "metadata": {},
     "output_type": "display_data"
    }
   ],
   "source": [
    "plt.figure(figsize=(25, 10))\n",
    "plt.title('Hierarchical Clustering Dendrogram')\n",
    "plt.xlabel('Words')\n",
    "plt.ylabel('distance')\n",
    "_ = dendrogram(Z, labels=y, leaf_rotation=90., leaf_font_size=16.)"
   ]
  },
  {
   "cell_type": "markdown",
   "metadata": {},
   "source": [
    "## TODOs"
   ]
  },
  {
   "cell_type": "markdown",
   "metadata": {},
   "source": [
    "1. Foo\n",
    "1. Bar\n"
   ]
  }
 ],
 "metadata": {
  "kernelspec": {
   "display_name": "Python 3",
   "language": "python",
   "name": "python3"
  },
  "language_info": {
   "codemirror_mode": {
    "name": "ipython",
    "version": 3
   },
   "file_extension": ".py",
   "mimetype": "text/x-python",
   "name": "python",
   "nbconvert_exporter": "python",
   "pygments_lexer": "ipython3",
   "version": "3.4.3"
  }
 },
 "nbformat": 4,
 "nbformat_minor": 0
}
