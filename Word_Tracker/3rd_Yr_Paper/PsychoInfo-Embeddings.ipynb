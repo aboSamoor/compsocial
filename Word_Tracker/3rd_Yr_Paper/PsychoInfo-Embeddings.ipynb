{
 "cells": [
  {
   "cell_type": "code",
   "execution_count": 3,
   "metadata": {
    "collapsed": false
   },
   "outputs": [],
   "source": [
    "import glob\n",
    "from io import open\n",
    "import pandas as pd\n",
    "from pandas import DataFrame as df\n",
    "from os import path\n",
    "import re\n",
    "import gensim\n",
    "import numpy as np\n",
    "from collections import Counter"
   ]
  },
  {
   "cell_type": "code",
   "execution_count": 4,
   "metadata": {
    "collapsed": false
   },
   "outputs": [
    {
     "name": "stderr",
     "output_type": "stream",
     "text": [
      "//anaconda/lib/python3.5/site-packages/sklearn/utils/fixes.py:64: DeprecationWarning: inspect.getargspec() is deprecated, use inspect.signature() instead\n",
      "  if 'order' in inspect.getargspec(np.copy)[0]:\n"
     ]
    }
   ],
   "source": [
    "import nltk"
   ]
  },
  {
   "cell_type": "code",
   "execution_count": 5,
   "metadata": {
    "collapsed": true
   },
   "outputs": [],
   "source": [
    "from nltk import word_tokenize"
   ]
  },
  {
   "cell_type": "code",
   "execution_count": 6,
   "metadata": {
    "collapsed": false
   },
   "outputs": [],
   "source": [
    "import matplotlib.pyplot as plt\n",
    "import matplotlib\n",
    "%matplotlib inline"
   ]
  },
  {
   "cell_type": "code",
   "execution_count": 7,
   "metadata": {
    "collapsed": false
   },
   "outputs": [],
   "source": [
    "from tools import get_psycinfo_database"
   ]
  },
  {
   "cell_type": "code",
   "execution_count": 8,
   "metadata": {
    "collapsed": false
   },
   "outputs": [],
   "source": [
    "words_df = get_psycinfo_database()"
   ]
  },
  {
   "cell_type": "code",
   "execution_count": 9,
   "metadata": {
    "collapsed": false
   },
   "outputs": [
    {
     "data": {
      "text/html": [
       "<div>\n",
       "<table border=\"1\" class=\"dataframe\">\n",
       "  <thead>\n",
       "    <tr style=\"text-align: right;\">\n",
       "      <th></th>\n",
       "      <th>Abstract</th>\n",
       "      <th>Accession Number</th>\n",
       "      <th>Author(s)</th>\n",
       "      <th>Type of Book</th>\n",
       "      <th>PsycINFO Classification Code</th>\n",
       "      <th>Conference</th>\n",
       "      <th>Document Type</th>\n",
       "      <th>Grant/Sponsorship</th>\n",
       "      <th>Key Concepts</th>\n",
       "      <th>Institution</th>\n",
       "      <th>...</th>\n",
       "      <th>Population Group</th>\n",
       "      <th>Publication Status</th>\n",
       "      <th>Publication Type</th>\n",
       "      <th>Publisher</th>\n",
       "      <th>Cited References</th>\n",
       "      <th>Title</th>\n",
       "      <th>Tests &amp; Measures</th>\n",
       "      <th>Volume</th>\n",
       "      <th>Date</th>\n",
       "      <th>Term</th>\n",
       "    </tr>\n",
       "  </thead>\n",
       "  <tbody>\n",
       "    <tr>\n",
       "      <th>0</th>\n",
       "      <td>PURPOSE: Rates of alcohol use may be increasin...</td>\n",
       "      <td>Peer Reviewed Journal: 2015-52719-001.</td>\n",
       "      <td>Kane, Jeremy C\\n\\nJohnson, Renee M\\n\\nRobinson...</td>\n",
       "      <td>NaN</td>\n",
       "      <td>Health &amp; Mental Health Treatment &amp; Prevention ...</td>\n",
       "      <td>NaN</td>\n",
       "      <td>NaN</td>\n",
       "      <td>NaN</td>\n",
       "      <td>Acculturation, Intergenerational cultural diss...</td>\n",
       "      <td>NaN</td>\n",
       "      <td>...</td>\n",
       "      <td>NaN</td>\n",
       "      <td>First Posting</td>\n",
       "      <td>Journal\\n\\nPeer Reviewed Journal</td>\n",
       "      <td>Elsevier Science; Netherlands</td>\n",
       "      <td>NaN</td>\n",
       "      <td>The impact of intergenerational cultural disso...</td>\n",
       "      <td>NaN</td>\n",
       "      <td>NaN</td>\n",
       "      <td>2015</td>\n",
       "      <td>bicultural</td>\n",
       "    </tr>\n",
       "    <tr>\n",
       "      <th>1</th>\n",
       "      <td>Given the negative developmental risks associa...</td>\n",
       "      <td>Peer Reviewed Journal: 2015-52548-001.</td>\n",
       "      <td>Killoren, Sarah E\\n\\nZeiders, Katharine H\\n\\nU...</td>\n",
       "      <td>NaN</td>\n",
       "      <td>Developmental Psychology [2800].</td>\n",
       "      <td>NaN</td>\n",
       "      <td>NaN</td>\n",
       "      <td>NaN</td>\n",
       "      <td>Adolescence, Cultural context, Mexican-America...</td>\n",
       "      <td>Killoren, Sarah E.: Department of Human Develo...</td>\n",
       "      <td>...</td>\n",
       "      <td>NaN</td>\n",
       "      <td>First Posting</td>\n",
       "      <td>Journal\\n\\nPeer Reviewed Journal</td>\n",
       "      <td>Springer; Germany</td>\n",
       "      <td>NaN</td>\n",
       "      <td>The sociocultural context of mexican-origin pr...</td>\n",
       "      <td>NaN</td>\n",
       "      <td>NaN</td>\n",
       "      <td>2015</td>\n",
       "      <td>bicultural</td>\n",
       "    </tr>\n",
       "    <tr>\n",
       "      <th>2</th>\n",
       "      <td>(from the chapter) Assessment science is an es...</td>\n",
       "      <td>Book: 2013-02670-011.</td>\n",
       "      <td>Dana, Richard H</td>\n",
       "      <td>Handbook/Manual</td>\n",
       "      <td>Personality Scales &amp; Inventories [2223].</td>\n",
       "      <td>NaN</td>\n",
       "      <td>Chapter</td>\n",
       "      <td>NaN</td>\n",
       "      <td>personality tests, psychology, assessment, cul...</td>\n",
       "      <td>NaN</td>\n",
       "      <td>...</td>\n",
       "      <td>Human</td>\n",
       "      <td>NaN</td>\n",
       "      <td>Book\\n\\nEdited Book</td>\n",
       "      <td>American Psychological Association; US</td>\n",
       "      <td>Aiken, L. S., West, S. G., &amp; Millsap, R. E. (2...</td>\n",
       "      <td>Personality tests and psychological science: I...</td>\n",
       "      <td>California Brief Multicultural Competency Scal...</td>\n",
       "      <td>NaN</td>\n",
       "      <td>2014</td>\n",
       "      <td>bicultural</td>\n",
       "    </tr>\n",
       "    <tr>\n",
       "      <th>3</th>\n",
       "      <td>Objective: The aim of the study was to explore...</td>\n",
       "      <td>Peer Reviewed Journal: 2015-46649-006.</td>\n",
       "      <td>Goutaudier, N\\n\\nChauchard, E\\n\\nMelioli, T\\n\\...</td>\n",
       "      <td>NaN</td>\n",
       "      <td>Psychosocial &amp; Personality Development [2840].</td>\n",
       "      <td>NaN</td>\n",
       "      <td>Journal Article</td>\n",
       "      <td>NaN</td>\n",
       "      <td>Acculturation, Adolescence, Cluster analysis, ...</td>\n",
       "      <td>Goutaudier, N.: Laboratoire CERPP-OCTOGONE, UF...</td>\n",
       "      <td>...</td>\n",
       "      <td>Human.  Male.  Female. Adolescence (13-17 yrs)</td>\n",
       "      <td>NaN</td>\n",
       "      <td>Journal\\n\\nPeer Reviewed Journal</td>\n",
       "      <td>Elsevier Masson SAS; France</td>\n",
       "      <td>Aubry, B., &amp; Tribalat, M. (2009). Les jeunes d...</td>\n",
       "      <td>Acculturation orientations and psychosocial ad...</td>\n",
       "      <td>Immigrant Acculturation Scale\\nRosenberg Self-...</td>\n",
       "      <td>41</td>\n",
       "      <td>2015</td>\n",
       "      <td>bicultural</td>\n",
       "    </tr>\n",
       "    <tr>\n",
       "      <th>4</th>\n",
       "      <td>(from the chapter) In Germany, the visit of th...</td>\n",
       "      <td>Book: 2014-27297-015.</td>\n",
       "      <td>Leyendecker, Birgit\\n\\nWillard, Jessica\\n\\nAga...</td>\n",
       "      <td>NaN</td>\n",
       "      <td>Cognitive &amp; Perceptual Development [2820].</td>\n",
       "      <td>NaN</td>\n",
       "      <td>Chapter</td>\n",
       "      <td>&lt;b&gt;Sponsor: &lt;/b&gt;NORFACE. ERA-NET\\n&lt;b&gt;Grant: &lt;/...</td>\n",
       "      <td>children's bilingual development, parents, imm...</td>\n",
       "      <td>Leyendecker, Birgit: Ruhr University Bochum, B...</td>\n",
       "      <td>...</td>\n",
       "      <td>Human. Childhood (birth-12 yrs)</td>\n",
       "      <td>NaN</td>\n",
       "      <td>Book\\n\\nEdited Book</td>\n",
       "      <td>Ashgate Publishing Co; US</td>\n",
       "      <td>Adesope, O. O., Lavin, T., Thompson, T., &amp; Ung...</td>\n",
       "      <td>Learning a host country: A plea to strengthen ...</td>\n",
       "      <td>NaN</td>\n",
       "      <td>NaN</td>\n",
       "      <td>2014</td>\n",
       "      <td>bicultural</td>\n",
       "    </tr>\n",
       "  </tbody>\n",
       "</table>\n",
       "<p>5 rows × 29 columns</p>\n",
       "</div>"
      ],
      "text/plain": [
       "                                            Abstract  \\\n",
       "0  PURPOSE: Rates of alcohol use may be increasin...   \n",
       "1  Given the negative developmental risks associa...   \n",
       "2  (from the chapter) Assessment science is an es...   \n",
       "3  Objective: The aim of the study was to explore...   \n",
       "4  (from the chapter) In Germany, the visit of th...   \n",
       "\n",
       "                         Accession Number  \\\n",
       "0  Peer Reviewed Journal: 2015-52719-001.   \n",
       "1  Peer Reviewed Journal: 2015-52548-001.   \n",
       "2                   Book: 2013-02670-011.   \n",
       "3  Peer Reviewed Journal: 2015-46649-006.   \n",
       "4                   Book: 2014-27297-015.   \n",
       "\n",
       "                                           Author(s)     Type of Book  \\\n",
       "0  Kane, Jeremy C\\n\\nJohnson, Renee M\\n\\nRobinson...              NaN   \n",
       "1  Killoren, Sarah E\\n\\nZeiders, Katharine H\\n\\nU...              NaN   \n",
       "2                                    Dana, Richard H  Handbook/Manual   \n",
       "3  Goutaudier, N\\n\\nChauchard, E\\n\\nMelioli, T\\n\\...              NaN   \n",
       "4  Leyendecker, Birgit\\n\\nWillard, Jessica\\n\\nAga...              NaN   \n",
       "\n",
       "                        PsycINFO Classification Code Conference  \\\n",
       "0  Health & Mental Health Treatment & Prevention ...        NaN   \n",
       "1                   Developmental Psychology [2800].        NaN   \n",
       "2           Personality Scales & Inventories [2223].        NaN   \n",
       "3     Psychosocial & Personality Development [2840].        NaN   \n",
       "4         Cognitive & Perceptual Development [2820].        NaN   \n",
       "\n",
       "     Document Type                                  Grant/Sponsorship  \\\n",
       "0              NaN                                                NaN   \n",
       "1              NaN                                                NaN   \n",
       "2          Chapter                                                NaN   \n",
       "3  Journal Article                                                NaN   \n",
       "4          Chapter  <b>Sponsor: </b>NORFACE. ERA-NET\\n<b>Grant: </...   \n",
       "\n",
       "                                        Key Concepts  \\\n",
       "0  Acculturation, Intergenerational cultural diss...   \n",
       "1  Adolescence, Cultural context, Mexican-America...   \n",
       "2  personality tests, psychology, assessment, cul...   \n",
       "3  Acculturation, Adolescence, Cluster analysis, ...   \n",
       "4  children's bilingual development, parents, imm...   \n",
       "\n",
       "                                         Institution     ...      \\\n",
       "0                                                NaN     ...       \n",
       "1  Killoren, Sarah E.: Department of Human Develo...     ...       \n",
       "2                                                NaN     ...       \n",
       "3  Goutaudier, N.: Laboratoire CERPP-OCTOGONE, UF...     ...       \n",
       "4  Leyendecker, Birgit: Ruhr University Bochum, B...     ...       \n",
       "\n",
       "                                 Population Group Publication Status  \\\n",
       "0                                             NaN      First Posting   \n",
       "1                                             NaN      First Posting   \n",
       "2                                           Human                NaN   \n",
       "3  Human.  Male.  Female. Adolescence (13-17 yrs)                NaN   \n",
       "4                 Human. Childhood (birth-12 yrs)                NaN   \n",
       "\n",
       "                   Publication Type                               Publisher  \\\n",
       "0  Journal\\n\\nPeer Reviewed Journal           Elsevier Science; Netherlands   \n",
       "1  Journal\\n\\nPeer Reviewed Journal                       Springer; Germany   \n",
       "2               Book\\n\\nEdited Book  American Psychological Association; US   \n",
       "3  Journal\\n\\nPeer Reviewed Journal             Elsevier Masson SAS; France   \n",
       "4               Book\\n\\nEdited Book               Ashgate Publishing Co; US   \n",
       "\n",
       "                                    Cited References  \\\n",
       "0                                                NaN   \n",
       "1                                                NaN   \n",
       "2  Aiken, L. S., West, S. G., & Millsap, R. E. (2...   \n",
       "3  Aubry, B., & Tribalat, M. (2009). Les jeunes d...   \n",
       "4  Adesope, O. O., Lavin, T., Thompson, T., & Ung...   \n",
       "\n",
       "                                               Title  \\\n",
       "0  The impact of intergenerational cultural disso...   \n",
       "1  The sociocultural context of mexican-origin pr...   \n",
       "2  Personality tests and psychological science: I...   \n",
       "3  Acculturation orientations and psychosocial ad...   \n",
       "4  Learning a host country: A plea to strengthen ...   \n",
       "\n",
       "                                    Tests & Measures  Volume  Date        Term  \n",
       "0                                                NaN     NaN  2015  bicultural  \n",
       "1                                                NaN     NaN  2015  bicultural  \n",
       "2  California Brief Multicultural Competency Scal...     NaN  2014  bicultural  \n",
       "3  Immigrant Acculturation Scale\\nRosenberg Self-...      41  2015  bicultural  \n",
       "4                                                NaN     NaN  2014  bicultural  \n",
       "\n",
       "[5 rows x 29 columns]"
      ]
     },
     "execution_count": 9,
     "metadata": {},
     "output_type": "execute_result"
    }
   ],
   "source": [
    "words_df.head()"
   ]
  },
  {
   "cell_type": "markdown",
   "metadata": {},
   "source": [
    "## Generate Corpora"
   ]
  },
  {
   "cell_type": "code",
   "execution_count": 10,
   "metadata": {
    "collapsed": true
   },
   "outputs": [],
   "source": [
    "words_to_replace = {\"/\":\"-\", \"bi-ethnic\": \"biethnic\", \"bi-racial\": \"biracial\", \n",
    "                    \"mono-ethnic\": \"monoethnic\", \"poly-ethnic\": \"polyethnic\", \n",
    "                    \"mono-racial\": \"monoracial\", \"multi-racial\": \"multiracial\",\n",
    "                    \"inter-racial\": \"interracial\", \"mono-cultural\": \"monocultural\",\n",
    "                    \"bi-cultural\": \"bicultural\", \"multi-cultural\": \"multicultural\",\n",
    "                    \"other ethnicity\":\"other-ethnicity\", \"other race\": \"other-race\", \n",
    "                    \"mixed race\": \"mixed-race\", \"mixed ethnicity\": \"mixed-ethnicity\"}"
   ]
  },
  {
   "cell_type": "code",
   "execution_count": 11,
   "metadata": {
    "collapsed": false
   },
   "outputs": [],
   "source": [
    "abstract_text = [[x_.lower() for x_ in word_tokenize(x)] for x in words_df.Abstract.fillna(\"\").values]"
   ]
  },
  {
   "cell_type": "code",
   "execution_count": 12,
   "metadata": {
    "collapsed": false
   },
   "outputs": [
    {
     "data": {
      "text/plain": [
       "['purpose',\n",
       " ':',\n",
       " 'rates',\n",
       " 'of',\n",
       " 'alcohol',\n",
       " 'use',\n",
       " 'may',\n",
       " 'be',\n",
       " 'increasing',\n",
       " 'among']"
      ]
     },
     "execution_count": 12,
     "metadata": {},
     "output_type": "execute_result"
    }
   ],
   "source": [
    "abstract_text[0][:10]"
   ]
  },
  {
   "cell_type": "code",
   "execution_count": 13,
   "metadata": {
    "collapsed": false
   },
   "outputs": [
    {
     "name": "stdout",
     "output_type": "stream",
     "text": [
      "Number of Abstracts 28305\n",
      "Number of words 5986261\n"
     ]
    }
   ],
   "source": [
    "print(\"Number of Abstracts\", len(abstract_text))\n",
    "print(\"Number of words\", sum(len(x) for x in abstract_text))"
   ]
  },
  {
   "cell_type": "code",
   "execution_count": 14,
   "metadata": {
    "collapsed": false
   },
   "outputs": [],
   "source": [
    "model = gensim.models.Word2Vec(sentences=abstract_text, size=32, window=5, min_count=2, sample=0,\n",
    "                               workers=10, hs=1, sg=1, cbow_mean=0)"
   ]
  },
  {
   "cell_type": "code",
   "execution_count": 15,
   "metadata": {
    "collapsed": false
   },
   "outputs": [
    {
     "data": {
      "text/plain": [
       "[('counseling', 0.9555028676986694),\n",
       " ('counselling', 0.9420709609985352),\n",
       " ('mc', 0.9381777048110962),\n",
       " ('competency', 0.9301022887229919),\n",
       " ('globalization-cultural', 0.9291765093803406),\n",
       " ('cross-cultural', 0.9274942278862),\n",
       " ('competence', 0.9241160750389099),\n",
       " ('counsellor', 0.9228037595748901),\n",
       " ('transcultural', 0.9199246168136597),\n",
       " ('vocational', 0.9197516441345215)]"
      ]
     },
     "execution_count": 15,
     "metadata": {},
     "output_type": "execute_result"
    }
   ],
   "source": [
    "model.most_similar_cosmul(\"multicultural\")"
   ]
  },
  {
   "cell_type": "code",
   "execution_count": 16,
   "metadata": {
    "collapsed": false
   },
   "outputs": [
    {
     "data": {
      "text/plain": [
       "[('multiracial', 0.9304053783416748),\n",
       " ('asian-white', 0.9253990054130554),\n",
       " ('black/white', 0.9180924892425537),\n",
       " ('adoptees', 0.917337954044342),\n",
       " ('mixed-heritage', 0.9168943762779236),\n",
       " ('mixed-race', 0.9097462296485901),\n",
       " ('inauthenticity', 0.9095105528831482),\n",
       " ('individuals', 0.9047248959541321),\n",
       " ('monoracial', 0.9044837355613708),\n",
       " ('biethnic', 0.9022374749183655)]"
      ]
     },
     "execution_count": 16,
     "metadata": {},
     "output_type": "execute_result"
    }
   ],
   "source": [
    "model.most_similar_cosmul(\"biracial\")"
   ]
  },
  {
   "cell_type": "code",
   "execution_count": 17,
   "metadata": {
    "collapsed": false
   },
   "outputs": [
    {
     "data": {
      "text/plain": [
       "[('asian-white', 0.9484656453132629),\n",
       " ('ancestry', 0.9340470433235168),\n",
       " ('part-latino', 0.9262325167655945),\n",
       " ('single-race', 0.9246559143066406),\n",
       " ('nonwhite', 0.9243330359458923),\n",
       " ('inauthenticity', 0.9223437905311584),\n",
       " ('5,824', 0.9218804240226746),\n",
       " ('mixed-raced', 0.9185484051704407),\n",
       " ('aims-defined', 0.9182586073875427),\n",
       " ('minority-white', 0.9155025482177734)]"
      ]
     },
     "execution_count": 17,
     "metadata": {},
     "output_type": "execute_result"
    }
   ],
   "source": [
    "model.most_similar_cosmul(\"monoracial\")"
   ]
  },
  {
   "cell_type": "code",
   "execution_count": 18,
   "metadata": {
    "collapsed": false
   },
   "outputs": [
    {
     "data": {
      "text/plain": [
       "[('biculturalism', 0.9172696471214294),\n",
       " ('self-identity', 0.9154881834983826),\n",
       " ('acculturation', 0.9152664542198181),\n",
       " ('biculturality', 0.9126729369163513),\n",
       " ('bi-cultural', 0.9056810140609741),\n",
       " ('monocultural', 0.9005785584449768),\n",
       " ('bii', 0.898722767829895),\n",
       " ('identity', 0.8964405059814453),\n",
       " ('fusion', 0.8939148187637329),\n",
       " ('enculturation', 0.893640398979187)]"
      ]
     },
     "execution_count": 18,
     "metadata": {},
     "output_type": "execute_result"
    }
   ],
   "source": [
    "model.most_similar_cosmul(\"bicultural\", topn=10)"
   ]
  },
  {
   "cell_type": "markdown",
   "metadata": {},
   "source": [
    "## Hierchical Clustering"
   ]
  },
  {
   "cell_type": "code",
   "execution_count": 19,
   "metadata": {
    "collapsed": true
   },
   "outputs": [],
   "source": [
    "from scipy.cluster.hierarchy import dendrogram, linkage"
   ]
  },
  {
   "cell_type": "code",
   "execution_count": 20,
   "metadata": {
    "collapsed": true
   },
   "outputs": [],
   "source": [
    "words = ['monocultural', 'monoracial', 'bicultural', 'biracial', 'biethnic', 'interracial',\n",
    "        'multicultural', 'multiracial', 'multiethnic', 'polycultural', 'polyracial', 'polyethnic',\n",
    "        'mixed race', 'mixed ethnicity', 'other race', 'other ethnicity', 'multiculturalism', 'polyculturalism',\n",
    "         'cultural pluralism']"
   ]
  },
  {
   "cell_type": "code",
   "execution_count": 21,
   "metadata": {
    "collapsed": true
   },
   "outputs": [],
   "source": [
    "expansion = []\n",
    "for w in words:\n",
    "    if w in model:\n",
    "        expansion.extend([x for x,y in model.most_similar(w, topn=50)])\n",
    "counter = Counter(expansion)\n",
    "expansion = [x for x, y in counter.items() if y > 2]"
   ]
  },
  {
   "cell_type": "code",
   "execution_count": 22,
   "metadata": {
    "collapsed": false
   },
   "outputs": [],
   "source": [
    "y = []\n",
    "X = []\n",
    "for w in set(words + expansion):\n",
    "    if w in model:\n",
    "        X.append(model[w])\n",
    "        y.append(w)\n",
    "X = np.asarray(X)\n",
    "X = (X.T / np.linalg.norm(X, axis=1)).T"
   ]
  },
  {
   "cell_type": "code",
   "execution_count": 23,
   "metadata": {
    "collapsed": false
   },
   "outputs": [
    {
     "data": {
      "text/plain": [
       "(24, 32)"
      ]
     },
     "execution_count": 23,
     "metadata": {},
     "output_type": "execute_result"
    }
   ],
   "source": [
    "X.shape"
   ]
  },
  {
   "cell_type": "code",
   "execution_count": 24,
   "metadata": {
    "collapsed": true
   },
   "outputs": [],
   "source": [
    "Z = linkage(X, 'ward')"
   ]
  },
  {
   "cell_type": "code",
   "execution_count": 44,
   "metadata": {
    "collapsed": false,
    "scrolled": true
   },
   "outputs": [
    {
     "name": "stderr",
     "output_type": "stream",
     "text": [
      "//anaconda/lib/python3.5/site-packages/matplotlib/collections.py:590: FutureWarning: elementwise comparison failed; returning scalar instead, but in the future will perform elementwise comparison\n",
      "  if self._edgecolors == str('face'):\n"
     ]
    },
    {
     "data": {
      "image/png": "[encoded data removed]",
      "text/plain": [
       "<matplotlib.figure.Figure at 0x1344453c8>"
      ]
     },
     "metadata": {},
     "output_type": "display_data"
    }
   ],
   "source": [
    "plt.figure(figsize=(25, 10))\n",
    "#plt.title('Hierarchical Clustering Dendrogram')\n",
    "plt.xlabel('Words')\n",
    "plt.ylabel('distance')\n",
    "_ = dendrogram(Z, labels=y, leaf_rotation=90., leaf_font_size=16.)"
   ]
  },
  {
   "cell_type": "markdown",
   "metadata": {},
   "source": [
    "## TODOs"
   ]
  },
  {
   "cell_type": "markdown",
   "metadata": {},
   "source": [
    "1. Foo\n",
    "1. Bar\n"
   ]
  }
 ],
 "metadata": {
  "kernelspec": {
   "display_name": "Python 3",
   "language": "python",
   "name": "python3"
  },
  "language_info": {
   "codemirror_mode": {
    "name": "ipython",
    "version": 3
   },
   "file_extension": ".py",
   "mimetype": "text/x-python",
   "name": "python",
   "nbconvert_exporter": "python",
   "pygments_lexer": "ipython3",
   "version": "3.5.1"
  }
 },
 "nbformat": 4,
 "nbformat_minor": 0
}
