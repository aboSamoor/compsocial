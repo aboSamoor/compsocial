{
 "cells": [
  {
   "cell_type": "code",
   "execution_count": 1,
   "metadata": {
    "collapsed": true
   },
   "outputs": [],
   "source": [
    "import glob\n",
    "from io import open\n",
    "#import bibtexparser\n",
    "#from bibtexparser.bparser import BibTexParser\n",
    "import pandas as pd\n",
    "from pandas import DataFrame as df\n",
    "from os import path"
   ]
  },
  {
   "cell_type": "code",
   "execution_count": 2,
   "metadata": {
    "collapsed": false
   },
   "outputs": [],
   "source": [
    "import matplotlib.pyplot as plt\n",
    "%matplotlib inline"
   ]
  },
  {
   "cell_type": "markdown",
   "metadata": {},
   "source": [
    "## Merge CSV databases"
   ]
  },
  {
   "cell_type": "markdown",
   "metadata": {},
   "source": [
    "### Reading the column names"
   ]
  },
  {
   "cell_type": "code",
   "execution_count": 3,
   "metadata": {
    "collapsed": false
   },
   "outputs": [],
   "source": [
    "labels = pd.read_csv(\"data/PsycInfo/csv/Acronym Key.csv\", header=-1, names=[\"Acronym\", \"Name\", \"Keep\"])"
   ]
  },
  {
   "cell_type": "code",
   "execution_count": 4,
   "metadata": {
    "collapsed": false
   },
   "outputs": [],
   "source": [
    "column_to_name = dict(labels.values[:,:2])"
   ]
  },
  {
   "cell_type": "code",
   "execution_count": 5,
   "metadata": {
    "collapsed": false
   },
   "outputs": [],
   "source": [
    "column_to_keep = labels[labels.Keep==\"keep\"].Acronym.values"
   ]
  },
  {
   "cell_type": "code",
   "execution_count": 6,
   "metadata": {
    "collapsed": false
   },
   "outputs": [
    {
     "name": "stdout",
     "output_type": "stream",
     "text": [
      "data/PsycInfo/csv/multiculturalism_3.csv 1000\n",
      "data/PsycInfo/csv/multiculturalism_6.csv 1624\n",
      "data/PsycInfo/csv/multicultural_5.csv 1000\n",
      "data/PsycInfo/csv/interracial_2.csv 1246\n",
      "data/PsycInfo/csv/multiculturalism_2.csv 1000\n",
      "data/PsycInfo/csv/multicultural_9.csv 1000\n",
      "data/PsycInfo/csv/polyethnic.csv 7\n",
      "data/PsycInfo/csv/multiculturalism_5.csv 1000\n",
      "data/PsycInfo/csv/bicultural.csv 1784\n",
      "data/PsycInfo/csv/multiculturalism_1.csv 1000\n",
      "data/PsycInfo/csv/multicultural_10.csv 1000\n",
      "data/PsycInfo/csv/polyculturalism.csv 13\n",
      "data/PsycInfo/csv/biethnic.csv 42\n",
      "data/PsycInfo/csv/other race.csv 738\n",
      "data/PsycInfo/csv/other ethnicity.csv 87\n",
      "data/PsycInfo/csv/mixed race.csv 551\n",
      "data/PsycInfo/csv/interracial_1.csv 1500\n",
      "data/PsycInfo/csv/polycultural.csv 14\n",
      "data/PsycInfo/csv/multicultural_3.csv 1000\n",
      "data/PsycInfo/csv/biracial.csv 882\n",
      "data/PsycInfo/csv/multicultural_4.csv 1000\n",
      "data/PsycInfo/csv/multiculturalism_4.csv 1000\n",
      "data/PsycInfo/csv/mixed ethnicity.csv 99\n",
      "data/PsycInfo/csv/multicultural_2.csv 1000\n",
      "data/PsycInfo/csv/monocultural.csv 225\n",
      "data/PsycInfo/csv/cultural pluralism.csv 212\n",
      "data/PsycInfo/csv/monoracial.csv 145\n",
      "data/PsycInfo/csv/multicultural_1.csv 1000\n",
      "data/PsycInfo/csv/multicultural_11.csv 1437\n",
      "data/PsycInfo/csv/multicultural_6.csv 1000\n",
      "data/PsycInfo/csv/multiracial.csv 1124\n",
      "data/PsycInfo/csv/multicultural_7.csv 1000\n",
      "data/PsycInfo/csv/multicultural_8.csv 1000\n"
     ]
    }
   ],
   "source": [
    "dfs = []\n",
    "for file in glob.glob(\"data/PsycInfo/csv/*csv\"):\n",
    "  word = path.basename(file).split('.')[0].split('_')[0]\n",
    "  if word == \"Acronym Key\": continue\n",
    "  df_ = pd.read_csv(file, encoding=\"iso-8859-1\", header=1)\n",
    "  df_.insert(0, \"Term\", [word]*len(df_))\n",
    "  print(file, len(df_))\n",
    "  dfs.append(df_)"
   ]
  },
  {
   "cell_type": "code",
   "execution_count": 7,
   "metadata": {
    "collapsed": false
   },
   "outputs": [
    {
     "data": {
      "text/html": [
       "<div>\n",
       "<table border=\"1\" class=\"dataframe\">\n",
       "  <thead>\n",
       "    <tr style=\"text-align: right;\">\n",
       "      <th></th>\n",
       "      <th>Abstract</th>\n",
       "      <th>Accession Number</th>\n",
       "      <th>Author(s)</th>\n",
       "      <th>Type of Book</th>\n",
       "      <th>PsycINFO Classification Code</th>\n",
       "      <th>Conference</th>\n",
       "      <th>Document Type</th>\n",
       "      <th>Grant/Sponsorship</th>\n",
       "      <th>Key Concepts</th>\n",
       "      <th>Institution</th>\n",
       "      <th>...</th>\n",
       "      <th>Population Group</th>\n",
       "      <th>Publication Status</th>\n",
       "      <th>Publication Type</th>\n",
       "      <th>Publisher</th>\n",
       "      <th>Cited References</th>\n",
       "      <th>Title</th>\n",
       "      <th>Tests &amp; Measures</th>\n",
       "      <th>Volume</th>\n",
       "      <th>Date</th>\n",
       "      <th>Term</th>\n",
       "    </tr>\n",
       "  </thead>\n",
       "  <tbody>\n",
       "    <tr>\n",
       "      <th>0</th>\n",
       "      <td>(from the chapter) This chapter provides Infor...</td>\n",
       "      <td>Book: 2011-12790-011.</td>\n",
       "      <td>Abakoui, Roki\\n\\nSimmons, Rosemary E</td>\n",
       "      <td>Handbook/Manual</td>\n",
       "      <td>Professional Psychological &amp; Health Personnel ...</td>\n",
       "      <td>NaN</td>\n",
       "      <td>Chapter</td>\n",
       "      <td>NaN</td>\n",
       "      <td>multicultural counseling, cultural competency,...</td>\n",
       "      <td>Abakoui, Roki: Northwestern University, Counse...</td>\n",
       "      <td>...</td>\n",
       "      <td>Human</td>\n",
       "      <td>NaN</td>\n",
       "      <td>Book\\n\\nEdited Book</td>\n",
       "      <td>John Wiley &amp; Sons Inc; US</td>\n",
       "      <td>Abakoui, R. A. (1998). Effects of weight statu...</td>\n",
       "      <td>Sizeism: An unrecognized prejudice. [References].</td>\n",
       "      <td>NaN</td>\n",
       "      <td>NaN</td>\n",
       "      <td>2010</td>\n",
       "      <td>multiculturalism</td>\n",
       "    </tr>\n",
       "    <tr>\n",
       "      <th>1</th>\n",
       "      <td>(from the chapter) The purpose of this chapter...</td>\n",
       "      <td>Book: 2011-12790-010.</td>\n",
       "      <td>Schreier, Barry A\\n\\nDudley Lassiter, Kim</td>\n",
       "      <td>Handbook/Manual</td>\n",
       "      <td>Professional Psychological &amp; Health Personnel ...</td>\n",
       "      <td>NaN</td>\n",
       "      <td>Chapter</td>\n",
       "      <td>NaN</td>\n",
       "      <td>multicultural counseling, cultural competency,...</td>\n",
       "      <td>Schreier, Barry A.: University of Connecticut,...</td>\n",
       "      <td>...</td>\n",
       "      <td>Human</td>\n",
       "      <td>NaN</td>\n",
       "      <td>Book\\n\\nEdited Book</td>\n",
       "      <td>John Wiley &amp; Sons Inc; US</td>\n",
       "      <td>Alexander, C. J. (1997). Growth and intimaty f...</td>\n",
       "      <td>Competencies for working with sexual orientati...</td>\n",
       "      <td>NaN</td>\n",
       "      <td>NaN</td>\n",
       "      <td>2010</td>\n",
       "      <td>multiculturalism</td>\n",
       "    </tr>\n",
       "    <tr>\n",
       "      <th>2</th>\n",
       "      <td>(from the chapter) This chapter provides an ov...</td>\n",
       "      <td>Book: 2011-12790-009.</td>\n",
       "      <td>Sanchez, Delida\\n\\nDavis, Claytie III</td>\n",
       "      <td>Handbook/Manual</td>\n",
       "      <td>Professional Psychological &amp; Health Personnel ...</td>\n",
       "      <td>NaN</td>\n",
       "      <td>Chapter</td>\n",
       "      <td>NaN</td>\n",
       "      <td>multicultural counseling competency, racial co...</td>\n",
       "      <td>Sanchez, Delida: Brooklyn College, City Univer...</td>\n",
       "      <td>...</td>\n",
       "      <td>Human</td>\n",
       "      <td>NaN</td>\n",
       "      <td>Book\\n\\nEdited Book</td>\n",
       "      <td>John Wiley &amp; Sons Inc; US</td>\n",
       "      <td>American Psychological Association. (2003). Gu...</td>\n",
       "      <td>Becoming a racially competent therapist. [Refe...</td>\n",
       "      <td>NaN</td>\n",
       "      <td>NaN</td>\n",
       "      <td>2010</td>\n",
       "      <td>multiculturalism</td>\n",
       "    </tr>\n",
       "    <tr>\n",
       "      <th>3</th>\n",
       "      <td>(from the chapter) There is a growing number o...</td>\n",
       "      <td>Book: 2011-12790-008.</td>\n",
       "      <td>Dixon-Peters, Aisha</td>\n",
       "      <td>Handbook/Manual</td>\n",
       "      <td>Professional Psychological &amp; Health Personnel ...</td>\n",
       "      <td>NaN</td>\n",
       "      <td>Chapter</td>\n",
       "      <td>NaN</td>\n",
       "      <td>multicultural counseling, cultural competency,...</td>\n",
       "      <td>Dixon-Peters, Aisha: California State Universi...</td>\n",
       "      <td>...</td>\n",
       "      <td>Human</td>\n",
       "      <td>NaN</td>\n",
       "      <td>Book\\n\\nEdited Book</td>\n",
       "      <td>John Wiley &amp; Sons Inc; US</td>\n",
       "      <td>AhnAllen, J. M., Suyemoto, K. L., &amp; Carter, A....</td>\n",
       "      <td>Developing multicultural competency in clinica...</td>\n",
       "      <td>NaN</td>\n",
       "      <td>NaN</td>\n",
       "      <td>2010</td>\n",
       "      <td>multiculturalism</td>\n",
       "    </tr>\n",
       "    <tr>\n",
       "      <th>4</th>\n",
       "      <td>(from the chapter) The examination of the diff...</td>\n",
       "      <td>Book: 2011-12790-007.</td>\n",
       "      <td>Stevens, Mark A\\n\\nEnglar-Carlson, Matt</td>\n",
       "      <td>Handbook/Manual</td>\n",
       "      <td>Professional Psychological &amp; Health Personnel ...</td>\n",
       "      <td>NaN</td>\n",
       "      <td>Chapter</td>\n",
       "      <td>NaN</td>\n",
       "      <td>cultural competency, multiculturalism, psychot...</td>\n",
       "      <td>Stevens, Mark A.: California State University ...</td>\n",
       "      <td>...</td>\n",
       "      <td>Human.  Male</td>\n",
       "      <td>NaN</td>\n",
       "      <td>Book\\n\\nEdited Book</td>\n",
       "      <td>John Wiley &amp; Sons Inc; US</td>\n",
       "      <td>Ackerman, S. J., &amp; Hilsenroth, M. J. (2003). A...</td>\n",
       "      <td>Psychotherapy with men: Building practice comp...</td>\n",
       "      <td>NaN</td>\n",
       "      <td>NaN</td>\n",
       "      <td>2010</td>\n",
       "      <td>multiculturalism</td>\n",
       "    </tr>\n",
       "  </tbody>\n",
       "</table>\n",
       "<p>5 rows × 29 columns</p>\n",
       "</div>"
      ],
      "text/plain": [
       "                                            Abstract       Accession Number  \\\n",
       "0  (from the chapter) This chapter provides Infor...  Book: 2011-12790-011.   \n",
       "1  (from the chapter) The purpose of this chapter...  Book: 2011-12790-010.   \n",
       "2  (from the chapter) This chapter provides an ov...  Book: 2011-12790-009.   \n",
       "3  (from the chapter) There is a growing number o...  Book: 2011-12790-008.   \n",
       "4  (from the chapter) The examination of the diff...  Book: 2011-12790-007.   \n",
       "\n",
       "                                   Author(s)     Type of Book  \\\n",
       "0       Abakoui, Roki\\n\\nSimmons, Rosemary E  Handbook/Manual   \n",
       "1  Schreier, Barry A\\n\\nDudley Lassiter, Kim  Handbook/Manual   \n",
       "2      Sanchez, Delida\\n\\nDavis, Claytie III  Handbook/Manual   \n",
       "3                        Dixon-Peters, Aisha  Handbook/Manual   \n",
       "4    Stevens, Mark A\\n\\nEnglar-Carlson, Matt  Handbook/Manual   \n",
       "\n",
       "                        PsycINFO Classification Code Conference Document Type  \\\n",
       "0  Professional Psychological & Health Personnel ...        NaN       Chapter   \n",
       "1  Professional Psychological & Health Personnel ...        NaN       Chapter   \n",
       "2  Professional Psychological & Health Personnel ...        NaN       Chapter   \n",
       "3  Professional Psychological & Health Personnel ...        NaN       Chapter   \n",
       "4  Professional Psychological & Health Personnel ...        NaN       Chapter   \n",
       "\n",
       "  Grant/Sponsorship                                       Key Concepts  \\\n",
       "0               NaN  multicultural counseling, cultural competency,...   \n",
       "1               NaN  multicultural counseling, cultural competency,...   \n",
       "2               NaN  multicultural counseling competency, racial co...   \n",
       "3               NaN  multicultural counseling, cultural competency,...   \n",
       "4               NaN  cultural competency, multiculturalism, psychot...   \n",
       "\n",
       "                                         Institution        ...         \\\n",
       "0  Abakoui, Roki: Northwestern University, Counse...        ...          \n",
       "1  Schreier, Barry A.: University of Connecticut,...        ...          \n",
       "2  Sanchez, Delida: Brooklyn College, City Univer...        ...          \n",
       "3  Dixon-Peters, Aisha: California State Universi...        ...          \n",
       "4  Stevens, Mark A.: California State University ...        ...          \n",
       "\n",
       "  Population Group Publication Status     Publication Type  \\\n",
       "0            Human                NaN  Book\\n\\nEdited Book   \n",
       "1            Human                NaN  Book\\n\\nEdited Book   \n",
       "2            Human                NaN  Book\\n\\nEdited Book   \n",
       "3            Human                NaN  Book\\n\\nEdited Book   \n",
       "4     Human.  Male                NaN  Book\\n\\nEdited Book   \n",
       "\n",
       "                   Publisher  \\\n",
       "0  John Wiley & Sons Inc; US   \n",
       "1  John Wiley & Sons Inc; US   \n",
       "2  John Wiley & Sons Inc; US   \n",
       "3  John Wiley & Sons Inc; US   \n",
       "4  John Wiley & Sons Inc; US   \n",
       "\n",
       "                                    Cited References  \\\n",
       "0  Abakoui, R. A. (1998). Effects of weight statu...   \n",
       "1  Alexander, C. J. (1997). Growth and intimaty f...   \n",
       "2  American Psychological Association. (2003). Gu...   \n",
       "3  AhnAllen, J. M., Suyemoto, K. L., & Carter, A....   \n",
       "4  Ackerman, S. J., & Hilsenroth, M. J. (2003). A...   \n",
       "\n",
       "                                               Title Tests & Measures  Volume  \\\n",
       "0  Sizeism: An unrecognized prejudice. [References].              NaN     NaN   \n",
       "1  Competencies for working with sexual orientati...              NaN     NaN   \n",
       "2  Becoming a racially competent therapist. [Refe...              NaN     NaN   \n",
       "3  Developing multicultural competency in clinica...              NaN     NaN   \n",
       "4  Psychotherapy with men: Building practice comp...              NaN     NaN   \n",
       "\n",
       "   Date              Term  \n",
       "0  2010  multiculturalism  \n",
       "1  2010  multiculturalism  \n",
       "2  2010  multiculturalism  \n",
       "3  2010  multiculturalism  \n",
       "4  2010  multiculturalism  \n",
       "\n",
       "[5 rows x 29 columns]"
      ]
     },
     "execution_count": 7,
     "metadata": {},
     "output_type": "execute_result"
    }
   ],
   "source": [
    "words_df = pd.concat(dfs)[list(column_to_keep)+[\"Term\"]]\n",
    "assert len(words_df[words_df.Term == 'biracial']) == 882\n",
    "words_df.rename(columns=column_to_name).head()"
   ]
  },
  {
   "cell_type": "code",
   "execution_count": 8,
   "metadata": {
    "collapsed": false
   },
   "outputs": [],
   "source": [
    "words_df.to_csv(\"data/PsycInfo/processed/psychinfo_combined.csv.bz2\", encoding='utf-8',compression='bz2')"
   ]
  },
  {
   "cell_type": "markdown",
   "metadata": {},
   "source": [
    "## Load PsychINFO unified database"
   ]
  },
  {
   "cell_type": "code",
   "execution_count": 9,
   "metadata": {
    "collapsed": false
   },
   "outputs": [],
   "source": [
    "psychinfo = pd.read_csv(\"data/PsycInfo/processed/psychinfo_combined.csv.bz2\", encoding='utf-8', compression='bz2')"
   ]
  }
 ],
 "metadata": {
  "kernelspec": {
   "display_name": "Python 3",
   "language": "python",
   "name": "python3"
  },
  "language_info": {
   "codemirror_mode": {
    "name": "ipython",
    "version": 3
   },
   "file_extension": ".py",
   "mimetype": "text/x-python",
   "name": "python",
   "nbconvert_exporter": "python",
   "pygments_lexer": "ipython3",
   "version": "3.4.3"
  }
 },
 "nbformat": 4,
 "nbformat_minor": 0
}
