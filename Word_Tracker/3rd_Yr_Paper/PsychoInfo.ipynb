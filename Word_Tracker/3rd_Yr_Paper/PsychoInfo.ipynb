{
 "cells": [
  {
   "cell_type": "code",
   "execution_count": 9,
   "metadata": {
    "collapsed": true
   },
   "outputs": [],
   "source": [
    "import glob\n",
    "from io import open\n",
    "import bibtexparser\n",
    "from bibtexparser.bparser import BibTexParser\n",
    "import pandas as pd\n",
    "from pandas import DataFrame as df\n",
    "from os import path"
   ]
  },
  {
   "cell_type": "code",
   "execution_count": 24,
   "metadata": {
    "collapsed": false
   },
   "outputs": [],
   "source": [
    "dfs = []\n",
    "for file in glob.glob(\"PsycINFO/*\"):\n",
    "  word = path.basename(file).split('.')[0]\n",
    "  with open(file, 'rb') as bibtex_file:\n",
    "    parser = BibTexParser()\n",
    "    bib_database = bibtexparser.load(bibtex_file, parser=parser)\n",
    "    df_ = df.from_records(bib_database.entries)\n",
    "    df_.insert(0, \"word\", [word]*len(df_))\n",
    "    dfs.append(df_)"
   ]
  },
  {
   "cell_type": "code",
   "execution_count": 28,
   "metadata": {
    "collapsed": false
   },
   "outputs": [],
   "source": [
    "words_df = pd.concat(dfs)"
   ]
  },
  {
   "cell_type": "code",
   "execution_count": 32,
   "metadata": {
    "collapsed": false
   },
   "outputs": [],
   "source": [
    "words_df.to_csv(\"psychinfo_combined.csv\", encoding='utf-8')"
   ]
  }
 ],
 "metadata": {
  "kernelspec": {
   "display_name": "Python 2",
   "language": "python",
   "name": "python2"
  },
  "language_info": {
   "codemirror_mode": {
    "name": "ipython",
    "version": 2
   },
   "file_extension": ".py",
   "mimetype": "text/x-python",
   "name": "python",
   "nbconvert_exporter": "python",
   "pygments_lexer": "ipython2",
   "version": "2.7.6"
  }
 },
 "nbformat": 4,
 "nbformat_minor": 0
}
