{
 "cells": [
  {
   "cell_type": "code",
   "execution_count": 1,
   "metadata": {
    "collapsed": true
   },
   "outputs": [],
   "source": [
    "import glob\n",
    "from io import open\n",
    "#import bibtexparser\n",
    "#from bibtexparser.bparser import BibTexParser\n",
    "import pandas as pd\n",
    "from pandas import DataFrame as df\n",
    "from os import path"
   ]
  },
  {
   "cell_type": "code",
   "execution_count": 2,
   "metadata": {
    "collapsed": false
   },
   "outputs": [],
   "source": [
    "import matplotlib.pyplot as plt\n",
    "%matplotlib inline"
   ]
  },
  {
   "cell_type": "markdown",
   "metadata": {},
   "source": [
    "## Merge CSV databases"
   ]
  },
  {
   "cell_type": "markdown",
   "metadata": {},
   "source": [
    "### Reading the column names"
   ]
  },
  {
   "cell_type": "code",
   "execution_count": 31,
   "metadata": {
    "collapsed": true
   },
   "outputs": [],
   "source": [
    "labels = pd.read_csv(\"data/PsycInfo/csv/Acronym Key.csv\")"
   ]
  },
  {
   "cell_type": "code",
   "execution_count": 33,
   "metadata": {
    "collapsed": false
   },
   "outputs": [],
   "source": [
    "column_to_name = dict(labels.values)"
   ]
  },
  {
   "cell_type": "code",
   "execution_count": 35,
   "metadata": {
    "collapsed": false
   },
   "outputs": [
    {
     "name": "stdout",
     "output_type": "stream",
     "text": [
      "data/PsycInfo/csv/multiculturalism_3.csv 1000\n",
      "data/PsycInfo/csv/multiculturalism_6.csv 1624\n",
      "data/PsycInfo/csv/multicultural_5.csv 1000\n",
      "data/PsycInfo/csv/interracial_2.csv 1246\n",
      "data/PsycInfo/csv/multiculturalism_2.csv 1000\n",
      "data/PsycInfo/csv/multicultural_9.csv 1000\n",
      "data/PsycInfo/csv/polyethnic.csv 7\n",
      "data/PsycInfo/csv/multiculturalism_5.csv 1000\n",
      "data/PsycInfo/csv/bicultural.csv 1784\n",
      "data/PsycInfo/csv/multiculturalism_1.csv 1000\n",
      "data/PsycInfo/csv/multicultural_10.csv 1000\n",
      "data/PsycInfo/csv/polyculturalism.csv 13\n",
      "data/PsycInfo/csv/biethnic.csv 42\n",
      "data/PsycInfo/csv/other race.csv 738\n",
      "data/PsycInfo/csv/other ethnicity.csv 87\n",
      "data/PsycInfo/csv/mixed race.csv 551\n",
      "data/PsycInfo/csv/interracial_1.csv 1500\n",
      "data/PsycInfo/csv/polycultural.csv 14\n",
      "data/PsycInfo/csv/multicultural_3.csv 1000\n",
      "data/PsycInfo/csv/biracial.csv 882\n",
      "data/PsycInfo/csv/multicultural_4.csv 1000\n",
      "data/PsycInfo/csv/multiculturalism_4.csv 1000\n",
      "data/PsycInfo/csv/mixed ethnicity.csv 99\n",
      "data/PsycInfo/csv/multicultural_2.csv 1000\n",
      "data/PsycInfo/csv/monocultural.csv 225\n",
      "data/PsycInfo/csv/cultural pluralism.csv 212\n",
      "data/PsycInfo/csv/monoracial.csv 145\n",
      "data/PsycInfo/csv/multicultural_1.csv 1000\n",
      "data/PsycInfo/csv/multicultural_11.csv 1437\n",
      "data/PsycInfo/csv/multicultural_6.csv 1000\n",
      "data/PsycInfo/csv/multiracial.csv 1124\n",
      "data/PsycInfo/csv/multicultural_7.csv 1000\n",
      "data/PsycInfo/csv/multicultural_8.csv 1000\n"
     ]
    }
   ],
   "source": [
    "dfs = []\n",
    "for file in glob.glob(\"data/PsycInfo/csv/*csv\"):\n",
    "  word = path.basename(file).split('.')[0].split('_')[0]\n",
    "  if word == \"Acronym Key\": continue\n",
    "  df_ = pd.read_csv(file, encoding=\"iso-8859-1\", header=1)\n",
    "  df_.insert(0, \"Term\", [word]*len(df_))\n",
    "  print(file, len(df_))\n",
    "  dfs.append(df_)"
   ]
  },
  {
   "cell_type": "code",
   "execution_count": 44,
   "metadata": {
    "collapsed": false
   },
   "outputs": [
    {
     "data": {
      "text/html": [
       "<div>\n",
       "<table border=\"1\" class=\"dataframe\">\n",
       "  <thead>\n",
       "    <tr style=\"text-align: right;\">\n",
       "      <th></th>\n",
       "      <th>AB</th>\n",
       "      <th>AI</th>\n",
       "      <th>Accession Number</th>\n",
       "      <th>Author(s)</th>\n",
       "      <th>Type of Book</th>\n",
       "      <th>Corporate/Institutional Author</th>\n",
       "      <th>PsycINFO Classification Code</th>\n",
       "      <th>Conference</th>\n",
       "      <th>Chapter Author(s)</th>\n",
       "      <th>Copyright</th>\n",
       "      <th>...</th>\n",
       "      <th>Supplemental Material</th>\n",
       "      <th>Chapter Title</th>\n",
       "      <th>Test DOI</th>\n",
       "      <th>Title</th>\n",
       "      <th>Tests &amp; Measures</th>\n",
       "      <th>Term</th>\n",
       "      <th>Update Code</th>\n",
       "      <th>Vendor</th>\n",
       "      <th>Volume</th>\n",
       "      <th>Date</th>\n",
       "    </tr>\n",
       "  </thead>\n",
       "  <tbody>\n",
       "    <tr>\n",
       "      <th>0</th>\n",
       "      <td>(from the chapter) This chapter provides Infor...</td>\n",
       "      <td>NaN</td>\n",
       "      <td>Book: 2011-12790-011.</td>\n",
       "      <td>Abakoui, Roki\\n\\nSimmons, Rosemary E</td>\n",
       "      <td>Handbook/Manual</td>\n",
       "      <td>NaN</td>\n",
       "      <td>Professional Psychological &amp; Health Personnel ...</td>\n",
       "      <td>NaN</td>\n",
       "      <td>NaN</td>\n",
       "      <td>NaN</td>\n",
       "      <td>...</td>\n",
       "      <td>Web Sites [Internet Available]</td>\n",
       "      <td>NaN</td>\n",
       "      <td>NaN</td>\n",
       "      <td>Sizeism: An unrecognized prejudice. [References].</td>\n",
       "      <td>NaN</td>\n",
       "      <td>multiculturalism</td>\n",
       "      <td>20120618 (PsycINFO)</td>\n",
       "      <td>Ovid Technologies</td>\n",
       "      <td>NaN</td>\n",
       "      <td>2010</td>\n",
       "    </tr>\n",
       "    <tr>\n",
       "      <th>1</th>\n",
       "      <td>(from the chapter) The purpose of this chapter...</td>\n",
       "      <td>NaN</td>\n",
       "      <td>Book: 2011-12790-010.</td>\n",
       "      <td>Schreier, Barry A\\n\\nDudley Lassiter, Kim</td>\n",
       "      <td>Handbook/Manual</td>\n",
       "      <td>NaN</td>\n",
       "      <td>Professional Psychological &amp; Health Personnel ...</td>\n",
       "      <td>NaN</td>\n",
       "      <td>NaN</td>\n",
       "      <td>NaN</td>\n",
       "      <td>...</td>\n",
       "      <td>NaN</td>\n",
       "      <td>NaN</td>\n",
       "      <td>NaN</td>\n",
       "      <td>Competencies for working with sexual orientati...</td>\n",
       "      <td>NaN</td>\n",
       "      <td>multiculturalism</td>\n",
       "      <td>20120618 (PsycINFO)</td>\n",
       "      <td>Ovid Technologies</td>\n",
       "      <td>NaN</td>\n",
       "      <td>2010</td>\n",
       "    </tr>\n",
       "    <tr>\n",
       "      <th>2</th>\n",
       "      <td>(from the chapter) This chapter provides an ov...</td>\n",
       "      <td>NaN</td>\n",
       "      <td>Book: 2011-12790-009.</td>\n",
       "      <td>Sanchez, Delida\\n\\nDavis, Claytie III</td>\n",
       "      <td>Handbook/Manual</td>\n",
       "      <td>NaN</td>\n",
       "      <td>Professional Psychological &amp; Health Personnel ...</td>\n",
       "      <td>NaN</td>\n",
       "      <td>NaN</td>\n",
       "      <td>NaN</td>\n",
       "      <td>...</td>\n",
       "      <td>NaN</td>\n",
       "      <td>NaN</td>\n",
       "      <td>NaN</td>\n",
       "      <td>Becoming a racially competent therapist. [Refe...</td>\n",
       "      <td>NaN</td>\n",
       "      <td>multiculturalism</td>\n",
       "      <td>20120618 (PsycINFO)</td>\n",
       "      <td>Ovid Technologies</td>\n",
       "      <td>NaN</td>\n",
       "      <td>2010</td>\n",
       "    </tr>\n",
       "    <tr>\n",
       "      <th>3</th>\n",
       "      <td>(from the chapter) There is a growing number o...</td>\n",
       "      <td>NaN</td>\n",
       "      <td>Book: 2011-12790-008.</td>\n",
       "      <td>Dixon-Peters, Aisha</td>\n",
       "      <td>Handbook/Manual</td>\n",
       "      <td>NaN</td>\n",
       "      <td>Professional Psychological &amp; Health Personnel ...</td>\n",
       "      <td>NaN</td>\n",
       "      <td>NaN</td>\n",
       "      <td>NaN</td>\n",
       "      <td>...</td>\n",
       "      <td>Web Sites [Internet Available]</td>\n",
       "      <td>NaN</td>\n",
       "      <td>NaN</td>\n",
       "      <td>Developing multicultural competency in clinica...</td>\n",
       "      <td>NaN</td>\n",
       "      <td>multiculturalism</td>\n",
       "      <td>20120618 (PsycINFO)</td>\n",
       "      <td>Ovid Technologies</td>\n",
       "      <td>NaN</td>\n",
       "      <td>2010</td>\n",
       "    </tr>\n",
       "    <tr>\n",
       "      <th>4</th>\n",
       "      <td>(from the chapter) The examination of the diff...</td>\n",
       "      <td>NaN</td>\n",
       "      <td>Book: 2011-12790-007.</td>\n",
       "      <td>Stevens, Mark A\\n\\nEnglar-Carlson, Matt</td>\n",
       "      <td>Handbook/Manual</td>\n",
       "      <td>NaN</td>\n",
       "      <td>Professional Psychological &amp; Health Personnel ...</td>\n",
       "      <td>NaN</td>\n",
       "      <td>NaN</td>\n",
       "      <td>NaN</td>\n",
       "      <td>...</td>\n",
       "      <td>Web Sites [Internet Available]</td>\n",
       "      <td>NaN</td>\n",
       "      <td>NaN</td>\n",
       "      <td>Psychotherapy with men: Building practice comp...</td>\n",
       "      <td>NaN</td>\n",
       "      <td>multiculturalism</td>\n",
       "      <td>20120618 (PsycINFO)</td>\n",
       "      <td>Ovid Technologies</td>\n",
       "      <td>NaN</td>\n",
       "      <td>2010</td>\n",
       "    </tr>\n",
       "  </tbody>\n",
       "</table>\n",
       "<p>5 rows × 63 columns</p>\n",
       "</div>"
      ],
      "text/plain": [
       "                                                  AB   AI  \\\n",
       "0  (from the chapter) This chapter provides Infor...  NaN   \n",
       "1  (from the chapter) The purpose of this chapter...  NaN   \n",
       "2  (from the chapter) This chapter provides an ov...  NaN   \n",
       "3  (from the chapter) There is a growing number o...  NaN   \n",
       "4  (from the chapter) The examination of the diff...  NaN   \n",
       "\n",
       "        Accession Number                                  Author(s)  \\\n",
       "0  Book: 2011-12790-011.       Abakoui, Roki\\n\\nSimmons, Rosemary E   \n",
       "1  Book: 2011-12790-010.  Schreier, Barry A\\n\\nDudley Lassiter, Kim   \n",
       "2  Book: 2011-12790-009.      Sanchez, Delida\\n\\nDavis, Claytie III   \n",
       "3  Book: 2011-12790-008.                        Dixon-Peters, Aisha   \n",
       "4  Book: 2011-12790-007.    Stevens, Mark A\\n\\nEnglar-Carlson, Matt   \n",
       "\n",
       "      Type of Book Corporate/Institutional Author  \\\n",
       "0  Handbook/Manual                            NaN   \n",
       "1  Handbook/Manual                            NaN   \n",
       "2  Handbook/Manual                            NaN   \n",
       "3  Handbook/Manual                            NaN   \n",
       "4  Handbook/Manual                            NaN   \n",
       "\n",
       "                        PsycINFO Classification Code Conference  \\\n",
       "0  Professional Psychological & Health Personnel ...        NaN   \n",
       "1  Professional Psychological & Health Personnel ...        NaN   \n",
       "2  Professional Psychological & Health Personnel ...        NaN   \n",
       "3  Professional Psychological & Health Personnel ...        NaN   \n",
       "4  Professional Psychological & Health Personnel ...        NaN   \n",
       "\n",
       "  Chapter Author(s) Copyright  ...            Supplemental Material  \\\n",
       "0               NaN       NaN  ...   Web Sites [Internet Available]   \n",
       "1               NaN       NaN  ...                              NaN   \n",
       "2               NaN       NaN  ...                              NaN   \n",
       "3               NaN       NaN  ...   Web Sites [Internet Available]   \n",
       "4               NaN       NaN  ...   Web Sites [Internet Available]   \n",
       "\n",
       "  Chapter Title Test DOI                                              Title  \\\n",
       "0           NaN      NaN  Sizeism: An unrecognized prejudice. [References].   \n",
       "1           NaN      NaN  Competencies for working with sexual orientati...   \n",
       "2           NaN      NaN  Becoming a racially competent therapist. [Refe...   \n",
       "3           NaN      NaN  Developing multicultural competency in clinica...   \n",
       "4           NaN      NaN  Psychotherapy with men: Building practice comp...   \n",
       "\n",
       "  Tests & Measures              Term          Update Code             Vendor  \\\n",
       "0              NaN  multiculturalism  20120618 (PsycINFO)  Ovid Technologies   \n",
       "1              NaN  multiculturalism  20120618 (PsycINFO)  Ovid Technologies   \n",
       "2              NaN  multiculturalism  20120618 (PsycINFO)  Ovid Technologies   \n",
       "3              NaN  multiculturalism  20120618 (PsycINFO)  Ovid Technologies   \n",
       "4              NaN  multiculturalism  20120618 (PsycINFO)  Ovid Technologies   \n",
       "\n",
       "  Volume  Date  \n",
       "0    NaN  2010  \n",
       "1    NaN  2010  \n",
       "2    NaN  2010  \n",
       "3    NaN  2010  \n",
       "4    NaN  2010  \n",
       "\n",
       "[5 rows x 63 columns]"
      ]
     },
     "execution_count": 44,
     "metadata": {},
     "output_type": "execute_result"
    }
   ],
   "source": [
    "words_df = pd.concat(dfs)\n",
    "assert len(words_df[words_df.Term == 'biracial']) == 882\n",
    "words_df.rename(columns=column_to_name).head()"
   ]
  },
  {
   "cell_type": "code",
   "execution_count": 45,
   "metadata": {
    "collapsed": false
   },
   "outputs": [],
   "source": [
    "words_df.to_csv(\"data/PsycInfo/processed/psychinfo_combined.csv\", encoding='utf-8')"
   ]
  },
  {
   "cell_type": "markdown",
   "metadata": {},
   "source": [
    "## Load PsychINFO unified database"
   ]
  },
  {
   "cell_type": "code",
   "execution_count": null,
   "metadata": {
    "collapsed": true
   },
   "outputs": [],
   "source": [
    "psychinfo = df.from_csv(\"psychinfo_combined.csv\", encoding='utf-8')"
   ]
  },
  {
   "cell_type": "code",
   "execution_count": null,
   "metadata": {
    "collapsed": false
   },
   "outputs": [],
   "source": [
    "_ = psychinfo[['word', 'year']].hist(figsize=(18,12), by='word')"
   ]
  }
 ],
 "metadata": {
  "kernelspec": {
   "display_name": "Python 3",
   "language": "python",
   "name": "python3"
  },
  "language_info": {
   "codemirror_mode": {
    "name": "ipython",
    "version": 3
   },
   "file_extension": ".py",
   "mimetype": "text/x-python",
   "name": "python",
   "nbconvert_exporter": "python",
   "pygments_lexer": "ipython3",
   "version": "3.4.3"
  }
 },
 "nbformat": 4,
 "nbformat_minor": 0
}
