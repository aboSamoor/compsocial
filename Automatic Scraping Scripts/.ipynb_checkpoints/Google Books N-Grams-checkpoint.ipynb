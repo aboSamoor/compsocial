{
 "cells": [
  {
   "cell_type": "code",
   "execution_count": 1,
   "metadata": {
    "collapsed": true
   },
   "outputs": [],
   "source": [
    "import numpy as np\n",
    "import pandas as pd\n",
    "import matplotlib.pyplot as plt\n",
    "import glob\n",
    "from os import path\n",
    "import itertools\n",
    "import requests\n",
    "from io import StringIO\n",
    "from pandas import DataFrame"
   ]
  },
  {
   "cell_type": "code",
   "execution_count": 2,
   "metadata": {
    "collapsed": false
   },
   "outputs": [],
   "source": [
    "from tools import word_freq"
   ]
  },
  {
   "cell_type": "code",
   "execution_count": 3,
   "metadata": {
    "collapsed": false
   },
   "outputs": [
    {
     "data": {
      "text/html": [
       "<div>\n",
       "<table border=\"1\" class=\"dataframe\">\n",
       "  <thead>\n",
       "    <tr style=\"text-align: right;\">\n",
       "      <th></th>\n",
       "      <th>African_American</th>\n",
       "      <th>bicultural_</th>\n",
       "      <th>biracial_</th>\n",
       "      <th>biethnic_</th>\n",
       "      <th>interracial_</th>\n",
       "    </tr>\n",
       "    <tr>\n",
       "      <th>year</th>\n",
       "      <th></th>\n",
       "      <th></th>\n",
       "      <th></th>\n",
       "      <th></th>\n",
       "      <th></th>\n",
       "    </tr>\n",
       "  </thead>\n",
       "  <tbody>\n",
       "    <tr>\n",
       "      <th>2004</th>\n",
       "      <td>0.000015</td>\n",
       "      <td>5.071512e-07</td>\n",
       "      <td>5.796650e-07</td>\n",
       "      <td>6.256098e-09</td>\n",
       "      <td>0.000002</td>\n",
       "    </tr>\n",
       "    <tr>\n",
       "      <th>2005</th>\n",
       "      <td>0.000014</td>\n",
       "      <td>4.780349e-07</td>\n",
       "      <td>5.630571e-07</td>\n",
       "      <td>5.899750e-09</td>\n",
       "      <td>0.000002</td>\n",
       "    </tr>\n",
       "    <tr>\n",
       "      <th>2006</th>\n",
       "      <td>0.000015</td>\n",
       "      <td>4.747995e-07</td>\n",
       "      <td>5.639282e-07</td>\n",
       "      <td>5.392084e-09</td>\n",
       "      <td>0.000002</td>\n",
       "    </tr>\n",
       "    <tr>\n",
       "      <th>2007</th>\n",
       "      <td>0.000014</td>\n",
       "      <td>4.691288e-07</td>\n",
       "      <td>5.458162e-07</td>\n",
       "      <td>5.267452e-09</td>\n",
       "      <td>0.000002</td>\n",
       "    </tr>\n",
       "    <tr>\n",
       "      <th>2008</th>\n",
       "      <td>0.000014</td>\n",
       "      <td>4.716753e-07</td>\n",
       "      <td>4.721794e-07</td>\n",
       "      <td>4.816274e-09</td>\n",
       "      <td>0.000002</td>\n",
       "    </tr>\n",
       "  </tbody>\n",
       "</table>\n",
       "</div>"
      ],
      "text/plain": [
       "      African_American   bicultural_     biracial_     biethnic_  interracial_\n",
       "year                                                                          \n",
       "2004          0.000015  5.071512e-07  5.796650e-07  6.256098e-09      0.000002\n",
       "2005          0.000014  4.780349e-07  5.630571e-07  5.899750e-09      0.000002\n",
       "2006          0.000015  4.747995e-07  5.639282e-07  5.392084e-09      0.000002\n",
       "2007          0.000014  4.691288e-07  5.458162e-07  5.267452e-09      0.000002\n",
       "2008          0.000014  4.716753e-07  4.721794e-07  4.816274e-09      0.000002"
      ]
     },
     "execution_count": 3,
     "metadata": {},
     "output_type": "execute_result"
    }
   ],
   "source": [
    "word_freq([\"African American\", 'bicultural', 'biracial', 'biethnic', 'interracial']).tail()"
   ]
  }
 ],
 "metadata": {
  "kernelspec": {
   "display_name": "Python 3",
   "language": "python",
   "name": "python3"
  },
  "language_info": {
   "codemirror_mode": {
    "name": "ipython",
    "version": 3
   },
   "file_extension": ".py",
   "mimetype": "text/x-python",
   "name": "python",
   "nbconvert_exporter": "python",
   "pygments_lexer": "ipython3",
   "version": "3.5.2"
  }
 },
 "nbformat": 4,
 "nbformat_minor": 0
}
