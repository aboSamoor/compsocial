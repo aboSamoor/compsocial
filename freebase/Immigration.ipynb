{
 "metadata": {
  "name": "",
  "signature": "sha256:c9776615b9cfc552879ed83527c0b3d746124cd3d6ac083d03cd9ad478eb5b05"
 },
 "nbformat": 3,
 "nbformat_minor": 0,
 "worksheets": [
  {
   "cells": [
    {
     "cell_type": "code",
     "collapsed": false,
     "input": [
      "print \"Hello Roxanne\"\n",
      "def sum2(a,b):\n",
      "  return a+b"
     ],
     "language": "python",
     "metadata": {},
     "outputs": [
      {
       "output_type": "stream",
       "stream": "stdout",
       "text": [
        "Hello Roxanne\n"
       ]
      }
     ],
     "prompt_number": 2
    },
    {
     "cell_type": "code",
     "collapsed": false,
     "input": [
      "sum2(1,2)\n",
      "def funtimes(a,b):\n",
      "    return a**2 + 3*b - 4\n",
      "funtimes(3,5)"
     ],
     "language": "python",
     "metadata": {},
     "outputs": [
      {
       "metadata": {},
       "output_type": "pyout",
       "prompt_number": 4,
       "text": [
        "20"
       ]
      }
     ],
     "prompt_number": 4
    },
    {
     "cell_type": "code",
     "collapsed": false,
     "input": [
      "!wget http://www.dhs.gov/sites/default/files/publications/immigration-statistics/yearbook/2013/RFA/table13.xls"
     ],
     "language": "python",
     "metadata": {},
     "outputs": [
      {
       "output_type": "stream",
       "stream": "stdout",
       "text": [
        "--2014-11-06 21:48:51--  http://www.dhs.gov/sites/default/files/publications/immigration-statistics/yearbook/2013/RFA/table13.xls\r\n",
        "Resolving www.dhs.gov (www.dhs.gov)... "
       ]
      },
      {
       "output_type": "stream",
       "stream": "stdout",
       "text": [
        "23.192.52.56, 2600:141b:4:293::1955, 2600:141b:4:286::1955\r\n",
        "Connecting to www.dhs.gov (www.dhs.gov)|23.192.52.56|:80... connected.\r\n",
        "HTTP request sent, awaiting response... "
       ]
      },
      {
       "output_type": "stream",
       "stream": "stdout",
       "text": [
        "200 OK\r\n",
        "Length: 25600 (25K) [application/vnd.ms-excel]\r\n",
        "Saving to: \u2018table13.xls\u2019\r\n",
        "\r\n",
        "\r",
        " 0% [                                       ] 0           --.-K/s              \r",
        "100%[======================================>] 25,600      --.-K/s   in 0.02s   \r\n",
        "\r\n",
        "2014-11-06 21:48:52 (1.34 MB/s) - \u2018table13.xls\u2019 saved [25600/25600]\r\n",
        "\r\n"
       ]
      }
     ],
     "prompt_number": 5
    },
    {
     "cell_type": "code",
     "collapsed": false,
     "input": [
      "!ls"
     ],
     "language": "python",
     "metadata": {},
     "outputs": [
      {
       "output_type": "stream",
       "stream": "stdout",
       "text": [
        "aapl_ohlc.csv\t       libs\t\t\tpolyglot_data\t scikit_learn_data   size_matters.png  three_clusters.mat\r\n",
        "countries_visited.csv  nltk_data\t\tpower\t\t scripts\t     submission.csv    words_embeddings_32.pkl\r\n",
        "Download.pdf\t       notebooks\t\tpredictions.csv  singular_skew2.pdf  table13.xls       Z.mat\r\n",
        "FreebaseRecords.pkl    oversampling_effect.pdf\tsample.vec\t singular_skew.pdf   texas.html\r\n"
       ]
      }
     ],
     "prompt_number": 6
    },
    {
     "cell_type": "code",
     "collapsed": false,
     "input": [
      "import pandas as pd"
     ],
     "language": "python",
     "metadata": {},
     "outputs": [],
     "prompt_number": 7
    },
    {
     "cell_type": "code",
     "collapsed": false,
     "input": [
      "refugees = pd.read_excel(\"table13.xls\", header=2, skip_footer=2)"
     ],
     "language": "python",
     "metadata": {},
     "outputs": [],
     "prompt_number": 20
    },
    {
     "cell_type": "code",
     "collapsed": false,
     "input": [
      "refugees"
     ],
     "language": "python",
     "metadata": {},
     "outputs": [
      {
       "html": [
        "<div style=\"max-height:1000px;max-width:1500px;overflow:auto;\">\n",
        "<table border=\"1\" class=\"dataframe\">\n",
        "  <thead>\n",
        "    <tr style=\"text-align: right;\">\n",
        "      <th></th>\n",
        "      <th>Year</th>\n",
        "      <th>Number</th>\n",
        "    </tr>\n",
        "  </thead>\n",
        "  <tbody>\n",
        "    <tr>\n",
        "      <th>0 </th>\n",
        "      <td> 1980</td>\n",
        "      <td> 207116</td>\n",
        "    </tr>\n",
        "    <tr>\n",
        "      <th>1 </th>\n",
        "      <td> 1981</td>\n",
        "      <td> 159252</td>\n",
        "    </tr>\n",
        "    <tr>\n",
        "      <th>2 </th>\n",
        "      <td> 1982</td>\n",
        "      <td>  98096</td>\n",
        "    </tr>\n",
        "    <tr>\n",
        "      <th>3 </th>\n",
        "      <td> 1983</td>\n",
        "      <td>  61218</td>\n",
        "    </tr>\n",
        "    <tr>\n",
        "      <th>4 </th>\n",
        "      <td> 1984</td>\n",
        "      <td>  70393</td>\n",
        "    </tr>\n",
        "    <tr>\n",
        "      <th>5 </th>\n",
        "      <td> 1985</td>\n",
        "      <td>  67704</td>\n",
        "    </tr>\n",
        "    <tr>\n",
        "      <th>6 </th>\n",
        "      <td> 1986</td>\n",
        "      <td>  62146</td>\n",
        "    </tr>\n",
        "    <tr>\n",
        "      <th>7 </th>\n",
        "      <td> 1987</td>\n",
        "      <td>  64528</td>\n",
        "    </tr>\n",
        "    <tr>\n",
        "      <th>8 </th>\n",
        "      <td> 1988</td>\n",
        "      <td>  76483</td>\n",
        "    </tr>\n",
        "    <tr>\n",
        "      <th>9 </th>\n",
        "      <td> 1989</td>\n",
        "      <td> 107070</td>\n",
        "    </tr>\n",
        "    <tr>\n",
        "      <th>10</th>\n",
        "      <td> 1990</td>\n",
        "      <td> 122066</td>\n",
        "    </tr>\n",
        "    <tr>\n",
        "      <th>11</th>\n",
        "      <td> 1991</td>\n",
        "      <td> 113389</td>\n",
        "    </tr>\n",
        "    <tr>\n",
        "      <th>12</th>\n",
        "      <td> 1992</td>\n",
        "      <td> 115548</td>\n",
        "    </tr>\n",
        "    <tr>\n",
        "      <th>13</th>\n",
        "      <td> 1993</td>\n",
        "      <td> 114181</td>\n",
        "    </tr>\n",
        "    <tr>\n",
        "      <th>14</th>\n",
        "      <td> 1994</td>\n",
        "      <td> 111680</td>\n",
        "    </tr>\n",
        "    <tr>\n",
        "      <th>15</th>\n",
        "      <td> 1995</td>\n",
        "      <td>  98973</td>\n",
        "    </tr>\n",
        "    <tr>\n",
        "      <th>16</th>\n",
        "      <td> 1996</td>\n",
        "      <td>  75421</td>\n",
        "    </tr>\n",
        "    <tr>\n",
        "      <th>17</th>\n",
        "      <td> 1997</td>\n",
        "      <td>  69653</td>\n",
        "    </tr>\n",
        "    <tr>\n",
        "      <th>18</th>\n",
        "      <td> 1998</td>\n",
        "      <td>  76712</td>\n",
        "    </tr>\n",
        "    <tr>\n",
        "      <th>19</th>\n",
        "      <td> 1999</td>\n",
        "      <td>  85285</td>\n",
        "    </tr>\n",
        "    <tr>\n",
        "      <th>20</th>\n",
        "      <td> 2000</td>\n",
        "      <td>  72143</td>\n",
        "    </tr>\n",
        "    <tr>\n",
        "      <th>21</th>\n",
        "      <td> 2001</td>\n",
        "      <td>  68925</td>\n",
        "    </tr>\n",
        "    <tr>\n",
        "      <th>22</th>\n",
        "      <td> 2002</td>\n",
        "      <td>  26788</td>\n",
        "    </tr>\n",
        "    <tr>\n",
        "      <th>23</th>\n",
        "      <td> 2003</td>\n",
        "      <td>  28286</td>\n",
        "    </tr>\n",
        "    <tr>\n",
        "      <th>24</th>\n",
        "      <td> 2004</td>\n",
        "      <td>  52840</td>\n",
        "    </tr>\n",
        "    <tr>\n",
        "      <th>25</th>\n",
        "      <td> 2005</td>\n",
        "      <td>  53738</td>\n",
        "    </tr>\n",
        "    <tr>\n",
        "      <th>26</th>\n",
        "      <td> 2006</td>\n",
        "      <td>  41094</td>\n",
        "    </tr>\n",
        "    <tr>\n",
        "      <th>27</th>\n",
        "      <td> 2007</td>\n",
        "      <td>  48218</td>\n",
        "    </tr>\n",
        "    <tr>\n",
        "      <th>28</th>\n",
        "      <td> 2008</td>\n",
        "      <td>  60107</td>\n",
        "    </tr>\n",
        "    <tr>\n",
        "      <th>29</th>\n",
        "      <td> 2009</td>\n",
        "      <td>  74602</td>\n",
        "    </tr>\n",
        "    <tr>\n",
        "      <th>30</th>\n",
        "      <td> 2010</td>\n",
        "      <td>  73293</td>\n",
        "    </tr>\n",
        "    <tr>\n",
        "      <th>31</th>\n",
        "      <td> 2011</td>\n",
        "      <td>  56384</td>\n",
        "    </tr>\n",
        "    <tr>\n",
        "      <th>32</th>\n",
        "      <td> 2012</td>\n",
        "      <td>  58179</td>\n",
        "    </tr>\n",
        "    <tr>\n",
        "      <th>33</th>\n",
        "      <td> 2013</td>\n",
        "      <td>  69909</td>\n",
        "    </tr>\n",
        "  </tbody>\n",
        "</table>\n",
        "</div>"
       ],
       "metadata": {},
       "output_type": "pyout",
       "prompt_number": 21,
       "text": [
        "    Year  Number\n",
        "0   1980  207116\n",
        "1   1981  159252\n",
        "2   1982   98096\n",
        "3   1983   61218\n",
        "4   1984   70393\n",
        "5   1985   67704\n",
        "6   1986   62146\n",
        "7   1987   64528\n",
        "8   1988   76483\n",
        "9   1989  107070\n",
        "10  1990  122066\n",
        "11  1991  113389\n",
        "12  1992  115548\n",
        "13  1993  114181\n",
        "14  1994  111680\n",
        "15  1995   98973\n",
        "16  1996   75421\n",
        "17  1997   69653\n",
        "18  1998   76712\n",
        "19  1999   85285\n",
        "20  2000   72143\n",
        "21  2001   68925\n",
        "22  2002   26788\n",
        "23  2003   28286\n",
        "24  2004   52840\n",
        "25  2005   53738\n",
        "26  2006   41094\n",
        "27  2007   48218\n",
        "28  2008   60107\n",
        "29  2009   74602\n",
        "30  2010   73293\n",
        "31  2011   56384\n",
        "32  2012   58179\n",
        "33  2013   69909"
       ]
      }
     ],
     "prompt_number": 21
    },
    {
     "cell_type": "code",
     "collapsed": false,
     "input": [
      "import matplotlib.pyplot as plt"
     ],
     "language": "python",
     "metadata": {},
     "outputs": [],
     "prompt_number": 22
    },
    {
     "cell_type": "code",
     "collapsed": false,
     "input": [
      "%matplotlib inline"
     ],
     "language": "python",
     "metadata": {},
     "outputs": [],
     "prompt_number": 23
    },
    {
     "cell_type": "code",
     "collapsed": false,
     "input": [
      "refugees.plot()"
     ],
     "language": "python",
     "metadata": {},
     "outputs": [
      {
       "metadata": {},
       "output_type": "pyout",
       "prompt_number": 25,
       "text": [
        "<matplotlib.axes.AxesSubplot at 0x7f3a7213aa90>"
       ]
      },
      {
       "output_type": "stream",
       "stream": "stderr",
       "text": [
        "/usr/lib/pymodules/python2.7/matplotlib/font_manager.py:1236: UserWarning: findfont: Font family ['monospace'] not found. Falling back to Bitstream Vera Sans\n",
        "  (prop.get_family(), self.defaultFamily[fontext]))\n"
       ]
      },
      {
       "metadata": {},
       "output_type": "display_data",
       "png": "[encoded data removed]",
       "text": [
        "<matplotlib.figure.Figure at 0x7f3a71ec0190>"
       ]
      }
     ],
     "prompt_number": 25
    }
   ],
   "metadata": {}
  }
 ]
}