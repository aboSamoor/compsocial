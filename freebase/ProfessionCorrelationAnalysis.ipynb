{
 "metadata": {
  "name": "",
  "signature": "sha256:981b2cc0ae78b3148f0dff3ab3e0f065371c062ac55ecf1da8827a47873273f8"
 },
 "nbformat": 3,
 "nbformat_minor": 0,
 "worksheets": [
  {
   "cells": [
    {
     "cell_type": "code",
     "collapsed": false,
     "input": [
      "import pandas as pd\n",
      "import numpy as np\n",
      "import cPickle as pickle\n",
      "from datetime import date\n",
      "from collections import Counter\n",
      "from pandas import Series"
     ],
     "language": "python",
     "metadata": {},
     "outputs": [],
     "prompt_number": 1
    },
    {
     "cell_type": "markdown",
     "metadata": {},
     "source": [
      "### Loading Data"
     ]
    },
    {
     "cell_type": "code",
     "collapsed": false,
     "input": [
      "fh = open(\"/data/csc/fb_persons/unified_100percentpeople.pkl\", 'rb')\n",
      "df = pickle.load(fh)"
     ],
     "language": "python",
     "metadata": {},
     "outputs": [],
     "prompt_number": 2
    },
    {
     "cell_type": "code",
     "collapsed": false,
     "input": [
      "df.head()"
     ],
     "language": "python",
     "metadata": {},
     "outputs": [
      {
       "html": [
        "<div style=\"max-height:1000px;max-width:1500px;overflow:auto;\">\n",
        "<table border=\"1\" class=\"dataframe\">\n",
        "  <thead>\n",
        "    <tr style=\"text-align: right;\">\n",
        "      <th></th>\n",
        "      <th>date_of_birth</th>\n",
        "      <th>ethnicity</th>\n",
        "      <th>gender</th>\n",
        "      <th>name</th>\n",
        "      <th>nationality</th>\n",
        "      <th>place_of_birth</th>\n",
        "      <th>profession</th>\n",
        "      <th>religion</th>\n",
        "    </tr>\n",
        "  </thead>\n",
        "  <tbody>\n",
        "    <tr>\n",
        "      <th>0</th>\n",
        "      <td>        NaN</td>\n",
        "      <td> None</td>\n",
        "      <td> Female</td>\n",
        "      <td> Courtney Jamieson</td>\n",
        "      <td>           None</td>\n",
        "      <td>    NaN</td>\n",
        "      <td>            music_art</td>\n",
        "      <td> None</td>\n",
        "    </tr>\n",
        "    <tr>\n",
        "      <th>1</th>\n",
        "      <td>        NaN</td>\n",
        "      <td> None</td>\n",
        "      <td>   Male</td>\n",
        "      <td>       Robert Moir</td>\n",
        "      <td>           None</td>\n",
        "      <td>    NaN</td>\n",
        "      <td>                other</td>\n",
        "      <td> None</td>\n",
        "    </tr>\n",
        "    <tr>\n",
        "      <th>2</th>\n",
        "      <td> 1962-04-21</td>\n",
        "      <td> None</td>\n",
        "      <td>   Male</td>\n",
        "      <td>       Mehdi Jomaa</td>\n",
        "      <td> middle eastern</td>\n",
        "      <td> Mahdia</td>\n",
        "      <td> (law_politics, stem)</td>\n",
        "      <td> None</td>\n",
        "    </tr>\n",
        "    <tr>\n",
        "      <th>3</th>\n",
        "      <td>        NaN</td>\n",
        "      <td> None</td>\n",
        "      <td>   Male</td>\n",
        "      <td>  Victoria Shields</td>\n",
        "      <td>           None</td>\n",
        "      <td>    NaN</td>\n",
        "      <td>                 None</td>\n",
        "      <td> None</td>\n",
        "    </tr>\n",
        "    <tr>\n",
        "      <th>4</th>\n",
        "      <td> 1992-06-24</td>\n",
        "      <td> None</td>\n",
        "      <td>   Male</td>\n",
        "      <td>   Terrick Colston</td>\n",
        "      <td>           None</td>\n",
        "      <td>    NaN</td>\n",
        "      <td>                 None</td>\n",
        "      <td> None</td>\n",
        "    </tr>\n",
        "  </tbody>\n",
        "</table>\n",
        "</div>"
       ],
       "metadata": {},
       "output_type": "pyout",
       "prompt_number": 3,
       "text": [
        "  date_of_birth ethnicity  gender               name     nationality  \\\n",
        "0           NaN      None  Female  Courtney Jamieson            None   \n",
        "1           NaN      None    Male        Robert Moir            None   \n",
        "2    1962-04-21      None    Male        Mehdi Jomaa  middle eastern   \n",
        "3           NaN      None    Male   Victoria Shields            None   \n",
        "4    1992-06-24      None    Male    Terrick Colston            None   \n",
        "\n",
        "  place_of_birth            profession religion  \n",
        "0            NaN             music_art     None  \n",
        "1            NaN                 other     None  \n",
        "2         Mahdia  (law_politics, stem)     None  \n",
        "3            NaN                  None     None  \n",
        "4            NaN                  None     None  "
       ]
      }
     ],
     "prompt_number": 3
    },
    {
     "cell_type": "code",
     "collapsed": false,
     "input": [
      "selected_columns = [\"gender\", \"date_of_birth\", \"ethnicity\", \"name\", \"profession\",\n",
      "                    \"religion\", \"nationality\"]\n",
      "df = df[selected_columns]"
     ],
     "language": "python",
     "metadata": {},
     "outputs": [],
     "prompt_number": 4
    },
    {
     "cell_type": "code",
     "collapsed": false,
     "input": [
      "df.head()"
     ],
     "language": "python",
     "metadata": {},
     "outputs": [
      {
       "html": [
        "<div style=\"max-height:1000px;max-width:1500px;overflow:auto;\">\n",
        "<table border=\"1\" class=\"dataframe\">\n",
        "  <thead>\n",
        "    <tr style=\"text-align: right;\">\n",
        "      <th></th>\n",
        "      <th>gender</th>\n",
        "      <th>date_of_birth</th>\n",
        "      <th>ethnicity</th>\n",
        "      <th>name</th>\n",
        "      <th>profession</th>\n",
        "      <th>religion</th>\n",
        "      <th>nationality</th>\n",
        "    </tr>\n",
        "  </thead>\n",
        "  <tbody>\n",
        "    <tr>\n",
        "      <th>0</th>\n",
        "      <td> Female</td>\n",
        "      <td>        NaN</td>\n",
        "      <td> None</td>\n",
        "      <td> Courtney Jamieson</td>\n",
        "      <td>            music_art</td>\n",
        "      <td> None</td>\n",
        "      <td>           None</td>\n",
        "    </tr>\n",
        "    <tr>\n",
        "      <th>1</th>\n",
        "      <td>   Male</td>\n",
        "      <td>        NaN</td>\n",
        "      <td> None</td>\n",
        "      <td>       Robert Moir</td>\n",
        "      <td>                other</td>\n",
        "      <td> None</td>\n",
        "      <td>           None</td>\n",
        "    </tr>\n",
        "    <tr>\n",
        "      <th>2</th>\n",
        "      <td>   Male</td>\n",
        "      <td> 1962-04-21</td>\n",
        "      <td> None</td>\n",
        "      <td>       Mehdi Jomaa</td>\n",
        "      <td> (law_politics, stem)</td>\n",
        "      <td> None</td>\n",
        "      <td> middle eastern</td>\n",
        "    </tr>\n",
        "    <tr>\n",
        "      <th>3</th>\n",
        "      <td>   Male</td>\n",
        "      <td>        NaN</td>\n",
        "      <td> None</td>\n",
        "      <td>  Victoria Shields</td>\n",
        "      <td>                 None</td>\n",
        "      <td> None</td>\n",
        "      <td>           None</td>\n",
        "    </tr>\n",
        "    <tr>\n",
        "      <th>4</th>\n",
        "      <td>   Male</td>\n",
        "      <td> 1992-06-24</td>\n",
        "      <td> None</td>\n",
        "      <td>   Terrick Colston</td>\n",
        "      <td>                 None</td>\n",
        "      <td> None</td>\n",
        "      <td>           None</td>\n",
        "    </tr>\n",
        "  </tbody>\n",
        "</table>\n",
        "</div>"
       ],
       "metadata": {},
       "output_type": "pyout",
       "prompt_number": 5,
       "text": [
        "   gender date_of_birth ethnicity               name            profession  \\\n",
        "0  Female           NaN      None  Courtney Jamieson             music_art   \n",
        "1    Male           NaN      None        Robert Moir                 other   \n",
        "2    Male    1962-04-21      None        Mehdi Jomaa  (law_politics, stem)   \n",
        "3    Male           NaN      None   Victoria Shields                  None   \n",
        "4    Male    1992-06-24      None    Terrick Colston                  None   \n",
        "\n",
        "  religion     nationality  \n",
        "0     None            None  \n",
        "1     None            None  \n",
        "2     None  middle eastern  \n",
        "3     None            None  \n",
        "4     None            None  "
       ]
      }
     ],
     "prompt_number": 5
    },
    {
     "cell_type": "markdown",
     "metadata": {},
     "source": [
      "###Considering only people after the 1800s"
     ]
    },
    {
     "cell_type": "code",
     "collapsed": false,
     "input": [
      "victorian_age = date(1800, 1, 1)\n",
      "df = df[np.logical_not(df.date_of_birth.isnull().values)]\n",
      "df = df[df.date_of_birth > victorian_age]"
     ],
     "language": "python",
     "metadata": {},
     "outputs": [],
     "prompt_number": 6
    },
    {
     "cell_type": "code",
     "collapsed": false,
     "input": [
      "len(df)"
     ],
     "language": "python",
     "metadata": {},
     "outputs": [
      {
       "metadata": {},
       "output_type": "pyout",
       "prompt_number": 7,
       "text": [
        "1300159"
       ]
      }
     ]
    },
    {
     "cell_type": "code",
     "collapsed": false,
     "input": [
      "len(df.nationality.dropna())"
     ],
     "language": "python",
     "metadata": {},
     "outputs": [
      {
       "metadata": {},
       "output_type": "pyout",
       "prompt_number": 8,
       "text": [
        "703447"
       ]
      }
     ]
    },
    {
     "cell_type": "markdown",
     "metadata": {},
     "source": [
      "### Considering Only Americans"
     ]
    },
    {
     "cell_type": "code",
     "collapsed": false,
     "input": [
      "americans = map(lambda x: (isinstance(x, basestring) and x == 'united states of america') or\n",
      "                          (isinstance(x, tuple) and  'united states of america' in x),\n",
      "                          df.nationality)\n",
      "df = df[americans]"
     ],
     "language": "python",
     "metadata": {},
     "outputs": []
    },
    {
     "cell_type": "code",
     "collapsed": false,
     "input": [
      "len(df)"
     ],
     "language": "python",
     "metadata": {},
     "outputs": [
      {
       "metadata": {},
       "output_type": "pyout",
       "prompt_number": 10,
       "text": [
        "223632"
       ]
      }
     ]
    },
    {
     "cell_type": "markdown",
     "metadata": {},
     "source": [
      "## Feature Extraction"
     ]
    },
    {
     "cell_type": "code",
     "collapsed": false,
     "input": [
      "from sklearn.preprocessing import OneHotEncoder\n",
      "from sklearn.feature_extraction import DictVectorizer"
     ],
     "language": "python",
     "metadata": {},
     "outputs": []
    },
    {
     "cell_type": "code",
     "collapsed": false,
     "input": [
      "def feature_matrix(df, field):\n",
      "  features = df[[field]].fillna(\"nan\").values.reshape(-1)\n",
      "  vocab = []\n",
      "  for value in features:\n",
      "    if isinstance(value, tuple):\n",
      "      vocab.extend(value)\n",
      "    else:\n",
      "      vocab.append(value)\n",
      "  vocab = set(vocab)\n",
      "  word_index = {w:i for i,w in enumerate(vocab)}\n",
      "  matrix = np.zeros((len(features), len(vocab)))\n",
      "  for i, value in enumerate(features):\n",
      "    if isinstance(value, tuple):\n",
      "      for v in value:\n",
      "        matrix[i, word_index[v]] = 1.0/len(value)\n",
      "    else:\n",
      "      matrix[i, word_index[value]] = 1\n",
      "  print \"{}: persons, {}:number of categories\".format(*matrix.shape)\n",
      "  print \"{} persons have mixed categories\".format(np.argwhere((matrix > 0).sum(axis=1) > 1).shape[0])\n",
      "  return matrix, word_index"
     ],
     "language": "python",
     "metadata": {},
     "outputs": []
    },
    {
     "cell_type": "code",
     "collapsed": false,
     "input": [
      "gender_features, gender_index = feature_matrix(df, \"gender\")"
     ],
     "language": "python",
     "metadata": {},
     "outputs": [
      {
       "output_type": "stream",
       "stream": "stdout",
       "text": [
        "223632: persons, 4:number of categories\n",
        "0 persons have mixed categories\n"
       ]
      }
     ]
    },
    {
     "cell_type": "code",
     "collapsed": false,
     "input": [
      "ethnicity_features, ethnicity_index = feature_matrix(df, \"ethnicity\")"
     ],
     "language": "python",
     "metadata": {},
     "outputs": [
      {
       "output_type": "stream",
       "stream": "stdout",
       "text": [
        "223632: persons, 12:number of categories\n",
        "795 persons have mixed categories\n"
       ]
      }
     ]
    },
    {
     "cell_type": "code",
     "collapsed": false,
     "input": [
      "religion_features, religion_index = feature_matrix(df, \"religion\")"
     ],
     "language": "python",
     "metadata": {},
     "outputs": [
      {
       "output_type": "stream",
       "stream": "stdout",
       "text": [
        "223632: persons, 9:number of categories\n",
        "179 persons have mixed categories\n"
       ]
      }
     ],
     "prompt_number": 28
    },
    {
     "cell_type": "code",
     "collapsed": false,
     "input": [
      "nationality_features, nationality_index = feature_matrix(df, \"nationality\")"
     ],
     "language": "python",
     "metadata": {},
     "outputs": [
      {
       "output_type": "stream",
       "stream": "stdout",
       "text": [
        "223632: persons, 7:number of categories\n",
        "10910 persons have mixed categories\n"
       ]
      }
     ],
     "prompt_number": 29
    },
    {
     "cell_type": "code",
     "collapsed": false,
     "input": [
      "profession_features, profession_index = feature_matrix(df, \"profession\")"
     ],
     "language": "python",
     "metadata": {},
     "outputs": [
      {
       "output_type": "stream",
       "stream": "stdout",
       "text": [
        "223632: persons, 9:number of categories\n",
        "31897 persons have mixed categories\n"
       ]
      }
     ],
     "prompt_number": 30
    },
    {
     "cell_type": "code",
     "collapsed": false,
     "input": [
      "non_traditional_cols  = [profession_index[x] for x in ['athlete', 'business', 'law_politics',\n",
      "                                                       'religion', 'stem']]\n",
      "traditional_cols = [profession_index[x] for x in ['music_art', 'humanities']]"
     ],
     "language": "python",
     "metadata": {},
     "outputs": [],
     "prompt_number": 31
    },
    {
     "cell_type": "code",
     "collapsed": false,
     "input": [
      "non_traditional = 1 * (profession_features[:, non_traditional_cols].sum(axis=1) >= 1)\n",
      "traditional = 1 * (profession_features[:, traditional_cols].sum(axis=1) >= 1)\n",
      "nan_features = profession_features[:, profession_index[\"nan\"]]\n",
      "other_features = profession_features[:, profession_index[\"other\"]]\n",
      "general_professions = np.vstack([non_traditional, traditional, nan_features, other_features]).T\n",
      "general_professions_index = {\"non_traditional\": 0, \"traditional\": 1, \"nan\": 2, \"other\":3}"
     ],
     "language": "python",
     "metadata": {},
     "outputs": [],
     "prompt_number": 32
    },
    {
     "cell_type": "markdown",
     "metadata": {},
     "source": [
      "## Correlation Analysis"
     ]
    },
    {
     "cell_type": "code",
     "collapsed": false,
     "input": [
      "from scipy.stats import pearsonr"
     ],
     "language": "python",
     "metadata": {},
     "outputs": [],
     "prompt_number": 33
    },
    {
     "cell_type": "code",
     "collapsed": false,
     "input": [
      "def correlate(var1_features, var2_features, var1_index, var2_index):\n",
      "  R = np.zeros((var1_features.shape[1], var2_features.shape[1]))\n",
      "  P = np.zeros((var1_features.shape[1], var2_features.shape[1]))\n",
      "  k = 0\n",
      "  for i in range(var1_features.shape[1]):\n",
      "    for j in range(var2_features.shape[1]):\n",
      "      r, p =  pearsonr(var1_features[:, i], var2_features[:, j])\n",
      "      R[i,j] = r\n",
      "      P[i,j] = p\n",
      "      print \"\\r%i\" % k,\n",
      "      k += 1\n",
      "  idx = R.argsort(axis=1)\n",
      "  index_var1 = {i:g for g,i in var1_index.iteritems()}\n",
      "  index_var2 = {i:g for g,i in var2_index.iteritems()}\n",
      "  print\n",
      "  for i in range(len(index_var1)):\n",
      "    print\n",
      "    #if i in [0, 2]: continue\n",
      "    for j in idx[i][::-1]:\n",
      "      print  \"{:<4}{:<4}{:<24}{:<24}{:>20.4f}{:>20.4f}\".format(i, j, index_var1[i], index_var2[j], R[i,j], P[i,j])"
     ],
     "language": "python",
     "metadata": {},
     "outputs": [],
     "prompt_number": 34
    },
    {
     "cell_type": "code",
     "collapsed": false,
     "input": [
      "correlate(gender_features, profession_features, gender_index, profession_index)"
     ],
     "language": "python",
     "metadata": {},
     "outputs": [
      {
       "output_type": "stream",
       "stream": "stdout",
       "text": [
        "\r",
        "0 \r",
        "1 \r",
        "2 \r",
        "3 \r",
        "4 "
       ]
      },
      {
       "output_type": "stream",
       "stream": "stdout",
       "text": [
        "\r",
        "5 \r",
        "6 \r",
        "7 \r",
        "8 \r",
        "9 "
       ]
      },
      {
       "output_type": "stream",
       "stream": "stdout",
       "text": [
        "\r",
        "10 \r",
        "11 \r",
        "12 \r",
        "13 \r",
        "14 "
       ]
      },
      {
       "output_type": "stream",
       "stream": "stdout",
       "text": [
        "\r",
        "15 \r",
        "16 \r",
        "17 \r",
        "18 \r",
        "19 "
       ]
      },
      {
       "output_type": "stream",
       "stream": "stdout",
       "text": [
        "\r",
        "20 \r",
        "21 \r",
        "22 \r",
        "23 \r",
        "24 "
       ]
      },
      {
       "output_type": "stream",
       "stream": "stdout",
       "text": [
        "\r",
        "25 \r",
        "26 \r",
        "27 \r",
        "28 \r",
        "29 "
       ]
      },
      {
       "output_type": "stream",
       "stream": "stdout",
       "text": [
        "\r",
        "30 \r",
        "31 \r",
        "32 \r",
        "33 \r",
        "34 "
       ]
      },
      {
       "output_type": "stream",
       "stream": "stdout",
       "text": [
        "\r",
        "35\n",
        "\n",
        "0   1   Other                   humanities                            0.0062              0.0031\n",
        "0   6   Other                   other                                 0.0036              0.0921\n",
        "0   0   Other                   business                              0.0020              0.3482\n",
        "0   8   Other                   music_art                             0.0010              0.6288\n",
        "0   5   Other                   religion                             -0.0006              0.7871\n",
        "0   4   Other                   stem                                 -0.0013              0.5412\n",
        "0   3   Other                   nan                                  -0.0018              0.4057\n",
        "0   7   Other                   law_politics                         -0.0021              0.3149\n",
        "0   2   Other                   athlete                              -0.0044              0.0358\n",
        "\n",
        "1   2   Male                    athlete                               0.1379              0.0000\n",
        "1   7   Male                    law_politics                          0.0586              0.0000\n",
        "1   4   Male                    stem                                  0.0578              0.0000\n",
        "1   3   Male                    nan                                   0.0459              0.0000\n",
        "1   0   Male                    business                              0.0349              0.0000\n",
        "1   5   Male                    religion                              0.0167              0.0000\n",
        "1   6   Male                    other                                 0.0016              0.4430\n",
        "1   1   Male                    humanities                           -0.0453              0.0000\n",
        "1   8   Male                    music_art                            -0.1801              0.0000\n",
        "\n",
        "2   3   nan                     nan                                   0.1112              0.0000\n",
        "2   6   nan                     other                                 0.0074              0.0005\n",
        "2   5   nan                     religion                              0.0004              0.8572\n",
        "2   0   nan                     business                             -0.0062              0.0034\n",
        "2   4   nan                     stem                                 -0.0109              0.0000\n",
        "2   7   nan                     law_politics                         -0.0195              0.0000\n",
        "2   2   nan                     athlete                              -0.0257              0.0000\n",
        "2   1   nan                     humanities                           -0.0288              0.0000\n",
        "2   8   nan                     music_art                            -0.0600              0.0000\n",
        "\n",
        "3   8   Female                  music_art                             0.1999              0.0000\n",
        "3   1   Female                  humanities                            0.0537              0.0000\n",
        "3   6   Female                  other                                -0.0038              0.0754\n",
        "3   5   Female                  religion                             -0.0172              0.0000\n",
        "3   0   Female                  business                             -0.0340              0.0000\n",
        "3   7   Female                  law_politics                         -0.0545              0.0000\n",
        "3   4   Female                  stem                                 -0.0560              0.0000\n",
        "3   3   Female                  nan                                  -0.0765              0.0000\n",
        "3   2   Female                  athlete                              -0.1338              0.0000\n"
       ]
      }
     ],
     "prompt_number": 35
    },
    {
     "cell_type": "code",
     "collapsed": false,
     "input": [
      "correlate(gender_features, general_professions, gender_index, general_professions_index)"
     ],
     "language": "python",
     "metadata": {},
     "outputs": [
      {
       "output_type": "stream",
       "stream": "stdout",
       "text": [
        "\r",
        "0 \r",
        "1 \r",
        "2 \r",
        "3 \r",
        "4 \r",
        "5 \r",
        "6 \r",
        "7 "
       ]
      },
      {
       "output_type": "stream",
       "stream": "stdout",
       "text": [
        "\r",
        "8 \r",
        "9 \r",
        "10 \r",
        "11 \r",
        "12 \r",
        "13 \r",
        "14 \r",
        "15\n",
        "\n",
        "0   1   Other                   traditional                           0.0046              0.0291\n",
        "0   3   Other                   other                                 0.0036              0.0921\n",
        "0   2   Other                   nan                                  -0.0018              0.4057\n",
        "0   0   Other                   non_traditional                      -0.0045              0.0324\n",
        "\n",
        "1   0   Male                    non_traditional                       0.1708              0.0000\n",
        "1   2   Male                    nan                                   0.0459              0.0000\n",
        "1   3   Male                    other                                 0.0016              0.4430\n",
        "1   1   Male                    traditional                          -0.1903              0.0000\n",
        "\n",
        "2   2   nan                     nan                                   0.1112              0.0000\n",
        "2   3   nan                     other                                 0.0074              0.0005\n",
        "2   0   nan                     non_traditional                      -0.0324              0.0000\n",
        "2   1   nan                     traditional                          -0.0661              0.0000\n",
        "\n",
        "3   1   Female                  traditional                           0.2117              0.0000\n",
        "3   3   Female                  other                                -0.0038              0.0754\n",
        "3   2   Female                  nan                                  -0.0765              0.0000\n",
        "3   0   Female                  non_traditional                      -0.1656              0.0000\n"
       ]
      }
     ],
     "prompt_number": 36
    },
    {
     "cell_type": "code",
     "collapsed": false,
     "input": [
      "correlate(ethnicity_features, profession_features, ethnicity_index, profession_index)"
     ],
     "language": "python",
     "metadata": {},
     "outputs": [
      {
       "output_type": "stream",
       "stream": "stdout",
       "text": [
        "\r",
        "0 \r",
        "1 \r",
        "2 \r",
        "3 "
       ]
      },
      {
       "output_type": "stream",
       "stream": "stdout",
       "text": [
        "\r",
        "4 \r",
        "5 \r",
        "6 \r",
        "7 "
       ]
      },
      {
       "output_type": "stream",
       "stream": "stdout",
       "text": [
        "\r",
        "8 \r",
        "9 \r",
        "10 \r",
        "11 "
       ]
      },
      {
       "output_type": "stream",
       "stream": "stdout",
       "text": [
        "\r",
        "12 \r",
        "13 \r",
        "14 \r",
        "15 "
       ]
      },
      {
       "output_type": "stream",
       "stream": "stdout",
       "text": [
        "\r",
        "16 \r",
        "17 \r",
        "18 \r",
        "19 "
       ]
      },
      {
       "output_type": "stream",
       "stream": "stdout",
       "text": [
        "\r",
        "20 \r",
        "21 \r",
        "22 \r",
        "23 "
       ]
      },
      {
       "output_type": "stream",
       "stream": "stdout",
       "text": [
        "\r",
        "24 \r",
        "25 \r",
        "26 \r",
        "27 "
       ]
      },
      {
       "output_type": "stream",
       "stream": "stdout",
       "text": [
        "\r",
        "28 \r",
        "29 \r",
        "30 \r",
        "31 "
       ]
      },
      {
       "output_type": "stream",
       "stream": "stdout",
       "text": [
        "\r",
        "32 \r",
        "33 \r",
        "34 \r",
        "35 "
       ]
      },
      {
       "output_type": "stream",
       "stream": "stdout",
       "text": [
        "\r",
        "36 \r",
        "37 \r",
        "38 \r",
        "39 "
       ]
      },
      {
       "output_type": "stream",
       "stream": "stdout",
       "text": [
        "\r",
        "40 \r",
        "41 \r",
        "42 \r",
        "43 \r",
        "44 "
       ]
      },
      {
       "output_type": "stream",
       "stream": "stdout",
       "text": [
        "\r",
        "45 \r",
        "46 \r",
        "47 \r",
        "48 \r",
        "49 "
       ]
      },
      {
       "output_type": "stream",
       "stream": "stdout",
       "text": [
        "\r",
        "50 \r",
        "51 \r",
        "52 \r",
        "53 \r",
        "54 "
       ]
      },
      {
       "output_type": "stream",
       "stream": "stdout",
       "text": [
        "\r",
        "55 \r",
        "56 \r",
        "57 \r",
        "58 \r",
        "59 "
       ]
      },
      {
       "output_type": "stream",
       "stream": "stdout",
       "text": [
        "\r",
        "60 \r",
        "61 \r",
        "62 \r",
        "63 \r",
        "64 "
       ]
      },
      {
       "output_type": "stream",
       "stream": "stdout",
       "text": [
        "\r",
        "65 \r",
        "66 \r",
        "67 \r",
        "68 \r",
        "69 "
       ]
      },
      {
       "output_type": "stream",
       "stream": "stdout",
       "text": [
        "\r",
        "70 \r",
        "71 \r",
        "72 \r",
        "73 \r",
        "74 "
       ]
      },
      {
       "output_type": "stream",
       "stream": "stdout",
       "text": [
        "\r",
        "75 \r",
        "76 \r",
        "77 \r",
        "78 \r",
        "79 "
       ]
      },
      {
       "output_type": "stream",
       "stream": "stdout",
       "text": [
        "\r",
        "80 \r",
        "81 \r",
        "82 \r",
        "83 \r",
        "84 "
       ]
      },
      {
       "output_type": "stream",
       "stream": "stdout",
       "text": [
        "\r",
        "85 \r",
        "86 \r",
        "87 \r",
        "88 \r",
        "89 "
       ]
      },
      {
       "output_type": "stream",
       "stream": "stdout",
       "text": [
        "\r",
        "90 \r",
        "91 \r",
        "92 \r",
        "93 \r",
        "94 "
       ]
      },
      {
       "output_type": "stream",
       "stream": "stdout",
       "text": [
        "\r",
        "95 \r",
        "96 \r",
        "97 \r",
        "98 \r",
        "99 "
       ]
      },
      {
       "output_type": "stream",
       "stream": "stdout",
       "text": [
        "\r",
        "100 \r",
        "101 \r",
        "102 \r",
        "103 \r",
        "104 "
       ]
      },
      {
       "output_type": "stream",
       "stream": "stdout",
       "text": [
        "\r",
        "105 \r",
        "106 \r",
        "107\n",
        "\n",
        "0   1   jewish                  humanities                            0.0442              0.0000\n",
        "0   0   jewish                  business                              0.0334              0.0000\n",
        "0   7   jewish                  law_politics                          0.0179              0.0000\n",
        "0   4   jewish                  stem                                  0.0177              0.0000\n",
        "0   5   jewish                  religion                              0.0048              0.0224\n",
        "0   6   jewish                  other                                 0.0023              0.2686\n",
        "0   8   jewish                  music_art                             0.0006              0.7813\n",
        "0   2   jewish                  athlete                              -0.0213              0.0000\n",
        "0   3   jewish                  nan                                  -0.0408              0.0000\n",
        "\n",
        "1   7   african_american        law_politics                          0.0044              0.0375\n",
        "1   5   african_american        religion                              0.0042              0.0462\n",
        "1   1   african_american        humanities                            0.0032              0.1262\n",
        "1   8   african_american        music_art                             0.0029              0.1714\n",
        "1   0   african_american        business                              0.0002              0.9286\n",
        "1   6   african_american        other                                -0.0007              0.7307\n",
        "1   4   african_american        stem                                 -0.0010              0.6387\n",
        "1   2   african_american        athlete                              -0.0038              0.0753\n",
        "1   3   african_american        nan                                  -0.0041              0.0510\n",
        "\n",
        "2   3   nan                     nan                                   0.1226              0.0000\n",
        "2   2   nan                     athlete                               0.0098              0.0000\n",
        "2   4   nan                     stem                                  0.0047              0.0272\n",
        "2   5   nan                     religion                             -0.0050              0.0189\n",
        "2   6   nan                     other                                -0.0075              0.0004\n",
        "2   7   nan                     law_politics                         -0.0293              0.0000\n",
        "2   1   nan                     humanities                           -0.0380              0.0000\n",
        "2   0   nan                     business                             -0.0448              0.0000\n",
        "2   8   nan                     music_art                            -0.0766              0.0000\n",
        "\n",
        "3   1   middle eastern          humanities                            0.0152              0.0000\n",
        "3   0   middle eastern          business                              0.0068              0.0013\n",
        "3   7   middle eastern          law_politics                          0.0058              0.0059\n",
        "3   4   middle eastern          stem                                  0.0038              0.0739\n",
        "3   8   middle eastern          music_art                             0.0016              0.4471\n",
        "3   6   middle eastern          other                                 0.0005              0.7998\n",
        "3   5   middle eastern          religion                             -0.0003              0.8878\n",
        "3   2   middle eastern          athlete                              -0.0091              0.0000\n",
        "3   3   middle eastern          nan                                  -0.0114              0.0000\n",
        "\n",
        "4   8   hispanic_latino         music_art                             0.0152              0.0000\n",
        "4   1   hispanic_latino         humanities                            0.0081              0.0001\n",
        "4   0   hispanic_latino         business                              0.0042              0.0462\n",
        "4   7   hispanic_latino         law_politics                          0.0037              0.0827\n",
        "4   6   hispanic_latino         other                                 0.0029              0.1750\n",
        "4   5   hispanic_latino         religion                              0.0011              0.5983\n",
        "4   4   hispanic_latino         stem                                 -0.0063              0.0030\n",
        "4   2   hispanic_latino         athlete                              -0.0064              0.0025\n",
        "4   3   hispanic_latino         nan                                  -0.0171              0.0000\n",
        "\n",
        "5   1   indigenous              humanities                            0.0116              0.0000\n",
        "5   8   indigenous              music_art                             0.0070              0.0009\n",
        "5   7   indigenous              law_politics                          0.0055              0.0097\n",
        "5   2   indigenous              athlete                               0.0025              0.2438\n",
        "5   6   indigenous              other                                 0.0003              0.8726\n",
        "5   5   indigenous              religion                             -0.0015              0.4665\n",
        "5   0   indigenous              business                             -0.0039              0.0651\n",
        "5   4   indigenous              stem                                 -0.0055              0.0093\n",
        "5   3   indigenous              nan                                  -0.0154              0.0000\n",
        "\n",
        "6   8   hispanic                music_art                             0.0132              0.0000\n",
        "6   6   hispanic                other                                 0.0036              0.0900\n",
        "6   1   hispanic                humanities                            0.0019              0.3734\n",
        "6   0   hispanic                business                             -0.0004              0.8372\n",
        "6   5   hispanic                religion                             -0.0006              0.7664\n",
        "6   7   hispanic                law_politics                         -0.0032              0.1322\n",
        "6   4   hispanic                stem                                 -0.0033              0.1177\n",
        "6   2   hispanic                athlete                              -0.0037              0.0816\n",
        "6   3   hispanic                nan                                  -0.0096              0.0000\n",
        "\n",
        "7   6   other                   other                                 0.0060              0.0046\n",
        "7   7   other                   law_politics                          0.0049              0.0211\n",
        "7   8   other                   music_art                             0.0033              0.1193\n",
        "7   1   other                   humanities                            0.0032              0.1250\n",
        "7   0   other                   business                              0.0020              0.3405\n",
        "7   4   other                   stem                                  0.0018              0.3855\n",
        "7   5   other                   religion                             -0.0011              0.6145\n",
        "7   2   other                   athlete                              -0.0043              0.0417\n",
        "7   3   other                   nan                                  -0.0074              0.0005\n",
        "\n",
        "8   8   african_americans       music_art                             0.0692              0.0000\n",
        "8   2   african_americans       athlete                               0.0314              0.0000\n",
        "8   7   african_americans       law_politics                          0.0219              0.0000\n",
        "8   5   african_americans       religion                              0.0038              0.0710\n",
        "8   6   african_americans       other                                -0.0039              0.0619\n",
        "8   1   african_americans       humanities                           -0.0050              0.0190\n",
        "8   0   african_americans       business                             -0.0112              0.0000\n",
        "8   4   african_americans       stem                                 -0.0240              0.0000\n",
        "8   3   african_americans       nan                                  -0.0855              0.0000\n",
        "\n",
        "9   6   mixed                   other                                 0.0074              0.0005\n",
        "9   8   mixed                   music_art                             0.0044              0.0366\n",
        "9   0   mixed                   business                              0.0012              0.5823\n",
        "9   5   mixed                   religion                             -0.0002              0.9083\n",
        "9   7   mixed                   law_politics                         -0.0004              0.8345\n",
        "9   1   mixed                   humanities                           -0.0008              0.7135\n",
        "9   4   mixed                   stem                                 -0.0013              0.5439\n",
        "9   2   mixed                   athlete                              -0.0023              0.2752\n",
        "9   3   mixed                   nan                                  -0.0037              0.0769\n",
        "\n",
        "10  0   white                   business                              0.0677              0.0000\n",
        "10  8   white                   music_art                             0.0398              0.0000\n",
        "10  1   white                   humanities                            0.0304              0.0000\n",
        "10  6   white                   other                                 0.0135              0.0000\n",
        "10  7   white                   law_politics                          0.0074              0.0004\n",
        "10  4   white                   stem                                  0.0073              0.0006\n",
        "10  5   white                   religion                              0.0023              0.2800\n",
        "10  2   white                   athlete                              -0.0313              0.0000\n",
        "10  3   white                   nan                                  -0.0683              0.0000\n",
        "\n",
        "11  1   asian                   humanities                            0.0170              0.0000\n",
        "11  4   asian                   stem                                  0.0129              0.0000\n",
        "11  0   asian                   business                              0.0099              0.0000\n",
        "11  8   asian                   music_art                             0.0072              0.0007\n",
        "11  7   asian                   law_politics                          0.0057              0.0075\n",
        "11  6   asian                   other                                 0.0021              0.3112\n",
        "11  5   asian                   religion                             -0.0026              0.2196\n",
        "11  3   asian                   nan                                  -0.0164              0.0000\n",
        "11  2   asian                   athlete                              -0.0180              0.0000\n"
       ]
      }
     ],
     "prompt_number": 37
    },
    {
     "cell_type": "code",
     "collapsed": false,
     "input": [
      "correlate(religion_features, profession_features, religion_index, profession_index)"
     ],
     "language": "python",
     "metadata": {},
     "outputs": [
      {
       "output_type": "stream",
       "stream": "stdout",
       "text": [
        "\r",
        "0 \r",
        "1 \r",
        "2 \r",
        "3 "
       ]
      },
      {
       "output_type": "stream",
       "stream": "stdout",
       "text": [
        "\r",
        "4 \r",
        "5 \r",
        "6 \r",
        "7 "
       ]
      },
      {
       "output_type": "stream",
       "stream": "stdout",
       "text": [
        "\r",
        "8 \r",
        "9 \r",
        "10 \r",
        "11 "
       ]
      },
      {
       "output_type": "stream",
       "stream": "stdout",
       "text": [
        "\r",
        "12 \r",
        "13 \r",
        "14 \r",
        "15 "
       ]
      },
      {
       "output_type": "stream",
       "stream": "stdout",
       "text": [
        "\r",
        "16 \r",
        "17 \r",
        "18 \r",
        "19 "
       ]
      },
      {
       "output_type": "stream",
       "stream": "stdout",
       "text": [
        "\r",
        "20 \r",
        "21 \r",
        "22 \r",
        "23 "
       ]
      },
      {
       "output_type": "stream",
       "stream": "stdout",
       "text": [
        "\r",
        "24 \r",
        "25 \r",
        "26 \r",
        "27 "
       ]
      },
      {
       "output_type": "stream",
       "stream": "stdout",
       "text": [
        "\r",
        "28 \r",
        "29 \r",
        "30 \r",
        "31 "
       ]
      },
      {
       "output_type": "stream",
       "stream": "stdout",
       "text": [
        "\r",
        "32 \r",
        "33 \r",
        "34 \r",
        "35 "
       ]
      },
      {
       "output_type": "stream",
       "stream": "stdout",
       "text": [
        "\r",
        "36 \r",
        "37 \r",
        "38 \r",
        "39 "
       ]
      },
      {
       "output_type": "stream",
       "stream": "stdout",
       "text": [
        "\r",
        "40 \r",
        "41 \r",
        "42 \r",
        "43 "
       ]
      },
      {
       "output_type": "stream",
       "stream": "stdout",
       "text": [
        "\r",
        "44 \r",
        "45 \r",
        "46 \r",
        "47 "
       ]
      },
      {
       "output_type": "stream",
       "stream": "stdout",
       "text": [
        "\r",
        "48 \r",
        "49 \r",
        "50 \r",
        "51 "
       ]
      },
      {
       "output_type": "stream",
       "stream": "stdout",
       "text": [
        "\r",
        "52 \r",
        "53 \r",
        "54 \r",
        "55 \r",
        "56 "
       ]
      },
      {
       "output_type": "stream",
       "stream": "stdout",
       "text": [
        "\r",
        "57 \r",
        "58 \r",
        "59 \r",
        "60 \r",
        "61 \r",
        "62 "
       ]
      },
      {
       "output_type": "stream",
       "stream": "stdout",
       "text": [
        "\r",
        "63 \r",
        "64 \r",
        "65 \r",
        "66 \r",
        "67 \r",
        "68 "
       ]
      },
      {
       "output_type": "stream",
       "stream": "stdout",
       "text": [
        "\r",
        "69 \r",
        "70 \r",
        "71 \r",
        "72 \r",
        "73 \r",
        "74 "
       ]
      },
      {
       "output_type": "stream",
       "stream": "stdout",
       "text": [
        "\r",
        "75 \r",
        "76 \r",
        "77 \r",
        "78 \r",
        "79 \r",
        "80\n",
        "\n",
        "0   1   muslim                  humanities                            0.0104              0.0000\n",
        "0   6   muslim                  other                                 0.0093              0.0000\n",
        "0   7   muslim                  law_politics                          0.0028              0.1798\n",
        "0   0   muslim                  business                              0.0011              0.6153\n",
        "0   4   muslim                  stem                                  0.0005              0.8049\n",
        "0   5   muslim                  religion                             -0.0014              0.5200\n",
        "0   8   muslim                  music_art                            -0.0014              0.5153\n",
        "0   3   muslim                  nan                                  -0.0035              0.0954\n",
        "0   2   muslim                  athlete                              -0.0082              0.0001\n",
        "\n",
        "1   7   christian               law_politics                          0.2328              0.0000\n",
        "1   0   christian               business                              0.0550              0.0000\n",
        "1   5   christian               religion                              0.0473              0.0000\n",
        "1   6   christian               other                                 0.0395              0.0000\n",
        "1   4   christian               stem                                  0.0021              0.3125\n",
        "1   1   christian               humanities                           -0.0036              0.0876\n",
        "1   3   christian               nan                                  -0.0183              0.0000\n",
        "1   2   christian               athlete                              -0.0510              0.0000\n",
        "1   8   christian               music_art                            -0.0855              0.0000\n",
        "\n",
        "2   0   asian religion          business                              0.0100              0.0000\n",
        "2   3   asian religion          nan                                   0.0057              0.0072\n",
        "2   4   asian religion          stem                                  0.0034              0.1095\n",
        "2   1   asian religion          humanities                            0.0010              0.6235\n",
        "2   5   asian religion          religion                              0.0007              0.7570\n",
        "2   7   asian religion          law_politics                         -0.0006              0.7722\n",
        "2   6   asian religion          other                                -0.0022              0.3045"
       ]
      },
      {
       "output_type": "stream",
       "stream": "stdout",
       "text": [
        "\n",
        "2   2   asian religion          athlete                              -0.0040              0.0586\n",
        "2   8   asian religion          music_art                            -0.0071              0.0008\n",
        "\n",
        "3   5   jewish                  religion                              0.0524              0.0000\n",
        "3   7   jewish                  law_politics                          0.0353              0.0000\n",
        "3   1   jewish                  humanities                            0.0336              0.0000\n",
        "3   0   jewish                  business                              0.0333              0.0000\n",
        "3   4   jewish                  stem                                  0.0225              0.0000\n",
        "3   6   jewish                  other                                 0.0035              0.0960\n",
        "3   2   jewish                  athlete                              -0.0112              0.0000\n",
        "3   8   jewish                  music_art                            -0.0212              0.0000\n",
        "3   3   jewish                  nan                                  -0.0334              0.0000\n",
        "\n",
        "4   4   hindu                   stem                                  0.0219              0.0000\n",
        "4   0   hindu                   business                              0.0071              0.0008\n",
        "4   1   hindu                   humanities                            0.0070              0.0009\n",
        "4   3   hindu                   nan                                   0.0024              0.2567\n",
        "4   6   hindu                   other                                 0.0007              0.7581\n",
        "4   5   hindu                   religion                             -0.0005              0.8004\n",
        "4   7   hindu                   law_politics                         -0.0026              0.2154\n",
        "4   8   hindu                   music_art                            -0.0096              0.0000\n",
        "4   2   hindu                   athlete                              -0.0101              0.0000\n",
        "\n",
        "5   1   buddhist                humanities                            0.0222              0.0000\n",
        "5   5   buddhist                religion                              0.0048              0.0244\n",
        "5   7   buddhist                law_politics                          0.0001              0.9476\n",
        "5   3   buddhist                nan                                  -0.0003              0.8822\n",
        "5   6   buddhist                other                                -0.0007              0.7491\n",
        "5   4   buddhist                stem                                 -0.0017              0.4091\n",
        "5   0   buddhist                business                             -0.0018              0.4073\n",
        "5   8   buddhist                music_art                            -0.0057              0.0074\n",
        "5   2   buddhist                athlete                              -0.0100              0.0000\n",
        "\n",
        "6   8   nan                     music_art                             0.0881              0.0000\n",
        "6   2   nan                     athlete                               0.0576              0.0000\n",
        "6   3   nan                     nan                                   0.0326              0.0000\n",
        "6   4   nan                     stem                                 -0.0214              0.0000\n",
        "6   1   nan                     humanities                           -0.0243              0.0000\n",
        "6   6   nan                     other                                -0.0406              0.0000\n",
        "6   5   nan                     religion                             -0.0613              0.0000\n",
        "6   0   nan                     business                             -0.0622              0.0000\n",
        "6   7   nan                     law_politics                         -0.2168              0.0000\n",
        "\n",
        "7   6   other                   other                                 0.0167              0.0000\n",
        "7   1   other                   humanities                            0.0130              0.0000\n",
        "7   7   other                   law_politics                          0.0127              0.0000\n",
        "7   4   other                   stem                                  0.0112              0.0000\n",
        "7   5   other                   religion                              0.0046              0.0313\n",
        "7   0   other                   business                             -0.0002              0.9113\n",
        "7   3   other                   nan                                  -0.0056              0.0076\n",
        "7   8   other                   music_art                            -0.0097              0.0000\n",
        "7   2   other                   athlete                              -0.0117              0.0000\n",
        "\n",
        "8   1   atheist_spiritual       humanities                            0.0354              0.0000\n",
        "8   4   atheist_spiritual       stem                                  0.0294              0.0000\n",
        "8   0   atheist_spiritual       business                              0.0058              0.0065\n",
        "8   6   atheist_spiritual       other                                 0.0055              0.0090\n",
        "8   7   atheist_spiritual       law_politics                          0.0049              0.0200\n",
        "8   5   atheist_spiritual       religion                             -0.0011              0.5958\n",
        "8   8   atheist_spiritual       music_art                            -0.0108              0.0000\n",
        "8   2   atheist_spiritual       athlete                              -0.0161              0.0000\n",
        "8   3   atheist_spiritual       nan                                  -0.0178              0.0000\n"
       ]
      }
     ],
     "prompt_number": 38
    },
    {
     "cell_type": "code",
     "collapsed": false,
     "input": [
      "correlate(nationality_features, profession_features, nationality_index, profession_index)"
     ],
     "language": "python",
     "metadata": {},
     "outputs": [
      {
       "output_type": "stream",
       "stream": "stdout",
       "text": [
        "\r",
        "0 \r",
        "1 \r",
        "2 \r",
        "3 "
       ]
      },
      {
       "output_type": "stream",
       "stream": "stdout",
       "text": [
        "\r",
        "4 \r",
        "5 \r",
        "6 \r",
        "7 "
       ]
      },
      {
       "output_type": "stream",
       "stream": "stdout",
       "text": [
        "\r",
        "8 \r",
        "9 \r",
        "10 \r",
        "11 "
       ]
      },
      {
       "output_type": "stream",
       "stream": "stdout",
       "text": [
        "\r",
        "12 \r",
        "13 \r",
        "14 \r",
        "15 "
       ]
      },
      {
       "output_type": "stream",
       "stream": "stdout",
       "text": [
        "\r",
        "16 \r",
        "17 \r",
        "18 \r",
        "19 "
       ]
      },
      {
       "output_type": "stream",
       "stream": "stdout",
       "text": [
        "\r",
        "20 \r",
        "21 \r",
        "22 \r",
        "23 "
       ]
      },
      {
       "output_type": "stream",
       "stream": "stdout",
       "text": [
        "\r",
        "24 \r",
        "25 \r",
        "26 \r",
        "27 "
       ]
      },
      {
       "output_type": "stream",
       "stream": "stdout",
       "text": [
        "\r",
        "28 \r",
        "29 \r",
        "30 \r",
        "31 "
       ]
      },
      {
       "output_type": "stream",
       "stream": "stdout",
       "text": [
        "\r",
        "32 \r",
        "33 \r",
        "34 \r",
        "35 "
       ]
      },
      {
       "output_type": "stream",
       "stream": "stdout",
       "text": [
        "\r",
        "36 \r",
        "37 \r",
        "38 \r",
        "39 "
       ]
      },
      {
       "output_type": "stream",
       "stream": "stdout",
       "text": [
        "\r",
        "40 \r",
        "41 \r",
        "42 \r",
        "43 "
       ]
      },
      {
       "output_type": "stream",
       "stream": "stdout",
       "text": [
        "\r",
        "44 \r",
        "45 \r",
        "46 \r",
        "47 "
       ]
      },
      {
       "output_type": "stream",
       "stream": "stdout",
       "text": [
        "\r",
        "48 \r",
        "49 \r",
        "50 \r",
        "51 "
       ]
      },
      {
       "output_type": "stream",
       "stream": "stdout",
       "text": [
        "\r",
        "52 \r",
        "53 \r",
        "54 \r",
        "55 "
       ]
      },
      {
       "output_type": "stream",
       "stream": "stdout",
       "text": [
        "\r",
        "56 \r",
        "57 \r",
        "58 \r",
        "59 "
       ]
      },
      {
       "output_type": "stream",
       "stream": "stdout",
       "text": [
        "\r",
        "60 \r",
        "61 \r",
        "62\n",
        "\n",
        "0   2   african_american        athlete                               0.0220              0.0000\n",
        "0   5   african_american        religion                              0.0013              0.5436\n",
        "0   1   african_american        humanities                            0.0003              0.8795\n",
        "0   0   african_american        business                             -0.0006              0.7901\n",
        "0   8   african_american        music_art                            -0.0016              0.4574\n",
        "0   4   african_american        stem                                 -0.0025              0.2403\n",
        "0   6   african_american        other                                -0.0040              0.0572\n",
        "0   7   african_american        law_politics                         -0.0058              0.0062\n",
        "0   3   african_american        nan                                  -0.0096              0.0000\n",
        "\n",
        "1   2   united states of americaathlete                               0.0253              0.0000\n",
        "1   7   united states of americalaw_politics                          0.0181              0.0000\n",
        "1   3   united states of americanan                                   0.0181              0.0000\n",
        "1   8   united states of americamusic_art                            -0.0002              0.9364\n",
        "1   6   united states of americaother                                -0.0033              0.1230\n",
        "1   5   united states of americareligion                             -0.0065              0.0022\n",
        "1   0   united states of americabusiness                             -0.0137              0.0000\n",
        "1   1   united states of americahumanities                           -0.0221              0.0000\n",
        "1   4   united states of americastem                                 -0.0620              0.0000\n",
        "\n",
        "2   4   middle eastern          stem                                  0.0192              0.0000\n",
        "2   1   middle eastern          humanities                            0.0146              0.0000\n",
        "2   0   middle eastern          business                              0.0083              0.0001\n",
        "2   5   middle eastern          religion                              0.0081              0.0001\n",
        "2   8   middle eastern          music_art                            -0.0012              0.5860\n",
        "2   6   middle eastern          other                                -0.0023              0.2680\n",
        "2   7   middle eastern          law_politics                         -0.0031              0.1376\n",
        "2   3   middle eastern          nan                                  -0.0084              0.0001\n",
        "2   2   middle eastern          athlete                              -0.0121              0.0000\n",
        "\n",
        "3   8   hispanic_latino         music_art                             0.0102              0.0000\n",
        "3   2   hispanic_latino         athlete                               0.0100              0.0000\n",
        "3   5   hispanic_latino         religion                              0.0004              0.8496\n",
        "3   0   hispanic_latino         business                              0.0001              0.9699\n",
        "3   6   hispanic_latino         other                                -0.0018              0.3831\n",
        "3   1   hispanic_latino         humanities                           -0.0023              0.2733\n",
        "3   4   hispanic_latino         stem                                 -0.0031              0.1406\n",
        "3   7   hispanic_latino         law_politics                         -0.0073              0.0005\n",
        "3   3   hispanic_latino         nan                                  -0.0107              0.0000\n",
        "\n",
        "4   2   indigenous              athlete                               0.0194              0.0000\n",
        "4   7   indigenous              law_politics                          0.0016              0.4629\n",
        "4   6   indigenous              other                                 0.0001              0.9530\n",
        "4   5   indigenous              religion                             -0.0007              0.7543\n",
        "4   3   indigenous              nan                                  -0.0010              0.6287\n",
        "4   0   indigenous              business                             -0.0029              0.1662\n",
        "4   4   indigenous              stem                                 -0.0035              0.0992\n",
        "4   1   indigenous              humanities                           -0.0041              0.0529\n",
        "4   8   indigenous              music_art                            -0.0087              0.0000\n",
        "\n",
        "5   4   asian                   stem                                  0.0210              0.0000\n",
        "5   8   asian                   music_art                             0.0174              0.0000\n",
        "5   1   asian                   humanities                            0.0070              0.0009\n",
        "5   0   asian                   business                              0.0053              0.0130\n",
        "5   6   asian                   other                                 0.0008              0.7050\n",
        "5   5   asian                   religion                             -0.0016              0.4425\n",
        "5   7   asian                   law_politics                         -0.0102              0.0000\n",
        "5   2   asian                   athlete                              -0.0150              0.0000\n",
        "5   3   asian                   nan                                  -0.0164              0.0000\n",
        "\n",
        "6   4   white                   stem                                  0.0615              0.0000\n",
        "6   1   white                   humanities                            0.0203              0.0000\n",
        "6   0   white                   business                              0.0121              0.0000\n",
        "6   6   white                   other                                 0.0057              0.0069\n",
        "6   5   white                   religion                              0.0055              0.0090\n",
        "6   3   white                   nan                                  -0.0070              0.0010\n",
        "6   8   white                   music_art                            -0.0082              0.0001\n",
        "6   7   white                   law_politics                         -0.0129              0.0000\n",
        "6   2   white                   athlete                              -0.0309              0.0000\n"
       ]
      }
     ],
     "prompt_number": 39
    },
    {
     "cell_type": "markdown",
     "metadata": {},
     "source": [
      "## Classification"
     ]
    },
    {
     "cell_type": "code",
     "collapsed": false,
     "input": [
      "from sklearn.linear_model import LogisticRegression\n",
      "from sklearn.svm import SVC\n",
      "from sklearn.preprocessing import MultiLabelBinarizer\n",
      "from sklearn.cross_validation import train_test_split\n",
      "from sklearn.metrics import classification_report\n",
      "from sklearn.multiclass import OneVsRestClassifier"
     ],
     "language": "python",
     "metadata": {},
     "outputs": [],
     "prompt_number": 41
    },
    {
     "cell_type": "code",
     "collapsed": false,
     "input": [
      "valid_rows = np.where([x is not None  for x in df.profession.values.flatten()])\n",
      "X = np.hstack([gender_features, ethnicity_features, religion_features, nationality_features])[valid_rows]\n",
      "profs = [(x,) if x is None else x for x in df.profession]\n",
      "y = np.array([set([x]) if isinstance(x, basestring) else set(sorted(x)) for x in profs])[valid_rows]"
     ],
     "language": "python",
     "metadata": {},
     "outputs": [],
     "prompt_number": 42
    },
    {
     "cell_type": "code",
     "collapsed": false,
     "input": [
      "binarizer = MultiLabelBinarizer()\n",
      "y = binarizer.fit_transform(y)"
     ],
     "language": "python",
     "metadata": {},
     "outputs": [],
     "prompt_number": 43
    },
    {
     "cell_type": "code",
     "collapsed": false,
     "input": [
      "X_train, X_test, y_train, y_test = train_test_split(X, y, test_size=0.4)"
     ],
     "language": "python",
     "metadata": {},
     "outputs": [],
     "prompt_number": 44
    },
    {
     "cell_type": "code",
     "collapsed": false,
     "input": [
      "estimator = LogisticRegression()\n",
      "model = OneVsRestClassifier(estimator)\n",
      "model.fit(X_train, y_train)"
     ],
     "language": "python",
     "metadata": {},
     "outputs": [
      {
       "metadata": {},
       "output_type": "pyout",
       "prompt_number": 45,
       "text": [
        "OneVsRestClassifier(estimator=LogisticRegression(C=1.0, class_weight=None, dual=False, fit_intercept=True,\n",
        "          intercept_scaling=1, penalty='l2', random_state=None, tol=0.0001),\n",
        "          n_jobs=1)"
       ]
      }
     ],
     "prompt_number": 45
    },
    {
     "cell_type": "code",
     "collapsed": false,
     "input": [
      "y_pred = model.predict(X_test)\n",
      "print classification_report(y_test, y_pred, labels=binarizer.classes_)"
     ],
     "language": "python",
     "metadata": {},
     "outputs": [
      {
       "output_type": "stream",
       "stream": "stdout",
       "text": [
        "             precision    recall  f1-score   support\n",
        "\n",
        "    athlete       0.22      0.00      0.00     11519\n",
        "   business       0.00      0.00      0.00      3109\n",
        " humanities       0.53      0.01      0.03     16334\n",
        "law_politics       0.59      0.17      0.26      5741\n",
        "  music_art       0.57      0.97      0.72     36447\n",
        "      other       0.00      0.00      0.00      1951\n",
        "   religion       0.00      0.00      0.00       155\n",
        "       stem       0.00      0.00      0.00      4119\n",
        "\n",
        "avg / total       0.45      0.46      0.36     79375\n",
        "\n"
       ]
      },
      {
       "output_type": "stream",
       "stream": "stderr",
       "text": [
        "/usr/local/lib/python2.7/dist-packages/sklearn/metrics/metrics.py:1771: UndefinedMetricWarning: Precision and F-score are ill-defined and being set to 0.0 in labels with no predicted samples.\n",
        "  'precision', 'predicted', average, warn_for)\n"
       ]
      }
     ],
     "prompt_number": 46
    },
    {
     "cell_type": "markdown",
     "metadata": {},
     "source": [
      "# Stats Models"
     ]
    },
    {
     "cell_type": "code",
     "collapsed": false,
     "input": [
      "import statsmodels as sm\n",
      "from statsmodels.discrete.discrete_model import MNLogit\n",
      "from statsmodels.tools import add_constant"
     ],
     "language": "python",
     "metadata": {},
     "outputs": [],
     "prompt_number": 262
    },
    {
     "cell_type": "code",
     "collapsed": false,
     "input": [
      "valid_rows = np.where([x is not None  for x in df.profession.values.flatten()])\n",
      "X = np.hstack([gender_features, religion_features, nationality_features])[valid_rows]\n",
      "cols = []\n",
      "for name, fs in [(\"gender\", gender_index), (\"religion\", religion_index),\n",
      "                 (\"nationality\", nationality_index)]:#, ('ethinicity', ethnicity_index)]:\n",
      "  cols.extend([x+\"_\"+name[0] for x in zip(*sorted(fs.items(), key=lambda(x,y): y))[0]])\n",
      "dfX = pd.DataFrame(X, columns=cols)"
     ],
     "language": "python",
     "metadata": {},
     "outputs": [],
     "prompt_number": 263
    },
    {
     "cell_type": "code",
     "collapsed": false,
     "input": [
      "profs = [\"nan\" if x is None else x for x in df.profession]\n",
      "prof_map = {'music_art': \"traditional\", 'humanities': \"traditional\",\n",
      "            'athlete': \"non-traditional\", 'business': \"non-traditional\",\n",
      "             'law_politics': \"non-traditional\", 'religion': \"non-traditional\",\n",
      "             'stem': \"non-traditional\"}\n",
      "profs2 = []\n",
      "for x in profs:\n",
      "  if isinstance(x, basestring):\n",
      "    profs2.append(prof_map.get(x, x))\n",
      "  else:\n",
      "    tmp = set([prof_map.get(x_, x_) for x_ in x])\n",
      "    if len(tmp) == 1:\n",
      "      profs2.append(\"mixed\")\n",
      "    else:\n",
      "      profs2.append(\"mixed\")\n",
      "\n",
      "y = np.array(profs2)[valid_rows]\n",
      "classes = list(set(y))"
     ],
     "language": "python",
     "metadata": {},
     "outputs": [],
     "prompt_number": 264
    },
    {
     "cell_type": "code",
     "collapsed": false,
     "input": [
      "y = Series(y, name='profession')"
     ],
     "language": "python",
     "metadata": {},
     "outputs": [],
     "prompt_number": 265
    },
    {
     "cell_type": "code",
     "collapsed": false,
     "input": [
      "from collections import Counter\n",
      "dict(Counter(y.values))"
     ],
     "language": "python",
     "metadata": {},
     "outputs": [
      {
       "metadata": {},
       "output_type": "pyout",
       "prompt_number": 266,
       "text": [
        "{'mixed': 32005, 'non-traditional': 46421, 'other': 2445, 'traditional': 81948}"
       ]
      }
     ],
     "prompt_number": 266
    },
    {
     "cell_type": "code",
     "collapsed": false,
     "input": [
      "dfX2  = dfX[[x  for x in dfX.columns if 'nan' not in x and x != 'united states of america_n']]"
     ],
     "language": "python",
     "metadata": {},
     "outputs": [],
     "prompt_number": 267
    },
    {
     "cell_type": "code",
     "collapsed": false,
     "input": [
      "print \"Colinearity before removing almost colinear features\", np.linalg.cond(dfX)\n",
      "print \"Colinearity after removing almost colinear features\", np.linalg.cond(dfX2)"
     ],
     "language": "python",
     "metadata": {},
     "outputs": [
      {
       "output_type": "stream",
       "stream": "stdout",
       "text": [
        "Colinearity before removing almost colinear features "
       ]
      },
      {
       "output_type": "stream",
       "stream": "stdout",
       "text": [
        "8.78017384691e+12\n",
        "Colinearity after removing almost colinear features "
       ]
      },
      {
       "output_type": "stream",
       "stream": "stdout",
       "text": [
        "104.837039165\n"
       ]
      }
     ],
     "prompt_number": 268
    },
    {
     "cell_type": "code",
     "collapsed": false,
     "input": [
      "#data = dfX.values\n",
      "data = add_constant(dfX2)\n",
      "model = MNLogit(y, data)\n",
      "result = model.fit(method='ncg')"
     ],
     "language": "python",
     "metadata": {},
     "outputs": [
      {
       "output_type": "stream",
       "stream": "stdout",
       "text": [
        "Optimization terminated successfully.\n",
        "         Current function value: 1.040340\n",
        "         Iterations: 13\n",
        "         Function evaluations: 14\n",
        "         Gradient evaluations: 26\n",
        "         Hessian evaluations: 13\n"
       ]
      }
     ],
     "prompt_number": 269
    },
    {
     "cell_type": "code",
     "collapsed": false,
     "input": [
      "print \"number of labels is\", model.J, \"number of features is\", model.K"
     ],
     "language": "python",
     "metadata": {},
     "outputs": [
      {
       "output_type": "stream",
       "stream": "stdout",
       "text": [
        "number of labels is 4.0 number of features is 18.0\n"
       ]
      }
     ],
     "prompt_number": 270
    },
    {
     "cell_type": "code",
     "collapsed": false,
     "input": [
      "result.summary()"
     ],
     "language": "python",
     "metadata": {},
     "outputs": [
      {
       "html": [
        "<table class=\"simpletable\">\n",
        "<caption>MNLogit Regression Results</caption>\n",
        "<tr>\n",
        "  <th>Dep. Variable:</th>    <td>profession</td>    <th>  No. Observations:  </th>   <td>162819</td>   \n",
        "</tr>\n",
        "<tr>\n",
        "  <th>Model:</th>              <td>MNLogit</td>     <th>  Df Residuals:      </th>   <td>162765</td>   \n",
        "</tr>\n",
        "<tr>\n",
        "  <th>Method:</th>               <td>MLE</td>       <th>  Df Model:          </th>   <td>    51</td>   \n",
        "</tr>\n",
        "<tr>\n",
        "  <th>Date:</th>          <td>Sat, 29 Nov 2014</td> <th>  Pseudo R-squ.:     </th>   <td>0.04217</td>  \n",
        "</tr>\n",
        "<tr>\n",
        "  <th>Time:</th>              <td>01:37:47</td>     <th>  Log-Likelihood:    </th> <td>-1.6939e+05</td>\n",
        "</tr>\n",
        "<tr>\n",
        "  <th>converged:</th>           <td>True</td>       <th>  LL-Null:           </th> <td>-1.7684e+05</td>\n",
        "</tr>\n",
        "<tr>\n",
        "  <th> </th>                      <td> </td>        <th>  LLR p-value:       </th>   <td> 0.000</td>   \n",
        "</tr>\n",
        "</table>\n",
        "<table class=\"simpletable\">\n",
        "<tr>\n",
        "  <th>profession=non-traditional</th>    <th>coef</th>     <th>std err</th>      <th>z</th>      <th>P>|z|</th> <th>[95.0% Conf. Int.]</th> \n",
        "</tr>\n",
        "<tr>\n",
        "  <th>const</th>                      <td>    1.1259</td> <td>    0.130</td> <td>    8.671</td> <td> 0.000</td> <td>    0.871     1.380</td>\n",
        "</tr>\n",
        "<tr>\n",
        "  <th>Other_g</th>                    <td>   -1.4946</td> <td>    0.659</td> <td>   -2.268</td> <td> 0.023</td> <td>   -2.786    -0.203</td>\n",
        "</tr>\n",
        "<tr>\n",
        "  <th>Male_g</th>                     <td>   -0.5946</td> <td>    0.130</td> <td>   -4.571</td> <td> 0.000</td> <td>   -0.850    -0.340</td>\n",
        "</tr>\n",
        "<tr>\n",
        "  <th>Female_g</th>                   <td>   -1.6188</td> <td>    0.132</td> <td>  -12.306</td> <td> 0.000</td> <td>   -1.877    -1.361</td>\n",
        "</tr>\n",
        "<tr>\n",
        "  <th>muslim_r</th>                   <td>   -1.0951</td> <td>    0.217</td> <td>   -5.049</td> <td> 0.000</td> <td>   -1.520    -0.670</td>\n",
        "</tr>\n",
        "<tr>\n",
        "  <th>christian_r</th>                <td>    0.0121</td> <td>    0.031</td> <td>    0.388</td> <td> 0.698</td> <td>   -0.049     0.074</td>\n",
        "</tr>\n",
        "<tr>\n",
        "  <th>asian religion_r</th>           <td>    0.5715</td> <td>    0.534</td> <td>    1.070</td> <td> 0.285</td> <td>   -0.475     1.619</td>\n",
        "</tr>\n",
        "<tr>\n",
        "  <th>jewish_r</th>                   <td>   -0.3698</td> <td>    0.070</td> <td>   -5.283</td> <td> 0.000</td> <td>   -0.507    -0.233</td>\n",
        "</tr>\n",
        "<tr>\n",
        "  <th>hindu_r</th>                    <td>    0.1138</td> <td>    0.237</td> <td>    0.479</td> <td> 0.632</td> <td>   -0.351     0.579</td>\n",
        "</tr>\n",
        "<tr>\n",
        "  <th>buddhist_r</th>                 <td>   -2.2517</td> <td>    0.379</td> <td>   -5.938</td> <td> 0.000</td> <td>   -2.995    -1.508</td>\n",
        "</tr>\n",
        "<tr>\n",
        "  <th>other_r</th>                    <td>   -0.7773</td> <td>    0.192</td> <td>   -4.059</td> <td> 0.000</td> <td>   -1.153    -0.402</td>\n",
        "</tr>\n",
        "<tr>\n",
        "  <th>atheist_spiritual_r</th>        <td>   -1.4571</td> <td>    0.135</td> <td>  -10.777</td> <td> 0.000</td> <td>   -1.722    -1.192</td>\n",
        "</tr>\n",
        "<tr>\n",
        "  <th>african_american_n</th>         <td>   -0.1978</td> <td>    0.286</td> <td>   -0.692</td> <td> 0.489</td> <td>   -0.758     0.362</td>\n",
        "</tr>\n",
        "<tr>\n",
        "  <th>middle eastern_n</th>           <td>   -0.9780</td> <td>    0.260</td> <td>   -3.761</td> <td> 0.000</td> <td>   -1.488    -0.468</td>\n",
        "</tr>\n",
        "<tr>\n",
        "  <th>hispanic_latino_n</th>          <td>   -0.3231</td> <td>    0.214</td> <td>   -1.511</td> <td> 0.131</td> <td>   -0.742     0.096</td>\n",
        "</tr>\n",
        "<tr>\n",
        "  <th>indigenous_n</th>               <td>    1.8274</td> <td>    0.774</td> <td>    2.362</td> <td> 0.018</td> <td>    0.311     3.344</td>\n",
        "</tr>\n",
        "<tr>\n",
        "  <th>asian_n</th>                    <td>   -1.4419</td> <td>    0.212</td> <td>   -6.793</td> <td> 0.000</td> <td>   -1.858    -1.026</td>\n",
        "</tr>\n",
        "<tr>\n",
        "  <th>white_n</th>                    <td>   -0.6732</td> <td>    0.075</td> <td>   -8.982</td> <td> 0.000</td> <td>   -0.820    -0.526</td>\n",
        "</tr>\n",
        "<tr>\n",
        "   <th>profession=other</th>      <th>coef</th>     <th>std err</th>      <th>z</th>      <th>P>|z|</th> <th>[95.0% Conf. Int.]</th> \n",
        "</tr>\n",
        "<tr>\n",
        "  <th>const</th>               <td>   -0.3418</td> <td>    0.175</td> <td>   -1.954</td> <td> 0.051</td> <td>   -0.685     0.001</td>\n",
        "</tr>\n",
        "<tr>\n",
        "  <th>Other_g</th>             <td>   -0.7023</td> <td>    0.837</td> <td>   -0.839</td> <td> 0.401</td> <td>   -2.342     0.937</td>\n",
        "</tr>\n",
        "<tr>\n",
        "  <th>Male_g</th>              <td>   -2.2314</td> <td>    0.176</td> <td>  -12.644</td> <td> 0.000</td> <td>   -2.577    -1.885</td>\n",
        "</tr>\n",
        "<tr>\n",
        "  <th>Female_g</th>            <td>   -2.2569</td> <td>    0.182</td> <td>  -12.421</td> <td> 0.000</td> <td>   -2.613    -1.901</td>\n",
        "</tr>\n",
        "<tr>\n",
        "  <th>muslim_r</th>            <td>    0.8338</td> <td>    0.344</td> <td>    2.422</td> <td> 0.015</td> <td>    0.159     1.509</td>\n",
        "</tr>\n",
        "<tr>\n",
        "  <th>christian_r</th>         <td>    0.2229</td> <td>    0.082</td> <td>    2.715</td> <td> 0.007</td> <td>    0.062     0.384</td>\n",
        "</tr>\n",
        "<tr>\n",
        "  <th>asian religion_r</th>    <td>   -2.9055</td> <td>    6.927</td> <td>   -0.419</td> <td> 0.675</td> <td>  -16.482    10.671</td>\n",
        "</tr>\n",
        "<tr>\n",
        "  <th>jewish_r</th>            <td>   -1.3742</td> <td>    0.353</td> <td>   -3.892</td> <td> 0.000</td> <td>   -2.066    -0.682</td>\n",
        "</tr>\n",
        "<tr>\n",
        "  <th>hindu_r</th>             <td>   -0.6800</td> <td>    1.036</td> <td>   -0.656</td> <td> 0.512</td> <td>   -2.711     1.351</td>\n",
        "</tr>\n",
        "<tr>\n",
        "  <th>buddhist_r</th>          <td>   -1.4362</td> <td>    1.043</td> <td>   -1.377</td> <td> 0.168</td> <td>   -3.480     0.607</td>\n",
        "</tr>\n",
        "<tr>\n",
        "  <th>other_r</th>             <td>    0.8505</td> <td>    0.304</td> <td>    2.798</td> <td> 0.005</td> <td>    0.255     1.446</td>\n",
        "</tr>\n",
        "<tr>\n",
        "  <th>atheist_spiritual_r</th> <td>   -0.9379</td> <td>    0.409</td> <td>   -2.292</td> <td> 0.022</td> <td>   -1.740    -0.136</td>\n",
        "</tr>\n",
        "<tr>\n",
        "  <th>african_american_n</th>  <td>   -8.8288</td> <td>    6.553</td> <td>   -1.347</td> <td> 0.178</td> <td>  -21.672     4.015</td>\n",
        "</tr>\n",
        "<tr>\n",
        "  <th>middle eastern_n</th>    <td>   -2.0484</td> <td>    1.032</td> <td>   -1.984</td> <td> 0.047</td> <td>   -4.072    -0.025</td>\n",
        "</tr>\n",
        "<tr>\n",
        "  <th>hispanic_latino_n</th>   <td>   -1.2876</td> <td>    0.795</td> <td>   -1.621</td> <td> 0.105</td> <td>   -2.845     0.270</td>\n",
        "</tr>\n",
        "<tr>\n",
        "  <th>indigenous_n</th>        <td>    0.7263</td> <td>    2.136</td> <td>    0.340</td> <td> 0.734</td> <td>   -3.461     4.913</td>\n",
        "</tr>\n",
        "<tr>\n",
        "  <th>asian_n</th>             <td>   -1.9388</td> <td>    0.780</td> <td>   -2.486</td> <td> 0.013</td> <td>   -3.467    -0.411</td>\n",
        "</tr>\n",
        "<tr>\n",
        "  <th>white_n</th>             <td>   -0.2784</td> <td>    0.216</td> <td>   -1.287</td> <td> 0.198</td> <td>   -0.702     0.146</td>\n",
        "</tr>\n",
        "<tr>\n",
        "  <th>profession=traditional</th>    <th>coef</th>     <th>std err</th>      <th>z</th>      <th>P>|z|</th> <th>[95.0% Conf. Int.]</th> \n",
        "</tr>\n",
        "<tr>\n",
        "  <th>const</th>                  <td>    1.5008</td> <td>    0.125</td> <td>   11.990</td> <td> 0.000</td> <td>    1.255     1.746</td>\n",
        "</tr>\n",
        "<tr>\n",
        "  <th>Other_g</th>                <td>   -0.0174</td> <td>    0.477</td> <td>   -0.036</td> <td> 0.971</td> <td>   -0.952     0.917</td>\n",
        "</tr>\n",
        "<tr>\n",
        "  <th>Male_g</th>                 <td>   -0.6571</td> <td>    0.125</td> <td>   -5.240</td> <td> 0.000</td> <td>   -0.903    -0.411</td>\n",
        "</tr>\n",
        "<tr>\n",
        "  <th>Female_g</th>               <td>    0.0522</td> <td>    0.126</td> <td>    0.415</td> <td> 0.678</td> <td>   -0.195     0.299</td>\n",
        "</tr>\n",
        "<tr>\n",
        "  <th>muslim_r</th>               <td>   -0.5148</td> <td>    0.164</td> <td>   -3.141</td> <td> 0.002</td> <td>   -0.836    -0.194</td>\n",
        "</tr>\n",
        "<tr>\n",
        "  <th>christian_r</th>            <td>   -1.4537</td> <td>    0.038</td> <td>  -38.327</td> <td> 0.000</td> <td>   -1.528    -1.379</td>\n",
        "</tr>\n",
        "<tr>\n",
        "  <th>asian religion_r</th>       <td>   -0.2826</td> <td>    0.538</td> <td>   -0.525</td> <td> 0.599</td> <td>   -1.337     0.772</td>\n",
        "</tr>\n",
        "<tr>\n",
        "  <th>jewish_r</th>               <td>   -1.2062</td> <td>    0.073</td> <td>  -16.540</td> <td> 0.000</td> <td>   -1.349    -1.063</td>\n",
        "</tr>\n",
        "<tr>\n",
        "  <th>hindu_r</th>                <td>   -0.6194</td> <td>    0.228</td> <td>   -2.716</td> <td> 0.007</td> <td>   -1.066    -0.172</td>\n",
        "</tr>\n",
        "<tr>\n",
        "  <th>buddhist_r</th>             <td>   -0.8784</td> <td>    0.189</td> <td>   -4.637</td> <td> 0.000</td> <td>   -1.250    -0.507</td>\n",
        "</tr>\n",
        "<tr>\n",
        "  <th>other_r</th>                <td>   -1.1991</td> <td>    0.174</td> <td>   -6.884</td> <td> 0.000</td> <td>   -1.540    -0.858</td>\n",
        "</tr>\n",
        "<tr>\n",
        "  <th>atheist_spiritual_r</th>    <td>   -1.4329</td> <td>    0.113</td> <td>  -12.670</td> <td> 0.000</td> <td>   -1.655    -1.211</td>\n",
        "</tr>\n",
        "<tr>\n",
        "  <th>african_american_n</th>     <td>   -1.6453</td> <td>    0.291</td> <td>   -5.654</td> <td> 0.000</td> <td>   -2.216    -1.075</td>\n",
        "</tr>\n",
        "<tr>\n",
        "  <th>middle eastern_n</th>       <td>   -0.6944</td> <td>    0.223</td> <td>   -3.110</td> <td> 0.002</td> <td>   -1.132    -0.257</td>\n",
        "</tr>\n",
        "<tr>\n",
        "  <th>hispanic_latino_n</th>      <td>   -0.2173</td> <td>    0.191</td> <td>   -1.137</td> <td> 0.256</td> <td>   -0.592     0.157</td>\n",
        "</tr>\n",
        "<tr>\n",
        "  <th>indigenous_n</th>           <td>   -3.5170</td> <td>    1.260</td> <td>   -2.791</td> <td> 0.005</td> <td>   -5.987    -1.047</td>\n",
        "</tr>\n",
        "<tr>\n",
        "  <th>asian_n</th>                <td>   -0.7723</td> <td>    0.167</td> <td>   -4.622</td> <td> 0.000</td> <td>   -1.100    -0.445</td>\n",
        "</tr>\n",
        "<tr>\n",
        "  <th>white_n</th>                <td>   -0.5844</td> <td>    0.067</td> <td>   -8.681</td> <td> 0.000</td> <td>   -0.716    -0.452</td>\n",
        "</tr>\n",
        "</table>"
       ],
       "metadata": {},
       "output_type": "pyout",
       "prompt_number": 271,
       "text": [
        "<class 'statsmodels.iolib.summary.Summary'>\n",
        "\"\"\"\n",
        "                          MNLogit Regression Results                          \n",
        "==============================================================================\n",
        "Dep. Variable:             profession   No. Observations:               162819\n",
        "Model:                        MNLogit   Df Residuals:                   162765\n",
        "Method:                           MLE   Df Model:                           51\n",
        "Date:                Sat, 29 Nov 2014   Pseudo R-squ.:                 0.04217\n",
        "Time:                        01:37:47   Log-Likelihood:            -1.6939e+05\n",
        "converged:                       True   LL-Null:                   -1.7684e+05\n",
        "                                        LLR p-value:                     0.000\n",
        "==========================================================================================\n",
        "profession=non-traditional       coef    std err          z      P>|z|      [95.0% Conf. Int.]\n",
        "----------------------------------------------------------------------------------------------\n",
        "const                          1.1259      0.130      8.671      0.000         0.871     1.380\n",
        "Other_g                       -1.4946      0.659     -2.268      0.023        -2.786    -0.203\n",
        "Male_g                        -0.5946      0.130     -4.571      0.000        -0.850    -0.340\n",
        "Female_g                      -1.6188      0.132    -12.306      0.000        -1.877    -1.361\n",
        "muslim_r                      -1.0951      0.217     -5.049      0.000        -1.520    -0.670\n",
        "christian_r                    0.0121      0.031      0.388      0.698        -0.049     0.074\n",
        "asian religion_r               0.5715      0.534      1.070      0.285        -0.475     1.619\n",
        "jewish_r                      -0.3698      0.070     -5.283      0.000        -0.507    -0.233\n",
        "hindu_r                        0.1138      0.237      0.479      0.632        -0.351     0.579\n",
        "buddhist_r                    -2.2517      0.379     -5.938      0.000        -2.995    -1.508\n",
        "other_r                       -0.7773      0.192     -4.059      0.000        -1.153    -0.402\n",
        "atheist_spiritual_r           -1.4571      0.135    -10.777      0.000        -1.722    -1.192\n",
        "african_american_n            -0.1978      0.286     -0.692      0.489        -0.758     0.362\n",
        "middle eastern_n              -0.9780      0.260     -3.761      0.000        -1.488    -0.468\n",
        "hispanic_latino_n             -0.3231      0.214     -1.511      0.131        -0.742     0.096\n",
        "indigenous_n                   1.8274      0.774      2.362      0.018         0.311     3.344\n",
        "asian_n                       -1.4419      0.212     -6.793      0.000        -1.858    -1.026\n",
        "white_n                       -0.6732      0.075     -8.982      0.000        -0.820    -0.526\n",
        "----------------------------------------------------------------------------------------------\n",
        "   profession=other       coef    std err          z      P>|z|      [95.0% Conf. Int.]\n",
        "---------------------------------------------------------------------------------------\n",
        "const                  -0.3418      0.175     -1.954      0.051        -0.685     0.001\n",
        "Other_g                -0.7023      0.837     -0.839      0.401        -2.342     0.937\n",
        "Male_g                 -2.2314      0.176    -12.644      0.000        -2.577    -1.885\n",
        "Female_g               -2.2569      0.182    -12.421      0.000        -2.613    -1.901\n",
        "muslim_r                0.8338      0.344      2.422      0.015         0.159     1.509\n",
        "christian_r             0.2229      0.082      2.715      0.007         0.062     0.384\n",
        "asian religion_r       -2.9055      6.927     -0.419      0.675       -16.482    10.671\n",
        "jewish_r               -1.3742      0.353     -3.892      0.000        -2.066    -0.682\n",
        "hindu_r                -0.6800      1.036     -0.656      0.512        -2.711     1.351\n",
        "buddhist_r             -1.4362      1.043     -1.377      0.168        -3.480     0.607\n",
        "other_r                 0.8505      0.304      2.798      0.005         0.255     1.446\n",
        "atheist_spiritual_r    -0.9379      0.409     -2.292      0.022        -1.740    -0.136\n",
        "african_american_n     -8.8288      6.553     -1.347      0.178       -21.672     4.015\n",
        "middle eastern_n       -2.0484      1.032     -1.984      0.047        -4.072    -0.025\n",
        "hispanic_latino_n      -1.2876      0.795     -1.621      0.105        -2.845     0.270\n",
        "indigenous_n            0.7263      2.136      0.340      0.734        -3.461     4.913\n",
        "asian_n                -1.9388      0.780     -2.486      0.013        -3.467    -0.411\n",
        "white_n                -0.2784      0.216     -1.287      0.198        -0.702     0.146\n",
        "---------------------------------------------------------------------------------------\n",
        "profession=traditional       coef    std err          z      P>|z|      [95.0% Conf. Int.]\n",
        "------------------------------------------------------------------------------------------\n",
        "const                      1.5008      0.125     11.990      0.000         1.255     1.746\n",
        "Other_g                   -0.0174      0.477     -0.036      0.971        -0.952     0.917\n",
        "Male_g                    -0.6571      0.125     -5.240      0.000        -0.903    -0.411\n",
        "Female_g                   0.0522      0.126      0.415      0.678        -0.195     0.299\n",
        "muslim_r                  -0.5148      0.164     -3.141      0.002        -0.836    -0.194\n",
        "christian_r               -1.4537      0.038    -38.327      0.000        -1.528    -1.379\n",
        "asian religion_r          -0.2826      0.538     -0.525      0.599        -1.337     0.772\n",
        "jewish_r                  -1.2062      0.073    -16.540      0.000        -1.349    -1.063\n",
        "hindu_r                   -0.6194      0.228     -2.716      0.007        -1.066    -0.172\n",
        "buddhist_r                -0.8784      0.189     -4.637      0.000        -1.250    -0.507\n",
        "other_r                   -1.1991      0.174     -6.884      0.000        -1.540    -0.858\n",
        "atheist_spiritual_r       -1.4329      0.113    -12.670      0.000        -1.655    -1.211\n",
        "african_american_n        -1.6453      0.291     -5.654      0.000        -2.216    -1.075\n",
        "middle eastern_n          -0.6944      0.223     -3.110      0.002        -1.132    -0.257\n",
        "hispanic_latino_n         -0.2173      0.191     -1.137      0.256        -0.592     0.157\n",
        "indigenous_n              -3.5170      1.260     -2.791      0.005        -5.987    -1.047\n",
        "asian_n                   -0.7723      0.167     -4.622      0.000        -1.100    -0.445\n",
        "white_n                   -0.5844      0.067     -8.681      0.000        -0.716    -0.452\n",
        "==========================================================================================\n",
        "\"\"\""
       ]
      }
     ],
     "prompt_number": 271
    },
    {
     "cell_type": "markdown",
     "metadata": {},
     "source": [
      "### Parameters\n",
      "\n",
      "**Note**:\n",
      "note that 0 = non-traditional, 2= traditional\n"
     ]
    },
    {
     "cell_type": "code",
     "collapsed": false,
     "input": [
      "params = result.params\n",
      "params"
     ],
     "language": "python",
     "metadata": {},
     "outputs": [
      {
       "html": [
        "<div style=\"max-height:1000px;max-width:1500px;overflow:auto;\">\n",
        "<table border=\"1\" class=\"dataframe\">\n",
        "  <thead>\n",
        "    <tr style=\"text-align: right;\">\n",
        "      <th></th>\n",
        "      <th>0</th>\n",
        "      <th>1</th>\n",
        "      <th>2</th>\n",
        "    </tr>\n",
        "  </thead>\n",
        "  <tbody>\n",
        "    <tr>\n",
        "      <th>const</th>\n",
        "      <td> 1.125947</td>\n",
        "      <td>-0.341765</td>\n",
        "      <td> 1.500822</td>\n",
        "    </tr>\n",
        "    <tr>\n",
        "      <th>Other_g</th>\n",
        "      <td>-1.494599</td>\n",
        "      <td>-0.702257</td>\n",
        "      <td>-0.017363</td>\n",
        "    </tr>\n",
        "    <tr>\n",
        "      <th>Male_g</th>\n",
        "      <td>-0.594630</td>\n",
        "      <td>-2.231372</td>\n",
        "      <td>-0.657067</td>\n",
        "    </tr>\n",
        "    <tr>\n",
        "      <th>Female_g</th>\n",
        "      <td>-1.618819</td>\n",
        "      <td>-2.256900</td>\n",
        "      <td> 0.052250</td>\n",
        "    </tr>\n",
        "    <tr>\n",
        "      <th>muslim_r</th>\n",
        "      <td>-1.095094</td>\n",
        "      <td> 0.833845</td>\n",
        "      <td>-0.514759</td>\n",
        "    </tr>\n",
        "    <tr>\n",
        "      <th>christian_r</th>\n",
        "      <td> 0.012146</td>\n",
        "      <td> 0.222863</td>\n",
        "      <td>-1.453721</td>\n",
        "    </tr>\n",
        "    <tr>\n",
        "      <th>asian religion_r</th>\n",
        "      <td> 0.571522</td>\n",
        "      <td>-2.905511</td>\n",
        "      <td>-0.282598</td>\n",
        "    </tr>\n",
        "    <tr>\n",
        "      <th>jewish_r</th>\n",
        "      <td>-0.369819</td>\n",
        "      <td>-1.374173</td>\n",
        "      <td>-1.206200</td>\n",
        "    </tr>\n",
        "    <tr>\n",
        "      <th>hindu_r</th>\n",
        "      <td> 0.113763</td>\n",
        "      <td>-0.679977</td>\n",
        "      <td>-0.619435</td>\n",
        "    </tr>\n",
        "    <tr>\n",
        "      <th>buddhist_r</th>\n",
        "      <td>-2.251705</td>\n",
        "      <td>-1.436195</td>\n",
        "      <td>-0.878353</td>\n",
        "    </tr>\n",
        "    <tr>\n",
        "      <th>other_r</th>\n",
        "      <td>-0.777347</td>\n",
        "      <td> 0.850547</td>\n",
        "      <td>-1.199066</td>\n",
        "    </tr>\n",
        "    <tr>\n",
        "      <th>atheist_spiritual_r</th>\n",
        "      <td>-1.457061</td>\n",
        "      <td>-0.937893</td>\n",
        "      <td>-1.432910</td>\n",
        "    </tr>\n",
        "    <tr>\n",
        "      <th>african_american_n</th>\n",
        "      <td>-0.197765</td>\n",
        "      <td>-8.828825</td>\n",
        "      <td>-1.645302</td>\n",
        "    </tr>\n",
        "    <tr>\n",
        "      <th>middle eastern_n</th>\n",
        "      <td>-0.977958</td>\n",
        "      <td>-2.048366</td>\n",
        "      <td>-0.694398</td>\n",
        "    </tr>\n",
        "    <tr>\n",
        "      <th>hispanic_latino_n</th>\n",
        "      <td>-0.323138</td>\n",
        "      <td>-1.287638</td>\n",
        "      <td>-0.217253</td>\n",
        "    </tr>\n",
        "    <tr>\n",
        "      <th>indigenous_n</th>\n",
        "      <td> 1.827366</td>\n",
        "      <td> 0.726307</td>\n",
        "      <td>-3.516963</td>\n",
        "    </tr>\n",
        "    <tr>\n",
        "      <th>asian_n</th>\n",
        "      <td>-1.441891</td>\n",
        "      <td>-1.938791</td>\n",
        "      <td>-0.772303</td>\n",
        "    </tr>\n",
        "    <tr>\n",
        "      <th>white_n</th>\n",
        "      <td>-0.673186</td>\n",
        "      <td>-0.278437</td>\n",
        "      <td>-0.584394</td>\n",
        "    </tr>\n",
        "  </tbody>\n",
        "</table>\n",
        "</div>"
       ],
       "metadata": {},
       "output_type": "pyout",
       "prompt_number": 272,
       "text": [
        "                            0         1         2\n",
        "const                1.125947 -0.341765  1.500822\n",
        "Other_g             -1.494599 -0.702257 -0.017363\n",
        "Male_g              -0.594630 -2.231372 -0.657067\n",
        "Female_g            -1.618819 -2.256900  0.052250\n",
        "muslim_r            -1.095094  0.833845 -0.514759\n",
        "christian_r          0.012146  0.222863 -1.453721\n",
        "asian religion_r     0.571522 -2.905511 -0.282598\n",
        "jewish_r            -0.369819 -1.374173 -1.206200\n",
        "hindu_r              0.113763 -0.679977 -0.619435\n",
        "buddhist_r          -2.251705 -1.436195 -0.878353\n",
        "other_r             -0.777347  0.850547 -1.199066\n",
        "atheist_spiritual_r -1.457061 -0.937893 -1.432910\n",
        "african_american_n  -0.197765 -8.828825 -1.645302\n",
        "middle eastern_n    -0.977958 -2.048366 -0.694398\n",
        "hispanic_latino_n   -0.323138 -1.287638 -0.217253\n",
        "indigenous_n         1.827366  0.726307 -3.516963\n",
        "asian_n             -1.441891 -1.938791 -0.772303\n",
        "white_n             -0.673186 -0.278437 -0.584394"
       ]
      }
     ],
     "prompt_number": 272
    },
    {
     "cell_type": "markdown",
     "metadata": {},
     "source": [
      "### Odd ratios"
     ]
    },
    {
     "cell_type": "code",
     "collapsed": false,
     "input": [
      "odds = np.exp(result.params)\n",
      "odds"
     ],
     "language": "python",
     "metadata": {},
     "outputs": [
      {
       "html": [
        "<div style=\"max-height:1000px;max-width:1500px;overflow:auto;\">\n",
        "<table border=\"1\" class=\"dataframe\">\n",
        "  <thead>\n",
        "    <tr style=\"text-align: right;\">\n",
        "      <th></th>\n",
        "      <th>0</th>\n",
        "      <th>1</th>\n",
        "      <th>2</th>\n",
        "    </tr>\n",
        "  </thead>\n",
        "  <tbody>\n",
        "    <tr>\n",
        "      <th>const</th>\n",
        "      <td> 3.083135</td>\n",
        "      <td> 0.710515</td>\n",
        "      <td> 4.485375</td>\n",
        "    </tr>\n",
        "    <tr>\n",
        "      <th>Other_g</th>\n",
        "      <td> 0.224339</td>\n",
        "      <td> 0.495466</td>\n",
        "      <td> 0.982786</td>\n",
        "    </tr>\n",
        "    <tr>\n",
        "      <th>Male_g</th>\n",
        "      <td> 0.551767</td>\n",
        "      <td> 0.107381</td>\n",
        "      <td> 0.518369</td>\n",
        "    </tr>\n",
        "    <tr>\n",
        "      <th>Female_g</th>\n",
        "      <td> 0.198133</td>\n",
        "      <td> 0.104675</td>\n",
        "      <td> 1.053639</td>\n",
        "    </tr>\n",
        "    <tr>\n",
        "      <th>muslim_r</th>\n",
        "      <td> 0.334508</td>\n",
        "      <td> 2.302153</td>\n",
        "      <td> 0.597645</td>\n",
        "    </tr>\n",
        "    <tr>\n",
        "      <th>christian_r</th>\n",
        "      <td> 1.012220</td>\n",
        "      <td> 1.249649</td>\n",
        "      <td> 0.233699</td>\n",
        "    </tr>\n",
        "    <tr>\n",
        "      <th>asian religion_r</th>\n",
        "      <td> 1.770960</td>\n",
        "      <td> 0.054721</td>\n",
        "      <td> 0.753823</td>\n",
        "    </tr>\n",
        "    <tr>\n",
        "      <th>jewish_r</th>\n",
        "      <td> 0.690859</td>\n",
        "      <td> 0.253049</td>\n",
        "      <td> 0.299333</td>\n",
        "    </tr>\n",
        "    <tr>\n",
        "      <th>hindu_r</th>\n",
        "      <td> 1.120487</td>\n",
        "      <td> 0.506629</td>\n",
        "      <td> 0.538249</td>\n",
        "    </tr>\n",
        "    <tr>\n",
        "      <th>buddhist_r</th>\n",
        "      <td> 0.105220</td>\n",
        "      <td> 0.237831</td>\n",
        "      <td> 0.415467</td>\n",
        "    </tr>\n",
        "    <tr>\n",
        "      <th>other_r</th>\n",
        "      <td> 0.459624</td>\n",
        "      <td> 2.340926</td>\n",
        "      <td> 0.301476</td>\n",
        "    </tr>\n",
        "    <tr>\n",
        "      <th>atheist_spiritual_r</th>\n",
        "      <td> 0.232920</td>\n",
        "      <td> 0.391452</td>\n",
        "      <td> 0.238614</td>\n",
        "    </tr>\n",
        "    <tr>\n",
        "      <th>african_american_n</th>\n",
        "      <td> 0.820562</td>\n",
        "      <td> 0.000146</td>\n",
        "      <td> 0.192954</td>\n",
        "    </tr>\n",
        "    <tr>\n",
        "      <th>middle eastern_n</th>\n",
        "      <td> 0.376078</td>\n",
        "      <td> 0.128945</td>\n",
        "      <td> 0.499375</td>\n",
        "    </tr>\n",
        "    <tr>\n",
        "      <th>hispanic_latino_n</th>\n",
        "      <td> 0.723874</td>\n",
        "      <td> 0.275922</td>\n",
        "      <td> 0.804726</td>\n",
        "    </tr>\n",
        "    <tr>\n",
        "      <th>indigenous_n</th>\n",
        "      <td> 6.217489</td>\n",
        "      <td> 2.067432</td>\n",
        "      <td> 0.029689</td>\n",
        "    </tr>\n",
        "    <tr>\n",
        "      <th>asian_n</th>\n",
        "      <td> 0.236480</td>\n",
        "      <td> 0.143878</td>\n",
        "      <td> 0.461948</td>\n",
        "    </tr>\n",
        "    <tr>\n",
        "      <th>white_n</th>\n",
        "      <td> 0.510081</td>\n",
        "      <td> 0.756966</td>\n",
        "      <td> 0.557444</td>\n",
        "    </tr>\n",
        "  </tbody>\n",
        "</table>\n",
        "</div>"
       ],
       "metadata": {},
       "output_type": "pyout",
       "prompt_number": 273,
       "text": [
        "                            0         1         2\n",
        "const                3.083135  0.710515  4.485375\n",
        "Other_g              0.224339  0.495466  0.982786\n",
        "Male_g               0.551767  0.107381  0.518369\n",
        "Female_g             0.198133  0.104675  1.053639\n",
        "muslim_r             0.334508  2.302153  0.597645\n",
        "christian_r          1.012220  1.249649  0.233699\n",
        "asian religion_r     1.770960  0.054721  0.753823\n",
        "jewish_r             0.690859  0.253049  0.299333\n",
        "hindu_r              1.120487  0.506629  0.538249\n",
        "buddhist_r           0.105220  0.237831  0.415467\n",
        "other_r              0.459624  2.340926  0.301476\n",
        "atheist_spiritual_r  0.232920  0.391452  0.238614\n",
        "african_american_n   0.820562  0.000146  0.192954\n",
        "middle eastern_n     0.376078  0.128945  0.499375\n",
        "hispanic_latino_n    0.723874  0.275922  0.804726\n",
        "indigenous_n         6.217489  2.067432  0.029689\n",
        "asian_n              0.236480  0.143878  0.461948\n",
        "white_n              0.510081  0.756966  0.557444"
       ]
      }
     ],
     "prompt_number": 273
    },
    {
     "cell_type": "markdown",
     "metadata": {},
     "source": [
      "### p-values"
     ]
    },
    {
     "cell_type": "code",
     "collapsed": false,
     "input": [
      "result.pvalues"
     ],
     "language": "python",
     "metadata": {},
     "outputs": [
      {
       "html": [
        "<div style=\"max-height:1000px;max-width:1500px;overflow:auto;\">\n",
        "<table border=\"1\" class=\"dataframe\">\n",
        "  <thead>\n",
        "    <tr style=\"text-align: right;\">\n",
        "      <th></th>\n",
        "      <th>0</th>\n",
        "      <th>1</th>\n",
        "      <th>2</th>\n",
        "    </tr>\n",
        "  </thead>\n",
        "  <tbody>\n",
        "    <tr>\n",
        "      <th>const</th>\n",
        "      <td> 4.285576e-18</td>\n",
        "      <td> 5.073674e-02</td>\n",
        "      <td> 4.024810e-33</td>\n",
        "    </tr>\n",
        "    <tr>\n",
        "      <th>Other_g</th>\n",
        "      <td> 2.331955e-02</td>\n",
        "      <td> 4.012456e-01</td>\n",
        "      <td> 9.709546e-01</td>\n",
        "    </tr>\n",
        "    <tr>\n",
        "      <th>Male_g</th>\n",
        "      <td> 4.854284e-06</td>\n",
        "      <td> 1.203844e-36</td>\n",
        "      <td> 1.607785e-07</td>\n",
        "    </tr>\n",
        "    <tr>\n",
        "      <th>Female_g</th>\n",
        "      <td> 8.445788e-35</td>\n",
        "      <td> 2.016807e-35</td>\n",
        "      <td> 6.783628e-01</td>\n",
        "    </tr>\n",
        "    <tr>\n",
        "      <th>muslim_r</th>\n",
        "      <td> 4.449821e-07</td>\n",
        "      <td> 1.545476e-02</td>\n",
        "      <td> 1.683303e-03</td>\n",
        "    </tr>\n",
        "    <tr>\n",
        "      <th>christian_r</th>\n",
        "      <td> 6.983251e-01</td>\n",
        "      <td> 6.619225e-03</td>\n",
        "      <td> 0.000000e+00</td>\n",
        "    </tr>\n",
        "    <tr>\n",
        "      <th>asian religion_r</th>\n",
        "      <td> 2.846772e-01</td>\n",
        "      <td> 6.748922e-01</td>\n",
        "      <td> 5.993384e-01</td>\n",
        "    </tr>\n",
        "    <tr>\n",
        "      <th>jewish_r</th>\n",
        "      <td> 1.267920e-07</td>\n",
        "      <td> 9.929791e-05</td>\n",
        "      <td> 1.900924e-61</td>\n",
        "    </tr>\n",
        "    <tr>\n",
        "      <th>hindu_r</th>\n",
        "      <td> 6.315955e-01</td>\n",
        "      <td> 5.116628e-01</td>\n",
        "      <td> 6.607872e-03</td>\n",
        "    </tr>\n",
        "    <tr>\n",
        "      <th>buddhist_r</th>\n",
        "      <td> 2.887008e-09</td>\n",
        "      <td> 1.683594e-01</td>\n",
        "      <td> 3.541388e-06</td>\n",
        "    </tr>\n",
        "    <tr>\n",
        "      <th>other_r</th>\n",
        "      <td> 4.926627e-05</td>\n",
        "      <td> 5.141816e-03</td>\n",
        "      <td> 5.831586e-12</td>\n",
        "    </tr>\n",
        "    <tr>\n",
        "      <th>atheist_spiritual_r</th>\n",
        "      <td> 4.406033e-27</td>\n",
        "      <td> 2.191389e-02</td>\n",
        "      <td> 8.674738e-37</td>\n",
        "    </tr>\n",
        "    <tr>\n",
        "      <th>african_american_n</th>\n",
        "      <td> 4.886845e-01</td>\n",
        "      <td> 1.778745e-01</td>\n",
        "      <td> 1.569693e-08</td>\n",
        "    </tr>\n",
        "    <tr>\n",
        "      <th>middle eastern_n</th>\n",
        "      <td> 1.695567e-04</td>\n",
        "      <td> 4.722800e-02</td>\n",
        "      <td> 1.873552e-03</td>\n",
        "    </tr>\n",
        "    <tr>\n",
        "      <th>hispanic_latino_n</th>\n",
        "      <td> 1.306863e-01</td>\n",
        "      <td> 1.051129e-01</td>\n",
        "      <td> 2.557365e-01</td>\n",
        "    </tr>\n",
        "    <tr>\n",
        "      <th>indigenous_n</th>\n",
        "      <td> 1.817902e-02</td>\n",
        "      <td> 7.338761e-01</td>\n",
        "      <td> 5.260055e-03</td>\n",
        "    </tr>\n",
        "    <tr>\n",
        "      <th>asian_n</th>\n",
        "      <td> 1.096343e-11</td>\n",
        "      <td> 1.290363e-02</td>\n",
        "      <td> 3.793135e-06</td>\n",
        "    </tr>\n",
        "    <tr>\n",
        "      <th>white_n</th>\n",
        "      <td> 2.659402e-19</td>\n",
        "      <td> 1.981078e-01</td>\n",
        "      <td> 3.937791e-18</td>\n",
        "    </tr>\n",
        "  </tbody>\n",
        "</table>\n",
        "</div>"
       ],
       "metadata": {},
       "output_type": "pyout",
       "prompt_number": 274,
       "text": [
        "                                0             1             2\n",
        "const                4.285576e-18  5.073674e-02  4.024810e-33\n",
        "Other_g              2.331955e-02  4.012456e-01  9.709546e-01\n",
        "Male_g               4.854284e-06  1.203844e-36  1.607785e-07\n",
        "Female_g             8.445788e-35  2.016807e-35  6.783628e-01\n",
        "muslim_r             4.449821e-07  1.545476e-02  1.683303e-03\n",
        "christian_r          6.983251e-01  6.619225e-03  0.000000e+00\n",
        "asian religion_r     2.846772e-01  6.748922e-01  5.993384e-01\n",
        "jewish_r             1.267920e-07  9.929791e-05  1.900924e-61\n",
        "hindu_r              6.315955e-01  5.116628e-01  6.607872e-03\n",
        "buddhist_r           2.887008e-09  1.683594e-01  3.541388e-06\n",
        "other_r              4.926627e-05  5.141816e-03  5.831586e-12\n",
        "atheist_spiritual_r  4.406033e-27  2.191389e-02  8.674738e-37\n",
        "african_american_n   4.886845e-01  1.778745e-01  1.569693e-08\n",
        "middle eastern_n     1.695567e-04  4.722800e-02  1.873552e-03\n",
        "hispanic_latino_n    1.306863e-01  1.051129e-01  2.557365e-01\n",
        "indigenous_n         1.817902e-02  7.338761e-01  5.260055e-03\n",
        "asian_n              1.096343e-11  1.290363e-02  3.793135e-06\n",
        "white_n              2.659402e-19  1.981078e-01  3.937791e-18"
       ]
      }
     ],
     "prompt_number": 274
    }
   ],
   "metadata": {}
  }
 ]
}