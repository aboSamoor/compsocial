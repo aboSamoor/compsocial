{
 "metadata": {
  "name": "",
  "signature": "sha256:1bece1c60561fb9c1f1f749982d19024e7bfd3f10e2326fbcc29f909a3cbd867"
 },
 "nbformat": 3,
 "nbformat_minor": 0,
 "worksheets": [
  {
   "cells": [
    {
     "cell_type": "code",
     "collapsed": false,
     "input": [
      "import pandas as pd\n",
      "import numpy as np\n",
      "import cPickle as pickle\n",
      "from datetime import date\n",
      "from collections import Counter\n",
      "from pandas import Series"
     ],
     "language": "python",
     "metadata": {},
     "outputs": [],
     "prompt_number": 1
    },
    {
     "cell_type": "markdown",
     "metadata": {},
     "source": [
      "### Loading Data"
     ]
    },
    {
     "cell_type": "code",
     "collapsed": false,
     "input": [
      "fh = open(\"/data/csc/fb_persons/unified_100percentpeople.pkl\", 'rb')\n",
      "df = pickle.load(fh)"
     ],
     "language": "python",
     "metadata": {},
     "outputs": [],
     "prompt_number": 2
    },
    {
     "cell_type": "code",
     "collapsed": false,
     "input": [
      "df.head()"
     ],
     "language": "python",
     "metadata": {},
     "outputs": [
      {
       "html": [
        "<div style=\"max-height:1000px;max-width:1500px;overflow:auto;\">\n",
        "<table border=\"1\" class=\"dataframe\">\n",
        "  <thead>\n",
        "    <tr style=\"text-align: right;\">\n",
        "      <th></th>\n",
        "      <th>date_of_birth</th>\n",
        "      <th>ethnicity</th>\n",
        "      <th>gender</th>\n",
        "      <th>name</th>\n",
        "      <th>nationality</th>\n",
        "      <th>place_of_birth</th>\n",
        "      <th>profession</th>\n",
        "      <th>religion</th>\n",
        "    </tr>\n",
        "  </thead>\n",
        "  <tbody>\n",
        "    <tr>\n",
        "      <th>0</th>\n",
        "      <td>        NaN</td>\n",
        "      <td> None</td>\n",
        "      <td> Female</td>\n",
        "      <td> Courtney Jamieson</td>\n",
        "      <td>           None</td>\n",
        "      <td>    NaN</td>\n",
        "      <td>            music_art</td>\n",
        "      <td> None</td>\n",
        "    </tr>\n",
        "    <tr>\n",
        "      <th>1</th>\n",
        "      <td>        NaN</td>\n",
        "      <td> None</td>\n",
        "      <td>   Male</td>\n",
        "      <td>       Robert Moir</td>\n",
        "      <td>           None</td>\n",
        "      <td>    NaN</td>\n",
        "      <td>                other</td>\n",
        "      <td> None</td>\n",
        "    </tr>\n",
        "    <tr>\n",
        "      <th>2</th>\n",
        "      <td> 1962-04-21</td>\n",
        "      <td> None</td>\n",
        "      <td>   Male</td>\n",
        "      <td>       Mehdi Jomaa</td>\n",
        "      <td> middle eastern</td>\n",
        "      <td> Mahdia</td>\n",
        "      <td> (law_politics, stem)</td>\n",
        "      <td> None</td>\n",
        "    </tr>\n",
        "    <tr>\n",
        "      <th>3</th>\n",
        "      <td>        NaN</td>\n",
        "      <td> None</td>\n",
        "      <td>   Male</td>\n",
        "      <td>  Victoria Shields</td>\n",
        "      <td>           None</td>\n",
        "      <td>    NaN</td>\n",
        "      <td>                 None</td>\n",
        "      <td> None</td>\n",
        "    </tr>\n",
        "    <tr>\n",
        "      <th>4</th>\n",
        "      <td> 1992-06-24</td>\n",
        "      <td> None</td>\n",
        "      <td>   Male</td>\n",
        "      <td>   Terrick Colston</td>\n",
        "      <td>           None</td>\n",
        "      <td>    NaN</td>\n",
        "      <td>                 None</td>\n",
        "      <td> None</td>\n",
        "    </tr>\n",
        "  </tbody>\n",
        "</table>\n",
        "</div>"
       ],
       "metadata": {},
       "output_type": "pyout",
       "prompt_number": 3,
       "text": [
        "  date_of_birth ethnicity  gender               name     nationality  \\\n",
        "0           NaN      None  Female  Courtney Jamieson            None   \n",
        "1           NaN      None    Male        Robert Moir            None   \n",
        "2    1962-04-21      None    Male        Mehdi Jomaa  middle eastern   \n",
        "3           NaN      None    Male   Victoria Shields            None   \n",
        "4    1992-06-24      None    Male    Terrick Colston            None   \n",
        "\n",
        "  place_of_birth            profession religion  \n",
        "0            NaN             music_art     None  \n",
        "1            NaN                 other     None  \n",
        "2         Mahdia  (law_politics, stem)     None  \n",
        "3            NaN                  None     None  \n",
        "4            NaN                  None     None  "
       ]
      }
     ],
     "prompt_number": 3
    },
    {
     "cell_type": "code",
     "collapsed": false,
     "input": [
      "selected_columns = [\"gender\", \"date_of_birth\", \"ethnicity\", \"name\", \"profession\",\n",
      "                    \"religion\", \"nationality\"]\n",
      "df = df[selected_columns]"
     ],
     "language": "python",
     "metadata": {},
     "outputs": [],
     "prompt_number": 4
    },
    {
     "cell_type": "code",
     "collapsed": false,
     "input": [
      "df.head()"
     ],
     "language": "python",
     "metadata": {},
     "outputs": [
      {
       "html": [
        "<div style=\"max-height:1000px;max-width:1500px;overflow:auto;\">\n",
        "<table border=\"1\" class=\"dataframe\">\n",
        "  <thead>\n",
        "    <tr style=\"text-align: right;\">\n",
        "      <th></th>\n",
        "      <th>gender</th>\n",
        "      <th>date_of_birth</th>\n",
        "      <th>ethnicity</th>\n",
        "      <th>name</th>\n",
        "      <th>profession</th>\n",
        "      <th>religion</th>\n",
        "      <th>nationality</th>\n",
        "    </tr>\n",
        "  </thead>\n",
        "  <tbody>\n",
        "    <tr>\n",
        "      <th>0</th>\n",
        "      <td> Female</td>\n",
        "      <td>        NaN</td>\n",
        "      <td> None</td>\n",
        "      <td> Courtney Jamieson</td>\n",
        "      <td>            music_art</td>\n",
        "      <td> None</td>\n",
        "      <td>           None</td>\n",
        "    </tr>\n",
        "    <tr>\n",
        "      <th>1</th>\n",
        "      <td>   Male</td>\n",
        "      <td>        NaN</td>\n",
        "      <td> None</td>\n",
        "      <td>       Robert Moir</td>\n",
        "      <td>                other</td>\n",
        "      <td> None</td>\n",
        "      <td>           None</td>\n",
        "    </tr>\n",
        "    <tr>\n",
        "      <th>2</th>\n",
        "      <td>   Male</td>\n",
        "      <td> 1962-04-21</td>\n",
        "      <td> None</td>\n",
        "      <td>       Mehdi Jomaa</td>\n",
        "      <td> (law_politics, stem)</td>\n",
        "      <td> None</td>\n",
        "      <td> middle eastern</td>\n",
        "    </tr>\n",
        "    <tr>\n",
        "      <th>3</th>\n",
        "      <td>   Male</td>\n",
        "      <td>        NaN</td>\n",
        "      <td> None</td>\n",
        "      <td>  Victoria Shields</td>\n",
        "      <td>                 None</td>\n",
        "      <td> None</td>\n",
        "      <td>           None</td>\n",
        "    </tr>\n",
        "    <tr>\n",
        "      <th>4</th>\n",
        "      <td>   Male</td>\n",
        "      <td> 1992-06-24</td>\n",
        "      <td> None</td>\n",
        "      <td>   Terrick Colston</td>\n",
        "      <td>                 None</td>\n",
        "      <td> None</td>\n",
        "      <td>           None</td>\n",
        "    </tr>\n",
        "  </tbody>\n",
        "</table>\n",
        "</div>"
       ],
       "metadata": {},
       "output_type": "pyout",
       "prompt_number": 5,
       "text": [
        "   gender date_of_birth ethnicity               name            profession  \\\n",
        "0  Female           NaN      None  Courtney Jamieson             music_art   \n",
        "1    Male           NaN      None        Robert Moir                 other   \n",
        "2    Male    1962-04-21      None        Mehdi Jomaa  (law_politics, stem)   \n",
        "3    Male           NaN      None   Victoria Shields                  None   \n",
        "4    Male    1992-06-24      None    Terrick Colston                  None   \n",
        "\n",
        "  religion     nationality  \n",
        "0     None            None  \n",
        "1     None            None  \n",
        "2     None  middle eastern  \n",
        "3     None            None  \n",
        "4     None            None  "
       ]
      }
     ],
     "prompt_number": 5
    },
    {
     "cell_type": "markdown",
     "metadata": {},
     "source": [
      "###Considering only people after the 1800s"
     ]
    },
    {
     "cell_type": "code",
     "collapsed": false,
     "input": [
      "victorian_age = date(1800, 1, 1)\n",
      "df = df[np.logical_not(df.date_of_birth.isnull().values)]\n",
      "df = df[df.date_of_birth > victorian_age]"
     ],
     "language": "python",
     "metadata": {},
     "outputs": [],
     "prompt_number": 6
    },
    {
     "cell_type": "code",
     "collapsed": false,
     "input": [
      "len(df)"
     ],
     "language": "python",
     "metadata": {},
     "outputs": [
      {
       "metadata": {},
       "output_type": "pyout",
       "prompt_number": 7,
       "text": [
        "1300159"
       ]
      }
     ],
     "prompt_number": 7
    },
    {
     "cell_type": "code",
     "collapsed": false,
     "input": [
      "len(df.nationality.dropna())"
     ],
     "language": "python",
     "metadata": {},
     "outputs": [
      {
       "metadata": {},
       "output_type": "pyout",
       "prompt_number": 8,
       "text": [
        "703447"
       ]
      }
     ],
     "prompt_number": 8
    },
    {
     "cell_type": "markdown",
     "metadata": {},
     "source": [
      "### Considering Only Americans"
     ]
    },
    {
     "cell_type": "code",
     "collapsed": false,
     "input": [
      "americans = map(lambda x: (isinstance(x, basestring) and x == 'united states of america') or\n",
      "                          (isinstance(x, tuple) and  'united states of america' in x),\n",
      "                          df.nationality)\n",
      "df = df[americans]"
     ],
     "language": "python",
     "metadata": {},
     "outputs": [],
     "prompt_number": 9
    },
    {
     "cell_type": "code",
     "collapsed": false,
     "input": [
      "len(df)"
     ],
     "language": "python",
     "metadata": {},
     "outputs": [
      {
       "metadata": {},
       "output_type": "pyout",
       "prompt_number": 10,
       "text": [
        "223632"
       ]
      }
     ],
     "prompt_number": 10
    },
    {
     "cell_type": "markdown",
     "metadata": {},
     "source": [
      "## Feature Extraction"
     ]
    },
    {
     "cell_type": "code",
     "collapsed": false,
     "input": [
      "from sklearn.preprocessing import OneHotEncoder\n",
      "from sklearn.feature_extraction import DictVectorizer"
     ],
     "language": "python",
     "metadata": {},
     "outputs": [],
     "prompt_number": 11
    },
    {
     "cell_type": "code",
     "collapsed": false,
     "input": [
      "def feature_matrix(df, field):\n",
      "  features = df[[field]].fillna(\"nan\").values.reshape(-1)\n",
      "  vocab = []\n",
      "  for value in features:\n",
      "    if isinstance(value, tuple):\n",
      "      vocab.extend(value)\n",
      "    else:\n",
      "      vocab.append(value)\n",
      "  vocab = set(vocab)\n",
      "  word_index = {w:i for i,w in enumerate(vocab)}\n",
      "  matrix = np.zeros((len(features), len(vocab)))\n",
      "  for i, value in enumerate(features):\n",
      "    if isinstance(value, tuple):\n",
      "      for v in value:\n",
      "        matrix[i, word_index[v]] = 1.0/len(value)\n",
      "    else:\n",
      "      matrix[i, word_index[value]] = 1\n",
      "  print \"{}: persons, {}:number of categories\".format(*matrix.shape)\n",
      "  print \"{} persons have mixed categories\".format(np.argwhere((matrix > 0).sum(axis=1) > 1).shape[0])\n",
      "  return matrix, word_index"
     ],
     "language": "python",
     "metadata": {},
     "outputs": [],
     "prompt_number": 12
    },
    {
     "cell_type": "code",
     "collapsed": false,
     "input": [
      "gender_features, gender_index = feature_matrix(df, \"gender\")"
     ],
     "language": "python",
     "metadata": {},
     "outputs": [
      {
       "output_type": "stream",
       "stream": "stdout",
       "text": [
        "223632: persons, 4:number of categories\n",
        "0 persons have mixed categories\n"
       ]
      }
     ],
     "prompt_number": 13
    },
    {
     "cell_type": "code",
     "collapsed": false,
     "input": [
      "ethnicity_features, ethnicity_index = feature_matrix(df, \"ethnicity\")"
     ],
     "language": "python",
     "metadata": {},
     "outputs": [
      {
       "output_type": "stream",
       "stream": "stdout",
       "text": [
        "223632: persons, 12:number of categories\n",
        "795 persons have mixed categories\n"
       ]
      }
     ],
     "prompt_number": 14
    },
    {
     "cell_type": "code",
     "collapsed": false,
     "input": [
      "religion_features, religion_index = feature_matrix(df, \"religion\")"
     ],
     "language": "python",
     "metadata": {},
     "outputs": [
      {
       "output_type": "stream",
       "stream": "stdout",
       "text": [
        "223632: persons, 9:number of categories\n",
        "179 persons have mixed categories\n"
       ]
      }
     ],
     "prompt_number": 15
    },
    {
     "cell_type": "code",
     "collapsed": false,
     "input": [
      "nationality_features, nationality_index = feature_matrix(df, \"nationality\")"
     ],
     "language": "python",
     "metadata": {},
     "outputs": [
      {
       "output_type": "stream",
       "stream": "stdout",
       "text": [
        "223632: persons, 7:number of categories\n",
        "10910 persons have mixed categories\n"
       ]
      }
     ],
     "prompt_number": 16
    },
    {
     "cell_type": "code",
     "collapsed": false,
     "input": [
      "profession_features, profession_index = feature_matrix(df, \"profession\")"
     ],
     "language": "python",
     "metadata": {},
     "outputs": [
      {
       "output_type": "stream",
       "stream": "stdout",
       "text": [
        "223632: persons, 9:number of categories\n",
        "31897 persons have mixed categories\n"
       ]
      }
     ],
     "prompt_number": 17
    },
    {
     "cell_type": "code",
     "collapsed": false,
     "input": [
      "non_traditional_cols  = [profession_index[x] for x in ['athlete', 'business', 'law_politics',\n",
      "                                                       'religion', 'stem']]\n",
      "traditional_cols = [profession_index[x] for x in ['music_art', 'humanities']]"
     ],
     "language": "python",
     "metadata": {},
     "outputs": [],
     "prompt_number": 18
    },
    {
     "cell_type": "code",
     "collapsed": false,
     "input": [
      "non_traditional = 1 * (profession_features[:, non_traditional_cols].sum(axis=1) >= 1)\n",
      "traditional = 1 * (profession_features[:, traditional_cols].sum(axis=1) >= 1)\n",
      "nan_features = profession_features[:, profession_index[\"nan\"]]\n",
      "other_features = profession_features[:, profession_index[\"other\"]]\n",
      "general_professions = np.vstack([non_traditional, traditional, nan_features, other_features]).T\n",
      "general_professions_index = {\"non_traditional\": 0, \"traditional\": 1, \"nan\": 2, \"other\":3}"
     ],
     "language": "python",
     "metadata": {},
     "outputs": [],
     "prompt_number": 19
    },
    {
     "cell_type": "markdown",
     "metadata": {},
     "source": [
      "## Correlation Analysis"
     ]
    },
    {
     "cell_type": "code",
     "collapsed": false,
     "input": [
      "from scipy.stats import pearsonr"
     ],
     "language": "python",
     "metadata": {},
     "outputs": [],
     "prompt_number": 20
    },
    {
     "cell_type": "code",
     "collapsed": false,
     "input": [
      "def correlate(var1_features, var2_features, var1_index, var2_index):\n",
      "  R = np.zeros((var1_features.shape[1], var2_features.shape[1]))\n",
      "  P = np.zeros((var1_features.shape[1], var2_features.shape[1]))\n",
      "  k = 0\n",
      "  for i in range(var1_features.shape[1]):\n",
      "    for j in range(var2_features.shape[1]):\n",
      "      r, p =  pearsonr(var1_features[:, i], var2_features[:, j])\n",
      "      R[i,j] = r\n",
      "      P[i,j] = p\n",
      "      print \"\\r%i\" % k,\n",
      "      k += 1\n",
      "  idx = R.argsort(axis=1)\n",
      "  index_var1 = {i:g for g,i in var1_index.iteritems()}\n",
      "  index_var2 = {i:g for g,i in var2_index.iteritems()}\n",
      "  print\n",
      "  for i in range(len(index_var1)):\n",
      "    print\n",
      "    #if i in [0, 2]: continue\n",
      "    for j in idx[i][::-1]:\n",
      "      print  \"{:<4}{:<4}{:<24}{:<24}{:>20.4f}{:>20.4f}\".format(i, j, index_var1[i], index_var2[j], R[i,j], P[i,j])"
     ],
     "language": "python",
     "metadata": {},
     "outputs": [],
     "prompt_number": 21
    },
    {
     "cell_type": "code",
     "collapsed": false,
     "input": [
      "correlate(gender_features, profession_features, gender_index, profession_index)"
     ],
     "language": "python",
     "metadata": {},
     "outputs": [
      {
       "output_type": "stream",
       "stream": "stdout",
       "text": [
        "\r",
        "0 \r",
        "1 \r",
        "2 \r",
        "3 \r",
        "4 \r",
        "5 \r",
        "6 \r",
        "7 \r",
        "8 "
       ]
      },
      {
       "output_type": "stream",
       "stream": "stdout",
       "text": [
        "\r",
        "9 \r",
        "10 \r",
        "11 \r",
        "12 \r",
        "13 \r",
        "14 \r",
        "15 \r",
        "16 \r",
        "17 "
       ]
      },
      {
       "output_type": "stream",
       "stream": "stdout",
       "text": [
        "\r",
        "18 \r",
        "19 \r",
        "20 \r",
        "21 \r",
        "22 \r",
        "23 \r",
        "24 \r",
        "25 \r",
        "26 "
       ]
      },
      {
       "output_type": "stream",
       "stream": "stdout",
       "text": [
        "\r",
        "27 \r",
        "28 \r",
        "29 \r",
        "30 \r",
        "31 \r",
        "32 \r",
        "33 \r",
        "34 \r",
        "35\n",
        "\n",
        "0   1   Other                   humanities                            0.0062              0.0031\n",
        "0   6   Other                   other                                 0.0036              0.0921\n",
        "0   0   Other                   business                              0.0020              0.3482\n",
        "0   8   Other                   music_art                             0.0010              0.6288\n",
        "0   5   Other                   religion                             -0.0006              0.7871\n",
        "0   4   Other                   stem                                 -0.0013              0.5412\n",
        "0   3   Other                   nan                                  -0.0018              0.4057\n",
        "0   7   Other                   law_politics                         -0.0021              0.3149\n",
        "0   2   Other                   athlete                              -0.0044              0.0358\n",
        "\n",
        "1   2   Male                    athlete                               0.1379              0.0000\n",
        "1   7   Male                    law_politics                          0.0586              0.0000\n",
        "1   4   Male                    stem                                  0.0578              0.0000\n",
        "1   3   Male                    nan                                   0.0459              0.0000\n",
        "1   0   Male                    business                              0.0349              0.0000\n",
        "1   5   Male                    religion                              0.0167              0.0000\n",
        "1   6   Male                    other                                 0.0016              0.4430\n",
        "1   1   Male                    humanities                           -0.0453              0.0000\n",
        "1   8   Male                    music_art                            -0.1801              0.0000\n",
        "\n",
        "2   3   nan                     nan                                   0.1112              0.0000\n",
        "2   6   nan                     other                                 0.0074              0.0005\n",
        "2   5   nan                     religion                              0.0004              0.8572\n",
        "2   0   nan                     business                             -0.0062              0.0034\n",
        "2   4   nan                     stem                                 -0.0109              0.0000\n",
        "2   7   nan                     law_politics                         -0.0195              0.0000\n",
        "2   2   nan                     athlete                              -0.0257              0.0000\n",
        "2   1   nan                     humanities                           -0.0288              0.0000\n",
        "2   8   nan                     music_art                            -0.0600              0.0000\n",
        "\n",
        "3   8   Female                  music_art                             0.1999              0.0000\n",
        "3   1   Female                  humanities                            0.0537              0.0000\n",
        "3   6   Female                  other                                -0.0038              0.0754\n",
        "3   5   Female                  religion                             -0.0172              0.0000\n",
        "3   0   Female                  business                             -0.0340              0.0000\n",
        "3   7   Female                  law_politics                         -0.0545              0.0000\n",
        "3   4   Female                  stem                                 -0.0560              0.0000\n",
        "3   3   Female                  nan                                  -0.0765              0.0000\n",
        "3   2   Female                  athlete                              -0.1338              0.0000\n"
       ]
      }
     ],
     "prompt_number": 22
    },
    {
     "cell_type": "code",
     "collapsed": false,
     "input": [
      "correlate(gender_features, general_professions, gender_index, general_professions_index)"
     ],
     "language": "python",
     "metadata": {},
     "outputs": [
      {
       "output_type": "stream",
       "stream": "stdout",
       "text": [
        "\r",
        "0 \r",
        "1 \r",
        "2 \r",
        "3 \r",
        "4 \r",
        "5 \r",
        "6 \r",
        "7 \r",
        "8 \r",
        "9 \r",
        "10 \r",
        "11 \r",
        "12 \r",
        "13 \r",
        "14 \r",
        "15\n",
        "\n",
        "0   1   Other                   traditional                           0.0046              0.0291\n",
        "0   3   Other                   other                                 0.0036              0.0921\n",
        "0   2   Other                   nan                                  -0.0018              0.4057\n",
        "0   0   Other                   non_traditional                      -0.0045              0.0324\n",
        "\n",
        "1   0   Male                    non_traditional                       0.1708              0.0000\n",
        "1   2   Male                    nan                                   0.0459              0.0000\n",
        "1   3   Male                    other                                 0.0016              0.4430\n",
        "1   1   Male                    traditional                          -0.1903              0.0000\n",
        "\n",
        "2   2   nan                     nan                                   0.1112              0.0000\n",
        "2   3   nan                     other                                 0.0074              0.0005\n",
        "2   0   nan                     non_traditional                      -0.0324              0.0000\n",
        "2   1   nan                     traditional                          -0.0661              0.0000\n",
        "\n",
        "3   1   Female                  traditional                           0.2117              0.0000\n",
        "3   3   Female                  other                                -0.0038              0.0754\n",
        "3   2   Female                  nan                                  -0.0765              0.0000\n",
        "3   0   Female                  non_traditional                      -0.1656              0.0000\n"
       ]
      }
     ],
     "prompt_number": 23
    },
    {
     "cell_type": "code",
     "collapsed": false,
     "input": [
      "correlate(ethnicity_features, profession_features, ethnicity_index, profession_index)"
     ],
     "language": "python",
     "metadata": {},
     "outputs": [
      {
       "output_type": "stream",
       "stream": "stdout",
       "text": [
        "\r",
        "0 \r",
        "1 \r",
        "2 \r",
        "3 \r",
        "4 \r",
        "5 "
       ]
      },
      {
       "output_type": "stream",
       "stream": "stdout",
       "text": [
        "\r",
        "6 \r",
        "7 \r",
        "8 \r",
        "9 \r",
        "10 \r",
        "11 "
       ]
      },
      {
       "output_type": "stream",
       "stream": "stdout",
       "text": [
        "\r",
        "12 \r",
        "13 \r",
        "14 \r",
        "15 \r",
        "16 \r",
        "17 "
       ]
      },
      {
       "output_type": "stream",
       "stream": "stdout",
       "text": [
        "\r",
        "18 \r",
        "19 \r",
        "20 \r",
        "21 \r",
        "22 \r",
        "23 "
       ]
      },
      {
       "output_type": "stream",
       "stream": "stdout",
       "text": [
        "\r",
        "24 \r",
        "25 \r",
        "26 \r",
        "27 \r",
        "28 \r",
        "29 "
       ]
      },
      {
       "output_type": "stream",
       "stream": "stdout",
       "text": [
        "\r",
        "30 \r",
        "31 \r",
        "32 \r",
        "33 \r",
        "34 \r",
        "35 "
       ]
      },
      {
       "output_type": "stream",
       "stream": "stdout",
       "text": [
        "\r",
        "36 \r",
        "37 \r",
        "38 \r",
        "39 \r",
        "40 \r",
        "41 "
       ]
      },
      {
       "output_type": "stream",
       "stream": "stdout",
       "text": [
        "\r",
        "42 \r",
        "43 \r",
        "44 \r",
        "45 \r",
        "46 \r",
        "47 "
       ]
      },
      {
       "output_type": "stream",
       "stream": "stdout",
       "text": [
        "\r",
        "48 \r",
        "49 \r",
        "50 \r",
        "51 \r",
        "52 \r",
        "53 "
       ]
      },
      {
       "output_type": "stream",
       "stream": "stdout",
       "text": [
        "\r",
        "54 \r",
        "55 \r",
        "56 \r",
        "57 \r",
        "58 \r",
        "59 "
       ]
      },
      {
       "output_type": "stream",
       "stream": "stdout",
       "text": [
        "\r",
        "60 \r",
        "61 \r",
        "62 \r",
        "63 \r",
        "64 \r",
        "65 "
       ]
      },
      {
       "output_type": "stream",
       "stream": "stdout",
       "text": [
        "\r",
        "66 \r",
        "67 \r",
        "68 \r",
        "69 \r",
        "70 \r",
        "71 "
       ]
      },
      {
       "output_type": "stream",
       "stream": "stdout",
       "text": [
        "\r",
        "72 \r",
        "73 \r",
        "74 \r",
        "75 \r",
        "76 \r",
        "77 "
       ]
      },
      {
       "output_type": "stream",
       "stream": "stdout",
       "text": [
        "\r",
        "78 \r",
        "79 \r",
        "80 \r",
        "81 \r",
        "82 \r",
        "83 "
       ]
      },
      {
       "output_type": "stream",
       "stream": "stdout",
       "text": [
        "\r",
        "84 \r",
        "85 \r",
        "86 \r",
        "87 \r",
        "88 \r",
        "89 "
       ]
      },
      {
       "output_type": "stream",
       "stream": "stdout",
       "text": [
        "\r",
        "90 \r",
        "91 \r",
        "92 \r",
        "93 \r",
        "94 \r",
        "95 "
       ]
      },
      {
       "output_type": "stream",
       "stream": "stdout",
       "text": [
        "\r",
        "96 \r",
        "97 \r",
        "98 \r",
        "99 \r",
        "100 \r",
        "101 "
       ]
      },
      {
       "output_type": "stream",
       "stream": "stdout",
       "text": [
        "\r",
        "102 \r",
        "103 \r",
        "104 \r",
        "105 \r",
        "106 \r",
        "107\n",
        "\n",
        "0   1   jewish                  humanities                            0.0442              0.0000\n",
        "0   0   jewish                  business                              0.0334              0.0000\n",
        "0   7   jewish                  law_politics                          0.0179              0.0000\n",
        "0   4   jewish                  stem                                  0.0177              0.0000\n",
        "0   5   jewish                  religion                              0.0048              0.0224\n",
        "0   6   jewish                  other                                 0.0023              0.2686\n",
        "0   8   jewish                  music_art                             0.0006              0.7813\n",
        "0   2   jewish                  athlete                              -0.0213              0.0000\n",
        "0   3   jewish                  nan                                  -0.0408              0.0000\n",
        "\n",
        "1   7   african_american        law_politics                          0.0044              0.0375\n",
        "1   5   african_american        religion                              0.0042              0.0462\n",
        "1   1   african_american        humanities                            0.0032              0.1262\n",
        "1   8   african_american        music_art                             0.0029              0.1714\n",
        "1   0   african_american        business                              0.0002              0.9286\n",
        "1   6   african_american        other                                -0.0007              0.7307\n",
        "1   4   african_american        stem                                 -0.0010              0.6387\n",
        "1   2   african_american        athlete                              -0.0038              0.0753\n",
        "1   3   african_american        nan                                  -0.0041              0.0510\n",
        "\n",
        "2   3   nan                     nan                                   0.1226              0.0000\n",
        "2   2   nan                     athlete                               0.0098              0.0000\n",
        "2   4   nan                     stem                                  0.0047              0.0272\n",
        "2   5   nan                     religion                             -0.0050              0.0189\n",
        "2   6   nan                     other                                -0.0075              0.0004\n",
        "2   7   nan                     law_politics                         -0.0293              0.0000\n",
        "2   1   nan                     humanities                           -0.0380              0.0000\n",
        "2   0   nan                     business                             -0.0448              0.0000\n",
        "2   8   nan                     music_art                            -0.0766              0.0000\n",
        "\n",
        "3   1   middle eastern          humanities                            0.0152              0.0000\n",
        "3   0   middle eastern          business                              0.0068              0.0013\n",
        "3   7   middle eastern          law_politics                          0.0058              0.0059\n",
        "3   4   middle eastern          stem                                  0.0038              0.0739\n",
        "3   8   middle eastern          music_art                             0.0016              0.4471\n",
        "3   6   middle eastern          other                                 0.0005              0.7998\n",
        "3   5   middle eastern          religion                             -0.0003              0.8878\n",
        "3   2   middle eastern          athlete                              -0.0091              0.0000\n",
        "3   3   middle eastern          nan                                  -0.0114              0.0000\n",
        "\n",
        "4   8   hispanic_latino         music_art                             0.0152              0.0000\n",
        "4   1   hispanic_latino         humanities                            0.0081              0.0001\n",
        "4   0   hispanic_latino         business                              0.0042              0.0462\n",
        "4   7   hispanic_latino         law_politics                          0.0037              0.0827\n",
        "4   6   hispanic_latino         other                                 0.0029              0.1750\n",
        "4   5   hispanic_latino         religion                              0.0011              0.5983\n",
        "4   4   hispanic_latino         stem                                 -0.0063              0.0030\n",
        "4   2   hispanic_latino         athlete                              -0.0064              0.0025\n",
        "4   3   hispanic_latino         nan                                  -0.0171              0.0000\n",
        "\n",
        "5   1   indigenous              humanities                            0.0116              0.0000\n",
        "5   8   indigenous              music_art                             0.0070              0.0009\n",
        "5   7   indigenous              law_politics                          0.0055              0.0097\n",
        "5   2   indigenous              athlete                               0.0025              0.2438\n",
        "5   6   indigenous              other                                 0.0003              0.8726\n",
        "5   5   indigenous              religion                             -0.0015              0.4665\n",
        "5   0   indigenous              business                             -0.0039              0.0651\n",
        "5   4   indigenous              stem                                 -0.0055              0.0093\n",
        "5   3   indigenous              nan                                  -0.0154              0.0000\n",
        "\n",
        "6   8   hispanic                music_art                             0.0132              0.0000\n",
        "6   6   hispanic                other                                 0.0036              0.0900\n",
        "6   1   hispanic                humanities                            0.0019              0.3734\n",
        "6   0   hispanic                business                             -0.0004              0.8372\n",
        "6   5   hispanic                religion                             -0.0006              0.7664\n",
        "6   7   hispanic                law_politics                         -0.0032              0.1322\n",
        "6   4   hispanic                stem                                 -0.0033              0.1177\n",
        "6   2   hispanic                athlete                              -0.0037              0.0816\n",
        "6   3   hispanic                nan                                  -0.0096              0.0000\n",
        "\n",
        "7   6   other                   other                                 0.0060              0.0046\n",
        "7   7   other                   law_politics                          0.0049              0.0211\n",
        "7   8   other                   music_art                             0.0033              0.1193\n",
        "7   1   other                   humanities                            0.0032              0.1250\n",
        "7   0   other                   business                              0.0020              0.3405\n",
        "7   4   other                   stem                                  0.0018              0.3855\n",
        "7   5   other                   religion                             -0.0011              0.6145\n",
        "7   2   other                   athlete                              -0.0043              0.0417\n",
        "7   3   other                   nan                                  -0.0074              0.0005\n",
        "\n",
        "8   8   african_americans       music_art                             0.0692              0.0000\n",
        "8   2   african_americans       athlete                               0.0314              0.0000\n",
        "8   7   african_americans       law_politics                          0.0219              0.0000\n",
        "8   5   african_americans       religion                              0.0038              0.0710\n",
        "8   6   african_americans       other                                -0.0039              0.0619\n",
        "8   1   african_americans       humanities                           -0.0050              0.0190\n",
        "8   0   african_americans       business                             -0.0112              0.0000\n",
        "8   4   african_americans       stem                                 -0.0240              0.0000\n",
        "8   3   african_americans       nan                                  -0.0855              0.0000\n",
        "\n",
        "9   6   mixed                   other                                 0.0074              0.0005\n",
        "9   8   mixed                   music_art                             0.0044              0.0366\n",
        "9   0   mixed                   business                              0.0012              0.5823\n",
        "9   5   mixed                   religion                             -0.0002              0.9083\n",
        "9   7   mixed                   law_politics                         -0.0004              0.8345\n",
        "9   1   mixed                   humanities                           -0.0008              0.7135\n",
        "9   4   mixed                   stem                                 -0.0013              0.5439\n",
        "9   2   mixed                   athlete                              -0.0023              0.2752\n",
        "9   3   mixed                   nan                                  -0.0037              0.0769\n",
        "\n",
        "10  0   white                   business                              0.0677              0.0000\n",
        "10  8   white                   music_art                             0.0398              0.0000\n",
        "10  1   white                   humanities                            0.0304              0.0000\n",
        "10  6   white                   other                                 0.0135              0.0000\n",
        "10  7   white                   law_politics                          0.0074              0.0004\n",
        "10  4   white                   stem                                  0.0073              0.0006\n",
        "10  5   white                   religion                              0.0023              0.2800\n",
        "10  2   white                   athlete                              -0.0313              0.0000\n",
        "10  3   white                   nan                                  -0.0683              0.0000\n",
        "\n",
        "11  1   asian                   humanities                            0.0170              0.0000\n",
        "11  4   asian                   stem                                  0.0129              0.0000\n",
        "11  0   asian                   business                              0.0099              0.0000\n",
        "11  8   asian                   music_art                             0.0072              0.0007\n",
        "11  7   asian                   law_politics                          0.0057              0.0075\n",
        "11  6   asian                   other                                 0.0021              0.3112\n",
        "11  5   asian                   religion                             -0.0026              0.2196\n",
        "11  3   asian                   nan                                  -0.0164              0.0000\n",
        "11  2   asian                   athlete                              -0.0180              0.0000\n"
       ]
      }
     ],
     "prompt_number": 24
    },
    {
     "cell_type": "code",
     "collapsed": false,
     "input": [
      "correlate(religion_features, profession_features, religion_index, profession_index)"
     ],
     "language": "python",
     "metadata": {},
     "outputs": [
      {
       "output_type": "stream",
       "stream": "stdout",
       "text": [
        "\r",
        "0 \r",
        "1 \r",
        "2 \r",
        "3 \r",
        "4 \r",
        "5 \r",
        "6 "
       ]
      },
      {
       "output_type": "stream",
       "stream": "stdout",
       "text": [
        "\r",
        "7 \r",
        "8 \r",
        "9 \r",
        "10 \r",
        "11 \r",
        "12 \r",
        "13 "
       ]
      },
      {
       "output_type": "stream",
       "stream": "stdout",
       "text": [
        "\r",
        "14 \r",
        "15 \r",
        "16 \r",
        "17 \r",
        "18 \r",
        "19 \r",
        "20 "
       ]
      },
      {
       "output_type": "stream",
       "stream": "stdout",
       "text": [
        "\r",
        "21 \r",
        "22 \r",
        "23 \r",
        "24 \r",
        "25 \r",
        "26 \r",
        "27 "
       ]
      },
      {
       "output_type": "stream",
       "stream": "stdout",
       "text": [
        "\r",
        "28 \r",
        "29 \r",
        "30 \r",
        "31 \r",
        "32 \r",
        "33 \r",
        "34 "
       ]
      },
      {
       "output_type": "stream",
       "stream": "stdout",
       "text": [
        "\r",
        "35 \r",
        "36 \r",
        "37 \r",
        "38 \r",
        "39 \r",
        "40 \r",
        "41 "
       ]
      },
      {
       "output_type": "stream",
       "stream": "stdout",
       "text": [
        "\r",
        "42 \r",
        "43 \r",
        "44 \r",
        "45 \r",
        "46 \r",
        "47 \r",
        "48 "
       ]
      },
      {
       "output_type": "stream",
       "stream": "stdout",
       "text": [
        "\r",
        "49 \r",
        "50 \r",
        "51 \r",
        "52 \r",
        "53 \r",
        "54 \r",
        "55 "
       ]
      },
      {
       "output_type": "stream",
       "stream": "stdout",
       "text": [
        "\r",
        "56 \r",
        "57 \r",
        "58 \r",
        "59 \r",
        "60 \r",
        "61 \r",
        "62 "
       ]
      },
      {
       "output_type": "stream",
       "stream": "stdout",
       "text": [
        "\r",
        "63 \r",
        "64 \r",
        "65 \r",
        "66 \r",
        "67 \r",
        "68 \r",
        "69 "
       ]
      },
      {
       "output_type": "stream",
       "stream": "stdout",
       "text": [
        "\r",
        "70 \r",
        "71 \r",
        "72 \r",
        "73 \r",
        "74 \r",
        "75 \r",
        "76 "
       ]
      },
      {
       "output_type": "stream",
       "stream": "stdout",
       "text": [
        "\r",
        "77 \r",
        "78 \r",
        "79 \r",
        "80\n",
        "\n",
        "0   1   muslim                  humanities                            0.0104              0.0000\n",
        "0   6   muslim                  other                                 0.0093              0.0000\n",
        "0   7   muslim                  law_politics                          0.0028              0.1798\n",
        "0   0   muslim                  business                              0.0011              0.6153\n",
        "0   4   muslim                  stem                                  0.0005              0.8049\n",
        "0   5   muslim                  religion                             -0.0014              0.5200\n",
        "0   8   muslim                  music_art                            -0.0014              0.5153\n",
        "0   3   muslim                  nan                                  -0.0035              0.0954\n",
        "0   2   muslim                  athlete                              -0.0082              0.0001\n",
        "\n",
        "1   7   christian               law_politics                          0.2328              0.0000\n",
        "1   0   christian               business                              0.0550              0.0000\n",
        "1   5   christian               religion                              0.0473              0.0000\n",
        "1   6   christian               other                                 0.0395              0.0000\n",
        "1   4   christian               stem                                  0.0021              0.3125\n",
        "1   1   christian               humanities                           -0.0036              0.0876\n",
        "1   3   christian               nan                                  -0.0183              0.0000\n",
        "1   2   christian               athlete                              -0.0510              0.0000\n",
        "1   8   christian               music_art                            -0.0855              0.0000\n",
        "\n",
        "2   0   asian religion          business                              0.0100              0.0000\n",
        "2   3   asian religion          nan                                   0.0057              0.0072\n",
        "2   4   asian religion          stem                                  0.0034              0.1095\n",
        "2   1   asian religion          humanities                            0.0010              0.6235\n",
        "2   5   asian religion          religion                              0.0007              0.7570\n",
        "2   7   asian religion          law_politics                         -0.0006              0.7722\n",
        "2   6   asian religion          other                                -0.0022              0.3045\n",
        "2   2   asian religion          athlete                              -0.0040              0.0586\n",
        "2   8   asian religion          music_art                            -0.0071              0.0008\n",
        "\n",
        "3   5   jewish                  religion                              0.0524              0.0000\n",
        "3   7   jewish                  law_politics                          0.0353              0.0000\n",
        "3   1   jewish                  humanities                            0.0336              0.0000\n",
        "3   0   jewish                  business                              0.0333              0.0000\n",
        "3   4   jewish                  stem                                  0.0225              0.0000\n",
        "3   6   jewish                  other                                 0.0035              0.0960\n",
        "3   2   jewish                  athlete                              -0.0112              0.0000\n",
        "3   8   jewish                  music_art                            -0.0212              0.0000\n",
        "3   3   jewish                  nan                                  -0.0334              0.0000\n",
        "\n",
        "4   4   hindu                   stem                                  0.0219              0.0000\n",
        "4   0   hindu                   business                              0.0071              0.0008\n",
        "4   1   hindu                   humanities                            0.0070              0.0009\n",
        "4   3   hindu                   nan                                   0.0024              0.2567\n",
        "4   6   hindu                   other                                 0.0007              0.7581\n",
        "4   5   hindu                   religion                             -0.0005              0.8004\n",
        "4   7   hindu                   law_politics                         -0.0026              0.2154\n",
        "4   8   hindu                   music_art                            -0.0096              0.0000\n",
        "4   2   hindu                   athlete                              -0.0101              0.0000\n",
        "\n",
        "5   1   buddhist                humanities                            0.0222              0.0000\n",
        "5   5   buddhist                religion                              0.0048              0.0244\n",
        "5   7   buddhist                law_politics                          0.0001              0.9476\n",
        "5   3   buddhist                nan                                  -0.0003              0.8822\n",
        "5   6   buddhist                other                                -0.0007              0.7491\n",
        "5   4   buddhist                stem                                 -0.0017              0.4091\n",
        "5   0   buddhist                business                             -0.0018              0.4073\n",
        "5   8   buddhist                music_art                            -0.0057              0.0074\n",
        "5   2   buddhist                athlete                              -0.0100              0.0000\n",
        "\n",
        "6   8   nan                     music_art                             0.0881              0.0000\n",
        "6   2   nan                     athlete                               0.0576              0.0000\n",
        "6   3   nan                     nan                                   0.0326              0.0000\n",
        "6   4   nan                     stem                                 -0.0214              0.0000\n",
        "6   1   nan                     humanities                           -0.0243              0.0000\n",
        "6   6   nan                     other                                -0.0406              0.0000\n",
        "6   5   nan                     religion                             -0.0613              0.0000\n",
        "6   0   nan                     business                             -0.0622              0.0000\n",
        "6   7   nan                     law_politics                         -0.2168              0.0000\n",
        "\n",
        "7   6   other                   other                                 0.0167              0.0000\n",
        "7   1   other                   humanities                            0.0130              0.0000\n",
        "7   7   other                   law_politics                          0.0127              0.0000\n",
        "7   4   other                   stem                                  0.0112              0.0000\n",
        "7   5   other                   religion                              0.0046              0.0313\n",
        "7   0   other                   business                             -0.0002              0.9113\n",
        "7   3   other                   nan                                  -0.0056              0.0076\n",
        "7   8   other                   music_art                            -0.0097              0.0000\n",
        "7   2   other                   athlete                              -0.0117              0.0000\n",
        "\n",
        "8   1   atheist_spiritual       humanities                            0.0354              0.0000\n",
        "8   4   atheist_spiritual       stem                                  0.0294              0.0000\n",
        "8   0   atheist_spiritual       business                              0.0058              0.0065\n",
        "8   6   atheist_spiritual       other                                 0.0055              0.0090\n",
        "8   7   atheist_spiritual       law_politics                          0.0049              0.0200\n",
        "8   5   atheist_spiritual       religion                             -0.0011              0.5958\n",
        "8   8   atheist_spiritual       music_art                            -0.0108              0.0000\n",
        "8   2   atheist_spiritual       athlete                              -0.0161              0.0000\n",
        "8   3   atheist_spiritual       nan                                  -0.0178              0.0000\n"
       ]
      }
     ],
     "prompt_number": 25
    },
    {
     "cell_type": "code",
     "collapsed": false,
     "input": [
      "correlate(nationality_features, profession_features, nationality_index, profession_index)"
     ],
     "language": "python",
     "metadata": {},
     "outputs": [
      {
       "output_type": "stream",
       "stream": "stdout",
       "text": [
        "\r",
        "0 \r",
        "1 \r",
        "2 \r",
        "3 \r",
        "4 \r",
        "5 \r",
        "6 "
       ]
      },
      {
       "output_type": "stream",
       "stream": "stdout",
       "text": [
        "\r",
        "7 \r",
        "8 \r",
        "9 \r",
        "10 \r",
        "11 \r",
        "12 \r",
        "13 "
       ]
      },
      {
       "output_type": "stream",
       "stream": "stdout",
       "text": [
        "\r",
        "14 \r",
        "15 \r",
        "16 \r",
        "17 \r",
        "18 \r",
        "19 \r",
        "20 "
       ]
      },
      {
       "output_type": "stream",
       "stream": "stdout",
       "text": [
        "\r",
        "21 \r",
        "22 \r",
        "23 \r",
        "24 \r",
        "25 \r",
        "26 \r",
        "27 "
       ]
      },
      {
       "output_type": "stream",
       "stream": "stdout",
       "text": [
        "\r",
        "28 \r",
        "29 \r",
        "30 \r",
        "31 \r",
        "32 \r",
        "33 \r",
        "34 "
       ]
      },
      {
       "output_type": "stream",
       "stream": "stdout",
       "text": [
        "\r",
        "35 \r",
        "36 \r",
        "37 \r",
        "38 \r",
        "39 \r",
        "40 \r",
        "41 "
       ]
      },
      {
       "output_type": "stream",
       "stream": "stdout",
       "text": [
        "\r",
        "42 \r",
        "43 \r",
        "44 \r",
        "45 \r",
        "46 \r",
        "47 \r",
        "48 "
       ]
      },
      {
       "output_type": "stream",
       "stream": "stdout",
       "text": [
        "\r",
        "49 \r",
        "50 \r",
        "51 \r",
        "52 \r",
        "53 \r",
        "54 \r",
        "55 "
       ]
      },
      {
       "output_type": "stream",
       "stream": "stdout",
       "text": [
        "\r",
        "56 \r",
        "57 \r",
        "58 \r",
        "59 \r",
        "60 \r",
        "61 \r",
        "62\n",
        "\n",
        "0   2   african_american        athlete                               0.0220              0.0000\n",
        "0   5   african_american        religion                              0.0013              0.5436\n",
        "0   1   african_american        humanities                            0.0003              0.8795\n",
        "0   0   african_american        business                             -0.0006              0.7901\n",
        "0   8   african_american        music_art                            -0.0016              0.4574\n",
        "0   4   african_american        stem                                 -0.0025              0.2403\n",
        "0   6   african_american        other                                -0.0040              0.0572\n",
        "0   7   african_american        law_politics                         -0.0058              0.0062\n",
        "0   3   african_american        nan                                  -0.0096              0.0000\n",
        "\n",
        "1   2   united states of americaathlete                               0.0253              0.0000\n",
        "1   7   united states of americalaw_politics                          0.0181              0.0000\n",
        "1   3   united states of americanan                                   0.0181              0.0000\n",
        "1   8   united states of americamusic_art                            -0.0002              0.9364\n",
        "1   6   united states of americaother                                -0.0033              0.1230\n",
        "1   5   united states of americareligion                             -0.0065              0.0022\n",
        "1   0   united states of americabusiness                             -0.0137              0.0000\n",
        "1   1   united states of americahumanities                           -0.0221              0.0000\n",
        "1   4   united states of americastem                                 -0.0620              0.0000\n",
        "\n",
        "2   4   middle eastern          stem                                  0.0192              0.0000\n",
        "2   1   middle eastern          humanities                            0.0146              0.0000\n",
        "2   0   middle eastern          business                              0.0083              0.0001\n",
        "2   5   middle eastern          religion                              0.0081              0.0001\n",
        "2   8   middle eastern          music_art                            -0.0012              0.5860\n",
        "2   6   middle eastern          other                                -0.0023              0.2680\n",
        "2   7   middle eastern          law_politics                         -0.0031              0.1376\n",
        "2   3   middle eastern          nan                                  -0.0084              0.0001\n",
        "2   2   middle eastern          athlete                              -0.0121              0.0000\n",
        "\n",
        "3   8   hispanic_latino         music_art                             0.0102              0.0000\n",
        "3   2   hispanic_latino         athlete                               0.0100              0.0000\n",
        "3   5   hispanic_latino         religion                              0.0004              0.8496\n",
        "3   0   hispanic_latino         business                              0.0001              0.9699\n",
        "3   6   hispanic_latino         other                                -0.0018              0.3831\n",
        "3   1   hispanic_latino         humanities                           -0.0023              0.2733\n",
        "3   4   hispanic_latino         stem                                 -0.0031              0.1406\n",
        "3   7   hispanic_latino         law_politics                         -0.0073              0.0005\n",
        "3   3   hispanic_latino         nan                                  -0.0107              0.0000\n",
        "\n",
        "4   2   indigenous              athlete                               0.0194              0.0000\n",
        "4   7   indigenous              law_politics                          0.0016              0.4629\n",
        "4   6   indigenous              other                                 0.0001              0.9530\n",
        "4   5   indigenous              religion                             -0.0007              0.7543\n",
        "4   3   indigenous              nan                                  -0.0010              0.6287\n",
        "4   0   indigenous              business                             -0.0029              0.1662\n",
        "4   4   indigenous              stem                                 -0.0035              0.0992\n",
        "4   1   indigenous              humanities                           -0.0041              0.0529\n",
        "4   8   indigenous              music_art                            -0.0087              0.0000\n",
        "\n",
        "5   4   asian                   stem                                  0.0210              0.0000\n",
        "5   8   asian                   music_art                             0.0174              0.0000\n",
        "5   1   asian                   humanities                            0.0070              0.0009\n",
        "5   0   asian                   business                              0.0053              0.0130\n",
        "5   6   asian                   other                                 0.0008              0.7050\n",
        "5   5   asian                   religion                             -0.0016              0.4425\n",
        "5   7   asian                   law_politics                         -0.0102              0.0000\n",
        "5   2   asian                   athlete                              -0.0150              0.0000\n",
        "5   3   asian                   nan                                  -0.0164              0.0000\n",
        "\n",
        "6   4   white                   stem                                  0.0615              0.0000\n",
        "6   1   white                   humanities                            0.0203              0.0000\n",
        "6   0   white                   business                              0.0121              0.0000\n",
        "6   6   white                   other                                 0.0057              0.0069\n",
        "6   5   white                   religion                              0.0055              0.0090\n",
        "6   3   white                   nan                                  -0.0070              0.0010\n",
        "6   8   white                   music_art                            -0.0082              0.0001\n",
        "6   7   white                   law_politics                         -0.0129              0.0000\n",
        "6   2   white                   athlete                              -0.0309              0.0000\n"
       ]
      }
     ],
     "prompt_number": 26
    },
    {
     "cell_type": "markdown",
     "metadata": {},
     "source": [
      "## Classification"
     ]
    },
    {
     "cell_type": "code",
     "collapsed": false,
     "input": [
      "from sklearn.linear_model import LogisticRegression\n",
      "from sklearn.svm import SVC\n",
      "from sklearn.preprocessing import MultiLabelBinarizer\n",
      "from sklearn.cross_validation import train_test_split\n",
      "from sklearn.metrics import classification_report\n",
      "from sklearn.multiclass import OneVsRestClassifier"
     ],
     "language": "python",
     "metadata": {},
     "outputs": [],
     "prompt_number": 27
    },
    {
     "cell_type": "code",
     "collapsed": false,
     "input": [
      "valid_rows = np.where([x is not None  for x in df.profession.values.flatten()])\n",
      "X = np.hstack([gender_features, ethnicity_features, religion_features, nationality_features])[valid_rows]\n",
      "profs = [(x,) if x is None else x for x in df.profession]\n",
      "y = np.array([set([x]) if isinstance(x, basestring) else set(sorted(x)) for x in profs])[valid_rows]"
     ],
     "language": "python",
     "metadata": {},
     "outputs": [],
     "prompt_number": 28
    },
    {
     "cell_type": "code",
     "collapsed": false,
     "input": [
      "binarizer = MultiLabelBinarizer()\n",
      "y = binarizer.fit_transform(y)"
     ],
     "language": "python",
     "metadata": {},
     "outputs": [],
     "prompt_number": 29
    },
    {
     "cell_type": "code",
     "collapsed": false,
     "input": [
      "X_train, X_test, y_train, y_test = train_test_split(X, y, test_size=0.4)"
     ],
     "language": "python",
     "metadata": {},
     "outputs": [],
     "prompt_number": 30
    },
    {
     "cell_type": "code",
     "collapsed": false,
     "input": [
      "estimator = LogisticRegression()\n",
      "model = OneVsRestClassifier(estimator)\n",
      "model.fit(X_train, y_train)"
     ],
     "language": "python",
     "metadata": {},
     "outputs": [
      {
       "metadata": {},
       "output_type": "pyout",
       "prompt_number": 31,
       "text": [
        "OneVsRestClassifier(estimator=LogisticRegression(C=1.0, class_weight=None, dual=False, fit_intercept=True,\n",
        "          intercept_scaling=1, penalty='l2', random_state=None, tol=0.0001),\n",
        "          n_jobs=1)"
       ]
      }
     ],
     "prompt_number": 31
    },
    {
     "cell_type": "code",
     "collapsed": false,
     "input": [
      "y_pred = model.predict(X_test)\n",
      "print classification_report(y_test, y_pred, labels=binarizer.classes_)"
     ],
     "language": "python",
     "metadata": {},
     "outputs": [
      {
       "output_type": "stream",
       "stream": "stdout",
       "text": [
        "             precision    recall  f1-score   support\n",
        "\n",
        "    athlete       0.44      0.00      0.00     11555\n",
        "   business       0.00      0.00      0.00      3037\n",
        " humanities       0.60      0.01      0.03     16232\n",
        "law_politics       0.56      0.16      0.25      5645\n",
        "  music_art       0.57      0.97      0.72     36516\n",
        "      other       0.00      0.00      0.00      1903\n",
        "   religion       0.00      0.00      0.00       159\n",
        "       stem       0.62      0.00      0.00      4155\n",
        "\n",
        "avg / total       0.53      0.46      0.36     79202\n",
        "\n"
       ]
      },
      {
       "output_type": "stream",
       "stream": "stderr",
       "text": [
        "/usr/local/lib/python2.7/dist-packages/sklearn/metrics/metrics.py:1771: UndefinedMetricWarning: Precision and F-score are ill-defined and being set to 0.0 in labels with no predicted samples.\n",
        "  'precision', 'predicted', average, warn_for)\n"
       ]
      }
     ],
     "prompt_number": 32
    },
    {
     "cell_type": "markdown",
     "metadata": {},
     "source": [
      "# Stats Models"
     ]
    },
    {
     "cell_type": "code",
     "collapsed": false,
     "input": [
      "import statsmodels as sm\n",
      "from statsmodels.discrete.discrete_model import MNLogit\n",
      "from statsmodels.tools import add_constant"
     ],
     "language": "python",
     "metadata": {},
     "outputs": [],
     "prompt_number": 33
    },
    {
     "cell_type": "code",
     "collapsed": false,
     "input": [
      "valid_rows = np.where([x is not None  for x in df.profession.values.flatten()])\n",
      "X = np.hstack([gender_features, religion_features, nationality_features])[valid_rows]\n",
      "cols = []\n",
      "for name, fs in [(\"gender\", gender_index), (\"religion\", religion_index),\n",
      "                 (\"nationality\", nationality_index)]:#, ('ethinicity', ethnicity_index)]:\n",
      "  cols.extend([x+\"_\"+name[0] for x in zip(*sorted(fs.items(), key=lambda(x,y): y))[0]])\n",
      "dfX = pd.DataFrame(X, columns=cols)"
     ],
     "language": "python",
     "metadata": {},
     "outputs": [],
     "prompt_number": 34
    },
    {
     "cell_type": "code",
     "collapsed": false,
     "input": [
      "profs = [\"nan\" if x is None else x for x in df.profession]\n",
      "prof_map = {'music_art': \"traditional\", 'humanities': \"traditional\",\n",
      "            'athlete': \"non-traditional\", 'business': \"non-traditional\",\n",
      "             'law_politics': \"non-traditional\", 'religion': \"non-traditional\",\n",
      "             'stem': \"non-traditional\"}\n",
      "profs2 = []\n",
      "for x in profs:\n",
      "  if isinstance(x, basestring):\n",
      "    profs2.append(prof_map.get(x, x))\n",
      "  else:\n",
      "    tmp = set([prof_map.get(x_, x_) for x_ in x])\n",
      "    if len(tmp) == 1:\n",
      "      profs2.append(\"mixed\")\n",
      "    else:\n",
      "      profs2.append(\"mixed\")\n",
      "\n",
      "y = np.array(profs2)[valid_rows]\n",
      "classes = list(set(y))"
     ],
     "language": "python",
     "metadata": {},
     "outputs": [],
     "prompt_number": 35
    },
    {
     "cell_type": "code",
     "collapsed": false,
     "input": [
      "y = Series(y, name='profession')\n",
      "ynames = {'mixed': 2, 'non-traditional': 1, 'other': 3, 'traditional': 0}\n",
      "ynames_reverse = {v:k for k,v in ynames.items()}"
     ],
     "language": "python",
     "metadata": {},
     "outputs": [],
     "prompt_number": 81
    },
    {
     "cell_type": "code",
     "collapsed": false,
     "input": [
      "y1 = y.apply(lambda x: ynames[x])"
     ],
     "language": "python",
     "metadata": {},
     "outputs": [],
     "prompt_number": 82
    },
    {
     "cell_type": "code",
     "collapsed": false,
     "input": [
      "from collections import Counter\n",
      "dict(Counter(y.values))"
     ],
     "language": "python",
     "metadata": {},
     "outputs": [
      {
       "metadata": {},
       "output_type": "pyout",
       "prompt_number": 65,
       "text": [
        "{'mixed': 32005, 'non-traditional': 46421, 'other': 2445, 'traditional': 81948}"
       ]
      }
     ],
     "prompt_number": 65
    },
    {
     "cell_type": "code",
     "collapsed": false,
     "input": [
      "dfX2  = dfX[[x  for x in dfX.columns if 'nan' not in x and x != 'united states of america_n']]"
     ],
     "language": "python",
     "metadata": {},
     "outputs": [],
     "prompt_number": 66
    },
    {
     "cell_type": "code",
     "collapsed": false,
     "input": [
      "len(dfX2)"
     ],
     "language": "python",
     "metadata": {},
     "outputs": [
      {
       "metadata": {},
       "output_type": "pyout",
       "prompt_number": 87,
       "text": [
        "162819"
       ]
      }
     ],
     "prompt_number": 87
    },
    {
     "cell_type": "code",
     "collapsed": false,
     "input": [
      "dfX2"
     ],
     "language": "python",
     "metadata": {},
     "outputs": []
    },
    {
     "cell_type": "code",
     "collapsed": false,
     "input": [
      "print \"Colinearity before removing almost colinear features\", np.linalg.cond(dfX)\n",
      "print \"Colinearity after removing almost colinear features\", np.linalg.cond(dfX2)"
     ],
     "language": "python",
     "metadata": {},
     "outputs": [
      {
       "output_type": "stream",
       "stream": "stdout",
       "text": [
        "Colinearity before removing almost colinear features "
       ]
      },
      {
       "output_type": "stream",
       "stream": "stdout",
       "text": [
        "4.1051041016e+13\n",
        "Colinearity after removing almost colinear features "
       ]
      },
      {
       "output_type": "stream",
       "stream": "stdout",
       "text": [
        "104.837039165\n"
       ]
      }
     ],
     "prompt_number": 67
    },
    {
     "cell_type": "code",
     "collapsed": false,
     "input": [
      "#data = dfX.values\n",
      "data = add_constant(dfX2)\n",
      "model = MNLogit(y1, data)\n",
      "result = model.fit(method='ncg')"
     ],
     "language": "python",
     "metadata": {},
     "outputs": [
      {
       "output_type": "stream",
       "stream": "stdout",
       "text": [
        "Optimization terminated successfully.\n",
        "         Current function value: 1.040340\n",
        "         Iterations: 28\n",
        "         Function evaluations: 35\n",
        "         Gradient evaluations: 62\n",
        "         Hessian evaluations: 28\n"
       ]
      }
     ],
     "prompt_number": 68
    },
    {
     "cell_type": "code",
     "collapsed": false,
     "input": [
      "print \"number of labels is\", model.J, \"number of features is\", model.K"
     ],
     "language": "python",
     "metadata": {},
     "outputs": [
      {
       "output_type": "stream",
       "stream": "stdout",
       "text": [
        "number of labels is 4.0 number of features is 18.0\n"
       ]
      }
     ],
     "prompt_number": 69
    },
    {
     "cell_type": "code",
     "collapsed": false,
     "input": [
      "result.summary(yname_list=[ynames_reverse[i] for i in range(1,len(ynames))])"
     ],
     "language": "python",
     "metadata": {},
     "outputs": [
      {
       "html": [
        "<table class=\"simpletable\">\n",
        "<caption>MNLogit Regression Results</caption>\n",
        "<tr>\n",
        "  <th>Dep. Variable:</th>    <td>profession</td>    <th>  No. Observations:  </th>   <td>162819</td>   \n",
        "</tr>\n",
        "<tr>\n",
        "  <th>Model:</th>              <td>MNLogit</td>     <th>  Df Residuals:      </th>   <td>162765</td>   \n",
        "</tr>\n",
        "<tr>\n",
        "  <th>Method:</th>               <td>MLE</td>       <th>  Df Model:          </th>   <td>    51</td>   \n",
        "</tr>\n",
        "<tr>\n",
        "  <th>Date:</th>          <td>Sat, 31 Jan 2015</td> <th>  Pseudo R-squ.:     </th>   <td>0.04217</td>  \n",
        "</tr>\n",
        "<tr>\n",
        "  <th>Time:</th>              <td>17:03:20</td>     <th>  Log-Likelihood:    </th> <td>-1.6939e+05</td>\n",
        "</tr>\n",
        "<tr>\n",
        "  <th>converged:</th>           <td>True</td>       <th>  LL-Null:           </th> <td>-1.7684e+05</td>\n",
        "</tr>\n",
        "<tr>\n",
        "  <th> </th>                      <td> </td>        <th>  LLR p-value:       </th>   <td> 0.000</td>   \n",
        "</tr>\n",
        "</table>\n",
        "<table class=\"simpletable\">\n",
        "<tr>\n",
        "    <th>non-traditional</th>      <th>coef</th>     <th>std err</th>      <th>z</th>      <th>P>|z|</th> <th>[95.0% Conf. Int.]</th> \n",
        "</tr>\n",
        "<tr>\n",
        "  <th>const</th>               <td>   -0.3751</td> <td>    0.085</td> <td>   -4.426</td> <td> 0.000</td> <td>   -0.541    -0.209</td>\n",
        "</tr>\n",
        "<tr>\n",
        "  <th>Other_g</th>             <td>   -1.4733</td> <td>    0.548</td> <td>   -2.688</td> <td> 0.007</td> <td>   -2.548    -0.399</td>\n",
        "</tr>\n",
        "<tr>\n",
        "  <th>Male_g</th>              <td>    0.0627</td> <td>    0.085</td> <td>    0.737</td> <td> 0.461</td> <td>   -0.104     0.229</td>\n",
        "</tr>\n",
        "<tr>\n",
        "  <th>Female_g</th>            <td>   -1.6708</td> <td>    0.087</td> <td>  -19.287</td> <td> 0.000</td> <td>   -1.841    -1.501</td>\n",
        "</tr>\n",
        "<tr>\n",
        "  <th>muslim_r</th>            <td>   -0.5786</td> <td>    0.208</td> <td>   -2.787</td> <td> 0.005</td> <td>   -0.986    -0.172</td>\n",
        "</tr>\n",
        "<tr>\n",
        "  <th>christian_r</th>         <td>    1.4658</td> <td>    0.036</td> <td>   40.358</td> <td> 0.000</td> <td>    1.395     1.537</td>\n",
        "</tr>\n",
        "<tr>\n",
        "  <th>asian religion_r</th>    <td>    0.8422</td> <td>    0.462</td> <td>    1.823</td> <td> 0.068</td> <td>   -0.063     1.748</td>\n",
        "</tr>\n",
        "<tr>\n",
        "  <th>jewish_r</th>            <td>    0.8363</td> <td>    0.076</td> <td>   11.019</td> <td> 0.000</td> <td>    0.688     0.985</td>\n",
        "</tr>\n",
        "<tr>\n",
        "  <th>hindu_r</th>             <td>    0.7343</td> <td>    0.225</td> <td>    3.266</td> <td> 0.001</td> <td>    0.294     1.175</td>\n",
        "</tr>\n",
        "<tr>\n",
        "  <th>buddhist_r</th>          <td>   -1.3731</td> <td>    0.379</td> <td>   -3.623</td> <td> 0.000</td> <td>   -2.116    -0.630</td>\n",
        "</tr>\n",
        "<tr>\n",
        "  <th>other_r</th>             <td>    0.4216</td> <td>    0.202</td> <td>    2.089</td> <td> 0.037</td> <td>    0.026     0.817</td>\n",
        "</tr>\n",
        "<tr>\n",
        "  <th>atheist_spiritual_r</th> <td>   -0.0238</td> <td>    0.148</td> <td>   -0.161</td> <td> 0.872</td> <td>   -0.313     0.265</td>\n",
        "</tr>\n",
        "<tr>\n",
        "  <th>african_american_n</th>  <td>    1.4489</td> <td>    0.282</td> <td>    5.145</td> <td> 0.000</td> <td>    0.897     2.001</td>\n",
        "</tr>\n",
        "<tr>\n",
        "  <th>middle eastern_n</th>    <td>   -0.2828</td> <td>    0.239</td> <td>   -1.181</td> <td> 0.238</td> <td>   -0.752     0.187</td>\n",
        "</tr>\n",
        "<tr>\n",
        "  <th>hispanic_latino_n</th>   <td>   -0.1068</td> <td>    0.183</td> <td>   -0.583</td> <td> 0.560</td> <td>   -0.465     0.252</td>\n",
        "</tr>\n",
        "<tr>\n",
        "  <th>indigenous_n</th>        <td>    5.3659</td> <td>    1.129</td> <td>    4.752</td> <td> 0.000</td> <td>    3.153     7.579</td>\n",
        "</tr>\n",
        "<tr>\n",
        "  <th>asian_n</th>             <td>   -0.6709</td> <td>    0.196</td> <td>   -3.416</td> <td> 0.001</td> <td>   -1.056    -0.286</td>\n",
        "</tr>\n",
        "<tr>\n",
        "  <th>white_n</th>             <td>   -0.0888</td> <td>    0.068</td> <td>   -1.314</td> <td> 0.189</td> <td>   -0.221     0.044</td>\n",
        "</tr>\n",
        "<tr>\n",
        "         <th>mixed</th>           <th>coef</th>     <th>std err</th>      <th>z</th>      <th>P>|z|</th> <th>[95.0% Conf. Int.]</th> \n",
        "</tr>\n",
        "<tr>\n",
        "  <th>const</th>               <td>   -1.5004</td> <td>    0.125</td> <td>  -11.989</td> <td> 0.000</td> <td>   -1.746    -1.255</td>\n",
        "</tr>\n",
        "<tr>\n",
        "  <th>Other_g</th>             <td>    0.0132</td> <td>    0.478</td> <td>    0.028</td> <td> 0.978</td> <td>   -0.923     0.949</td>\n",
        "</tr>\n",
        "<tr>\n",
        "  <th>Male_g</th>              <td>    0.6567</td> <td>    0.125</td> <td>    5.238</td> <td> 0.000</td> <td>    0.411     0.902</td>\n",
        "</tr>\n",
        "<tr>\n",
        "  <th>Female_g</th>            <td>   -0.0526</td> <td>    0.126</td> <td>   -0.418</td> <td> 0.676</td> <td>   -0.300     0.194</td>\n",
        "</tr>\n",
        "<tr>\n",
        "  <th>muslim_r</th>            <td>    0.5156</td> <td>    0.164</td> <td>    3.146</td> <td> 0.002</td> <td>    0.194     0.837</td>\n",
        "</tr>\n",
        "<tr>\n",
        "  <th>christian_r</th>         <td>    1.4537</td> <td>    0.038</td> <td>   38.326</td> <td> 0.000</td> <td>    1.379     1.528</td>\n",
        "</tr>\n",
        "<tr>\n",
        "  <th>asian religion_r</th>    <td>    0.2799</td> <td>    0.537</td> <td>    0.521</td> <td> 0.602</td> <td>   -0.773     1.332</td>\n",
        "</tr>\n",
        "<tr>\n",
        "  <th>jewish_r</th>            <td>    1.2064</td> <td>    0.073</td> <td>   16.543</td> <td> 0.000</td> <td>    1.063     1.349</td>\n",
        "</tr>\n",
        "<tr>\n",
        "  <th>hindu_r</th>             <td>    0.6202</td> <td>    0.228</td> <td>    2.719</td> <td> 0.007</td> <td>    0.173     1.067</td>\n",
        "</tr>\n",
        "<tr>\n",
        "  <th>buddhist_r</th>          <td>    0.8783</td> <td>    0.189</td> <td>    4.636</td> <td> 0.000</td> <td>    0.507     1.250</td>\n",
        "</tr>\n",
        "<tr>\n",
        "  <th>other_r</th>             <td>    1.1994</td> <td>    0.174</td> <td>    6.886</td> <td> 0.000</td> <td>    0.858     1.541</td>\n",
        "</tr>\n",
        "<tr>\n",
        "  <th>atheist_spiritual_r</th> <td>    1.4330</td> <td>    0.113</td> <td>   12.670</td> <td> 0.000</td> <td>    1.211     1.655</td>\n",
        "</tr>\n",
        "<tr>\n",
        "  <th>african_american_n</th>  <td>    1.6481</td> <td>    0.291</td> <td>    5.664</td> <td> 0.000</td> <td>    1.078     2.218</td>\n",
        "</tr>\n",
        "<tr>\n",
        "  <th>middle eastern_n</th>    <td>    0.6948</td> <td>    0.223</td> <td>    3.111</td> <td> 0.002</td> <td>    0.257     1.132</td>\n",
        "</tr>\n",
        "<tr>\n",
        "  <th>hispanic_latino_n</th>   <td>    0.2167</td> <td>    0.191</td> <td>    1.134</td> <td> 0.257</td> <td>   -0.158     0.591</td>\n",
        "</tr>\n",
        "<tr>\n",
        "  <th>indigenous_n</th>        <td>    3.5284</td> <td>    1.265</td> <td>    2.790</td> <td> 0.005</td> <td>    1.050     6.007</td>\n",
        "</tr>\n",
        "<tr>\n",
        "  <th>asian_n</th>             <td>    0.7708</td> <td>    0.167</td> <td>    4.613</td> <td> 0.000</td> <td>    0.443     1.098</td>\n",
        "</tr>\n",
        "<tr>\n",
        "  <th>white_n</th>             <td>    0.5847</td> <td>    0.067</td> <td>    8.686</td> <td> 0.000</td> <td>    0.453     0.717</td>\n",
        "</tr>\n",
        "<tr>\n",
        "         <th>other</th>           <th>coef</th>     <th>std err</th>      <th>z</th>      <th>P>|z|</th> <th>[95.0% Conf. Int.]</th> \n",
        "</tr>\n",
        "<tr>\n",
        "  <th>const</th>               <td>   -1.8426</td> <td>    0.145</td> <td>  -12.725</td> <td> 0.000</td> <td>   -2.126    -1.559</td>\n",
        "</tr>\n",
        "<tr>\n",
        "  <th>Other_g</th>             <td>   -0.6818</td> <td>    0.751</td> <td>   -0.907</td> <td> 0.364</td> <td>   -2.154     0.791</td>\n",
        "</tr>\n",
        "<tr>\n",
        "  <th>Male_g</th>              <td>   -1.5744</td> <td>    0.147</td> <td>  -10.739</td> <td> 0.000</td> <td>   -1.862    -1.287</td>\n",
        "</tr>\n",
        "<tr>\n",
        "  <th>Female_g</th>            <td>   -2.3092</td> <td>    0.153</td> <td>  -15.139</td> <td> 0.000</td> <td>   -2.608    -2.010</td>\n",
        "</tr>\n",
        "<tr>\n",
        "  <th>muslim_r</th>            <td>    1.3493</td> <td>    0.338</td> <td>    3.997</td> <td> 0.000</td> <td>    0.688     2.011</td>\n",
        "</tr>\n",
        "<tr>\n",
        "  <th>christian_r</th>         <td>    1.6764</td> <td>    0.084</td> <td>   19.993</td> <td> 0.000</td> <td>    1.512     1.841</td>\n",
        "</tr>\n",
        "<tr>\n",
        "  <th>asian religion_r</th>    <td>   -2.7552</td> <td>    7.297</td> <td>   -0.378</td> <td> 0.706</td> <td>  -17.056    11.546</td>\n",
        "</tr>\n",
        "<tr>\n",
        "  <th>jewish_r</th>            <td>   -0.1678</td> <td>    0.354</td> <td>   -0.474</td> <td> 0.635</td> <td>   -0.862     0.526</td>\n",
        "</tr>\n",
        "<tr>\n",
        "  <th>hindu_r</th>             <td>   -0.0553</td> <td>    1.029</td> <td>   -0.054</td> <td> 0.957</td> <td>   -2.072     1.962</td>\n",
        "</tr>\n",
        "<tr>\n",
        "  <th>buddhist_r</th>          <td>   -0.5499</td> <td>    1.038</td> <td>   -0.530</td> <td> 0.596</td> <td>   -2.584     1.484</td>\n",
        "</tr>\n",
        "<tr>\n",
        "  <th>other_r</th>             <td>    2.0502</td> <td>    0.308</td> <td>    6.654</td> <td> 0.000</td> <td>    1.446     2.654</td>\n",
        "</tr>\n",
        "<tr>\n",
        "  <th>atheist_spiritual_r</th> <td>    0.4990</td> <td>    0.412</td> <td>    1.210</td> <td> 0.226</td> <td>   -0.309     1.307</td>\n",
        "</tr>\n",
        "<tr>\n",
        "  <th>african_american_n</th>  <td>   -7.2252</td> <td>    6.620</td> <td>   -1.091</td> <td> 0.275</td> <td>  -20.200     5.750</td>\n",
        "</tr>\n",
        "<tr>\n",
        "  <th>middle eastern_n</th>    <td>   -1.3513</td> <td>    1.026</td> <td>   -1.317</td> <td> 0.188</td> <td>   -3.363     0.660</td>\n",
        "</tr>\n",
        "<tr>\n",
        "  <th>hispanic_latino_n</th>   <td>   -1.0741</td> <td>    0.787</td> <td>   -1.365</td> <td> 0.172</td> <td>   -2.617     0.468</td>\n",
        "</tr>\n",
        "<tr>\n",
        "  <th>indigenous_n</th>        <td>    4.2822</td> <td>    2.279</td> <td>    1.879</td> <td> 0.060</td> <td>   -0.185     8.750</td>\n",
        "</tr>\n",
        "<tr>\n",
        "  <th>asian_n</th>             <td>   -1.1497</td> <td>    0.772</td> <td>   -1.490</td> <td> 0.136</td> <td>   -2.662     0.363</td>\n",
        "</tr>\n",
        "<tr>\n",
        "  <th>white_n</th>             <td>    0.3061</td> <td>    0.214</td> <td>    1.433</td> <td> 0.152</td> <td>   -0.113     0.725</td>\n",
        "</tr>\n",
        "</table>"
       ],
       "metadata": {},
       "output_type": "pyout",
       "prompt_number": 84,
       "text": [
        "<class 'statsmodels.iolib.summary.Summary'>\n",
        "\"\"\"\n",
        "                          MNLogit Regression Results                          \n",
        "==============================================================================\n",
        "Dep. Variable:             profession   No. Observations:               162819\n",
        "Model:                        MNLogit   Df Residuals:                   162765\n",
        "Method:                           MLE   Df Model:                           51\n",
        "Date:                Sat, 31 Jan 2015   Pseudo R-squ.:                 0.04217\n",
        "Time:                        17:03:20   Log-Likelihood:            -1.6939e+05\n",
        "converged:                       True   LL-Null:                   -1.7684e+05\n",
        "                                        LLR p-value:                     0.000\n",
        "=======================================================================================\n",
        "    non-traditional       coef    std err          z      P>|z|      [95.0% Conf. Int.]\n",
        "---------------------------------------------------------------------------------------\n",
        "const                  -0.3751      0.085     -4.426      0.000        -0.541    -0.209\n",
        "Other_g                -1.4733      0.548     -2.688      0.007        -2.548    -0.399\n",
        "Male_g                  0.0627      0.085      0.737      0.461        -0.104     0.229\n",
        "Female_g               -1.6708      0.087    -19.287      0.000        -1.841    -1.501\n",
        "muslim_r               -0.5786      0.208     -2.787      0.005        -0.986    -0.172\n",
        "christian_r             1.4658      0.036     40.358      0.000         1.395     1.537\n",
        "asian religion_r        0.8422      0.462      1.823      0.068        -0.063     1.748\n",
        "jewish_r                0.8363      0.076     11.019      0.000         0.688     0.985\n",
        "hindu_r                 0.7343      0.225      3.266      0.001         0.294     1.175\n",
        "buddhist_r             -1.3731      0.379     -3.623      0.000        -2.116    -0.630\n",
        "other_r                 0.4216      0.202      2.089      0.037         0.026     0.817\n",
        "atheist_spiritual_r    -0.0238      0.148     -0.161      0.872        -0.313     0.265\n",
        "african_american_n      1.4489      0.282      5.145      0.000         0.897     2.001\n",
        "middle eastern_n       -0.2828      0.239     -1.181      0.238        -0.752     0.187\n",
        "hispanic_latino_n      -0.1068      0.183     -0.583      0.560        -0.465     0.252\n",
        "indigenous_n            5.3659      1.129      4.752      0.000         3.153     7.579\n",
        "asian_n                -0.6709      0.196     -3.416      0.001        -1.056    -0.286\n",
        "white_n                -0.0888      0.068     -1.314      0.189        -0.221     0.044\n",
        "---------------------------------------------------------------------------------------\n",
        "              mixed       coef    std err          z      P>|z|      [95.0% Conf. Int.]\n",
        "---------------------------------------------------------------------------------------\n",
        "const                  -1.5004      0.125    -11.989      0.000        -1.746    -1.255\n",
        "Other_g                 0.0132      0.478      0.028      0.978        -0.923     0.949\n",
        "Male_g                  0.6567      0.125      5.238      0.000         0.411     0.902\n",
        "Female_g               -0.0526      0.126     -0.418      0.676        -0.300     0.194\n",
        "muslim_r                0.5156      0.164      3.146      0.002         0.194     0.837\n",
        "christian_r             1.4537      0.038     38.326      0.000         1.379     1.528\n",
        "asian religion_r        0.2799      0.537      0.521      0.602        -0.773     1.332\n",
        "jewish_r                1.2064      0.073     16.543      0.000         1.063     1.349\n",
        "hindu_r                 0.6202      0.228      2.719      0.007         0.173     1.067\n",
        "buddhist_r              0.8783      0.189      4.636      0.000         0.507     1.250\n",
        "other_r                 1.1994      0.174      6.886      0.000         0.858     1.541\n",
        "atheist_spiritual_r     1.4330      0.113     12.670      0.000         1.211     1.655\n",
        "african_american_n      1.6481      0.291      5.664      0.000         1.078     2.218\n",
        "middle eastern_n        0.6948      0.223      3.111      0.002         0.257     1.132\n",
        "hispanic_latino_n       0.2167      0.191      1.134      0.257        -0.158     0.591\n",
        "indigenous_n            3.5284      1.265      2.790      0.005         1.050     6.007\n",
        "asian_n                 0.7708      0.167      4.613      0.000         0.443     1.098\n",
        "white_n                 0.5847      0.067      8.686      0.000         0.453     0.717\n",
        "---------------------------------------------------------------------------------------\n",
        "              other       coef    std err          z      P>|z|      [95.0% Conf. Int.]\n",
        "---------------------------------------------------------------------------------------\n",
        "const                  -1.8426      0.145    -12.725      0.000        -2.126    -1.559\n",
        "Other_g                -0.6818      0.751     -0.907      0.364        -2.154     0.791\n",
        "Male_g                 -1.5744      0.147    -10.739      0.000        -1.862    -1.287\n",
        "Female_g               -2.3092      0.153    -15.139      0.000        -2.608    -2.010\n",
        "muslim_r                1.3493      0.338      3.997      0.000         0.688     2.011\n",
        "christian_r             1.6764      0.084     19.993      0.000         1.512     1.841\n",
        "asian religion_r       -2.7552      7.297     -0.378      0.706       -17.056    11.546\n",
        "jewish_r               -0.1678      0.354     -0.474      0.635        -0.862     0.526\n",
        "hindu_r                -0.0553      1.029     -0.054      0.957        -2.072     1.962\n",
        "buddhist_r             -0.5499      1.038     -0.530      0.596        -2.584     1.484\n",
        "other_r                 2.0502      0.308      6.654      0.000         1.446     2.654\n",
        "atheist_spiritual_r     0.4990      0.412      1.210      0.226        -0.309     1.307\n",
        "african_american_n     -7.2252      6.620     -1.091      0.275       -20.200     5.750\n",
        "middle eastern_n       -1.3513      1.026     -1.317      0.188        -3.363     0.660\n",
        "hispanic_latino_n      -1.0741      0.787     -1.365      0.172        -2.617     0.468\n",
        "indigenous_n            4.2822      2.279      1.879      0.060        -0.185     8.750\n",
        "asian_n                -1.1497      0.772     -1.490      0.136        -2.662     0.363\n",
        "white_n                 0.3061      0.214      1.433      0.152        -0.113     0.725\n",
        "=======================================================================================\n",
        "\"\"\""
       ]
      }
     ],
     "prompt_number": 84
    },
    {
     "cell_type": "markdown",
     "metadata": {},
     "source": [
      "### Parameters\n",
      "\n",
      "**Note**:\n",
      "note that 0 = non-traditional, 2= traditional\n"
     ]
    },
    {
     "cell_type": "code",
     "collapsed": false,
     "input": [
      "params = result.params\n",
      "params"
     ],
     "language": "python",
     "metadata": {},
     "outputs": [
      {
       "html": [
        "<div style=\"max-height:1000px;max-width:1500px;overflow:auto;\">\n",
        "<table border=\"1\" class=\"dataframe\">\n",
        "  <thead>\n",
        "    <tr style=\"text-align: right;\">\n",
        "      <th></th>\n",
        "      <th>0</th>\n",
        "      <th>1</th>\n",
        "      <th>2</th>\n",
        "    </tr>\n",
        "  </thead>\n",
        "  <tbody>\n",
        "    <tr>\n",
        "      <th>const</th>\n",
        "      <td>-0.375106</td>\n",
        "      <td>-1.500449</td>\n",
        "      <td>-1.842576</td>\n",
        "    </tr>\n",
        "    <tr>\n",
        "      <th>Other_g</th>\n",
        "      <td>-1.473276</td>\n",
        "      <td> 0.013180</td>\n",
        "      <td>-0.681761</td>\n",
        "    </tr>\n",
        "    <tr>\n",
        "      <th>Male_g</th>\n",
        "      <td> 0.062669</td>\n",
        "      <td> 0.656687</td>\n",
        "      <td>-1.574357</td>\n",
        "    </tr>\n",
        "    <tr>\n",
        "      <th>Female_g</th>\n",
        "      <td>-1.670828</td>\n",
        "      <td>-0.052630</td>\n",
        "      <td>-2.309196</td>\n",
        "    </tr>\n",
        "    <tr>\n",
        "      <th>muslim_r</th>\n",
        "      <td>-0.578650</td>\n",
        "      <td> 0.515620</td>\n",
        "      <td> 1.349343</td>\n",
        "    </tr>\n",
        "    <tr>\n",
        "      <th>christian_r</th>\n",
        "      <td> 1.465816</td>\n",
        "      <td> 1.453665</td>\n",
        "      <td> 1.676441</td>\n",
        "    </tr>\n",
        "    <tr>\n",
        "      <th>asian religion_r</th>\n",
        "      <td> 0.842240</td>\n",
        "      <td> 0.279932</td>\n",
        "      <td>-2.755202</td>\n",
        "    </tr>\n",
        "    <tr>\n",
        "      <th>jewish_r</th>\n",
        "      <td> 0.836341</td>\n",
        "      <td> 1.206423</td>\n",
        "      <td>-0.167813</td>\n",
        "    </tr>\n",
        "    <tr>\n",
        "      <th>hindu_r</th>\n",
        "      <td> 0.734324</td>\n",
        "      <td> 0.620205</td>\n",
        "      <td>-0.055339</td>\n",
        "    </tr>\n",
        "    <tr>\n",
        "      <th>buddhist_r</th>\n",
        "      <td>-1.373070</td>\n",
        "      <td> 0.878270</td>\n",
        "      <td>-0.549942</td>\n",
        "    </tr>\n",
        "    <tr>\n",
        "      <th>other_r</th>\n",
        "      <td> 0.421563</td>\n",
        "      <td> 1.199450</td>\n",
        "      <td> 2.050216</td>\n",
        "    </tr>\n",
        "    <tr>\n",
        "      <th>atheist_spiritual_r</th>\n",
        "      <td>-0.023815</td>\n",
        "      <td> 1.432976</td>\n",
        "      <td> 0.498957</td>\n",
        "    </tr>\n",
        "    <tr>\n",
        "      <th>african_american_n</th>\n",
        "      <td> 1.448916</td>\n",
        "      <td> 1.648092</td>\n",
        "      <td>-7.225231</td>\n",
        "    </tr>\n",
        "    <tr>\n",
        "      <th>middle eastern_n</th>\n",
        "      <td>-0.282792</td>\n",
        "      <td> 0.694810</td>\n",
        "      <td>-1.351258</td>\n",
        "    </tr>\n",
        "    <tr>\n",
        "      <th>hispanic_latino_n</th>\n",
        "      <td>-0.106758</td>\n",
        "      <td> 0.216727</td>\n",
        "      <td>-1.074113</td>\n",
        "    </tr>\n",
        "    <tr>\n",
        "      <th>indigenous_n</th>\n",
        "      <td> 5.365942</td>\n",
        "      <td> 3.528375</td>\n",
        "      <td> 4.282204</td>\n",
        "    </tr>\n",
        "    <tr>\n",
        "      <th>asian_n</th>\n",
        "      <td>-0.670932</td>\n",
        "      <td> 0.770842</td>\n",
        "      <td>-1.149662</td>\n",
        "    </tr>\n",
        "    <tr>\n",
        "      <th>white_n</th>\n",
        "      <td>-0.088781</td>\n",
        "      <td> 0.584725</td>\n",
        "      <td> 0.306136</td>\n",
        "    </tr>\n",
        "  </tbody>\n",
        "</table>\n",
        "</div>"
       ],
       "metadata": {},
       "output_type": "pyout",
       "prompt_number": 85,
       "text": [
        "                            0         1         2\n",
        "const               -0.375106 -1.500449 -1.842576\n",
        "Other_g             -1.473276  0.013180 -0.681761\n",
        "Male_g               0.062669  0.656687 -1.574357\n",
        "Female_g            -1.670828 -0.052630 -2.309196\n",
        "muslim_r            -0.578650  0.515620  1.349343\n",
        "christian_r          1.465816  1.453665  1.676441\n",
        "asian religion_r     0.842240  0.279932 -2.755202\n",
        "jewish_r             0.836341  1.206423 -0.167813\n",
        "hindu_r              0.734324  0.620205 -0.055339\n",
        "buddhist_r          -1.373070  0.878270 -0.549942\n",
        "other_r              0.421563  1.199450  2.050216\n",
        "atheist_spiritual_r -0.023815  1.432976  0.498957\n",
        "african_american_n   1.448916  1.648092 -7.225231\n",
        "middle eastern_n    -0.282792  0.694810 -1.351258\n",
        "hispanic_latino_n   -0.106758  0.216727 -1.074113\n",
        "indigenous_n         5.365942  3.528375  4.282204\n",
        "asian_n             -0.670932  0.770842 -1.149662\n",
        "white_n             -0.088781  0.584725  0.306136"
       ]
      }
     ],
     "prompt_number": 85
    },
    {
     "cell_type": "markdown",
     "metadata": {},
     "source": [
      "### Odd ratios"
     ]
    },
    {
     "cell_type": "code",
     "collapsed": false,
     "input": [
      "odds = np.exp(result.params)\n",
      "odds"
     ],
     "language": "python",
     "metadata": {},
     "outputs": [
      {
       "html": [
        "<div style=\"max-height:1000px;max-width:1500px;overflow:auto;\">\n",
        "<table border=\"1\" class=\"dataframe\">\n",
        "  <thead>\n",
        "    <tr style=\"text-align: right;\">\n",
        "      <th></th>\n",
        "      <th>0</th>\n",
        "      <th>1</th>\n",
        "      <th>2</th>\n",
        "    </tr>\n",
        "  </thead>\n",
        "  <tbody>\n",
        "    <tr>\n",
        "      <th>const</th>\n",
        "      <td>   0.687217</td>\n",
        "      <td>  0.223030</td>\n",
        "      <td>  0.158409</td>\n",
        "    </tr>\n",
        "    <tr>\n",
        "      <th>Other_g</th>\n",
        "      <td>   0.229174</td>\n",
        "      <td>  1.013267</td>\n",
        "      <td>  0.505725</td>\n",
        "    </tr>\n",
        "    <tr>\n",
        "      <th>Male_g</th>\n",
        "      <td>   1.064675</td>\n",
        "      <td>  1.928393</td>\n",
        "      <td>  0.207141</td>\n",
        "    </tr>\n",
        "    <tr>\n",
        "      <th>Female_g</th>\n",
        "      <td>   0.188091</td>\n",
        "      <td>  0.948731</td>\n",
        "      <td>  0.099341</td>\n",
        "    </tr>\n",
        "    <tr>\n",
        "      <th>muslim_r</th>\n",
        "      <td>   0.560655</td>\n",
        "      <td>  1.674676</td>\n",
        "      <td>  3.854893</td>\n",
        "    </tr>\n",
        "    <tr>\n",
        "      <th>christian_r</th>\n",
        "      <td>   4.331077</td>\n",
        "      <td>  4.278765</td>\n",
        "      <td>  5.346491</td>\n",
        "    </tr>\n",
        "    <tr>\n",
        "      <th>asian religion_r</th>\n",
        "      <td>   2.321562</td>\n",
        "      <td>  1.323040</td>\n",
        "      <td>  0.063596</td>\n",
        "    </tr>\n",
        "    <tr>\n",
        "      <th>jewish_r</th>\n",
        "      <td>   2.307908</td>\n",
        "      <td>  3.341509</td>\n",
        "      <td>  0.845512</td>\n",
        "    </tr>\n",
        "    <tr>\n",
        "      <th>hindu_r</th>\n",
        "      <td>   2.084073</td>\n",
        "      <td>  1.859309</td>\n",
        "      <td>  0.946164</td>\n",
        "    </tr>\n",
        "    <tr>\n",
        "      <th>buddhist_r</th>\n",
        "      <td>   0.253328</td>\n",
        "      <td>  2.406732</td>\n",
        "      <td>  0.576983</td>\n",
        "    </tr>\n",
        "    <tr>\n",
        "      <th>other_r</th>\n",
        "      <td>   1.524342</td>\n",
        "      <td>  3.318291</td>\n",
        "      <td>  7.769578</td>\n",
        "    </tr>\n",
        "    <tr>\n",
        "      <th>atheist_spiritual_r</th>\n",
        "      <td>   0.976467</td>\n",
        "      <td>  4.191153</td>\n",
        "      <td>  1.647002</td>\n",
        "    </tr>\n",
        "    <tr>\n",
        "      <th>african_american_n</th>\n",
        "      <td>   4.258495</td>\n",
        "      <td>  5.197057</td>\n",
        "      <td>  0.000728</td>\n",
        "    </tr>\n",
        "    <tr>\n",
        "      <th>middle eastern_n</th>\n",
        "      <td>   0.753677</td>\n",
        "      <td>  2.003328</td>\n",
        "      <td>  0.258914</td>\n",
        "    </tr>\n",
        "    <tr>\n",
        "      <th>hispanic_latino_n</th>\n",
        "      <td>   0.898743</td>\n",
        "      <td>  1.242005</td>\n",
        "      <td>  0.341601</td>\n",
        "    </tr>\n",
        "    <tr>\n",
        "      <th>indigenous_n</th>\n",
        "      <td> 213.992693</td>\n",
        "      <td> 34.068573</td>\n",
        "      <td> 72.399821</td>\n",
        "    </tr>\n",
        "    <tr>\n",
        "      <th>asian_n</th>\n",
        "      <td>   0.511232</td>\n",
        "      <td>  2.161586</td>\n",
        "      <td>  0.316744</td>\n",
        "    </tr>\n",
        "    <tr>\n",
        "      <th>white_n</th>\n",
        "      <td>   0.915046</td>\n",
        "      <td>  1.794498</td>\n",
        "      <td>  1.358167</td>\n",
        "    </tr>\n",
        "  </tbody>\n",
        "</table>\n",
        "</div>"
       ],
       "metadata": {},
       "output_type": "pyout",
       "prompt_number": 86,
       "text": [
        "                              0          1          2\n",
        "const                  0.687217   0.223030   0.158409\n",
        "Other_g                0.229174   1.013267   0.505725\n",
        "Male_g                 1.064675   1.928393   0.207141\n",
        "Female_g               0.188091   0.948731   0.099341\n",
        "muslim_r               0.560655   1.674676   3.854893\n",
        "christian_r            4.331077   4.278765   5.346491\n",
        "asian religion_r       2.321562   1.323040   0.063596\n",
        "jewish_r               2.307908   3.341509   0.845512\n",
        "hindu_r                2.084073   1.859309   0.946164\n",
        "buddhist_r             0.253328   2.406732   0.576983\n",
        "other_r                1.524342   3.318291   7.769578\n",
        "atheist_spiritual_r    0.976467   4.191153   1.647002\n",
        "african_american_n     4.258495   5.197057   0.000728\n",
        "middle eastern_n       0.753677   2.003328   0.258914\n",
        "hispanic_latino_n      0.898743   1.242005   0.341601\n",
        "indigenous_n         213.992693  34.068573  72.399821\n",
        "asian_n                0.511232   2.161586   0.316744\n",
        "white_n                0.915046   1.794498   1.358167"
       ]
      }
     ],
     "prompt_number": 86
    },
    {
     "cell_type": "markdown",
     "metadata": {},
     "source": [
      "### p-values"
     ]
    },
    {
     "cell_type": "code",
     "collapsed": false,
     "input": [
      "result.pvalues"
     ],
     "language": "python",
     "metadata": {},
     "outputs": [
      {
       "html": [
        "<div style=\"max-height:1000px;max-width:1500px;overflow:auto;\">\n",
        "<table border=\"1\" class=\"dataframe\">\n",
        "  <thead>\n",
        "    <tr style=\"text-align: right;\">\n",
        "      <th></th>\n",
        "      <th>0</th>\n",
        "      <th>1</th>\n",
        "      <th>2</th>\n",
        "    </tr>\n",
        "  </thead>\n",
        "  <tbody>\n",
        "    <tr>\n",
        "      <th>const</th>\n",
        "      <td> 4.285576e-18</td>\n",
        "      <td> 5.073674e-02</td>\n",
        "      <td> 4.024810e-33</td>\n",
        "    </tr>\n",
        "    <tr>\n",
        "      <th>Other_g</th>\n",
        "      <td> 2.331955e-02</td>\n",
        "      <td> 4.012456e-01</td>\n",
        "      <td> 9.709546e-01</td>\n",
        "    </tr>\n",
        "    <tr>\n",
        "      <th>Male_g</th>\n",
        "      <td> 4.854284e-06</td>\n",
        "      <td> 1.203844e-36</td>\n",
        "      <td> 1.607785e-07</td>\n",
        "    </tr>\n",
        "    <tr>\n",
        "      <th>Female_g</th>\n",
        "      <td> 8.445788e-35</td>\n",
        "      <td> 2.016807e-35</td>\n",
        "      <td> 6.783628e-01</td>\n",
        "    </tr>\n",
        "    <tr>\n",
        "      <th>muslim_r</th>\n",
        "      <td> 4.449821e-07</td>\n",
        "      <td> 1.545476e-02</td>\n",
        "      <td> 1.683303e-03</td>\n",
        "    </tr>\n",
        "    <tr>\n",
        "      <th>christian_r</th>\n",
        "      <td> 6.983251e-01</td>\n",
        "      <td> 6.619225e-03</td>\n",
        "      <td> 0.000000e+00</td>\n",
        "    </tr>\n",
        "    <tr>\n",
        "      <th>asian religion_r</th>\n",
        "      <td> 2.846772e-01</td>\n",
        "      <td> 6.748922e-01</td>\n",
        "      <td> 5.993384e-01</td>\n",
        "    </tr>\n",
        "    <tr>\n",
        "      <th>jewish_r</th>\n",
        "      <td> 1.267920e-07</td>\n",
        "      <td> 9.929791e-05</td>\n",
        "      <td> 1.900924e-61</td>\n",
        "    </tr>\n",
        "    <tr>\n",
        "      <th>hindu_r</th>\n",
        "      <td> 6.315955e-01</td>\n",
        "      <td> 5.116628e-01</td>\n",
        "      <td> 6.607872e-03</td>\n",
        "    </tr>\n",
        "    <tr>\n",
        "      <th>buddhist_r</th>\n",
        "      <td> 2.887008e-09</td>\n",
        "      <td> 1.683594e-01</td>\n",
        "      <td> 3.541388e-06</td>\n",
        "    </tr>\n",
        "    <tr>\n",
        "      <th>other_r</th>\n",
        "      <td> 4.926627e-05</td>\n",
        "      <td> 5.141816e-03</td>\n",
        "      <td> 5.831586e-12</td>\n",
        "    </tr>\n",
        "    <tr>\n",
        "      <th>atheist_spiritual_r</th>\n",
        "      <td> 4.406033e-27</td>\n",
        "      <td> 2.191389e-02</td>\n",
        "      <td> 8.674738e-37</td>\n",
        "    </tr>\n",
        "    <tr>\n",
        "      <th>african_american_n</th>\n",
        "      <td> 4.886845e-01</td>\n",
        "      <td> 1.778745e-01</td>\n",
        "      <td> 1.569693e-08</td>\n",
        "    </tr>\n",
        "    <tr>\n",
        "      <th>middle eastern_n</th>\n",
        "      <td> 1.695567e-04</td>\n",
        "      <td> 4.722800e-02</td>\n",
        "      <td> 1.873552e-03</td>\n",
        "    </tr>\n",
        "    <tr>\n",
        "      <th>hispanic_latino_n</th>\n",
        "      <td> 1.306863e-01</td>\n",
        "      <td> 1.051129e-01</td>\n",
        "      <td> 2.557365e-01</td>\n",
        "    </tr>\n",
        "    <tr>\n",
        "      <th>indigenous_n</th>\n",
        "      <td> 1.817902e-02</td>\n",
        "      <td> 7.338761e-01</td>\n",
        "      <td> 5.260055e-03</td>\n",
        "    </tr>\n",
        "    <tr>\n",
        "      <th>asian_n</th>\n",
        "      <td> 1.096343e-11</td>\n",
        "      <td> 1.290363e-02</td>\n",
        "      <td> 3.793135e-06</td>\n",
        "    </tr>\n",
        "    <tr>\n",
        "      <th>white_n</th>\n",
        "      <td> 2.659402e-19</td>\n",
        "      <td> 1.981078e-01</td>\n",
        "      <td> 3.937791e-18</td>\n",
        "    </tr>\n",
        "  </tbody>\n",
        "</table>\n",
        "</div>"
       ],
       "metadata": {},
       "output_type": "pyout",
       "prompt_number": 274,
       "text": [
        "                                0             1             2\n",
        "const                4.285576e-18  5.073674e-02  4.024810e-33\n",
        "Other_g              2.331955e-02  4.012456e-01  9.709546e-01\n",
        "Male_g               4.854284e-06  1.203844e-36  1.607785e-07\n",
        "Female_g             8.445788e-35  2.016807e-35  6.783628e-01\n",
        "muslim_r             4.449821e-07  1.545476e-02  1.683303e-03\n",
        "christian_r          6.983251e-01  6.619225e-03  0.000000e+00\n",
        "asian religion_r     2.846772e-01  6.748922e-01  5.993384e-01\n",
        "jewish_r             1.267920e-07  9.929791e-05  1.900924e-61\n",
        "hindu_r              6.315955e-01  5.116628e-01  6.607872e-03\n",
        "buddhist_r           2.887008e-09  1.683594e-01  3.541388e-06\n",
        "other_r              4.926627e-05  5.141816e-03  5.831586e-12\n",
        "atheist_spiritual_r  4.406033e-27  2.191389e-02  8.674738e-37\n",
        "african_american_n   4.886845e-01  1.778745e-01  1.569693e-08\n",
        "middle eastern_n     1.695567e-04  4.722800e-02  1.873552e-03\n",
        "hispanic_latino_n    1.306863e-01  1.051129e-01  2.557365e-01\n",
        "indigenous_n         1.817902e-02  7.338761e-01  5.260055e-03\n",
        "asian_n              1.096343e-11  1.290363e-02  3.793135e-06\n",
        "white_n              2.659402e-19  1.981078e-01  3.937791e-18"
       ]
      }
     ],
     "prompt_number": 274
    },
    {
     "cell_type": "code",
     "collapsed": false,
     "input": [
      "result.bse"
     ],
     "language": "python",
     "metadata": {},
     "outputs": [
      {
       "html": [
        "<div style=\"max-height:1000px;max-width:1500px;overflow:auto;\">\n",
        "<table border=\"1\" class=\"dataframe\">\n",
        "  <thead>\n",
        "    <tr style=\"text-align: right;\">\n",
        "      <th></th>\n",
        "      <th>0</th>\n",
        "      <th>1</th>\n",
        "      <th>2</th>\n",
        "    </tr>\n",
        "  </thead>\n",
        "  <tbody>\n",
        "    <tr>\n",
        "      <th>const</th>\n",
        "      <td> 0.129853</td>\n",
        "      <td> 0.174932</td>\n",
        "      <td> 0.125176</td>\n",
        "    </tr>\n",
        "    <tr>\n",
        "      <th>Other_g</th>\n",
        "      <td> 0.658948</td>\n",
        "      <td> 0.836619</td>\n",
        "      <td> 0.476872</td>\n",
        "    </tr>\n",
        "    <tr>\n",
        "      <th>Male_g</th>\n",
        "      <td> 0.130088</td>\n",
        "      <td> 0.176473</td>\n",
        "      <td> 0.125400</td>\n",
        "    </tr>\n",
        "    <tr>\n",
        "      <th>Female_g</th>\n",
        "      <td> 0.131551</td>\n",
        "      <td> 0.181704</td>\n",
        "      <td> 0.125995</td>\n",
        "    </tr>\n",
        "    <tr>\n",
        "      <th>muslim_r</th>\n",
        "      <td> 0.216909</td>\n",
        "      <td> 0.344344</td>\n",
        "      <td> 0.163880</td>\n",
        "    </tr>\n",
        "    <tr>\n",
        "      <th>christian_r</th>\n",
        "      <td> 0.031338</td>\n",
        "      <td> 0.082073</td>\n",
        "      <td> 0.037929</td>\n",
        "    </tr>\n",
        "    <tr>\n",
        "      <th>asian religion_r</th>\n",
        "      <td> 0.534197</td>\n",
        "      <td> 6.927068</td>\n",
        "      <td> 0.537921</td>\n",
        "    </tr>\n",
        "    <tr>\n",
        "      <th>jewish_r</th>\n",
        "      <td> 0.069996</td>\n",
        "      <td> 0.353049</td>\n",
        "      <td> 0.072928</td>\n",
        "    </tr>\n",
        "    <tr>\n",
        "      <th>hindu_r</th>\n",
        "      <td> 0.237263</td>\n",
        "      <td> 1.036154</td>\n",
        "      <td> 0.228070</td>\n",
        "    </tr>\n",
        "    <tr>\n",
        "      <th>buddhist_r</th>\n",
        "      <td> 0.379209</td>\n",
        "      <td> 1.042614</td>\n",
        "      <td> 0.189438</td>\n",
        "    </tr>\n",
        "    <tr>\n",
        "      <th>other_r</th>\n",
        "      <td> 0.191508</td>\n",
        "      <td> 0.303982</td>\n",
        "      <td> 0.174189</td>\n",
        "    </tr>\n",
        "    <tr>\n",
        "      <th>atheist_spiritual_r</th>\n",
        "      <td> 0.135197</td>\n",
        "      <td> 0.409229</td>\n",
        "      <td> 0.113095</td>\n",
        "    </tr>\n",
        "    <tr>\n",
        "      <th>african_american_n</th>\n",
        "      <td> 0.285622</td>\n",
        "      <td> 6.552839</td>\n",
        "      <td> 0.291010</td>\n",
        "    </tr>\n",
        "    <tr>\n",
        "      <th>middle eastern_n</th>\n",
        "      <td> 0.260059</td>\n",
        "      <td> 1.032312</td>\n",
        "      <td> 0.223309</td>\n",
        "    </tr>\n",
        "    <tr>\n",
        "      <th>hispanic_latino_n</th>\n",
        "      <td> 0.213800</td>\n",
        "      <td> 0.794566</td>\n",
        "      <td> 0.191155</td>\n",
        "    </tr>\n",
        "    <tr>\n",
        "      <th>indigenous_n</th>\n",
        "      <td> 0.773668</td>\n",
        "      <td> 2.136361</td>\n",
        "      <td> 1.260262</td>\n",
        "    </tr>\n",
        "    <tr>\n",
        "      <th>asian_n</th>\n",
        "      <td> 0.212253</td>\n",
        "      <td> 0.779752</td>\n",
        "      <td> 0.167078</td>\n",
        "    </tr>\n",
        "    <tr>\n",
        "      <th>white_n</th>\n",
        "      <td> 0.074949</td>\n",
        "      <td> 0.216352</td>\n",
        "      <td> 0.067322</td>\n",
        "    </tr>\n",
        "  </tbody>\n",
        "</table>\n",
        "</div>"
       ],
       "metadata": {},
       "output_type": "pyout",
       "prompt_number": 278,
       "text": [
        "                            0         1         2\n",
        "const                0.129853  0.174932  0.125176\n",
        "Other_g              0.658948  0.836619  0.476872\n",
        "Male_g               0.130088  0.176473  0.125400\n",
        "Female_g             0.131551  0.181704  0.125995\n",
        "muslim_r             0.216909  0.344344  0.163880\n",
        "christian_r          0.031338  0.082073  0.037929\n",
        "asian religion_r     0.534197  6.927068  0.537921\n",
        "jewish_r             0.069996  0.353049  0.072928\n",
        "hindu_r              0.237263  1.036154  0.228070\n",
        "buddhist_r           0.379209  1.042614  0.189438\n",
        "other_r              0.191508  0.303982  0.174189\n",
        "atheist_spiritual_r  0.135197  0.409229  0.113095\n",
        "african_american_n   0.285622  6.552839  0.291010\n",
        "middle eastern_n     0.260059  1.032312  0.223309\n",
        "hispanic_latino_n    0.213800  0.794566  0.191155\n",
        "indigenous_n         0.773668  2.136361  1.260262\n",
        "asian_n              0.212253  0.779752  0.167078\n",
        "white_n              0.074949  0.216352  0.067322"
       ]
      }
     ],
     "prompt_number": 278
    },
    {
     "cell_type": "markdown",
     "metadata": {},
     "source": [
      " #Objectives\n",
      "\n",
      "1. Change base case--make traditional, male, white and christian base cases \n",
      "1. Covariate plot matrix (religion, gender, nationality)--percentages and maybe correlations\n",
      "1. Redo regression analyses (review how to interpret info)--try mixed and accounting for multiple identities\n",
      "1. Stacked area plot for all demographics (religion, nationality, gender)"
     ]
    },
    {
     "cell_type": "code",
     "collapsed": false,
     "input": [],
     "language": "python",
     "metadata": {},
     "outputs": []
    }
   ],
   "metadata": {}
  }
 ]
}