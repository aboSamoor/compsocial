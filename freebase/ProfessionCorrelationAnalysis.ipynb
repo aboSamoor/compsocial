{
 "metadata": {
  "name": "",
  "signature": "sha256:2934343bf35f9241946aac1e1dc0238bdb89f349eba7ffc9b65f30a1c9eaf777"
 },
 "nbformat": 3,
 "nbformat_minor": 0,
 "worksheets": [
  {
   "cells": [
    {
     "cell_type": "code",
     "collapsed": false,
     "input": [
      "import pandas as pd\n",
      "import numpy as np\n",
      "import cPickle as pickle\n",
      "from datetime import date\n",
      "from collections import Counter"
     ],
     "language": "python",
     "metadata": {},
     "outputs": [],
     "prompt_number": 1
    },
    {
     "cell_type": "markdown",
     "metadata": {},
     "source": [
      "### Loading Data"
     ]
    },
    {
     "cell_type": "code",
     "collapsed": false,
     "input": [
      "fh = open(\"/data/csc/fb_persons/unified_100percentpeople.pkl\", 'rb')\n",
      "df = pickle.load(fh)"
     ],
     "language": "python",
     "metadata": {},
     "outputs": [],
     "prompt_number": 2
    },
    {
     "cell_type": "code",
     "collapsed": false,
     "input": [
      "df.head()"
     ],
     "language": "python",
     "metadata": {},
     "outputs": [
      {
       "html": [
        "<div style=\"max-height:1000px;max-width:1500px;overflow:auto;\">\n",
        "<table border=\"1\" class=\"dataframe\">\n",
        "  <thead>\n",
        "    <tr style=\"text-align: right;\">\n",
        "      <th></th>\n",
        "      <th>date_of_birth</th>\n",
        "      <th>ethnicity</th>\n",
        "      <th>gender</th>\n",
        "      <th>name</th>\n",
        "      <th>nationality</th>\n",
        "      <th>place_of_birth</th>\n",
        "      <th>profession</th>\n",
        "      <th>religion</th>\n",
        "    </tr>\n",
        "  </thead>\n",
        "  <tbody>\n",
        "    <tr>\n",
        "      <th>0</th>\n",
        "      <td>        NaN</td>\n",
        "      <td> None</td>\n",
        "      <td> Female</td>\n",
        "      <td> Courtney Jamieson</td>\n",
        "      <td>           None</td>\n",
        "      <td>    NaN</td>\n",
        "      <td>            music_art</td>\n",
        "      <td> None</td>\n",
        "    </tr>\n",
        "    <tr>\n",
        "      <th>1</th>\n",
        "      <td>        NaN</td>\n",
        "      <td> None</td>\n",
        "      <td>   Male</td>\n",
        "      <td>       Robert Moir</td>\n",
        "      <td>           None</td>\n",
        "      <td>    NaN</td>\n",
        "      <td>                other</td>\n",
        "      <td> None</td>\n",
        "    </tr>\n",
        "    <tr>\n",
        "      <th>2</th>\n",
        "      <td> 1962-04-21</td>\n",
        "      <td> None</td>\n",
        "      <td>   Male</td>\n",
        "      <td>       Mehdi Jomaa</td>\n",
        "      <td> middle eastern</td>\n",
        "      <td> Mahdia</td>\n",
        "      <td> (law_politics, stem)</td>\n",
        "      <td> None</td>\n",
        "    </tr>\n",
        "    <tr>\n",
        "      <th>3</th>\n",
        "      <td>        NaN</td>\n",
        "      <td> None</td>\n",
        "      <td>   Male</td>\n",
        "      <td>  Victoria Shields</td>\n",
        "      <td>           None</td>\n",
        "      <td>    NaN</td>\n",
        "      <td>                 None</td>\n",
        "      <td> None</td>\n",
        "    </tr>\n",
        "    <tr>\n",
        "      <th>4</th>\n",
        "      <td> 1992-06-24</td>\n",
        "      <td> None</td>\n",
        "      <td>   Male</td>\n",
        "      <td>   Terrick Colston</td>\n",
        "      <td>           None</td>\n",
        "      <td>    NaN</td>\n",
        "      <td>                 None</td>\n",
        "      <td> None</td>\n",
        "    </tr>\n",
        "  </tbody>\n",
        "</table>\n",
        "</div>"
       ],
       "metadata": {},
       "output_type": "pyout",
       "prompt_number": 3,
       "text": [
        "  date_of_birth ethnicity  gender               name     nationality  \\\n",
        "0           NaN      None  Female  Courtney Jamieson            None   \n",
        "1           NaN      None    Male        Robert Moir            None   \n",
        "2    1962-04-21      None    Male        Mehdi Jomaa  middle eastern   \n",
        "3           NaN      None    Male   Victoria Shields            None   \n",
        "4    1992-06-24      None    Male    Terrick Colston            None   \n",
        "\n",
        "  place_of_birth            profession religion  \n",
        "0            NaN             music_art     None  \n",
        "1            NaN                 other     None  \n",
        "2         Mahdia  (law_politics, stem)     None  \n",
        "3            NaN                  None     None  \n",
        "4            NaN                  None     None  "
       ]
      }
     ],
     "prompt_number": 3
    },
    {
     "cell_type": "code",
     "collapsed": false,
     "input": [
      "selected_columns = [\"gender\", \"date_of_birth\", \"ethnicity\", \"name\", \"profession\",\n",
      "                    \"religion\", \"nationality\"]\n",
      "df = df[selected_columns]"
     ],
     "language": "python",
     "metadata": {},
     "outputs": [],
     "prompt_number": 4
    },
    {
     "cell_type": "code",
     "collapsed": false,
     "input": [
      "df.head()"
     ],
     "language": "python",
     "metadata": {},
     "outputs": [
      {
       "html": [
        "<div style=\"max-height:1000px;max-width:1500px;overflow:auto;\">\n",
        "<table border=\"1\" class=\"dataframe\">\n",
        "  <thead>\n",
        "    <tr style=\"text-align: right;\">\n",
        "      <th></th>\n",
        "      <th>gender</th>\n",
        "      <th>date_of_birth</th>\n",
        "      <th>ethnicity</th>\n",
        "      <th>name</th>\n",
        "      <th>profession</th>\n",
        "      <th>religion</th>\n",
        "      <th>nationality</th>\n",
        "    </tr>\n",
        "  </thead>\n",
        "  <tbody>\n",
        "    <tr>\n",
        "      <th>0</th>\n",
        "      <td> Female</td>\n",
        "      <td>        NaN</td>\n",
        "      <td> None</td>\n",
        "      <td> Courtney Jamieson</td>\n",
        "      <td>            music_art</td>\n",
        "      <td> None</td>\n",
        "      <td>           None</td>\n",
        "    </tr>\n",
        "    <tr>\n",
        "      <th>1</th>\n",
        "      <td>   Male</td>\n",
        "      <td>        NaN</td>\n",
        "      <td> None</td>\n",
        "      <td>       Robert Moir</td>\n",
        "      <td>                other</td>\n",
        "      <td> None</td>\n",
        "      <td>           None</td>\n",
        "    </tr>\n",
        "    <tr>\n",
        "      <th>2</th>\n",
        "      <td>   Male</td>\n",
        "      <td> 1962-04-21</td>\n",
        "      <td> None</td>\n",
        "      <td>       Mehdi Jomaa</td>\n",
        "      <td> (law_politics, stem)</td>\n",
        "      <td> None</td>\n",
        "      <td> middle eastern</td>\n",
        "    </tr>\n",
        "    <tr>\n",
        "      <th>3</th>\n",
        "      <td>   Male</td>\n",
        "      <td>        NaN</td>\n",
        "      <td> None</td>\n",
        "      <td>  Victoria Shields</td>\n",
        "      <td>                 None</td>\n",
        "      <td> None</td>\n",
        "      <td>           None</td>\n",
        "    </tr>\n",
        "    <tr>\n",
        "      <th>4</th>\n",
        "      <td>   Male</td>\n",
        "      <td> 1992-06-24</td>\n",
        "      <td> None</td>\n",
        "      <td>   Terrick Colston</td>\n",
        "      <td>                 None</td>\n",
        "      <td> None</td>\n",
        "      <td>           None</td>\n",
        "    </tr>\n",
        "  </tbody>\n",
        "</table>\n",
        "</div>"
       ],
       "metadata": {},
       "output_type": "pyout",
       "prompt_number": 5,
       "text": [
        "   gender date_of_birth ethnicity               name            profession  \\\n",
        "0  Female           NaN      None  Courtney Jamieson             music_art   \n",
        "1    Male           NaN      None        Robert Moir                 other   \n",
        "2    Male    1962-04-21      None        Mehdi Jomaa  (law_politics, stem)   \n",
        "3    Male           NaN      None   Victoria Shields                  None   \n",
        "4    Male    1992-06-24      None    Terrick Colston                  None   \n",
        "\n",
        "  religion     nationality  \n",
        "0     None            None  \n",
        "1     None            None  \n",
        "2     None  middle eastern  \n",
        "3     None            None  \n",
        "4     None            None  "
       ]
      }
     ],
     "prompt_number": 5
    },
    {
     "cell_type": "markdown",
     "metadata": {},
     "source": [
      "###Considering only people after the 1800s"
     ]
    },
    {
     "cell_type": "code",
     "collapsed": false,
     "input": [
      "victorian_age = date(1800, 1, 1)\n",
      "df = df[np.logical_not(df.date_of_birth.isnull().values)]\n",
      "df = df[df.date_of_birth > victorian_age]"
     ],
     "language": "python",
     "metadata": {},
     "outputs": [],
     "prompt_number": 6
    },
    {
     "cell_type": "code",
     "collapsed": false,
     "input": [
      "len(df)"
     ],
     "language": "python",
     "metadata": {},
     "outputs": [
      {
       "metadata": {},
       "output_type": "pyout",
       "prompt_number": 7,
       "text": [
        "1300159"
       ]
      }
     ],
     "prompt_number": 7
    },
    {
     "cell_type": "code",
     "collapsed": false,
     "input": [
      "len(df.nationality.dropna())"
     ],
     "language": "python",
     "metadata": {},
     "outputs": [
      {
       "metadata": {},
       "output_type": "pyout",
       "prompt_number": 8,
       "text": [
        "703447"
       ]
      }
     ],
     "prompt_number": 8
    },
    {
     "cell_type": "markdown",
     "metadata": {},
     "source": [
      "### Considering Only Americans"
     ]
    },
    {
     "cell_type": "code",
     "collapsed": false,
     "input": [
      "americans = map(lambda x: (isinstance(x, basestring) and x == 'united states of america') or\n",
      "                          (isinstance(x, tuple) and  'united states of america' in x),\n",
      "                          df.nationality)\n",
      "df = df[americans]"
     ],
     "language": "python",
     "metadata": {},
     "outputs": [],
     "prompt_number": 9
    },
    {
     "cell_type": "code",
     "collapsed": false,
     "input": [
      "len(df)"
     ],
     "language": "python",
     "metadata": {},
     "outputs": [
      {
       "metadata": {},
       "output_type": "pyout",
       "prompt_number": 10,
       "text": [
        "223632"
       ]
      }
     ],
     "prompt_number": 10
    },
    {
     "cell_type": "markdown",
     "metadata": {},
     "source": [
      "## Feature Extraction"
     ]
    },
    {
     "cell_type": "code",
     "collapsed": false,
     "input": [
      "from sklearn.preprocessing import OneHotEncoder\n",
      "from sklearn.feature_extraction import DictVectorizer"
     ],
     "language": "python",
     "metadata": {},
     "outputs": [],
     "prompt_number": 11
    },
    {
     "cell_type": "code",
     "collapsed": false,
     "input": [
      "def feature_matrix(df, field):\n",
      "  features = df[[field]].fillna(\"nan\").values.reshape(-1)\n",
      "  vocab = []\n",
      "  for value in features:\n",
      "    if isinstance(value, tuple):\n",
      "      vocab.extend(value)\n",
      "    else:\n",
      "      vocab.append(value)\n",
      "  vocab = set(vocab)\n",
      "  word_index = {w:i for i,w in enumerate(vocab)}\n",
      "  matrix = np.zeros((len(features), len(vocab)))\n",
      "  for i, value in enumerate(features):\n",
      "    if isinstance(value, tuple):\n",
      "      for v in value:\n",
      "        matrix[i, word_index[v]] = 1.0/len(value)\n",
      "    else:\n",
      "      matrix[i, word_index[value]] = 1\n",
      "  print \"{}: persons, {}:number of categories\".format(*matrix.shape)\n",
      "  print \"{} persons have mixed categories\".format(np.argwhere((matrix > 0).sum(axis=1) > 1).shape[0])\n",
      "  return matrix, word_index"
     ],
     "language": "python",
     "metadata": {},
     "outputs": [],
     "prompt_number": 12
    },
    {
     "cell_type": "code",
     "collapsed": false,
     "input": [
      "gender_features, gender_index = feature_matrix(df, \"gender\")"
     ],
     "language": "python",
     "metadata": {},
     "outputs": [
      {
       "output_type": "stream",
       "stream": "stdout",
       "text": [
        "223632: persons, 4:number of categories\n",
        "0 persons have mixed categories\n"
       ]
      }
     ],
     "prompt_number": 13
    },
    {
     "cell_type": "code",
     "collapsed": false,
     "input": [
      "ethnicity_features, ethnicity_index = feature_matrix(df, \"ethnicity\")"
     ],
     "language": "python",
     "metadata": {},
     "outputs": [
      {
       "output_type": "stream",
       "stream": "stdout",
       "text": [
        "223632: persons, 12:number of categories\n",
        "795 persons have mixed categories\n"
       ]
      }
     ],
     "prompt_number": 14
    },
    {
     "cell_type": "code",
     "collapsed": false,
     "input": [
      "religion_features, religion_index = feature_matrix(df, \"religion\")"
     ],
     "language": "python",
     "metadata": {},
     "outputs": [
      {
       "output_type": "stream",
       "stream": "stdout",
       "text": [
        "223632: persons, 9:number of categories\n",
        "179 persons have mixed categories\n"
       ]
      }
     ],
     "prompt_number": 15
    },
    {
     "cell_type": "code",
     "collapsed": false,
     "input": [
      "nationality_features, nationality_index = feature_matrix(df, \"nationality\")"
     ],
     "language": "python",
     "metadata": {},
     "outputs": [
      {
       "output_type": "stream",
       "stream": "stdout",
       "text": [
        "223632: persons, 7:number of categories\n",
        "10910 persons have mixed categories\n"
       ]
      }
     ],
     "prompt_number": 16
    },
    {
     "cell_type": "code",
     "collapsed": false,
     "input": [
      "profession_features, profession_index = feature_matrix(df, \"profession\")"
     ],
     "language": "python",
     "metadata": {},
     "outputs": [
      {
       "output_type": "stream",
       "stream": "stdout",
       "text": [
        "223632: persons, 9:number of categories\n",
        "31897 persons have mixed categories\n"
       ]
      }
     ],
     "prompt_number": 17
    },
    {
     "cell_type": "markdown",
     "metadata": {},
     "source": [
      "## Correlation Analysis"
     ]
    },
    {
     "cell_type": "code",
     "collapsed": false,
     "input": [
      "from scipy.stats import pearsonr"
     ],
     "language": "python",
     "metadata": {},
     "outputs": [],
     "prompt_number": 18
    },
    {
     "cell_type": "code",
     "collapsed": false,
     "input": [
      "def correlate(var1_features, var2_features, var1_index, var2_index):\n",
      "  R = np.zeros((var1_features.shape[1], var2_features.shape[1]))\n",
      "  P = np.zeros((var1_features.shape[1], var2_features.shape[1]))\n",
      "  k = 0\n",
      "  for i in range(var1_features.shape[1]):\n",
      "    for j in range(var2_features.shape[1]):\n",
      "      r, p =  pearsonr(var1_features[:, i], var2_features[:, j])\n",
      "      R[i,j] = r\n",
      "      P[i,j] = p\n",
      "      print \"\\r%i\" % k,\n",
      "      k += 1\n",
      "  idx = R.argsort(axis=1)\n",
      "  index_var1 = {i:g for g,i in var1_index.iteritems()}\n",
      "  index_var2 = {i:g for g,i in var2_index.iteritems()}\n",
      "  print\n",
      "  for i in range(len(index_var1)):\n",
      "    #if i in [0, 2]: continue\n",
      "    for j in idx[i][::-1]:\n",
      "      print  \"{:<4}{:<4}{:<24}{:<24}{:>20.4f}{:>20.4f}\".format(i, j, index_var1[i], index_var2[j], R[i,j], P[i,j])"
     ],
     "language": "python",
     "metadata": {},
     "outputs": [],
     "prompt_number": 19
    },
    {
     "cell_type": "code",
     "collapsed": false,
     "input": [
      "correlate(gender_features, profession_features, gender_index, profession_index)"
     ],
     "language": "python",
     "metadata": {},
     "outputs": [
      {
       "output_type": "stream",
       "stream": "stdout",
       "text": [
        "\r",
        "0 \r",
        "1 \r",
        "2 \r",
        "3 \r",
        "4 \r",
        "5 \r",
        "6 "
       ]
      },
      {
       "output_type": "stream",
       "stream": "stdout",
       "text": [
        "\r",
        "7 \r",
        "8 \r",
        "9 \r",
        "10 \r",
        "11 \r",
        "12 \r",
        "13 "
       ]
      },
      {
       "output_type": "stream",
       "stream": "stdout",
       "text": [
        "\r",
        "14 \r",
        "15 \r",
        "16 \r",
        "17 \r",
        "18 \r",
        "19 \r",
        "20 "
       ]
      },
      {
       "output_type": "stream",
       "stream": "stdout",
       "text": [
        "\r",
        "21 \r",
        "22 \r",
        "23 \r",
        "24 \r",
        "25 \r",
        "26 \r",
        "27 "
       ]
      },
      {
       "output_type": "stream",
       "stream": "stdout",
       "text": [
        "\r",
        "28 \r",
        "29 \r",
        "30 \r",
        "31 \r",
        "32 \r",
        "33 \r",
        "34 "
       ]
      },
      {
       "output_type": "stream",
       "stream": "stdout",
       "text": [
        "\r",
        "35\n",
        "0   1   Other                   humanities                            0.0062              0.0031\n",
        "0   6   Other                   other                                 0.0036              0.0921\n",
        "0   0   Other                   business                              0.0020              0.3482\n",
        "0   8   Other                   music_art                             0.0010              0.6288\n",
        "0   5   Other                   religion                             -0.0006              0.7871\n",
        "0   4   Other                   stem                                 -0.0013              0.5412\n",
        "0   3   Other                   nan                                  -0.0018              0.4057\n",
        "0   7   Other                   law_politics                         -0.0021              0.3149\n",
        "0   2   Other                   athlete                              -0.0044              0.0358\n",
        "1   2   Male                    athlete                               0.1379              0.0000\n",
        "1   7   Male                    law_politics                          0.0586              0.0000\n",
        "1   4   Male                    stem                                  0.0578              0.0000\n",
        "1   3   Male                    nan                                   0.0459              0.0000\n",
        "1   0   Male                    business                              0.0349              0.0000\n",
        "1   5   Male                    religion                              0.0167              0.0000\n",
        "1   6   Male                    other                                 0.0016              0.4430\n",
        "1   1   Male                    humanities                           -0.0453              0.0000\n",
        "1   8   Male                    music_art                            -0.1801              0.0000\n",
        "2   3   nan                     nan                                   0.1112              0.0000\n",
        "2   6   nan                     other                                 0.0074              0.0005\n",
        "2   5   nan                     religion                              0.0004              0.8572\n",
        "2   0   nan                     business                             -0.0062              0.0034\n",
        "2   4   nan                     stem                                 -0.0109              0.0000\n",
        "2   7   nan                     law_politics                         -0.0195              0.0000\n",
        "2   2   nan                     athlete                              -0.0257              0.0000\n",
        "2   1   nan                     humanities                           -0.0288              0.0000\n",
        "2   8   nan                     music_art                            -0.0600              0.0000\n",
        "3   8   Female                  music_art                             0.1999              0.0000\n",
        "3   1   Female                  humanities                            0.0537              0.0000\n",
        "3   6   Female                  other                                -0.0038              0.0754\n",
        "3   5   Female                  religion                             -0.0172              0.0000\n",
        "3   0   Female                  business                             -0.0340              0.0000\n",
        "3   7   Female                  law_politics                         -0.0545              0.0000\n",
        "3   4   Female                  stem                                 -0.0560              0.0000\n",
        "3   3   Female                  nan                                  -0.0765              0.0000\n",
        "3   2   Female                  athlete                              -0.1338              0.0000\n"
       ]
      }
     ],
     "prompt_number": 20
    },
    {
     "cell_type": "code",
     "collapsed": false,
     "input": [
      "correlate(ethnicity_features, profession_features, ethnicity_index, profession_index)"
     ],
     "language": "python",
     "metadata": {},
     "outputs": [
      {
       "output_type": "stream",
       "stream": "stdout",
       "text": [
        "\r",
        "0 \r",
        "1 \r",
        "2 \r",
        "3 \r",
        "4 "
       ]
      },
      {
       "output_type": "stream",
       "stream": "stdout",
       "text": [
        "\r",
        "5 \r",
        "6 \r",
        "7 \r",
        "8 \r",
        "9 "
       ]
      },
      {
       "output_type": "stream",
       "stream": "stdout",
       "text": [
        "\r",
        "10 \r",
        "11 \r",
        "12 \r",
        "13 \r",
        "14 "
       ]
      },
      {
       "output_type": "stream",
       "stream": "stdout",
       "text": [
        "\r",
        "15 \r",
        "16 \r",
        "17 \r",
        "18 \r",
        "19 "
       ]
      },
      {
       "output_type": "stream",
       "stream": "stdout",
       "text": [
        "\r",
        "20 \r",
        "21 \r",
        "22 \r",
        "23 \r",
        "24 "
       ]
      },
      {
       "output_type": "stream",
       "stream": "stdout",
       "text": [
        "\r",
        "25 \r",
        "26 \r",
        "27 \r",
        "28 \r",
        "29 "
       ]
      },
      {
       "output_type": "stream",
       "stream": "stdout",
       "text": [
        "\r",
        "30 \r",
        "31 \r",
        "32 \r",
        "33 \r",
        "34 "
       ]
      },
      {
       "output_type": "stream",
       "stream": "stdout",
       "text": [
        "\r",
        "35 \r",
        "36 \r",
        "37 \r",
        "38 \r",
        "39 "
       ]
      },
      {
       "output_type": "stream",
       "stream": "stdout",
       "text": [
        "\r",
        "40 \r",
        "41 \r",
        "42 \r",
        "43 \r",
        "44 "
       ]
      },
      {
       "output_type": "stream",
       "stream": "stdout",
       "text": [
        "\r",
        "45 \r",
        "46 \r",
        "47 \r",
        "48 \r",
        "49 "
       ]
      },
      {
       "output_type": "stream",
       "stream": "stdout",
       "text": [
        "\r",
        "50 \r",
        "51 \r",
        "52 \r",
        "53 \r",
        "54 "
       ]
      },
      {
       "output_type": "stream",
       "stream": "stdout",
       "text": [
        "\r",
        "55 \r",
        "56 \r",
        "57 \r",
        "58 \r",
        "59 "
       ]
      },
      {
       "output_type": "stream",
       "stream": "stdout",
       "text": [
        "\r",
        "60 \r",
        "61 \r",
        "62 \r",
        "63 \r",
        "64 "
       ]
      },
      {
       "output_type": "stream",
       "stream": "stdout",
       "text": [
        "\r",
        "65 \r",
        "66 \r",
        "67 \r",
        "68 \r",
        "69 "
       ]
      },
      {
       "output_type": "stream",
       "stream": "stdout",
       "text": [
        "\r",
        "70 \r",
        "71 \r",
        "72 \r",
        "73 \r",
        "74 "
       ]
      },
      {
       "output_type": "stream",
       "stream": "stdout",
       "text": [
        "\r",
        "75 \r",
        "76 \r",
        "77 \r",
        "78 \r",
        "79 "
       ]
      },
      {
       "output_type": "stream",
       "stream": "stdout",
       "text": [
        "\r",
        "80 \r",
        "81 \r",
        "82 \r",
        "83 \r",
        "84 "
       ]
      },
      {
       "output_type": "stream",
       "stream": "stdout",
       "text": [
        "\r",
        "85 \r",
        "86 \r",
        "87 \r",
        "88 \r",
        "89 "
       ]
      },
      {
       "output_type": "stream",
       "stream": "stdout",
       "text": [
        "\r",
        "90 \r",
        "91 \r",
        "92 \r",
        "93 \r",
        "94 "
       ]
      },
      {
       "output_type": "stream",
       "stream": "stdout",
       "text": [
        "\r",
        "95 \r",
        "96 \r",
        "97 \r",
        "98 \r",
        "99 "
       ]
      },
      {
       "output_type": "stream",
       "stream": "stdout",
       "text": [
        "\r",
        "100 \r",
        "101 \r",
        "102 \r",
        "103 \r",
        "104 "
       ]
      },
      {
       "output_type": "stream",
       "stream": "stdout",
       "text": [
        "\r",
        "105 \r",
        "106 \r",
        "107\n",
        "0   1   jewish                  humanities                            0.0442              0.0000\n",
        "0   0   jewish                  business                              0.0334              0.0000\n",
        "0   7   jewish                  law_politics                          0.0179              0.0000\n",
        "0   4   jewish                  stem                                  0.0177              0.0000\n",
        "0   5   jewish                  religion                              0.0048              0.0224\n",
        "0   6   jewish                  other                                 0.0023              0.2686\n",
        "0   8   jewish                  music_art                             0.0006              0.7813\n",
        "0   2   jewish                  athlete                              -0.0213              0.0000\n",
        "0   3   jewish                  nan                                  -0.0408              0.0000\n",
        "1   7   african_american        law_politics                          0.0044              0.0375\n",
        "1   5   african_american        religion                              0.0042              0.0462\n",
        "1   1   african_american        humanities                            0.0032              0.1262\n",
        "1   8   african_american        music_art                             0.0029              0.1714\n",
        "1   0   african_american        business                              0.0002              0.9286\n",
        "1   6   african_american        other                                -0.0007              0.7307\n",
        "1   4   african_american        stem                                 -0.0010              0.6387\n",
        "1   2   african_american        athlete                              -0.0038              0.0753\n",
        "1   3   african_american        nan                                  -0.0041              0.0510\n",
        "2   3   nan                     nan                                   0.1226              0.0000\n",
        "2   2   nan                     athlete                               0.0098              0.0000\n",
        "2   4   nan                     stem                                  0.0047              0.0272\n",
        "2   5   nan                     religion                             -0.0050              0.0189\n",
        "2   6   nan                     other                                -0.0075              0.0004\n",
        "2   7   nan                     law_politics                         -0.0293              0.0000\n",
        "2   1   nan                     humanities                           -0.0380              0.0000\n",
        "2   0   nan                     business                             -0.0448              0.0000\n",
        "2   8   nan                     music_art                            -0.0766              0.0000\n",
        "3   1   middle eastern          humanities                            0.0152              0.0000\n",
        "3   0   middle eastern          business                              0.0068              0.0013\n",
        "3   7   middle eastern          law_politics                          0.0058              0.0059\n",
        "3   4   middle eastern          stem                                  0.0038              0.0739\n",
        "3   8   middle eastern          music_art                             0.0016              0.4471\n",
        "3   6   middle eastern          other                                 0.0005              0.7998\n",
        "3   5   middle eastern          religion                             -0.0003              0.8878\n",
        "3   2   middle eastern          athlete                              -0.0091              0.0000\n",
        "3   3   middle eastern          nan                                  -0.0114              0.0000\n",
        "4   8   hispanic_latino         music_art                             0.0152              0.0000\n",
        "4   1   hispanic_latino         humanities                            0.0081              0.0001\n",
        "4   0   hispanic_latino         business                              0.0042              0.0462\n",
        "4   7   hispanic_latino         law_politics                          0.0037              0.0827\n",
        "4   6   hispanic_latino         other                                 0.0029              0.1750\n",
        "4   5   hispanic_latino         religion                              0.0011              0.5983\n",
        "4   4   hispanic_latino         stem                                 -0.0063              0.0030\n",
        "4   2   hispanic_latino         athlete                              -0.0064              0.0025\n",
        "4   3   hispanic_latino         nan                                  -0.0171              0.0000\n",
        "5   1   indigenous              humanities                            0.0116              0.0000\n",
        "5   8   indigenous              music_art                             0.0070              0.0009\n",
        "5   7   indigenous              law_politics                          0.0055              0.0097\n",
        "5   2   indigenous              athlete                               0.0025              0.2438\n",
        "5   6   indigenous              other                                 0.0003              0.8726\n",
        "5   5   indigenous              religion                             -0.0015              0.4665\n",
        "5   0   indigenous              business                             -0.0039              0.0651\n",
        "5   4   indigenous              stem                                 -0.0055              0.0093\n",
        "5   3   indigenous              nan                                  -0.0154              0.0000\n",
        "6   8   hispanic                music_art                             0.0132              0.0000\n",
        "6   6   hispanic                other                                 0.0036              0.0900\n",
        "6   1   hispanic                humanities                            0.0019              0.3734\n",
        "6   0   hispanic                business                             -0.0004              0.8372\n",
        "6   5   hispanic                religion                             -0.0006              0.7664\n",
        "6   7   hispanic                law_politics                         -0.0032              0.1322\n",
        "6   4   hispanic                stem                                 -0.0033              0.1177\n",
        "6   2   hispanic                athlete                              -0.0037              0.0816\n",
        "6   3   hispanic                nan                                  -0.0096              0.0000\n",
        "7   6   other                   other                                 0.0060              0.0046\n",
        "7   7   other                   law_politics                          0.0049              0.0211\n",
        "7   8   other                   music_art                             0.0033              0.1193\n",
        "7   1   other                   humanities                            0.0032              0.1250\n",
        "7   0   other                   business                              0.0020              0.3405\n",
        "7   4   other                   stem                                  0.0018              0.3855\n",
        "7   5   other                   religion                             -0.0011              0.6145\n",
        "7   2   other                   athlete                              -0.0043              0.0417\n",
        "7   3   other                   nan                                  -0.0074              0.0005\n",
        "8   8   african_americans       music_art                             0.0692              0.0000\n",
        "8   2   african_americans       athlete                               0.0314              0.0000\n",
        "8   7   african_americans       law_politics                          0.0219              0.0000\n",
        "8   5   african_americans       religion                              0.0038              0.0710\n",
        "8   6   african_americans       other                                -0.0039              0.0619\n",
        "8   1   african_americans       humanities                           -0.0050              0.0190\n",
        "8   0   african_americans       business                             -0.0112              0.0000\n",
        "8   4   african_americans       stem                                 -0.0240              0.0000\n",
        "8   3   african_americans       nan                                  -0.0855              0.0000\n",
        "9   6   mixed                   other                                 0.0074              0.0005\n",
        "9   8   mixed                   music_art                             0.0044              0.0366\n",
        "9   0   mixed                   business                              0.0012              0.5823\n",
        "9   5   mixed                   religion                             -0.0002              0.9083\n",
        "9   7   mixed                   law_politics                         -0.0004              0.8345\n",
        "9   1   mixed                   humanities                           -0.0008              0.7135\n",
        "9   4   mixed                   stem                                 -0.0013              0.5439\n",
        "9   2   mixed                   athlete                              -0.0023              0.2752\n",
        "9   3   mixed                   nan                                  -0.0037              0.0769\n",
        "10  0   white                   business                              0.0677              0.0000\n",
        "10  8   white                   music_art                             0.0398              0.0000\n",
        "10  1   white                   humanities                            0.0304              0.0000\n",
        "10  6   white                   other                                 0.0135              0.0000\n",
        "10  7   white                   law_politics                          0.0074              0.0004\n",
        "10  4   white                   stem                                  0.0073              0.0006\n",
        "10  5   white                   religion                              0.0023              0.2800\n",
        "10  2   white                   athlete                              -0.0313              0.0000\n",
        "10  3   white                   nan                                  -0.0683              0.0000\n",
        "11  1   asian                   humanities                            0.0170              0.0000\n",
        "11  4   asian                   stem                                  0.0129              0.0000\n",
        "11  0   asian                   business                              0.0099              0.0000\n",
        "11  8   asian                   music_art                             0.0072              0.0007\n",
        "11  7   asian                   law_politics                          0.0057              0.0075\n",
        "11  6   asian                   other                                 0.0021              0.3112\n",
        "11  5   asian                   religion                             -0.0026              0.2196\n",
        "11  3   asian                   nan                                  -0.0164              0.0000\n",
        "11  2   asian                   athlete                              -0.0180              0.0000\n"
       ]
      }
     ],
     "prompt_number": 21
    },
    {
     "cell_type": "code",
     "collapsed": false,
     "input": [
      "correlate(religion_features, profession_features, religion_index, profession_index)"
     ],
     "language": "python",
     "metadata": {},
     "outputs": [
      {
       "output_type": "stream",
       "stream": "stdout",
       "text": [
        "\r",
        "0 \r",
        "1 \r",
        "2 \r",
        "3 \r",
        "4 \r",
        "5 "
       ]
      },
      {
       "output_type": "stream",
       "stream": "stdout",
       "text": [
        "\r",
        "6 \r",
        "7 \r",
        "8 \r",
        "9 \r",
        "10 \r",
        "11 "
       ]
      },
      {
       "output_type": "stream",
       "stream": "stdout",
       "text": [
        "\r",
        "12 \r",
        "13 \r",
        "14 \r",
        "15 \r",
        "16 \r",
        "17 "
       ]
      },
      {
       "output_type": "stream",
       "stream": "stdout",
       "text": [
        "\r",
        "18 \r",
        "19 \r",
        "20 \r",
        "21 \r",
        "22 \r",
        "23 "
       ]
      },
      {
       "output_type": "stream",
       "stream": "stdout",
       "text": [
        "\r",
        "24 \r",
        "25 \r",
        "26 \r",
        "27 \r",
        "28 \r",
        "29 "
       ]
      },
      {
       "output_type": "stream",
       "stream": "stdout",
       "text": [
        "\r",
        "30 \r",
        "31 \r",
        "32 \r",
        "33 \r",
        "34 \r",
        "35 "
       ]
      },
      {
       "output_type": "stream",
       "stream": "stdout",
       "text": [
        "\r",
        "36 \r",
        "37 \r",
        "38 \r",
        "39 \r",
        "40 \r",
        "41 "
       ]
      },
      {
       "output_type": "stream",
       "stream": "stdout",
       "text": [
        "\r",
        "42 \r",
        "43 \r",
        "44 \r",
        "45 \r",
        "46 \r",
        "47 "
       ]
      },
      {
       "output_type": "stream",
       "stream": "stdout",
       "text": [
        "\r",
        "48 \r",
        "49 \r",
        "50 \r",
        "51 \r",
        "52 \r",
        "53 "
       ]
      },
      {
       "output_type": "stream",
       "stream": "stdout",
       "text": [
        "\r",
        "54 \r",
        "55 \r",
        "56 \r",
        "57 \r",
        "58 \r",
        "59 "
       ]
      },
      {
       "output_type": "stream",
       "stream": "stdout",
       "text": [
        "\r",
        "60 \r",
        "61 \r",
        "62 \r",
        "63 \r",
        "64 \r",
        "65 "
       ]
      },
      {
       "output_type": "stream",
       "stream": "stdout",
       "text": [
        "\r",
        "66 \r",
        "67 \r",
        "68 \r",
        "69 \r",
        "70 \r",
        "71 "
       ]
      },
      {
       "output_type": "stream",
       "stream": "stdout",
       "text": [
        "\r",
        "72 \r",
        "73 \r",
        "74 \r",
        "75 \r",
        "76 \r",
        "77 "
       ]
      },
      {
       "output_type": "stream",
       "stream": "stdout",
       "text": [
        "\r",
        "78 \r",
        "79 \r",
        "80\n",
        "0   1   muslim                  humanities                            0.0104              0.0000\n",
        "0   6   muslim                  other                                 0.0093              0.0000\n",
        "0   7   muslim                  law_politics                          0.0028              0.1798\n",
        "0   0   muslim                  business                              0.0011              0.6153\n",
        "0   4   muslim                  stem                                  0.0005              0.8049\n",
        "0   5   muslim                  religion                             -0.0014              0.5200\n",
        "0   8   muslim                  music_art                            -0.0014              0.5153\n",
        "0   3   muslim                  nan                                  -0.0035              0.0954\n",
        "0   2   muslim                  athlete                              -0.0082              0.0001\n",
        "1   7   christian               law_politics                          0.2328              0.0000\n",
        "1   0   christian               business                              0.0550              0.0000\n",
        "1   5   christian               religion                              0.0473              0.0000\n",
        "1   6   christian               other                                 0.0395              0.0000\n",
        "1   4   christian               stem                                  0.0021              0.3125\n",
        "1   1   christian               humanities                           -0.0036              0.0876\n",
        "1   3   christian               nan                                  -0.0183              0.0000\n",
        "1   2   christian               athlete                              -0.0510              0.0000\n",
        "1   8   christian               music_art                            -0.0855              0.0000\n",
        "2   0   asian religion          business                              0.0100              0.0000\n",
        "2   3   asian religion          nan                                   0.0057              0.0072\n",
        "2   4   asian religion          stem                                  0.0034              0.1095\n",
        "2   1   asian religion          humanities                            0.0010              0.6235\n",
        "2   5   asian religion          religion                              0.0007              0.7570\n",
        "2   7   asian religion          law_politics                         -0.0006              0.7722\n",
        "2   6   asian religion          other                                -0.0022              0.3045\n",
        "2   2   asian religion          athlete                              -0.0040              0.0586\n",
        "2   8   asian religion          music_art                            -0.0071              0.0008\n",
        "3   5   jewish                  religion                              0.0524              0.0000\n",
        "3   7   jewish                  law_politics                          0.0353              0.0000\n",
        "3   1   jewish                  humanities                            0.0336              0.0000\n",
        "3   0   jewish                  business                              0.0333              0.0000\n",
        "3   4   jewish                  stem                                  0.0225              0.0000\n",
        "3   6   jewish                  other                                 0.0035              0.0960\n",
        "3   2   jewish                  athlete                              -0.0112              0.0000\n",
        "3   8   jewish                  music_art                            -0.0212              0.0000\n",
        "3   3   jewish                  nan                                  -0.0334              0.0000\n",
        "4   4   hindu                   stem                                  0.0219              0.0000\n",
        "4   0   hindu                   business                              0.0071              0.0008\n",
        "4   1   hindu                   humanities                            0.0070              0.0009\n",
        "4   3   hindu                   nan                                   0.0024              0.2567\n",
        "4   6   hindu                   other                                 0.0007              0.7581\n",
        "4   5   hindu                   religion                             -0.0005              0.8004\n",
        "4   7   hindu                   law_politics                         -0.0026              0.2154\n",
        "4   8   hindu                   music_art                            -0.0096              0.0000\n",
        "4   2   hindu                   athlete                              -0.0101              0.0000\n",
        "5   1   buddhist                humanities                            0.0222              0.0000\n",
        "5   5   buddhist                religion                              0.0048              0.0244\n",
        "5   7   buddhist                law_politics                          0.0001              0.9476\n",
        "5   3   buddhist                nan                                  -0.0003              0.8822\n",
        "5   6   buddhist                other                                -0.0007              0.7491\n",
        "5   4   buddhist                stem                                 -0.0017              0.4091\n",
        "5   0   buddhist                business                             -0.0018              0.4073\n",
        "5   8   buddhist                music_art                            -0.0057              0.0074\n",
        "5   2   buddhist                athlete                              -0.0100              0.0000\n",
        "6   8   nan                     music_art                             0.0881              0.0000\n",
        "6   2   nan                     athlete                               0.0576              0.0000\n",
        "6   3   nan                     nan                                   0.0326              0.0000\n",
        "6   4   nan                     stem                                 -0.0214              0.0000\n",
        "6   1   nan                     humanities                           -0.0243              0.0000\n",
        "6   6   nan                     other                                -0.0406              0.0000\n",
        "6   5   nan                     religion                             -0.0613              0.0000\n",
        "6   0   nan                     business                             -0.0622              0.0000\n",
        "6   7   nan                     law_politics                         -0.2168              0.0000\n",
        "7   6   other                   other                                 0.0167              0.0000\n",
        "7   1   other                   humanities                            0.0130              0.0000\n",
        "7   7   other                   law_politics                          0.0127              0.0000\n",
        "7   4   other                   stem                                  0.0112              0.0000\n",
        "7   5   other                   religion                              0.0046              0.0313\n",
        "7   0   other                   business                             -0.0002              0.9113\n",
        "7   3   other                   nan                                  -0.0056              0.0076\n",
        "7   8   other                   music_art                            -0.0097              0.0000\n",
        "7   2   other                   athlete                              -0.0117              0.0000\n",
        "8   1   atheist_spiritual       humanities                            0.0354              0.0000\n",
        "8   4   atheist_spiritual       stem                                  0.0294              0.0000\n",
        "8   0   atheist_spiritual       business                              0.0058              0.0065\n",
        "8   6   atheist_spiritual       other                                 0.0055              0.0090\n",
        "8   7   atheist_spiritual       law_politics                          0.0049              0.0200\n",
        "8   5   atheist_spiritual       religion                             -0.0011              0.5958\n",
        "8   8   atheist_spiritual       music_art                            -0.0108              0.0000\n",
        "8   2   atheist_spiritual       athlete                              -0.0161              0.0000\n",
        "8   3   atheist_spiritual       nan                                  -0.0178              0.0000\n"
       ]
      }
     ],
     "prompt_number": 22
    },
    {
     "cell_type": "code",
     "collapsed": false,
     "input": [
      "correlate(nationality_features, profession_features, nationality_index, profession_index)"
     ],
     "language": "python",
     "metadata": {},
     "outputs": [
      {
       "output_type": "stream",
       "stream": "stdout",
       "text": [
        "\r",
        "0 \r",
        "1 \r",
        "2 \r",
        "3 \r",
        "4 \r",
        "5 "
       ]
      },
      {
       "output_type": "stream",
       "stream": "stdout",
       "text": [
        "\r",
        "6 \r",
        "7 \r",
        "8 \r",
        "9 \r",
        "10 \r",
        "11 "
       ]
      },
      {
       "output_type": "stream",
       "stream": "stdout",
       "text": [
        "\r",
        "12 \r",
        "13 \r",
        "14 \r",
        "15 \r",
        "16 \r",
        "17 "
       ]
      },
      {
       "output_type": "stream",
       "stream": "stdout",
       "text": [
        "\r",
        "18 \r",
        "19 \r",
        "20 \r",
        "21 \r",
        "22 \r",
        "23 "
       ]
      },
      {
       "output_type": "stream",
       "stream": "stdout",
       "text": [
        "\r",
        "24 \r",
        "25 \r",
        "26 \r",
        "27 \r",
        "28 \r",
        "29 "
       ]
      },
      {
       "output_type": "stream",
       "stream": "stdout",
       "text": [
        "\r",
        "30 \r",
        "31 \r",
        "32 \r",
        "33 \r",
        "34 \r",
        "35 "
       ]
      },
      {
       "output_type": "stream",
       "stream": "stdout",
       "text": [
        "\r",
        "36 \r",
        "37 \r",
        "38 \r",
        "39 \r",
        "40 \r",
        "41 "
       ]
      },
      {
       "output_type": "stream",
       "stream": "stdout",
       "text": [
        "\r",
        "42 \r",
        "43 \r",
        "44 \r",
        "45 \r",
        "46 \r",
        "47 "
       ]
      },
      {
       "output_type": "stream",
       "stream": "stdout",
       "text": [
        "\r",
        "48 \r",
        "49 \r",
        "50 \r",
        "51 \r",
        "52 \r",
        "53 "
       ]
      },
      {
       "output_type": "stream",
       "stream": "stdout",
       "text": [
        "\r",
        "54 \r",
        "55 \r",
        "56 \r",
        "57 \r",
        "58 \r",
        "59 "
       ]
      },
      {
       "output_type": "stream",
       "stream": "stdout",
       "text": [
        "\r",
        "60 \r",
        "61 \r",
        "62\n",
        "0   2   african_american        athlete                               0.0220              0.0000\n",
        "0   5   african_american        religion                              0.0013              0.5436\n",
        "0   1   african_american        humanities                            0.0003              0.8795\n",
        "0   0   african_american        business                             -0.0006              0.7901\n",
        "0   8   african_american        music_art                            -0.0016              0.4574\n",
        "0   4   african_american        stem                                 -0.0025              0.2403\n",
        "0   6   african_american        other                                -0.0040              0.0572\n",
        "0   7   african_american        law_politics                         -0.0058              0.0062\n",
        "0   3   african_american        nan                                  -0.0096              0.0000\n",
        "1   2   united states of americaathlete                               0.0253              0.0000\n",
        "1   7   united states of americalaw_politics                          0.0181              0.0000\n",
        "1   3   united states of americanan                                   0.0181              0.0000\n",
        "1   8   united states of americamusic_art                            -0.0002              0.9364\n",
        "1   6   united states of americaother                                -0.0033              0.1230\n",
        "1   5   united states of americareligion                             -0.0065              0.0022\n",
        "1   0   united states of americabusiness                             -0.0137              0.0000\n",
        "1   1   united states of americahumanities                           -0.0221              0.0000\n",
        "1   4   united states of americastem                                 -0.0620              0.0000\n",
        "2   4   middle eastern          stem                                  0.0192              0.0000\n",
        "2   1   middle eastern          humanities                            0.0146              0.0000\n",
        "2   0   middle eastern          business                              0.0083              0.0001\n",
        "2   5   middle eastern          religion                              0.0081              0.0001\n",
        "2   8   middle eastern          music_art                            -0.0012              0.5860\n",
        "2   6   middle eastern          other                                -0.0023              0.2680\n",
        "2   7   middle eastern          law_politics                         -0.0031              0.1376\n",
        "2   3   middle eastern          nan                                  -0.0084              0.0001\n",
        "2   2   middle eastern          athlete                              -0.0121              0.0000\n",
        "3   8   hispanic_latino         music_art                             0.0102              0.0000\n",
        "3   2   hispanic_latino         athlete                               0.0100              0.0000\n",
        "3   5   hispanic_latino         religion                              0.0004              0.8496\n",
        "3   0   hispanic_latino         business                              0.0001              0.9699\n",
        "3   6   hispanic_latino         other                                -0.0018              0.3831\n",
        "3   1   hispanic_latino         humanities                           -0.0023              0.2733\n",
        "3   4   hispanic_latino         stem                                 -0.0031              0.1406\n",
        "3   7   hispanic_latino         law_politics                         -0.0073              0.0005\n",
        "3   3   hispanic_latino         nan                                  -0.0107              0.0000\n",
        "4   2   indigenous              athlete                               0.0194              0.0000\n",
        "4   7   indigenous              law_politics                          0.0016              0.4629\n",
        "4   6   indigenous              other                                 0.0001              0.9530\n",
        "4   5   indigenous              religion                             -0.0007              0.7543\n",
        "4   3   indigenous              nan                                  -0.0010              0.6287\n",
        "4   0   indigenous              business                             -0.0029              0.1662\n",
        "4   4   indigenous              stem                                 -0.0035              0.0992\n",
        "4   1   indigenous              humanities                           -0.0041              0.0529\n",
        "4   8   indigenous              music_art                            -0.0087              0.0000\n",
        "5   4   asian                   stem                                  0.0210              0.0000\n",
        "5   8   asian                   music_art                             0.0174              0.0000\n",
        "5   1   asian                   humanities                            0.0070              0.0009\n",
        "5   0   asian                   business                              0.0053              0.0130\n",
        "5   6   asian                   other                                 0.0008              0.7050\n",
        "5   5   asian                   religion                             -0.0016              0.4425\n",
        "5   7   asian                   law_politics                         -0.0102              0.0000\n",
        "5   2   asian                   athlete                              -0.0150              0.0000\n",
        "5   3   asian                   nan                                  -0.0164              0.0000\n",
        "6   4   white                   stem                                  0.0615              0.0000\n",
        "6   1   white                   humanities                            0.0203              0.0000\n",
        "6   0   white                   business                              0.0121              0.0000\n",
        "6   6   white                   other                                 0.0057              0.0069\n",
        "6   5   white                   religion                              0.0055              0.0090\n",
        "6   3   white                   nan                                  -0.0070              0.0010\n",
        "6   8   white                   music_art                            -0.0082              0.0001\n",
        "6   7   white                   law_politics                         -0.0129              0.0000\n",
        "6   2   white                   athlete                              -0.0309              0.0000\n"
       ]
      }
     ],
     "prompt_number": 23
    },
    {
     "cell_type": "markdown",
     "metadata": {},
     "source": [
      "## Classification"
     ]
    },
    {
     "cell_type": "code",
     "collapsed": false,
     "input": [
      "from sklearn.linear_model import LogisticRegression\n",
      "from sklearn.preprocessing import MultiLabelBinarizer\n",
      "from sklearn.cross_validation import train_test_split\n",
      "from sklearn.metrics import classification_report\n",
      "from sklearn.multiclass import OneVsRestClassifier"
     ],
     "language": "python",
     "metadata": {},
     "outputs": [],
     "prompt_number": 24
    },
    {
     "cell_type": "code",
     "collapsed": false,
     "input": [
      "valid_rows = np.where([x is not None  for x in df.profession.values.flatten()])\n",
      "X = np.hstack([gender_features, ethnicity_features, religion_features])[valid_rows]\n",
      "profs = [(x,) if x is None else x for x in df.profession]\n",
      "y = np.array([set([x]) if isinstance(x, basestring) else set(sorted(x)) for x in profs])[valid_rows]"
     ],
     "language": "python",
     "metadata": {},
     "outputs": [],
     "prompt_number": 25
    },
    {
     "cell_type": "code",
     "collapsed": false,
     "input": [
      "binarizer = MultiLabelBinarizer()\n",
      "y = binarizer.fit_transform(y)"
     ],
     "language": "python",
     "metadata": {},
     "outputs": [],
     "prompt_number": 26
    },
    {
     "cell_type": "code",
     "collapsed": false,
     "input": [
      "X_train, X_test, y_train, y_test = train_test_split(X, y, test_size=0.4)"
     ],
     "language": "python",
     "metadata": {},
     "outputs": [],
     "prompt_number": 27
    },
    {
     "cell_type": "code",
     "collapsed": false,
     "input": [
      "estimator = LogisticRegression()\n",
      "model = OneVsRestClassifier(estimator)\n",
      "model.fit(X_train, y_train)"
     ],
     "language": "python",
     "metadata": {},
     "outputs": [
      {
       "metadata": {},
       "output_type": "pyout",
       "prompt_number": 28,
       "text": [
        "OneVsRestClassifier(estimator=LogisticRegression(C=1.0, class_weight=None, dual=False, fit_intercept=True,\n",
        "          intercept_scaling=1, penalty='l2', random_state=None, tol=0.0001),\n",
        "          n_jobs=1)"
       ]
      }
     ],
     "prompt_number": 28
    },
    {
     "cell_type": "code",
     "collapsed": false,
     "input": [
      "y_pred = model.predict(X_test)\n",
      "print classification_report(y_test, y_pred, labels=binarizer.classes_)"
     ],
     "language": "python",
     "metadata": {},
     "outputs": [
      {
       "output_type": "stream",
       "stream": "stdout",
       "text": [
        "             precision    recall  f1-score   support\n",
        "\n",
        "    athlete       0.00      0.00      0.00     11368\n",
        "   business       0.00      0.00      0.00      3136\n",
        " humanities       0.52      0.01      0.03     16358\n",
        "law_politics       0.54      0.16      0.25      5683\n",
        "  music_art       0.57      0.97      0.72     36509\n",
        "      other       0.00      0.00      0.00      1860\n",
        "   religion       0.00      0.00      0.00       156\n",
        "       stem       0.00      0.00      0.00      4133\n",
        "\n",
        "avg / total       0.41      0.46      0.36     79203\n",
        "\n"
       ]
      },
      {
       "output_type": "stream",
       "stream": "stderr",
       "text": [
        "/usr/local/lib/python2.7/dist-packages/sklearn/metrics/metrics.py:1771: UndefinedMetricWarning: Precision and F-score are ill-defined and being set to 0.0 in labels with no predicted samples.\n",
        "  'precision', 'predicted', average, warn_for)\n"
       ]
      }
     ],
     "prompt_number": 29
    }
   ],
   "metadata": {}
  }
 ]
}