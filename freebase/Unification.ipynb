{
 "cells": [
  {
   "cell_type": "code",
   "execution_count": 1,
   "metadata": {
    "collapsed": false
   },
   "outputs": [],
   "source": [
    "from io import open\n",
    "import cPickle as pickle\n",
    "import pandas as pd\n",
    "import numpy as np"
   ]
  },
  {
   "cell_type": "code",
   "execution_count": 2,
   "metadata": {
    "collapsed": false
   },
   "outputs": [],
   "source": [
    "religions_df = pd.DataFrame.from_csv(\"/home/rmyeid/notebooks/compsocial/religions.csv\", index_col=None)\n",
    "professions_df = pd.DataFrame.from_csv(\"/home/rmyeid/notebooks/compsocial/professions.csv\", index_col=None)\n",
    "ethnicities_df = pd.DataFrame.from_csv(\"/home/rmyeid/notebooks/compsocial/ethnicities.csv\", index_col=None)\n",
    "countries_df = pd.DataFrame.from_csv(\"/home/rmyeid/notebooks/compsocial/countries.csv\", index_col=None)"
   ]
  },
  {
   "cell_type": "code",
   "execution_count": 3,
   "metadata": {
    "collapsed": false
   },
   "outputs": [
    {
     "name": "stdout",
     "output_type": "stream",
     "text": [
      "religion\n",
      "ethnicities\n",
      "professions\n",
      "countries\n"
     ]
    }
   ],
   "source": [
    "maps = {}\n",
    "for attr, df in [(\"religion\", religions_df),\n",
    "                 (\"ethnicities\", ethnicities_df),\n",
    "                 (\"professions\", professions_df),\n",
    "                 (\"countries\", countries_df)]:\n",
    "  print attr\n",
    "  maps[attr] = {}\n",
    "  for row in df.values:\n",
    "    cat, subcategories = row[0], row[-1]\n",
    "    try:\n",
    "      for subcat in subcategories.strip().split(\"|\"):\n",
    "        maps[attr][subcat] = cat.lower().strip().replace(\"/\", \"_\")\n",
    "    except:\n",
    "      print row"
   ]
  },
  {
   "cell_type": "code",
   "execution_count": 4,
   "metadata": {
    "collapsed": false
   },
   "outputs": [],
   "source": [
    "fh = open(\"/data/csc/fb_persons/100percentpeople.pkl\", \"rb\")\n",
    "df = pickle.load(fh)"
   ]
  },
  {
   "cell_type": "code",
   "execution_count": 5,
   "metadata": {
    "collapsed": false
   },
   "outputs": [],
   "source": [
    "def generalize_label(prof, label):\n",
    "  if isinstance(prof, float): return None\n",
    "  if isinstance(prof, tuple):\n",
    "    tmp = tuple(maps[label][x] for x in prof if x in maps[label])\n",
    "    tmp = tuple(set(tmp))\n",
    "    if len(tmp) == 1: return tmp[0]\n",
    "    return tmp\n",
    "  if isinstance(prof, unicode):\n",
    "    return maps[label].get(prof, \"other\")"
   ]
  },
  {
   "cell_type": "code",
   "execution_count": 6,
   "metadata": {
    "collapsed": false
   },
   "outputs": [],
   "source": [
    "df[\"profession\"] = [generalize_label(x, \"professions\") for x in df[[\"profession\"]].values.flatten()]\n",
    "df[\"ethnicity\"] = [generalize_label(x, \"ethnicities\") for x in df[[\"ethnicity\"]].values.flatten()]\n",
    "df[\"religion\"] = [generalize_label(x, \"religion\") for x in df[[\"religion\"]].values.flatten()]"
   ]
  },
  {
   "cell_type": "code",
   "execution_count": 7,
   "metadata": {
    "collapsed": false
   },
   "outputs": [],
   "source": [
    "df[\"nationality\"] = [generalize_label(x, \"countries\") for x in df[[\"nationality\"]].values.flatten()]"
   ]
  },
  {
   "cell_type": "code",
   "execution_count": 8,
   "metadata": {
    "collapsed": false
   },
   "outputs": [],
   "source": [
    "pickle.dump(df, open(\"/data/csc/fb_persons/unified_100percentpeople.pkl\", \"wb\"))"
   ]
  }
 ],
 "metadata": {
  "kernelspec": {
   "display_name": "Python 2",
   "language": "python",
   "name": "python2"
  },
  "language_info": {
   "codemirror_mode": {
    "name": "ipython",
    "version": 2
   },
   "file_extension": ".py",
   "mimetype": "text/x-python",
   "name": "python",
   "nbconvert_exporter": "python",
   "pygments_lexer": "ipython2",
   "version": "2.7.6"
  }
 },
 "nbformat": 4,
 "nbformat_minor": 0
}
