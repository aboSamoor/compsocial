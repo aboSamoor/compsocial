{
 "metadata": {
  "name": "",
  "signature": "sha256:3e57173e7548fc722ad458c70e87e32f3b7ecd0a550a915792af9bfb0f2de07a"
 },
 "nbformat": 3,
 "nbformat_minor": 0,
 "worksheets": [
  {
   "cells": [
    {
     "cell_type": "code",
     "collapsed": false,
     "input": [
      "from io import open\n",
      "import cPickle as pickle\n",
      "import pandas as pd\n",
      "import numpy as np"
     ],
     "language": "python",
     "metadata": {},
     "outputs": [],
     "prompt_number": 1
    },
    {
     "cell_type": "code",
     "collapsed": false,
     "input": [
      "religions_df = pd.DataFrame.from_csv(\"/home/rmyeid/notebooks/compsocial/religions.csv\", index_col=None)\n",
      "professions_df = pd.DataFrame.from_csv(\"/home/rmyeid/notebooks/compsocial/professions.csv\", index_col=None)\n",
      "ethnicities_df = pd.DataFrame.from_csv(\"/home/rmyeid/notebooks/compsocial/ethnicities.csv\", index_col=None)\n",
      "countries_df = pd.DataFrame.from_csv(\"/home/rmyeid/notebooks/compsocial/countries.csv\", index_col=None)"
     ],
     "language": "python",
     "metadata": {},
     "outputs": [],
     "prompt_number": 2
    },
    {
     "cell_type": "code",
     "collapsed": false,
     "input": [
      "maps = {}\n",
      "for attr, df in [(\"religion\", religions_df),\n",
      "                 (\"ethnicities\", ethnicities_df),\n",
      "                 (\"professions\", professions_df),\n",
      "                 (\"countries\", countries_df)]:\n",
      "  print attr\n",
      "  maps[attr] = {}\n",
      "  for row in df.values:\n",
      "    cat, subcategories = row[0], row[-1]\n",
      "    try:\n",
      "      for subcat in subcategories.strip().split(\"|\"):\n",
      "        maps[attr][subcat] = cat.lower().strip().replace(\"/\", \"_\")\n",
      "    except:\n",
      "      print row"
     ],
     "language": "python",
     "metadata": {},
     "outputs": [
      {
       "output_type": "stream",
       "stream": "stdout",
       "text": [
        "religion\n",
        "ethnicities\n",
        "professions\n",
        "countries\n"
       ]
      }
     ],
     "prompt_number": 3
    },
    {
     "cell_type": "code",
     "collapsed": false,
     "input": [
      "fh = open(\"/data/csc/fb_persons/100percentpeople.pkl\", \"rb\")\n",
      "df = pickle.load(fh)"
     ],
     "language": "python",
     "metadata": {},
     "outputs": [],
     "prompt_number": 4
    },
    {
     "cell_type": "code",
     "collapsed": false,
     "input": [
      "def generalize_label(prof, label):\n",
      "  if isinstance(prof, float): return None\n",
      "  if isinstance(prof, tuple):\n",
      "    tmp = tuple(maps[label][x] for x in prof if x in maps[label])\n",
      "    tmp = tuple(set(tmp))\n",
      "    if len(tmp) == 1: return tmp[0]\n",
      "    return tmp\n",
      "  if isinstance(prof, unicode):\n",
      "    return maps[label].get(prof, \"other\")"
     ],
     "language": "python",
     "metadata": {},
     "outputs": [],
     "prompt_number": 5
    },
    {
     "cell_type": "code",
     "collapsed": false,
     "input": [
      "df[\"profession\"] = [generalize_label(x, \"professions\") for x in df[[\"profession\"]].values.flatten()]\n",
      "df[\"ethnicity\"] = [generalize_label(x, \"ethnicities\") for x in df[[\"ethnicity\"]].values.flatten()]\n",
      "df[\"religion\"] = [generalize_label(x, \"religion\") for x in df[[\"religion\"]].values.flatten()]"
     ],
     "language": "python",
     "metadata": {},
     "outputs": [],
     "prompt_number": 6
    },
    {
     "cell_type": "code",
     "collapsed": false,
     "input": [
      "df[\"nationality\"] = [generalize_label(x, \"countries\") for x in df[[\"nationality\"]].values.flatten()]"
     ],
     "language": "python",
     "metadata": {},
     "outputs": [],
     "prompt_number": 7
    },
    {
     "cell_type": "code",
     "collapsed": false,
     "input": [
      "pickle.dump(df, open(\"/data/csc/fb_persons/unified_100percentpeople.pkl\", \"wb\"))"
     ],
     "language": "python",
     "metadata": {},
     "outputs": [],
     "prompt_number": 8
    }
   ],
   "metadata": {}
  }
 ]
}