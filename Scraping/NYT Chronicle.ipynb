{
 "cells": [
  {
   "cell_type": "code",
   "execution_count": 1,
   "metadata": {
    "collapsed": true
   },
   "outputs": [],
   "source": [
    "import numpy as np\n",
    "import pandas as pd\n",
    "import matplotlib.pyplot as plt\n",
    "import glob\n",
    "from os import path\n",
    "import itertools\n",
    "import requests\n",
    "from io import StringIO\n",
    "from pandas import DataFrame\n",
    "import requests\n",
    "from time import sleep\n",
    "from matplotlib.font_manager import FontProperties"
   ]
  },
  {
   "cell_type": "code",
   "execution_count": 2,
   "metadata": {
    "collapsed": true
   },
   "outputs": [],
   "source": [
    "fontP = FontProperties()\n",
    "fontP.set_size('small')"
   ]
  },
  {
   "cell_type": "code",
   "execution_count": 3,
   "metadata": {
    "collapsed": true
   },
   "outputs": [],
   "source": [
    "%matplotlib inline"
   ]
  },
  {
   "cell_type": "code",
   "execution_count": 10,
   "metadata": {
    "collapsed": true
   },
   "outputs": [],
   "source": [
    "def get_word(word):\n",
    "  found = False\n",
    "  while not found:\n",
    "    req = requests.get(params={\"response_type\": \"json\", \"keyword\": word},\n",
    "                       url=\"http://chronicle.nytlabs.com/graph\")\n",
    "    if req.status_code == requests.codes.ok:\n",
    "      df = pd.DataFrame.from_records(req.json())\n",
    "      term = word.strip().replace(\" \", \"_\")\n",
    "      df = df.rename(columns={\"total_articles_published\": \"Total\", \"article_matches\": term})\n",
    "      database = df[[\"Total\", term, \"year\"]]\n",
    "      return database\n",
    "    else:\n",
    "      print(\"We could not get the word '{}'\\nsleeping for 1s ...\".format(word))\n",
    "      sleep(1)"
   ]
  },
  {
   "cell_type": "code",
   "execution_count": 7,
   "metadata": {
    "collapsed": true
   },
   "outputs": [],
   "source": [
    "def get_words(words):\n",
    "  for i, word in enumerate(words):\n",
    "    df = get_word(word)\n",
    "    if i == 0:\n",
    "      database = df\n",
    "      continue\n",
    "    df.drop(\"Total\", 1, inplace=True)\n",
    "    database = pd.merge(database, df, on=\"year\", how=\"outer\")\n",
    "  database.set_index(\"year\", inplace=True)\n",
    "  values = database.values\n",
    "  values = (database.values.T / database.Total.values).T\n",
    "  values[:, 0] = database.Total.values\n",
    "  database_norm = pd.DataFrame(data=values, columns=database.columns, index=database.index)\n",
    "  database_norm.drop(\"Total\", 1, inplace=True)\n",
    "  return database_norm"
   ]
  },
  {
   "cell_type": "code",
   "execution_count": 17,
   "metadata": {
    "collapsed": true
   },
   "outputs": [],
   "source": [
    "def sum_columns(dataframe, column_names):\n",
    "    column_names_normalized = [x.replace(\" \", \"_\") for x in column_names]\n",
    "    return data[column_names_normalized].sum(axis=1)"
   ]
  },
  {
   "cell_type": "code",
   "execution_count": 5,
   "metadata": {
    "collapsed": true
   },
   "outputs": [],
   "source": [
    "g1  = [\"monocultural\", \"mono-cultural\", \"mono cultural\", \"monoculturals\", \"mono-culturals\", \"mono culturals\"]\n",
    "g2 = [ \"monoracial\", \"mono-racial\", \"mono racial\", \"monoracials\", \"mono-racials\", \"mono racials\"]\n",
    "g3 = [\"monoethnic\", \"mono-ethnic\", \"mono ethnic\", \"monoethnics\", \"mono-ethnics\", \"mono ethnics\"]\n",
    "g4 = [\"bicultural\", \"bi-cultural\", \"bi cultural\", \"biculturals\", \"bi-culturals\", \"bi culturals\"]\n",
    "g5 = [\"biracial\", \"bi-racial\", \"bi racial\", \"biracials\", \"bi-racials\", \"bi racials\"]\n",
    "g6 = [\"biethnic\", \"bi-ethnic\", \"bi ethnic\", \"biethnics\", \"bi-ethnics\", \"bi ethnics\"]\n",
    "g7 = [\"interracial\", \"inter-racial\", \"inter racial\", \"interracials\", \"inter-racials\", \"inter racials\"]\n",
    "g8 = [\"multiracial\", \"multi-racial\", \"multi racial\", \"multiracials\", \"multi-racials\", \"multi racials\"]\n",
    "g9 = [\"multiethnic\", \"multi-ethnic\", \"multi ethnic\", \"multiethnics\", \"multi-ethnics\", \"multi ethnics\"]\n",
    "g10 = [\"multicultural\", \"multi-cultural\", \"multi cultural\", \"multiculturals\", \"multi-culturals\", \"multi culturals\"]\n",
    "g11 = [\"culturalpluralism\", \"cultural-pluralism\", \"cultural pluralism\", \"culturalpluralisms\",\n",
    "      \"cultural-pluralisms\", \"cultural pluralisms\"]\n",
    "g12 = [\"polyculturalism\", \"poly-culturalism\", \"poly culturalism\", \"polyculturalisms\",\n",
    "       \"poly-culturalisms\", \"poly culturalisms\"]\n",
    "g13 = [\"multiculturalism\", \"multi-culturalism\", \"multi culturalism\", \"multiculturalisms\",\n",
    "       \"multi-culturalisms\", \"multi culturalisms\"]\n",
    "g14 = [\"mixedrace\", \"mixed-race\", \"mixed race\", \"mixedraces\", \"mixed-races\", \"mixed races\"]\n",
    "g15 = [\"mixedethnicity\", \"mixed-ethnicity\", \"mixed ethnicity\", \"mixedethnicities\", \"mixed-ethnicities\",\n",
    "       \"mixed ethnicities\"]\n",
    "g16 = [\"otherrace\", \"other-race\", \"other race\", \"otherraces\", \"other-races\", \"other races\"]\n",
    "g17 = [\"otherethnicity\", \"other-ethnicity\", \"other ethnicity\", \"otherethnicities\", \"other-ethnicities\",\n",
    "       \"other ethnicities\"]"
   ]
  },
  {
   "cell_type": "code",
   "execution_count": 11,
   "metadata": {
    "collapsed": true
   },
   "outputs": [],
   "source": [
    "all_terms = g1 + g2 + g3 + g4 + g5 + g6 + g7 + g8 + g9 + g10 + g11 + g12 + g13 + g14 + g15 + g16 + g17"
   ]
  },
  {
   "cell_type": "code",
   "execution_count": 12,
   "metadata": {
    "collapsed": false
   },
   "outputs": [
    {
     "name": "stdout",
     "output_type": "stream",
     "text": [
      "We could not get the word 'mono-cultural'\n",
      "sleeping for 1s ...\n",
      "We could not get the word 'mono-cultural'\n",
      "sleeping for 1s ...\n",
      "We could not get the word 'mono-cultural'\n",
      "sleeping for 1s ...\n",
      "We could not get the word 'mono-cultural'\n",
      "sleeping for 1s ...\n",
      "We could not get the word 'mono-cultural'\n",
      "sleeping for 1s ...\n",
      "We could not get the word 'mono cultural'\n",
      "sleeping for 1s ...\n",
      "We could not get the word 'mono-culturals'\n",
      "sleeping for 1s ...\n",
      "We could not get the word 'mono culturals'\n",
      "sleeping for 1s ...\n",
      "We could not get the word 'mono culturals'\n",
      "sleeping for 1s ...\n"
     ]
    }
   ],
   "source": [
    "data = get_words(g1)"
   ]
  },
  {
   "cell_type": "code",
   "execution_count": 20,
   "metadata": {
    "collapsed": false
   },
   "outputs": [],
   "source": [
    "data[\"group1\"] = sum_columns(data, g1)"
   ]
  },
  {
   "cell_type": "code",
   "execution_count": 21,
   "metadata": {
    "collapsed": false
   },
   "outputs": [
    {
     "data": {
      "text/html": [
       "<div>\n",
       "<table border=\"1\" class=\"dataframe\">\n",
       "  <thead>\n",
       "    <tr style=\"text-align: right;\">\n",
       "      <th></th>\n",
       "      <th>monocultural</th>\n",
       "      <th>mono-cultural</th>\n",
       "      <th>mono_cultural</th>\n",
       "      <th>monoculturals</th>\n",
       "      <th>mono-culturals</th>\n",
       "      <th>mono_culturals</th>\n",
       "      <th>group1</th>\n",
       "    </tr>\n",
       "    <tr>\n",
       "      <th>year</th>\n",
       "      <th></th>\n",
       "      <th></th>\n",
       "      <th></th>\n",
       "      <th></th>\n",
       "      <th></th>\n",
       "      <th></th>\n",
       "      <th></th>\n",
       "    </tr>\n",
       "  </thead>\n",
       "  <tbody>\n",
       "    <tr>\n",
       "      <th>1851</th>\n",
       "      <td>0.0</td>\n",
       "      <td>0.0</td>\n",
       "      <td>0.0</td>\n",
       "      <td>0.0</td>\n",
       "      <td>0.0</td>\n",
       "      <td>0.0</td>\n",
       "      <td>0.0</td>\n",
       "    </tr>\n",
       "    <tr>\n",
       "      <th>1852</th>\n",
       "      <td>0.0</td>\n",
       "      <td>0.0</td>\n",
       "      <td>0.0</td>\n",
       "      <td>0.0</td>\n",
       "      <td>0.0</td>\n",
       "      <td>0.0</td>\n",
       "      <td>0.0</td>\n",
       "    </tr>\n",
       "    <tr>\n",
       "      <th>1853</th>\n",
       "      <td>0.0</td>\n",
       "      <td>0.0</td>\n",
       "      <td>0.0</td>\n",
       "      <td>0.0</td>\n",
       "      <td>0.0</td>\n",
       "      <td>0.0</td>\n",
       "      <td>0.0</td>\n",
       "    </tr>\n",
       "    <tr>\n",
       "      <th>1854</th>\n",
       "      <td>0.0</td>\n",
       "      <td>0.0</td>\n",
       "      <td>0.0</td>\n",
       "      <td>0.0</td>\n",
       "      <td>0.0</td>\n",
       "      <td>0.0</td>\n",
       "      <td>0.0</td>\n",
       "    </tr>\n",
       "    <tr>\n",
       "      <th>1855</th>\n",
       "      <td>0.0</td>\n",
       "      <td>0.0</td>\n",
       "      <td>0.0</td>\n",
       "      <td>0.0</td>\n",
       "      <td>0.0</td>\n",
       "      <td>0.0</td>\n",
       "      <td>0.0</td>\n",
       "    </tr>\n",
       "  </tbody>\n",
       "</table>\n",
       "</div>"
      ],
      "text/plain": [
       "      monocultural  mono-cultural  mono_cultural  monoculturals  \\\n",
       "year                                                              \n",
       "1851           0.0            0.0            0.0            0.0   \n",
       "1852           0.0            0.0            0.0            0.0   \n",
       "1853           0.0            0.0            0.0            0.0   \n",
       "1854           0.0            0.0            0.0            0.0   \n",
       "1855           0.0            0.0            0.0            0.0   \n",
       "\n",
       "      mono-culturals  mono_culturals  group1  \n",
       "year                                          \n",
       "1851             0.0             0.0     0.0  \n",
       "1852             0.0             0.0     0.0  \n",
       "1853             0.0             0.0     0.0  \n",
       "1854             0.0             0.0     0.0  \n",
       "1855             0.0             0.0     0.0  "
      ]
     },
     "execution_count": 21,
     "metadata": {},
     "output_type": "execute_result"
    }
   ],
   "source": [
    "data.head()"
   ]
  },
  {
   "cell_type": "code",
   "execution_count": 22,
   "metadata": {
    "collapsed": false
   },
   "outputs": [
    {
     "data": {
      "image/png": "[encoded data removed]",
      "text/plain": [
       "<matplotlib.figure.Figure at 0x7fe4b440d518>"
      ]
     },
     "metadata": {},
     "output_type": "display_data"
    }
   ],
   "source": [
    "years_to_average_over = 5\n",
    "smoothed_data = data.rolling(window=years_to_average_over).mean()\n",
    "axis = smoothed_data.plot()\n",
    "fig = plt.gcf()\n",
    "fig.set_size_inches((12,6))\n",
    "_ = axis.legend(prop=fontP, loc=\"best\")"
   ]
  }
 ],
 "metadata": {
  "kernelspec": {
   "display_name": "Python 3",
   "language": "python",
   "name": "python3"
  },
  "language_info": {
   "codemirror_mode": {
    "name": "ipython",
    "version": 3
   },
   "file_extension": ".py",
   "mimetype": "text/x-python",
   "name": "python",
   "nbconvert_exporter": "python",
   "pygments_lexer": "ipython3",
   "version": "3.4.3"
  }
 },
 "nbformat": 4,
 "nbformat_minor": 0
}
