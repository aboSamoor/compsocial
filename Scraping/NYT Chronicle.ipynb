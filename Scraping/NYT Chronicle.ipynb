{
 "cells": [
  {
   "cell_type": "code",
   "execution_count": 24,
   "metadata": {
    "collapsed": false
   },
   "outputs": [],
   "source": [
    "import numpy as np\n",
    "import pandas as pd\n",
    "import matplotlib.pyplot as plt\n",
    "import glob\n",
    "from os import path\n",
    "import itertools\n",
    "import requests\n",
    "from io import StringIO\n",
    "from pandas import DataFrame\n",
    "import requests\n",
    "from time import sleep\n",
    "from matplotlib.font_manager import FontProperties\n",
    "import concurrent.futures"
   ]
  },
  {
   "cell_type": "code",
   "execution_count": null,
   "metadata": {
    "collapsed": true
   },
   "outputs": [],
   "source": [
    "fontP = FontProperties()\n",
    "fontP.set_size('small')"
   ]
  },
  {
   "cell_type": "code",
   "execution_count": null,
   "metadata": {
    "collapsed": true
   },
   "outputs": [],
   "source": [
    "%matplotlib inline"
   ]
  },
  {
   "cell_type": "code",
   "execution_count": null,
   "metadata": {
    "collapsed": true
   },
   "outputs": [],
   "source": [
    "def get_word(word):\n",
    "  found = False\n",
    "  while not found:\n",
    "    req = requests.get(params={\"response_type\": \"json\", \"keyword\": word},\n",
    "                       url=\"http://chronicle.nytlabs.com/graph\")\n",
    "    if req.status_code == requests.codes.ok:\n",
    "      df = pd.DataFrame.from_records(req.json())\n",
    "      term = word.strip().replace(\" \", \"_\")\n",
    "      df = df.rename(columns={\"total_articles_published\": \"Total\", \"article_matches\": term})\n",
    "      database = df[[\"Total\", term, \"year\"]]\n",
    "      return database\n",
    "    else:\n",
    "      print(\"We could not get the word '{}'\\nsleeping for .1s ...\".format(word))\n",
    "      sleep(.1)"
   ]
  },
  {
   "cell_type": "code",
   "execution_count": null,
   "metadata": {
    "collapsed": true
   },
   "outputs": [],
   "source": [
    "def get_words(words):\n",
    "  for i, word in enumerate(words):\n",
    "    df = get_word(word)\n",
    "    if i == 0:\n",
    "      database = df\n",
    "      continue\n",
    "    df.drop(\"Total\", 1, inplace=True)\n",
    "    database = pd.merge(database, df, on=\"year\", how=\"outer\")\n",
    "  database.set_index(\"year\", inplace=True)\n",
    "  values = database.values\n",
    "  values = (database.values.T / database.Total.values).T\n",
    "  values[:, 0] = database.Total.values\n",
    "  database_norm = pd.DataFrame(data=values, columns=database.columns, index=database.index)\n",
    "  database_norm.drop(\"Total\", 1, inplace=True)\n",
    "  return database_norm"
   ]
  },
  {
   "cell_type": "code",
   "execution_count": null,
   "metadata": {
    "collapsed": true
   },
   "outputs": [],
   "source": [
    "def get_words_parallel(words):\n",
    "    with concurrent.futures.ProcessPoolExecutor(max_workers=12) as executor:\n",
    "        for i, (word, df) in enumerate(zip(words, executor.map(get_word, words))):\n",
    "            if i == 0:\n",
    "              database = df\n",
    "              continue\n",
    "            df.drop(\"Total\", 1, inplace=True)\n",
    "            database = pd.merge(database, df, on=\"year\", how=\"outer\")   \n",
    "        database.set_index(\"year\", inplace=True)\n",
    "        values = database.values\n",
    "        values = (database.values.T / database.Total.values).T\n",
    "        values[:, 0] = database.Total.values\n",
    "        database_norm = pd.DataFrame(data=values, columns=database.columns, index=database.index)\n",
    "        database_norm.drop(\"Total\", 1, inplace=True)\n",
    "        return database_norm"
   ]
  },
  {
   "cell_type": "code",
   "execution_count": null,
   "metadata": {
    "collapsed": true
   },
   "outputs": [],
   "source": [
    "def sum_columns(dataframe, column_names):\n",
    "    column_names_normalized = [x.replace(\" \", \"_\") for x in column_names]\n",
    "    return data[column_names_normalized].sum(axis=1)"
   ]
  },
  {
   "cell_type": "code",
   "execution_count": null,
   "metadata": {
    "collapsed": true
   },
   "outputs": [],
   "source": [
    "g1  = [\"monocultural\", \"mono-cultural\", \"mono cultural\", \"monoculturals\", \"mono-culturals\", \"mono culturals\"]\n",
    "g2 = [ \"monoracial\", \"mono-racial\", \"mono racial\", \"monoracials\", \"mono-racials\", \"mono racials\"]\n",
    "g3 = [\"monoethnic\", \"mono-ethnic\", \"mono ethnic\", \"monoethnics\", \"mono-ethnics\", \"mono ethnics\"]\n",
    "g4 = [\"bicultural\", \"bi-cultural\", \"bi cultural\", \"biculturals\", \"bi-culturals\", \"bi culturals\"]\n",
    "g5 = [\"biracial\", \"bi-racial\", \"bi racial\", \"biracials\", \"bi-racials\", \"bi racials\"]\n",
    "g6 = [\"biethnic\", \"bi-ethnic\", \"bi ethnic\", \"biethnics\", \"bi-ethnics\", \"bi ethnics\"]\n",
    "g7 = [\"interracial\", \"inter-racial\", \"inter racial\", \"interracials\", \"inter-racials\", \"inter racials\"]\n",
    "g8 = [\"multiracial\", \"multi-racial\", \"multi racial\", \"multiracials\", \"multi-racials\", \"multi racials\"]\n",
    "g9 = [\"multiethnic\", \"multi-ethnic\", \"multi ethnic\", \"multiethnics\", \"multi-ethnics\", \"multi ethnics\"]\n",
    "g10 = [\"multicultural\", \"multi-cultural\", \"multi cultural\", \"multiculturals\", \"multi-culturals\", \"multi culturals\"]\n",
    "g11 = [\"culturalpluralism\", \"cultural-pluralism\", \"cultural pluralism\", \"culturalpluralisms\",\n",
    "      \"cultural-pluralisms\", \"cultural pluralisms\"]\n",
    "g12 = [\"polyculturalism\", \"poly-culturalism\", \"poly culturalism\", \"polyculturalisms\",\n",
    "       \"poly-culturalisms\", \"poly culturalisms\"]\n",
    "g13 = [\"multiculturalism\", \"multi-culturalism\", \"multi culturalism\", \"multiculturalisms\",\n",
    "       \"multi-culturalisms\", \"multi culturalisms\"]\n",
    "g14 = [\"mixedrace\", \"mixed-race\", \"mixed race\", \"mixedraces\", \"mixed-races\", \"mixed races\"]\n",
    "g15 = [\"mixedethnicity\", \"mixed-ethnicity\", \"mixed ethnicity\", \"mixedethnicities\", \"mixed-ethnicities\",\n",
    "       \"mixed ethnicities\"]\n",
    "g16 = [\"otherrace\", \"other-race\", \"other race\", \"otherraces\", \"other-races\", \"other races\"]\n",
    "g17 = [\"otherethnicity\", \"other-ethnicity\", \"other ethnicity\", \"otherethnicities\", \"other-ethnicities\",\n",
    "       \"other ethnicities\"]"
   ]
  },
  {
   "cell_type": "code",
   "execution_count": null,
   "metadata": {
    "collapsed": true
   },
   "outputs": [],
   "source": [
    "all_terms = g1 + g2 + g3 + g4 + g5 + g6 + g7 + g8 + g9 + g10 + g11 + g12 + g13 + g14 + g15 + g16 + g17"
   ]
  },
  {
   "cell_type": "code",
   "execution_count": null,
   "metadata": {
    "collapsed": false,
    "scrolled": false
   },
   "outputs": [],
   "source": [
    "data = get_words_parallel(all_terms)"
   ]
  },
  {
   "cell_type": "code",
   "execution_count": 30,
   "metadata": {
    "collapsed": false
   },
   "outputs": [],
   "source": [
    "# data.to_csv(\"nyt_terms.csv\")\n",
    "data = pd.read_csv(\"nyt_terms.csv\")"
   ]
  },
  {
   "cell_type": "code",
   "execution_count": 31,
   "metadata": {
    "collapsed": false
   },
   "outputs": [
    {
     "data": {
      "text/html": [
       "<div>\n",
       "<table border=\"1\" class=\"dataframe\">\n",
       "  <thead>\n",
       "    <tr style=\"text-align: right;\">\n",
       "      <th></th>\n",
       "      <th>year</th>\n",
       "      <th>monocultural</th>\n",
       "      <th>mono-cultural</th>\n",
       "      <th>mono_cultural</th>\n",
       "      <th>monoculturals</th>\n",
       "      <th>mono-culturals</th>\n",
       "      <th>mono_culturals</th>\n",
       "      <th>monoracial</th>\n",
       "      <th>mono-racial</th>\n",
       "      <th>mono_racial</th>\n",
       "      <th>...</th>\n",
       "      <th>other_race</th>\n",
       "      <th>otherraces</th>\n",
       "      <th>other-races</th>\n",
       "      <th>other_races</th>\n",
       "      <th>otherethnicity</th>\n",
       "      <th>other-ethnicity</th>\n",
       "      <th>other_ethnicity</th>\n",
       "      <th>otherethnicities</th>\n",
       "      <th>other-ethnicities</th>\n",
       "      <th>other_ethnicities</th>\n",
       "    </tr>\n",
       "  </thead>\n",
       "  <tbody>\n",
       "    <tr>\n",
       "      <th>0</th>\n",
       "      <td>1851</td>\n",
       "      <td>0.0</td>\n",
       "      <td>0.0</td>\n",
       "      <td>0.0</td>\n",
       "      <td>0.0</td>\n",
       "      <td>0.0</td>\n",
       "      <td>0.0</td>\n",
       "      <td>0.0</td>\n",
       "      <td>0.0</td>\n",
       "      <td>0.0</td>\n",
       "      <td>...</td>\n",
       "      <td>0.000220</td>\n",
       "      <td>0.0</td>\n",
       "      <td>0.001759</td>\n",
       "      <td>0.001759</td>\n",
       "      <td>0.0</td>\n",
       "      <td>0.0</td>\n",
       "      <td>0.0</td>\n",
       "      <td>0.0</td>\n",
       "      <td>0.0</td>\n",
       "      <td>0.0</td>\n",
       "    </tr>\n",
       "    <tr>\n",
       "      <th>1</th>\n",
       "      <td>1852</td>\n",
       "      <td>0.0</td>\n",
       "      <td>0.0</td>\n",
       "      <td>0.0</td>\n",
       "      <td>0.0</td>\n",
       "      <td>0.0</td>\n",
       "      <td>0.0</td>\n",
       "      <td>0.0</td>\n",
       "      <td>0.0</td>\n",
       "      <td>0.0</td>\n",
       "      <td>...</td>\n",
       "      <td>0.000054</td>\n",
       "      <td>0.0</td>\n",
       "      <td>0.000268</td>\n",
       "      <td>0.000268</td>\n",
       "      <td>0.0</td>\n",
       "      <td>0.0</td>\n",
       "      <td>0.0</td>\n",
       "      <td>0.0</td>\n",
       "      <td>0.0</td>\n",
       "      <td>0.0</td>\n",
       "    </tr>\n",
       "    <tr>\n",
       "      <th>2</th>\n",
       "      <td>1853</td>\n",
       "      <td>0.0</td>\n",
       "      <td>0.0</td>\n",
       "      <td>0.0</td>\n",
       "      <td>0.0</td>\n",
       "      <td>0.0</td>\n",
       "      <td>0.0</td>\n",
       "      <td>0.0</td>\n",
       "      <td>0.0</td>\n",
       "      <td>0.0</td>\n",
       "      <td>...</td>\n",
       "      <td>0.000133</td>\n",
       "      <td>0.0</td>\n",
       "      <td>0.000311</td>\n",
       "      <td>0.000311</td>\n",
       "      <td>0.0</td>\n",
       "      <td>0.0</td>\n",
       "      <td>0.0</td>\n",
       "      <td>0.0</td>\n",
       "      <td>0.0</td>\n",
       "      <td>0.0</td>\n",
       "    </tr>\n",
       "    <tr>\n",
       "      <th>3</th>\n",
       "      <td>1854</td>\n",
       "      <td>0.0</td>\n",
       "      <td>0.0</td>\n",
       "      <td>0.0</td>\n",
       "      <td>0.0</td>\n",
       "      <td>0.0</td>\n",
       "      <td>0.0</td>\n",
       "      <td>0.0</td>\n",
       "      <td>0.0</td>\n",
       "      <td>0.0</td>\n",
       "      <td>...</td>\n",
       "      <td>0.000147</td>\n",
       "      <td>0.0</td>\n",
       "      <td>0.000490</td>\n",
       "      <td>0.000490</td>\n",
       "      <td>0.0</td>\n",
       "      <td>0.0</td>\n",
       "      <td>0.0</td>\n",
       "      <td>0.0</td>\n",
       "      <td>0.0</td>\n",
       "      <td>0.0</td>\n",
       "    </tr>\n",
       "    <tr>\n",
       "      <th>4</th>\n",
       "      <td>1855</td>\n",
       "      <td>0.0</td>\n",
       "      <td>0.0</td>\n",
       "      <td>0.0</td>\n",
       "      <td>0.0</td>\n",
       "      <td>0.0</td>\n",
       "      <td>0.0</td>\n",
       "      <td>0.0</td>\n",
       "      <td>0.0</td>\n",
       "      <td>0.0</td>\n",
       "      <td>...</td>\n",
       "      <td>0.000000</td>\n",
       "      <td>0.0</td>\n",
       "      <td>0.000218</td>\n",
       "      <td>0.000218</td>\n",
       "      <td>0.0</td>\n",
       "      <td>0.0</td>\n",
       "      <td>0.0</td>\n",
       "      <td>0.0</td>\n",
       "      <td>0.0</td>\n",
       "      <td>0.0</td>\n",
       "    </tr>\n",
       "  </tbody>\n",
       "</table>\n",
       "<p>5 rows × 103 columns</p>\n",
       "</div>"
      ],
      "text/plain": [
       "   year  monocultural  mono-cultural  mono_cultural  monoculturals  \\\n",
       "0  1851           0.0            0.0            0.0            0.0   \n",
       "1  1852           0.0            0.0            0.0            0.0   \n",
       "2  1853           0.0            0.0            0.0            0.0   \n",
       "3  1854           0.0            0.0            0.0            0.0   \n",
       "4  1855           0.0            0.0            0.0            0.0   \n",
       "\n",
       "   mono-culturals  mono_culturals  monoracial  mono-racial  mono_racial  \\\n",
       "0             0.0             0.0         0.0          0.0          0.0   \n",
       "1             0.0             0.0         0.0          0.0          0.0   \n",
       "2             0.0             0.0         0.0          0.0          0.0   \n",
       "3             0.0             0.0         0.0          0.0          0.0   \n",
       "4             0.0             0.0         0.0          0.0          0.0   \n",
       "\n",
       "         ...          other_race  otherraces  other-races  other_races  \\\n",
       "0        ...            0.000220         0.0     0.001759     0.001759   \n",
       "1        ...            0.000054         0.0     0.000268     0.000268   \n",
       "2        ...            0.000133         0.0     0.000311     0.000311   \n",
       "3        ...            0.000147         0.0     0.000490     0.000490   \n",
       "4        ...            0.000000         0.0     0.000218     0.000218   \n",
       "\n",
       "   otherethnicity  other-ethnicity  other_ethnicity  otherethnicities  \\\n",
       "0             0.0              0.0              0.0               0.0   \n",
       "1             0.0              0.0              0.0               0.0   \n",
       "2             0.0              0.0              0.0               0.0   \n",
       "3             0.0              0.0              0.0               0.0   \n",
       "4             0.0              0.0              0.0               0.0   \n",
       "\n",
       "   other-ethnicities  other_ethnicities  \n",
       "0                0.0                0.0  \n",
       "1                0.0                0.0  \n",
       "2                0.0                0.0  \n",
       "3                0.0                0.0  \n",
       "4                0.0                0.0  \n",
       "\n",
       "[5 rows x 103 columns]"
      ]
     },
     "execution_count": 31,
     "metadata": {},
     "output_type": "execute_result"
    }
   ],
   "source": [
    "data.head()"
   ]
  },
  {
   "cell_type": "code",
   "execution_count": 35,
   "metadata": {
    "collapsed": false
   },
   "outputs": [],
   "source": [
    "for i, group in enumerate([g1, g2, g3]):\n",
    "    data[\"g{}\".format(i+1)] = sum_columns(data, group)"
   ]
  },
  {
   "cell_type": "code",
   "execution_count": 37,
   "metadata": {
    "collapsed": false
   },
   "outputs": [
    {
     "data": {
      "image/png": "[encoded data removed]",
      "text/plain": [
       "<matplotlib.figure.Figure at 0x7f4699684630>"
      ]
     },
     "metadata": {},
     "output_type": "display_data"
    }
   ],
   "source": [
    "years_to_average_over = 10\n",
    "smoothed_data = data[[\"g1\", \"g2\", \"g3\"]].rolling(window=years_to_average_over).mean()\n",
    "axis = smoothed_data.plot()\n",
    "fig = plt.gcf()\n",
    "fig.set_size_inches((12,6))\n",
    "_ = axis.legend(prop=fontP, loc=\"best\")"
   ]
  }
 ],
 "metadata": {
  "kernelspec": {
   "display_name": "Python 3",
   "language": "python",
   "name": "python3"
  },
  "language_info": {
   "codemirror_mode": {
    "name": "ipython",
    "version": 3
   },
   "file_extension": ".py",
   "mimetype": "text/x-python",
   "name": "python",
   "nbconvert_exporter": "python",
   "pygments_lexer": "ipython3",
   "version": "3.4.3"
  }
 },
 "nbformat": 4,
 "nbformat_minor": 0
}
