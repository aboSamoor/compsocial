{
 "cells": [
  {
   "cell_type": "code",
   "execution_count": 10,
   "metadata": {
    "collapsed": false
   },
   "outputs": [],
   "source": [
    "import numpy as np\n",
    "import pandas as pd\n",
    "import matplotlib.pyplot as plt\n",
    "import glob\n",
    "from os import path\n",
    "import itertools\n",
    "import requests\n",
    "from io import StringIO\n",
    "from pandas import DataFrame\n",
    "import requests\n",
    "from time import sleep\n",
    "from matplotlib.font_manager import FontProperties\n",
    "import concurrent.futures\n",
    "from matplotlib.ticker import ScalarFormatter, LogFormatter, LogFormatterExponent, LogFormatterMathtext\n",
    "import datetime"
   ]
  },
  {
   "cell_type": "code",
   "execution_count": 2,
   "metadata": {
    "collapsed": true
   },
   "outputs": [],
   "source": [
    "fontP = FontProperties()\n",
    "fontP.set_size('small')"
   ]
  },
  {
   "cell_type": "code",
   "execution_count": 3,
   "metadata": {
    "collapsed": true
   },
   "outputs": [],
   "source": [
    "%matplotlib inline"
   ]
  },
  {
   "cell_type": "code",
   "execution_count": 4,
   "metadata": {
    "collapsed": true
   },
   "outputs": [],
   "source": [
    "def get_word(word):\n",
    "  found = False\n",
    "  while not found:\n",
    "    req = requests.get(params={\"response_type\": \"json\", \"keyword\": word},\n",
    "                       url=\"http://chronicle.nytlabs.com/graph\")\n",
    "    if req.status_code == requests.codes.ok:\n",
    "      df = pd.DataFrame.from_records(req.json())\n",
    "      term = word.strip().replace(\" \", \"_\")\n",
    "      df = df.rename(columns={\"total_articles_published\": \"Total\", \"article_matches\": term})\n",
    "      database = df[[\"Total\", term, \"year\"]]\n",
    "      return database\n",
    "    else:\n",
    "      print(\"We could not get the word '{}'\\nsleeping for .1s ...\".format(word))\n",
    "      sleep(.1)"
   ]
  },
  {
   "cell_type": "code",
   "execution_count": 5,
   "metadata": {
    "collapsed": true
   },
   "outputs": [],
   "source": [
    "def get_words(words):\n",
    "  for i, word in enumerate(words):\n",
    "    df = get_word(word)\n",
    "    if i == 0:\n",
    "      database = df\n",
    "      continue\n",
    "    df.drop(\"Total\", 1, inplace=True)\n",
    "    database = pd.merge(database, df, on=\"year\", how=\"outer\")\n",
    "  database.set_index(\"year\", inplace=True)\n",
    "  values = database.values\n",
    "  values = (database.values.T / database.Total.values).T\n",
    "  values[:, 0] = database.Total.values\n",
    "  database_norm = pd.DataFrame(data=values, columns=database.columns, index=database.index)\n",
    "  database_norm.drop(\"Total\", 1, inplace=True)\n",
    "  return database_norm"
   ]
  },
  {
   "cell_type": "code",
   "execution_count": 6,
   "metadata": {
    "collapsed": true
   },
   "outputs": [],
   "source": [
    "def get_words_parallel(words):\n",
    "    with concurrent.futures.ProcessPoolExecutor(max_workers=12) as executor:\n",
    "        for i, (word, df) in enumerate(zip(words, executor.map(get_word, words))):\n",
    "            if i == 0:\n",
    "              database = df\n",
    "              continue\n",
    "            df.drop(\"Total\", 1, inplace=True)\n",
    "            database = pd.merge(database, df, on=\"year\", how=\"outer\")   \n",
    "        database.set_index(\"year\", inplace=True)\n",
    "        values = database.values\n",
    "        values = (database.values.T / database.Total.values).T\n",
    "        values[:, 0] = database.Total.values\n",
    "        database_norm = pd.DataFrame(data=values, columns=database.columns, index=database.index)\n",
    "        database_norm.drop(\"Total\", 1, inplace=True)\n",
    "        return database_norm"
   ]
  },
  {
   "cell_type": "code",
   "execution_count": null,
   "metadata": {
    "collapsed": true
   },
   "outputs": [],
   "source": [
    "#def sum_columns(dataframe, column_names):\n",
    "    #column_names_normalized = [x.replace(\" \", \"_\") for x in column_names]\n",
    "    #return dataframe[column_names_normalized].sum(axis=1)"
   ]
  },
  {
   "cell_type": "code",
   "execution_count": 36,
   "metadata": {
    "collapsed": true
   },
   "outputs": [],
   "source": [
    "g1  = [\"monocultural\", \"mono-cultural\", \"mono cultural\", \"monoculturals\", \"mono-culturals\", \"mono culturals\"]\n",
    "g2 = [ \"monoracial\", \"mono-racial\", \"mono racial\", \"monoracials\", \"mono-racials\", \"mono racials\"]\n",
    "g3 = [\"monoethnic\", \"mono-ethnic\", \"mono ethnic\", \"monoethnics\", \"mono-ethnics\", \"mono ethnics\"]\n",
    "g4 = [\"bicultural\", \"bi-cultural\", \"bi cultural\", \"biculturals\", \"bi-culturals\", \"bi culturals\"]\n",
    "g5 = [\"biracial\", \"bi-racial\", \"bi racial\", \"biracials\", \"bi-racials\", \"bi racials\"]\n",
    "g6 = [\"biethnic\", \"bi-ethnic\", \"bi ethnic\", \"biethnics\", \"bi-ethnics\", \"bi ethnics\"]\n",
    "g7 = [\"interracial\", \"inter-racial\", \"inter racial\", \"interracials\", \"inter-racials\", \"inter racials\"]\n",
    "g8 = [\"multiracial\", \"multi-racial\", \"multi racial\", \"multiracials\", \"multi-racials\", \"multi racials\"]\n",
    "g9 = [\"multiethnic\", \"multi-ethnic\", \"multi ethnic\", \"multiethnics\", \"multi-ethnics\", \"multi ethnics\"]\n",
    "g10 = [\"multicultural\", \"multi-cultural\", \"multi cultural\", \"multiculturals\", \"multi-culturals\", \"multi culturals\"]\n",
    "g11 = [\"culturalpluralism\", \"cultural-pluralism\", \"cultural pluralism\", \"culturalpluralisms\",\n",
    "      \"cultural-pluralisms\", \"cultural pluralisms\"]\n",
    "g12 = [\"polyculturalism\", \"poly-culturalism\", \"poly culturalism\", \"polyculturalisms\",\n",
    "       \"poly-culturalisms\", \"poly culturalisms\"]\n",
    "g13 = [\"multiculturalism\", \"multi-culturalism\", \"multi culturalism\", \"multiculturalisms\",\n",
    "       \"multi-culturalisms\", \"multi culturalisms\"]\n",
    "g14 = [\"mixedrace\", \"mixed-race\", \"mixed race\", \"mixedraces\", \"mixed-races\", \"mixed races\"]\n",
    "g15 = [\"mixedethnicity\", \"mixed-ethnicity\", \"mixed ethnicity\", \"mixedethnicities\", \"mixed-ethnicities\",\n",
    "       \"mixed ethnicities\"]\n",
    "g16 = [\"otherrace\", \"other-race\", \"other race\", \"otherraces\", \"other-races\", \"other races\"]\n",
    "g17 = [\"otherethnicity\", \"other-ethnicity\", \"other ethnicity\", \"otherethnicities\", \"other-ethnicities\",\n",
    "       \"other ethnicities\"]\n",
    "g18 = [\"polyracial\", \"poly-racial\", \"poly racial\", \"polyracials\", \"poly-racials\", \"poly racials\"]\n",
    "g19 = [\"polyethnic\", \"poly-ethnic\", \"poly ethnic\", \"polyethnics\", \"poly-ethnics\", \"poly ethnics\"]\n",
    "g20 = [\"polycultural\", \"poly-cultural\", \"poly cultural\", \"polyculturals\", \"poly-culturals\", \"poly culturals\"]"
   ]
  },
  {
   "cell_type": "code",
   "execution_count": 39,
   "metadata": {
    "collapsed": true
   },
   "outputs": [],
   "source": [
    "all_terms = g1 + g2 + g3 + g4 + g5 + g6 + g7 + g8 + g9 + g10 + g11 + g12 + g13 + g14 + g15 + g16 + g17 + g18 + g19 + g20"
   ]
  },
  {
   "cell_type": "code",
   "execution_count": 40,
   "metadata": {
    "collapsed": false,
    "scrolled": false
   },
   "outputs": [
    {
     "name": "stdout",
     "output_type": "stream",
     "text": [
      "We could not get the word 'monoculturals'\n",
      "sleeping for .1s ...We could not get the word 'monocultural'\n",
      "sleeping for .1s ...We could not get the word 'mono-racials'\n",
      "sleeping for .1s ...\n",
      "We could not get the word 'mono-racial'\n",
      "sleeping for .1s ...We could not get the word 'mono-culturals'\n",
      "sleeping for .1s ...We could not get the word 'mono racials'\n",
      "sleeping for .1s ...\n",
      "\n",
      "\n",
      "\n",
      "\n",
      "We could not get the word 'monoethnic'\n",
      "sleeping for .1s ...\n",
      "We could not get the word 'mono cultural'\n",
      "sleeping for .1s ...We could not get the word 'mono-cultural'\n",
      "sleeping for .1s ...\n",
      "\n",
      "We could not get the word 'mono ethnic'\n",
      "sleeping for .1s ...We could not get the word 'mono-ethnic'\n",
      "sleeping for .1s ...\n",
      "\n",
      "We could not get the word 'monoethnics'\n",
      "sleeping for .1s ...\n",
      "We could not get the word 'mono-culturals'\n",
      "sleeping for .1s ...We could not get the word 'monoculturals'\n",
      "sleeping for .1s ...We could not get the word 'mono-racial'\n",
      "sleeping for .1s ...We could not get the word 'monoethnic'\n",
      "sleeping for .1s ...We could not get the word 'bicultural'\n",
      "sleeping for .1s ...We could not get the word 'mono-cultural'\n",
      "sleeping for .1s ...We could not get the word 'mono-ethnic'\n",
      "sleeping for .1s ...We could not get the word 'monocultural'\n",
      "sleeping for .1s ...We could not get the word 'mono racials'\n",
      "sleeping for .1s ...\n",
      "\n",
      "We could not get the word 'mono ethnic'\n",
      "sleeping for .1s ...We could not get the word 'mono ethnics'\n",
      "sleeping for .1s ...\n",
      "\n",
      "\n",
      "\n",
      "\n",
      "\n",
      "\n",
      "\n",
      "\n",
      "We could not get the word 'bi-cultural'\n",
      "sleeping for .1s ...\n",
      "We could not get the word 'mono-culturals'\n",
      "sleeping for .1s ...\n",
      "We could not get the word 'bi-culturals'\n",
      "sleeping for .1s ...We could not get the word 'mono ethnics'\n",
      "sleeping for .1s ...We could not get the word 'mono racials'\n",
      "sleeping for .1s ...We could not get the word 'mono-cultural'\n",
      "sleeping for .1s ...We could not get the word 'mono-racial'\n",
      "sleeping for .1s ...\n",
      "We could not get the word 'bicultural'\n",
      "sleeping for .1s ...We could not get the word 'monoethnic'\n",
      "sleeping for .1s ...We could not get the word 'monoculturals'\n",
      "sleeping for .1s ...We could not get the word 'biculturals'\n",
      "sleeping for .1s ...\n",
      "\n",
      "\n",
      "\n",
      "\n",
      "\n",
      "\n",
      "\n",
      "We could not get the word 'biracial'\n",
      "sleeping for .1s ...We could not get the word 'bi culturals'\n",
      "sleeping for .1s ...\n",
      "\n",
      "We could not get the word 'mono-racial'\n",
      "sleeping for .1s ...We could not get the word 'mono-cultural'\n",
      "sleeping for .1s ...We could not get the word 'bi-culturals'\n",
      "sleeping for .1s ...\n",
      "We could not get the word 'monoculturals'\n",
      "sleeping for .1s ...We could not get the word 'mono-culturals'\n",
      "sleeping for .1s ...We could not get the word 'mono racials'\n",
      "sleeping for .1s ...\n",
      "We could not get the word 'monoethnic'\n",
      "sleeping for .1s ...\n",
      "\n",
      "\n",
      "\n",
      "\n",
      "We could not get the word 'bi culturals'\n",
      "sleeping for .1s ...We could not get the word 'bi-racial'\n",
      "sleeping for .1s ...We could not get the word 'mono ethnics'\n",
      "sleeping for .1s ...We could not get the word 'bi racial'\n",
      "sleeping for .1s ...\n",
      "\n",
      "\n",
      "\n",
      "We could not get the word 'bi racials'\n",
      "sleeping for .1s ...\n",
      "We could not get the word 'bi-culturals'\n",
      "sleeping for .1s ...\n",
      "We could not get the word 'mono-culturals'\n",
      "sleeping for .1s ...\n",
      "We could not get the word 'mono-racial'\n",
      "sleeping for .1s ...We could not get the word 'bi-racial'\n",
      "sleeping for .1s ...We could not get the word 'mono-cultural'\n",
      "sleeping for .1s ...We could not get the word 'bi-ethnic'\n",
      "sleeping for .1s ...\n",
      "\n",
      "\n",
      "We could not get the word 'bi culturals'\n",
      "sleeping for .1s ...We could not get the word 'mono ethnics'\n",
      "sleeping for .1s ...\n",
      "\n",
      "\n",
      "We could not get the word 'monoethnic'\n",
      "sleeping for .1s ...\n",
      "We could not get the word 'mono racials'\n",
      "sleeping for .1s ...\n",
      "We could not get the word 'biethnics'\n",
      "sleeping for .1s ...\n",
      "We could not get the word 'bi-ethnics'\n",
      "sleeping for .1s ...\n",
      "We could not get the word 'bi-culturals'\n",
      "sleeping for .1s ...\n",
      "We could not get the word 'mono ethnics'\n",
      "sleeping for .1s ...We could not get the word 'bi culturals'\n",
      "sleeping for .1s ...We could not get the word 'bi-racial'\n",
      "sleeping for .1s ...\n",
      "We could not get the word 'mono-racial'\n",
      "sleeping for .1s ...\n",
      "We could not get the word 'mono-cultural'\n",
      "sleeping for .1s ...We could not get the word 'biethnics'\n",
      "sleeping for .1s ...\n",
      "We could not get the word 'monoethnic'\n",
      "sleeping for .1s ...\n",
      "\n",
      "\n",
      "\n",
      "We could not get the word 'bi ethnics'\n",
      "sleeping for .1s ...We could not get the word 'interracial'\n",
      "sleeping for .1s ...We could not get the word 'inter-racial'\n",
      "sleeping for .1s ...We could not get the word 'inter racial'\n",
      "sleeping for .1s ...\n",
      "\n",
      "\n",
      "\n",
      "We could not get the word 'interracials'\n",
      "sleeping for .1s ...\n",
      "We could not get the word 'bi-racial'\n",
      "sleeping for .1s ...We could not get the word 'mono-racial'\n",
      "sleeping for .1s ...\n",
      "We could not get the word 'mono-cultural'\n",
      "sleeping for .1s ...We could not get the word 'biethnics'\n",
      "sleeping for .1s ...\n",
      "\n",
      "\n",
      "We could not get the word 'inter racials'\n",
      "sleeping for .1s ...\n",
      "We could not get the word 'bi ethnics'\n",
      "sleeping for .1s ...We could not get the word 'interracial'\n",
      "sleeping for .1s ...We could not get the word 'inter racial'\n",
      "sleeping for .1s ...\n",
      "\n",
      "\n",
      "We could not get the word 'multiracial'\n",
      "sleeping for .1s ...\n",
      "We could not get the word 'multi-racial'\n",
      "sleeping for .1s ...\n",
      "We could not get the word 'multiracials'\n",
      "sleeping for .1s ...\n",
      "We could not get the word 'mono-racial'\n",
      "sleeping for .1s ...\n",
      "We could not get the word 'multi-racials'\n",
      "sleeping for .1s ...We could not get the word 'multi racials'\n",
      "sleeping for .1s ...We could not get the word 'mono-cultural'\n",
      "sleeping for .1s ...\n",
      "\n",
      "\n",
      "We could not get the word 'bi ethnics'\n",
      "sleeping for .1s ...We could not get the word 'inter racial'\n",
      "sleeping for .1s ...\n",
      "\n",
      "We could not get the word 'biethnics'\n",
      "sleeping for .1s ...\n",
      "We could not get the word 'interracial'\n",
      "sleeping for .1s ...We could not get the word 'multi-racial'\n",
      "sleeping for .1s ...\n",
      "\n",
      "We could not get the word 'multi ethnic'\n",
      "sleeping for .1s ...We could not get the word 'multi-ethnic'\n",
      "sleeping for .1s ...\n",
      "\n",
      "We could not get the word 'multiracials'\n",
      "sleeping for .1s ...\n",
      "We could not get the word 'mono-cultural'\n",
      "sleeping for .1s ...We could not get the word 'multiethnics'\n",
      "sleeping for .1s ...\n",
      "\n",
      "We could not get the word 'bi ethnics'\n",
      "sleeping for .1s ...We could not get the word 'multi ethnics'\n",
      "sleeping for .1s ...\n",
      "We could not get the word 'biethnics'\n",
      "sleeping for .1s ...We could not get the word 'inter racial'\n",
      "sleeping for .1s ...\n",
      "\n",
      "\n",
      "We could not get the word 'interracial'\n",
      "sleeping for .1s ...We could not get the word 'multi-cultural'\n",
      "sleeping for .1s ...\n",
      "We could not get the word 'multi-ethnic'\n",
      "sleeping for .1s ...We could not get the word 'multi ethnic'\n",
      "sleeping for .1s ...\n",
      "\n",
      "\n",
      "We could not get the word 'multiculturals'\n",
      "sleeping for .1s ...\n",
      "We could not get the word 'multiracials'\n",
      "sleeping for .1s ...\n",
      "We could not get the word 'biethnics'\n",
      "sleeping for .1s ...We could not get the word 'multi-culturals'\n",
      "sleeping for .1s ...We could not get the word 'multiethnics'\n",
      "sleeping for .1s ...We could not get the word 'inter racial'\n",
      "sleeping for .1s ...We could not get the word 'mono-cultural'\n",
      "sleeping for .1s ...\n",
      "\n",
      "\n",
      "\n",
      "\n",
      "We could not get the word 'culturalpluralism'\n",
      "sleeping for .1s ...\n",
      "We could not get the word 'multi-cultural'\n",
      "sleeping for .1s ...We could not get the word 'interracial'\n",
      "sleeping for .1s ...We could not get the word 'cultural-pluralism'\n",
      "sleeping for .1s ...\n",
      "\n",
      "\n",
      "We could not get the word 'multi ethnic'\n",
      "sleeping for .1s ...We could not get the word 'multiracials'\n",
      "sleeping for .1s ...\n",
      "We could not get the word 'culturalpluralisms'\n",
      "sleeping for .1s ...\n",
      "\n",
      "We could not get the word 'inter racial'\n",
      "sleeping for .1s ...\n",
      "We could not get the word 'cultural-pluralisms'\n",
      "sleeping for .1s ...We could not get the word 'multi-culturals'\n",
      "sleeping for .1s ...\n",
      "\n",
      "We could not get the word 'cultural pluralisms'\n",
      "sleeping for .1s ...\n",
      "We could not get the word 'polyculturalism'\n",
      "sleeping for .1s ...\n",
      "We could not get the word 'mono-cultural'\n",
      "sleeping for .1s ...\n",
      "We could not get the word 'multi-cultural'\n",
      "sleeping for .1s ...We could not get the word 'cultural-pluralism'\n",
      "sleeping for .1s ...We could not get the word 'culturalpluralisms'\n",
      "sleeping for .1s ...We could not get the word 'multi ethnic'\n",
      "sleeping for .1s ...We could not get the word 'poly-culturalism'\n",
      "sleeping for .1s ...\n",
      "\n",
      "\n",
      "\n",
      "\n",
      "We could not get the word 'poly culturalism'\n",
      "sleeping for .1s ...\n",
      "We could not get the word 'multi-culturals'\n",
      "sleeping for .1s ...\n",
      "We could not get the word 'cultural-pluralisms'\n",
      "sleeping for .1s ...\n",
      "We could not get the word 'polyculturalisms'\n",
      "sleeping for .1s ...We could not get the word 'cultural pluralisms'\n",
      "sleeping for .1s ...\n",
      "\n",
      "We could not get the word 'polyculturalism'\n",
      "sleeping for .1s ...\n",
      "We could not get the word 'cultural-pluralism'\n",
      "sleeping for .1s ...\n",
      "We could not get the word 'multi ethnic'\n",
      "sleeping for .1s ...We could not get the word 'poly culturalisms'\n",
      "sleeping for .1s ...We could not get the word 'multiculturalism'\n",
      "sleeping for .1s ...We could not get the word 'multi-cultural'\n",
      "sleeping for .1s ...\n",
      "\n",
      "\n",
      "\n",
      "We could not get the word 'multi-culturalism'\n",
      "sleeping for .1s ...\n",
      "We could not get the word 'multi culturalism'\n",
      "sleeping for .1s ...\n",
      "We could not get the word 'multi-culturals'\n",
      "sleeping for .1s ...\n",
      "We could not get the word 'multiculturalisms'\n",
      "sleeping for .1s ...\n",
      "We could not get the word 'polyculturalisms'\n",
      "sleeping for .1s ...\n",
      "We could not get the word 'multi-culturalisms'\n",
      "sleeping for .1s ...\n",
      "We could not get the word 'polyculturalism'\n",
      "sleeping for .1s ...\n",
      "We could not get the word 'multi-cultural'\n",
      "sleeping for .1s ...We could not get the word 'multi-culturalism'\n",
      "sleeping for .1s ...We could not get the word 'multi culturalisms'\n",
      "sleeping for .1s ...We could not get the word 'poly culturalisms'\n",
      "sleeping for .1s ...We could not get the word 'mixedrace'\n",
      "sleeping for .1s ...\n",
      "\n",
      "\n",
      "\n",
      "\n",
      "We could not get the word 'multi culturalism'\n",
      "sleeping for .1s ...\n",
      "We could not get the word 'multiculturalisms'\n",
      "sleeping for .1s ...\n",
      "We could not get the word 'multi-culturals'\n",
      "sleeping for .1s ...\n",
      "We could not get the word 'mixed race'\n",
      "sleeping for .1s ...\n",
      "We could not get the word 'multi-culturalisms'\n",
      "sleeping for .1s ...\n",
      "We could not get the word 'polyculturalism'\n",
      "sleeping for .1s ...\n",
      "We could not get the word 'poly culturalisms'\n",
      "sleeping for .1s ...We could not get the word 'multi-culturalism'\n",
      "sleeping for .1s ...We could not get the word 'multi-cultural'\n",
      "sleeping for .1s ...\n",
      "\n",
      "\n",
      "We could not get the word 'mixed races'\n",
      "sleeping for .1s ...\n",
      "We could not get the word 'mixedraces'\n",
      "sleeping for .1s ...\n",
      "We could not get the word 'multi culturalism'\n",
      "sleeping for .1s ...\n",
      "We could not get the word 'mixed-race'\n",
      "sleeping for .1s ...\n",
      "We could not get the word 'multiculturalisms'\n",
      "sleeping for .1s ...We could not get the word 'multi-culturals'\n",
      "sleeping for .1s ...\n",
      "\n",
      "We could not get the word 'mixedethnicity'\n",
      "sleeping for .1s ...\n",
      "We could not get the word 'mixed race'\n",
      "sleeping for .1s ...\n",
      "We could not get the word 'polyculturalism'\n",
      "sleeping for .1s ...\n",
      "We could not get the word 'multi-cultural'\n",
      "sleeping for .1s ...\n",
      "We could not get the word 'poly culturalisms'\n",
      "sleeping for .1s ...We could not get the word 'mixed races'\n",
      "sleeping for .1s ...We could not get the word 'mixedraces'\n",
      "sleeping for .1s ...\n",
      "\n",
      "\n",
      "We could not get the word 'mixedethnicities'\n",
      "sleeping for .1s ...\n",
      "We could not get the word 'mixed-ethnicities'\n",
      "sleeping for .1s ...\n",
      "We could not get the word 'mixed ethnicities'\n",
      "sleeping for .1s ...\n",
      "We could not get the word 'multiculturalisms'\n",
      "sleeping for .1s ...\n",
      "We could not get the word 'multi-culturals'\n",
      "sleeping for .1s ...\n",
      "We could not get the word 'polyculturalism'\n",
      "sleeping for .1s ...We could not get the word 'mixed race'\n",
      "sleeping for .1s ...We could not get the word 'mixedethnicity'\n",
      "sleeping for .1s ...\n",
      "\n",
      "\n",
      "We could not get the word 'mixed races'\n",
      "sleeping for .1s ...\n",
      "We could not get the word 'mixedraces'\n",
      "sleeping for .1s ...\n",
      "We could not get the word 'mixedethnicities'\n",
      "sleeping for .1s ...\n",
      "We could not get the word 'other-race'\n",
      "sleeping for .1s ...We could not get the word 'otherrace'\n",
      "sleeping for .1s ...\n",
      "\n",
      "We could not get the word 'other race'\n",
      "sleeping for .1s ...\n",
      "We could not get the word 'otherraces'\n",
      "sleeping for .1s ...\n",
      "We could not get the word 'other-races'\n",
      "sleeping for .1s ...\n",
      "We could not get the word 'otherethnicity'\n",
      "sleeping for .1s ...\n",
      "We could not get the word 'mixedethnicity'\n",
      "sleeping for .1s ...We could not get the word 'other races'\n",
      "sleeping for .1s ...\n",
      "\n",
      "We could not get the word 'multi-culturals'\n",
      "sleeping for .1s ...\n",
      "We could not get the word 'mixed races'\n",
      "sleeping for .1s ...\n",
      "We could not get the word 'other-ethnicity'\n",
      "sleeping for .1s ...We could not get the word 'other-race'\n",
      "sleeping for .1s ...We could not get the word 'otherrace'\n",
      "sleeping for .1s ...\n",
      "\n",
      "\n",
      "We could not get the word 'mixedethnicities'\n",
      "sleeping for .1s ...\n",
      "We could not get the word 'other ethnicity'\n",
      "sleeping for .1s ...\n",
      "We could not get the word 'otherethnicities'\n",
      "sleeping for .1s ...\n",
      "We could not get the word 'other-ethnicities'\n",
      "sleeping for .1s ...\n",
      "We could not get the word 'other ethnicities'\n",
      "sleeping for .1s ...We could not get the word 'mixedethnicity'\n",
      "sleeping for .1s ...\n",
      "\n",
      "We could not get the word 'polyracial'\n",
      "sleeping for .1s ...\n",
      "We could not get the word 'poly-racial'\n",
      "sleeping for .1s ...\n",
      "We could not get the word 'mixedethnicities'\n",
      "sleeping for .1s ...\n",
      "We could not get the word 'otherrace'\n",
      "sleeping for .1s ...We could not get the word 'other-race'\n",
      "sleeping for .1s ...\n",
      "\n",
      "We could not get the word 'other-ethnicity'\n",
      "sleeping for .1s ...\n",
      "We could not get the word 'poly racial'\n",
      "sleeping for .1s ...We could not get the word 'other ethnicity'\n",
      "sleeping for .1s ...\n",
      "\n",
      "We could not get the word 'polyracials'\n",
      "sleeping for .1s ...\n",
      "We could not get the word 'other-ethnicities'\n",
      "sleeping for .1s ...\n",
      "We could not get the word 'other ethnicities'\n",
      "sleeping for .1s ...\n",
      "We could not get the word 'mixedethnicity'\n",
      "sleeping for .1s ...\n",
      "We could not get the word 'poly-racials'\n",
      "sleeping for .1s ...\n",
      "We could not get the word 'poly racials'\n",
      "sleeping for .1s ...\n",
      "We could not get the word 'mixedethnicities'\n",
      "sleeping for .1s ...We could not get the word 'other-race'\n",
      "sleeping for .1s ...We could not get the word 'otherrace'\n",
      "sleeping for .1s ...\n",
      "We could not get the word 'other-ethnicity'\n",
      "sleeping for .1s ...\n",
      "\n",
      "\n",
      "We could not get the word 'poly racial'\n",
      "sleeping for .1s ...We could not get the word 'other ethnicity'\n",
      "sleeping for .1s ...\n",
      "\n",
      "We could not get the word 'polyracials'\n",
      "sleeping for .1s ...\n",
      "We could not get the word 'other ethnicities'\n",
      "sleeping for .1s ...\n",
      "We could not get the word 'polyethnic'\n",
      "sleeping for .1s ...\n",
      "We could not get the word 'poly-ethnic'\n",
      "sleeping for .1s ...\n",
      "We could not get the word 'poly racials'\n",
      "sleeping for .1s ...\n",
      "We could not get the word 'polyethnics'\n",
      "sleeping for .1s ...\n",
      "We could not get the word 'other-race'\n",
      "sleeping for .1s ...\n",
      "We could not get the word 'poly-ethnics'\n",
      "sleeping for .1s ...We could not get the word 'other-ethnicity'\n",
      "sleeping for .1s ...We could not get the word 'poly ethnics'\n",
      "sleeping for .1s ...\n",
      "\n",
      "\n",
      "We could not get the word 'other ethnicity'\n",
      "sleeping for .1s ...We could not get the word 'poly racial'\n",
      "sleeping for .1s ...\n",
      "\n",
      "We could not get the word 'polycultural'\n",
      "sleeping for .1s ...\n",
      "We could not get the word 'polyethnic'\n",
      "sleeping for .1s ...\n",
      "We could not get the word 'poly cultural'\n",
      "sleeping for .1s ...\n",
      "We could not get the word 'poly racials'\n",
      "sleeping for .1s ...\n",
      "We could not get the word 'poly-ethnic'\n",
      "sleeping for .1s ...\n",
      "We could not get the word 'polyculturals'\n",
      "sleeping for .1s ...\n",
      "We could not get the word 'poly ethnics'\n",
      "sleeping for .1s ...\n",
      "We could not get the word 'other-ethnicity'\n",
      "sleeping for .1s ...We could not get the word 'other-race'\n",
      "sleeping for .1s ...\n",
      "\n",
      "We could not get the word 'poly-culturals'\n",
      "sleeping for .1s ...\n",
      "We could not get the word 'other ethnicity'\n",
      "sleeping for .1s ...\n",
      "We could not get the word 'poly culturals'\n",
      "sleeping for .1s ...\n",
      "We could not get the word 'poly cultural'\n",
      "sleeping for .1s ...\n",
      "We could not get the word 'poly racials'\n",
      "sleeping for .1s ...\n",
      "We could not get the word 'poly-ethnic'\n",
      "sleeping for .1s ...\n",
      "We could not get the word 'other-ethnicity'\n",
      "sleeping for .1s ...We could not get the word 'other-race'\n",
      "sleeping for .1s ...\n",
      "\n",
      "We could not get the word 'poly-culturals'\n",
      "sleeping for .1s ...\n",
      "We could not get the word 'other ethnicity'\n",
      "sleeping for .1s ...\n",
      "We could not get the word 'poly cultural'\n",
      "sleeping for .1s ...\n",
      "We could not get the word 'poly-ethnic'\n",
      "sleeping for .1s ...\n",
      "We could not get the word 'other-ethnicity'\n",
      "sleeping for .1s ...\n",
      "We could not get the word 'other-race'\n",
      "sleeping for .1s ...\n",
      "We could not get the word 'poly-culturals'\n",
      "sleeping for .1s ...\n",
      "We could not get the word 'poly cultural'\n",
      "sleeping for .1s ...\n",
      "We could not get the word 'poly-ethnic'\n",
      "sleeping for .1s ...\n",
      "We could not get the word 'other-race'\n",
      "sleeping for .1s ...\n",
      "We could not get the word 'poly-culturals'\n",
      "sleeping for .1s ...\n",
      "We could not get the word 'poly cultural'\n",
      "sleeping for .1s ...We could not get the word 'poly-ethnic'\n",
      "sleeping for .1s ...\n",
      "\n",
      "We could not get the word 'other-race'\n",
      "sleeping for .1s ...\n",
      "We could not get the word 'poly cultural'\n",
      "sleeping for .1s ...\n",
      "We could not get the word 'other-race'\n",
      "sleeping for .1s ...\n",
      "We could not get the word 'poly cultural'\n",
      "sleeping for .1s ...\n",
      "We could not get the word 'other-race'\n",
      "sleeping for .1s ...\n",
      "We could not get the word 'poly cultural'\n",
      "sleeping for .1s ...\n",
      "We could not get the word 'poly cultural'\n",
      "sleeping for .1s ...\n",
      "We could not get the word 'poly cultural'\n",
      "sleeping for .1s ...\n",
      "We could not get the word 'poly cultural'\n",
      "sleeping for .1s ...\n"
     ]
    }
   ],
   "source": [
    "data = get_words_parallel(all_terms)"
   ]
  },
  {
   "cell_type": "code",
   "execution_count": 46,
   "metadata": {
    "collapsed": false
   },
   "outputs": [],
   "source": [
    "#data.to_csv(\"nyt_terms.csv\")\n",
    "data = pd.read_csv(\"nyt_terms.csv\", index_col=\"year\")"
   ]
  },
  {
   "cell_type": "code",
   "execution_count": 42,
   "metadata": {
    "collapsed": false
   },
   "outputs": [
    {
     "data": {
      "text/html": [
       "<div>\n",
       "<table border=\"1\" class=\"dataframe\">\n",
       "  <thead>\n",
       "    <tr style=\"text-align: right;\">\n",
       "      <th></th>\n",
       "      <th>monocultural</th>\n",
       "      <th>mono-cultural</th>\n",
       "      <th>mono_cultural</th>\n",
       "      <th>monoculturals</th>\n",
       "      <th>mono-culturals</th>\n",
       "      <th>mono_culturals</th>\n",
       "      <th>monoracial</th>\n",
       "      <th>mono-racial</th>\n",
       "      <th>mono_racial</th>\n",
       "      <th>monoracials</th>\n",
       "      <th>...</th>\n",
       "      <th>poly_ethnic</th>\n",
       "      <th>polyethnics</th>\n",
       "      <th>poly-ethnics</th>\n",
       "      <th>poly_ethnics</th>\n",
       "      <th>polycultural</th>\n",
       "      <th>poly-cultural</th>\n",
       "      <th>poly_cultural</th>\n",
       "      <th>polyculturals</th>\n",
       "      <th>poly-culturals</th>\n",
       "      <th>poly_culturals</th>\n",
       "    </tr>\n",
       "    <tr>\n",
       "      <th>year</th>\n",
       "      <th></th>\n",
       "      <th></th>\n",
       "      <th></th>\n",
       "      <th></th>\n",
       "      <th></th>\n",
       "      <th></th>\n",
       "      <th></th>\n",
       "      <th></th>\n",
       "      <th></th>\n",
       "      <th></th>\n",
       "      <th></th>\n",
       "      <th></th>\n",
       "      <th></th>\n",
       "      <th></th>\n",
       "      <th></th>\n",
       "      <th></th>\n",
       "      <th></th>\n",
       "      <th></th>\n",
       "      <th></th>\n",
       "      <th></th>\n",
       "      <th></th>\n",
       "    </tr>\n",
       "  </thead>\n",
       "  <tbody>\n",
       "    <tr>\n",
       "      <th>1851</th>\n",
       "      <td>0.0</td>\n",
       "      <td>0.0</td>\n",
       "      <td>0.0</td>\n",
       "      <td>0.0</td>\n",
       "      <td>0.0</td>\n",
       "      <td>0.0</td>\n",
       "      <td>0.0</td>\n",
       "      <td>0.0</td>\n",
       "      <td>0.0</td>\n",
       "      <td>0.0</td>\n",
       "      <td>...</td>\n",
       "      <td>0.0</td>\n",
       "      <td>0.0</td>\n",
       "      <td>0.0</td>\n",
       "      <td>0.0</td>\n",
       "      <td>0.0</td>\n",
       "      <td>0.0</td>\n",
       "      <td>0.0</td>\n",
       "      <td>0.0</td>\n",
       "      <td>0.0</td>\n",
       "      <td>0.0</td>\n",
       "    </tr>\n",
       "    <tr>\n",
       "      <th>1852</th>\n",
       "      <td>0.0</td>\n",
       "      <td>0.0</td>\n",
       "      <td>0.0</td>\n",
       "      <td>0.0</td>\n",
       "      <td>0.0</td>\n",
       "      <td>0.0</td>\n",
       "      <td>0.0</td>\n",
       "      <td>0.0</td>\n",
       "      <td>0.0</td>\n",
       "      <td>0.0</td>\n",
       "      <td>...</td>\n",
       "      <td>0.0</td>\n",
       "      <td>0.0</td>\n",
       "      <td>0.0</td>\n",
       "      <td>0.0</td>\n",
       "      <td>0.0</td>\n",
       "      <td>0.0</td>\n",
       "      <td>0.0</td>\n",
       "      <td>0.0</td>\n",
       "      <td>0.0</td>\n",
       "      <td>0.0</td>\n",
       "    </tr>\n",
       "    <tr>\n",
       "      <th>1853</th>\n",
       "      <td>0.0</td>\n",
       "      <td>0.0</td>\n",
       "      <td>0.0</td>\n",
       "      <td>0.0</td>\n",
       "      <td>0.0</td>\n",
       "      <td>0.0</td>\n",
       "      <td>0.0</td>\n",
       "      <td>0.0</td>\n",
       "      <td>0.0</td>\n",
       "      <td>0.0</td>\n",
       "      <td>...</td>\n",
       "      <td>0.0</td>\n",
       "      <td>0.0</td>\n",
       "      <td>0.0</td>\n",
       "      <td>0.0</td>\n",
       "      <td>0.0</td>\n",
       "      <td>0.0</td>\n",
       "      <td>0.0</td>\n",
       "      <td>0.0</td>\n",
       "      <td>0.0</td>\n",
       "      <td>0.0</td>\n",
       "    </tr>\n",
       "    <tr>\n",
       "      <th>1854</th>\n",
       "      <td>0.0</td>\n",
       "      <td>0.0</td>\n",
       "      <td>0.0</td>\n",
       "      <td>0.0</td>\n",
       "      <td>0.0</td>\n",
       "      <td>0.0</td>\n",
       "      <td>0.0</td>\n",
       "      <td>0.0</td>\n",
       "      <td>0.0</td>\n",
       "      <td>0.0</td>\n",
       "      <td>...</td>\n",
       "      <td>0.0</td>\n",
       "      <td>0.0</td>\n",
       "      <td>0.0</td>\n",
       "      <td>0.0</td>\n",
       "      <td>0.0</td>\n",
       "      <td>0.0</td>\n",
       "      <td>0.0</td>\n",
       "      <td>0.0</td>\n",
       "      <td>0.0</td>\n",
       "      <td>0.0</td>\n",
       "    </tr>\n",
       "    <tr>\n",
       "      <th>1855</th>\n",
       "      <td>0.0</td>\n",
       "      <td>0.0</td>\n",
       "      <td>0.0</td>\n",
       "      <td>0.0</td>\n",
       "      <td>0.0</td>\n",
       "      <td>0.0</td>\n",
       "      <td>0.0</td>\n",
       "      <td>0.0</td>\n",
       "      <td>0.0</td>\n",
       "      <td>0.0</td>\n",
       "      <td>...</td>\n",
       "      <td>0.0</td>\n",
       "      <td>0.0</td>\n",
       "      <td>0.0</td>\n",
       "      <td>0.0</td>\n",
       "      <td>0.0</td>\n",
       "      <td>0.0</td>\n",
       "      <td>0.0</td>\n",
       "      <td>0.0</td>\n",
       "      <td>0.0</td>\n",
       "      <td>0.0</td>\n",
       "    </tr>\n",
       "  </tbody>\n",
       "</table>\n",
       "<p>5 rows × 120 columns</p>\n",
       "</div>"
      ],
      "text/plain": [
       "      monocultural  mono-cultural  mono_cultural  monoculturals  \\\n",
       "year                                                              \n",
       "1851           0.0            0.0            0.0            0.0   \n",
       "1852           0.0            0.0            0.0            0.0   \n",
       "1853           0.0            0.0            0.0            0.0   \n",
       "1854           0.0            0.0            0.0            0.0   \n",
       "1855           0.0            0.0            0.0            0.0   \n",
       "\n",
       "      mono-culturals  mono_culturals  monoracial  mono-racial  mono_racial  \\\n",
       "year                                                                         \n",
       "1851             0.0             0.0         0.0          0.0          0.0   \n",
       "1852             0.0             0.0         0.0          0.0          0.0   \n",
       "1853             0.0             0.0         0.0          0.0          0.0   \n",
       "1854             0.0             0.0         0.0          0.0          0.0   \n",
       "1855             0.0             0.0         0.0          0.0          0.0   \n",
       "\n",
       "      monoracials       ...        poly_ethnic  polyethnics  poly-ethnics  \\\n",
       "year                    ...                                                 \n",
       "1851          0.0       ...                0.0          0.0           0.0   \n",
       "1852          0.0       ...                0.0          0.0           0.0   \n",
       "1853          0.0       ...                0.0          0.0           0.0   \n",
       "1854          0.0       ...                0.0          0.0           0.0   \n",
       "1855          0.0       ...                0.0          0.0           0.0   \n",
       "\n",
       "      poly_ethnics  polycultural  poly-cultural  poly_cultural  polyculturals  \\\n",
       "year                                                                            \n",
       "1851           0.0           0.0            0.0            0.0            0.0   \n",
       "1852           0.0           0.0            0.0            0.0            0.0   \n",
       "1853           0.0           0.0            0.0            0.0            0.0   \n",
       "1854           0.0           0.0            0.0            0.0            0.0   \n",
       "1855           0.0           0.0            0.0            0.0            0.0   \n",
       "\n",
       "      poly-culturals  poly_culturals  \n",
       "year                                  \n",
       "1851             0.0             0.0  \n",
       "1852             0.0             0.0  \n",
       "1853             0.0             0.0  \n",
       "1854             0.0             0.0  \n",
       "1855             0.0             0.0  \n",
       "\n",
       "[5 rows x 120 columns]"
      ]
     },
     "execution_count": 42,
     "metadata": {},
     "output_type": "execute_result"
    }
   ],
   "source": [
    "data.head()"
   ]
  },
  {
   "cell_type": "code",
   "execution_count": 35,
   "metadata": {
    "collapsed": false
   },
   "outputs": [],
   "source": [
    "#for i, group in enumerate([g1, g2, g3]):\n",
    "    #data[\"g{}\".format(i+1)] = sum_columns(data, group)"
   ]
  },
  {
   "cell_type": "markdown",
   "metadata": {},
   "source": [
    "# Combining Terms"
   ]
  },
  {
   "cell_type": "code",
   "execution_count": 47,
   "metadata": {
    "collapsed": false
   },
   "outputs": [],
   "source": [
    "data[\"monocultural\"] = data[\"monocultural\"] + data[\"mono-cultural\"] + data[\"mono_cultural\"] + data[\"monoculturals\"] + data[\"mono-culturals\"] + data[\"mono_culturals\"]"
   ]
  },
  {
   "cell_type": "code",
   "execution_count": 48,
   "metadata": {
    "collapsed": true
   },
   "outputs": [],
   "source": [
    "data[\"monoracial\"] = data[\"monoracial\"] + data[\"mono-racial\"] + data[\"mono_racial\"] + data[\"monoracials\"] + data[\"mono-racials\"] + data[\"mono_racials\"]"
   ]
  },
  {
   "cell_type": "code",
   "execution_count": 49,
   "metadata": {
    "collapsed": true
   },
   "outputs": [],
   "source": [
    "data[\"monoethnic\"] = data[\"monoethnic\"] + data[\"mono-ethnic\"] + data[\"mono_ethnic\"] + data[\"monoethnics\"] + data[\"mono-ethnics\"] + data[\"mono_ethnics\"]"
   ]
  },
  {
   "cell_type": "code",
   "execution_count": 50,
   "metadata": {
    "collapsed": true
   },
   "outputs": [],
   "source": [
    "data[\"bicultural\"] = data[\"bicultural\"] + data[\"bi-cultural\"] + data[\"bi_cultural\"] + data[\"biculturals\"] + data[\"bi-culturals\"] + data[\"bi_culturals\"]"
   ]
  },
  {
   "cell_type": "code",
   "execution_count": 51,
   "metadata": {
    "collapsed": true
   },
   "outputs": [],
   "source": [
    "data[\"biracial\"] = data[\"biracial\"] + data[\"bi-racial\"] + data[\"bi_racial\"] + data[\"biracials\"] + data[\"bi-racials\"] + data[\"bi_racials\"]"
   ]
  },
  {
   "cell_type": "code",
   "execution_count": 52,
   "metadata": {
    "collapsed": true
   },
   "outputs": [],
   "source": [
    "data[\"biethnic\"] = data[\"biethnic\"] + data[\"bi-ethnic\"] + data[\"bi_ethnic\"] + data[\"biethnics\"] + data[\"bi-ethnics\"] + data[\"bi_ethnics\"]"
   ]
  },
  {
   "cell_type": "code",
   "execution_count": 53,
   "metadata": {
    "collapsed": true
   },
   "outputs": [],
   "source": [
    "data[\"multicultural\"] = data[\"multicultural\"] + data[\"multi-cultural\"] + data[\"multi_cultural\"] + data[\"multiculturals\"] + data[\"multi-culturals\"] + data[\"multi_culturals\"]"
   ]
  },
  {
   "cell_type": "code",
   "execution_count": 54,
   "metadata": {
    "collapsed": true
   },
   "outputs": [],
   "source": [
    "data[\"multiracial\"] = data[\"multiracial\"] + data[\"multi-racial\"] + data[\"multi_racial\"] + data[\"multiracials\"] + data[\"multi-racials\"] + data[\"multi_racials\"]"
   ]
  },
  {
   "cell_type": "code",
   "execution_count": 55,
   "metadata": {
    "collapsed": true
   },
   "outputs": [],
   "source": [
    "data[\"multiethnic\"] = data[\"multiethnic\"] + data[\"multi-ethnic\"] + data[\"multi_ethnic\"] + data[\"multiethnics\"] + data[\"multi-ethnics\"] + data[\"multi_ethnics\"]"
   ]
  },
  {
   "cell_type": "code",
   "execution_count": 56,
   "metadata": {
    "collapsed": true
   },
   "outputs": [],
   "source": [
    "data[\"cultural pluralism\"] = data[\"culturalpluralism\"] + data[\"cultural-pluralism\"] + data[\"cultural_pluralism\"] + data[\"culturalpluralisms\"] + data[\"cultural-pluralisms\"] + data[\"cultural_pluralisms\"]"
   ]
  },
  {
   "cell_type": "code",
   "execution_count": 57,
   "metadata": {
    "collapsed": true
   },
   "outputs": [],
   "source": [
    "data[\"polyculturalism\"] = data[\"polyculturalism\"] + data[\"poly-culturalism\"] + data[\"poly_culturalism\"] + data[\"polyculturalisms\"] + data[\"poly-culturalisms\"] + data[\"poly_culturalisms\"]"
   ]
  },
  {
   "cell_type": "code",
   "execution_count": 58,
   "metadata": {
    "collapsed": true
   },
   "outputs": [],
   "source": [
    "data[\"multiculturalism\"] = data[\"multiculturalism\"] + data[\"multi-culturalism\"] + data[\"multi_culturalism\"] + data[\"multiculturalisms\"] + data[\"multi-culturalisms\"] + data[\"multi_culturalisms\"]"
   ]
  },
  {
   "cell_type": "code",
   "execution_count": 59,
   "metadata": {
    "collapsed": true
   },
   "outputs": [],
   "source": [
    "data[\"mixed race\"] = data[\"mixedrace\"] + data[\"mixed-race\"] + data[\"mixed_race\"] + data[\"mixedraces\"] + data[\"mixed-races\"] + data[\"mixed_races\"]"
   ]
  },
  {
   "cell_type": "code",
   "execution_count": 60,
   "metadata": {
    "collapsed": true
   },
   "outputs": [],
   "source": [
    "data[\"mixed ethnicity\"] = data[\"mixedethnicity\"] + data[\"mixed-ethnicity\"] + data[\"mixed_ethnicity\"] + data[\"mixedethnicities\"] + data[\"mixed-ethnicities\"] + data[\"mixed_ethnicities\"]"
   ]
  },
  {
   "cell_type": "code",
   "execution_count": 61,
   "metadata": {
    "collapsed": true
   },
   "outputs": [],
   "source": [
    "data[\"other race\"] = data[\"otherrace\"] + data[\"other-race\"] + data[\"other_race\"] + data[\"otherraces\"] + data[\"other-races\"] + data[\"other_races\"]"
   ]
  },
  {
   "cell_type": "code",
   "execution_count": 62,
   "metadata": {
    "collapsed": true
   },
   "outputs": [],
   "source": [
    "data[\"other ethnicity\"] = data[\"otherethnicity\"] + data[\"other-ethnicity\"] + data[\"other_ethnicity\"] + data[\"otherethnicities\"] + data[\"other-ethnicities\"] + data[\"other_ethnicities\"]"
   ]
  },
  {
   "cell_type": "code",
   "execution_count": 63,
   "metadata": {
    "collapsed": true
   },
   "outputs": [],
   "source": [
    "data[\"interracial\"] = data[\"interracial\"] + data[\"inter-racial\"] + data[\"inter_racial\"] + data[\"interracials\"] + data[\"inter-racials\"] + data[\"inter_racials\"]"
   ]
  },
  {
   "cell_type": "code",
   "execution_count": 64,
   "metadata": {
    "collapsed": true
   },
   "outputs": [],
   "source": [
    "data[\"polycultural\"] = data[\"polycultural\"] + data[\"poly-cultural\"] + data[\"poly_cultural\"] + data[\"polyculturals\"] + data[\"poly-culturals\"] + data[\"poly_culturals\"]"
   ]
  },
  {
   "cell_type": "code",
   "execution_count": 65,
   "metadata": {
    "collapsed": true
   },
   "outputs": [],
   "source": [
    " data[\"polyracial\"] = data[\"polyracial\"] + data[\"poly-racial\"] + data[\"poly_racial\"] + data[\"polyracials\"] + data[\"poly-racials\"] + data[\"poly_racials\"]"
   ]
  },
  {
   "cell_type": "code",
   "execution_count": 66,
   "metadata": {
    "collapsed": true
   },
   "outputs": [],
   "source": [
    "data[\"polyethnic\"] = data[\"polyethnic\"] + data[\"poly-ethnic\"] + data[\"poly_ethnic\"] + data[\"polyethnics\"] + data[\"poly-ethnics\"] + data[\"poly_ethnics\"]"
   ]
  },
  {
   "cell_type": "markdown",
   "metadata": {},
   "source": [
    "# Plots"
   ]
  },
  {
   "cell_type": "code",
   "execution_count": 67,
   "metadata": {
    "collapsed": true
   },
   "outputs": [],
   "source": [
    "def plot(dataframe, words,years_to_average_over):\n",
    "    #markers = itertools.cycle(['s', 'D', '*', 'p', 'h', 'o', '+', 'd'])\n",
    "    line_types = itertools.cycle(['-', '--', '-.'])\n",
    "    df = dataframe[words]\n",
    "    smoothed_data = df.rolling(window=years_to_average_over).mean()\n",
    "    plt.figure(figsize=(16,6))\n",
    "\n",
    "    for i,word in enumerate(words):\n",
    "        plt.plot(smoothed_data.index, smoothed_data[word], next(line_types), \n",
    "                 linewidth=2,color=str(i/float(len(words))))\n",
    "    axis_1 = plt.gca()\n",
    "\n",
    "    axis_1.set_yscale('log') # You can disable\n",
    "    axis_1.set_ylim(ymin=1e-7,ymax=1e-5) # You can disable\n",
    "    #axis_1.set_xlim(xmin=datetime.date(2009,1,1), xmax=datetime.date(2015,7,1))\n",
    "    axis_1.yaxis.set_major_formatter(LogFormatterMathtext())  # You can disable\n",
    "    #axis_1.grid(True)\n",
    "\n",
    "    font = {'family': \"Times New Roman\",\n",
    "            'color': 'black',\n",
    "           'size': 12}\n",
    "    axis_1.set_ylabel(\"Number of New York Times Articles\", font)\n",
    "    axis_1.set_xlabel(\"Year\", font)\n",
    "    #axis_1.yaxis.set_major_formatter(FixedOrderFormatter(-3)) # You can enable\n",
    "    plt.legend(words, loc=2,ncol=3)"
   ]
  },
  {
   "cell_type": "code",
   "execution_count": 68,
   "metadata": {
    "collapsed": false
   },
   "outputs": [],
   "source": [
    "#Figure 1 Version 2\n",
    "words = [\"monocultural\", \"monoracial\", \"monoethnic\"]\n",
    "axis_1 = plt.gca()\n",
    "axis_1.set_xlim(xmin=datetime.date(1960,1,1), xmax=datetime.date(2015,1,1))\n",
    "plot(data,words,10)"
   ]
  },
  {
   "cell_type": "code",
   "execution_count": 70,
   "metadata": {
    "collapsed": false
   },
   "outputs": [],
   "source": [
    "#Figure 1\n",
    "years_to_average_over = 10\n",
    "smoothed_data = data[[\"monocultural\", \"monoracial\", \"monoethnic\"]].rolling(window=years_to_average_over).mean()\n",
    "axis = smoothed_data.plot()\n",
    "fig = plt.gcf()\n",
    "fig.set_size_inches((12,6))\n",
    "#_ = axis.legend(prop=fontP, loc=\"best\")"
   ]
  },
  {
   "cell_type": "code",
   "execution_count": 65,
   "metadata": {
    "collapsed": false
   },
   "outputs": [
    {
     "data": {
      "image/png": "[encoded data removed]",
      "text/plain": [
       "<matplotlib.figure.Figure at 0x1108ea8d0>"
      ]
     },
     "metadata": {},
     "output_type": "display_data"
    }
   ],
   "source": [
    "#Figure 2\n",
    "years_to_average_over = 10\n",
    "smoothed_data = data[[\"bicultural\", \"biracial\", \"biethnic\", \"interracial\"]].rolling(window=years_to_average_over).mean()\n",
    "axis = smoothed_data.plot()\n",
    "fig = plt.gcf()\n",
    "fig.set_size_inches((12,6))\n",
    "_ = axis.legend(prop=fontP, loc=\"best\")"
   ]
  },
  {
   "cell_type": "code",
   "execution_count": 66,
   "metadata": {
    "collapsed": false
   },
   "outputs": [
    {
     "data": {
      "image/png": "[encoded data removed]",
      "text/plain": [
       "<matplotlib.figure.Figure at 0x1108e1908>"
      ]
     },
     "metadata": {},
     "output_type": "display_data"
    }
   ],
   "source": [
    "#Figure 3\n",
    "years_to_average_over = 10\n",
    "smoothed_data = data[[\"multicultural\", \"multiracial\", \"multiethnic\", \"polyracial\", \"polyethnic\", \"polycultural\"]].rolling(window=years_to_average_over).mean()\n",
    "axis = smoothed_data.plot()\n",
    "fig = plt.gcf()\n",
    "fig.set_size_inches((12,6))\n",
    "_ = axis.legend(prop=fontP, loc=\"best\")"
   ]
  },
  {
   "cell_type": "code",
   "execution_count": 67,
   "metadata": {
    "collapsed": false,
    "scrolled": true
   },
   "outputs": [
    {
     "data": {
      "image/png": "[encoded data removed]",
      "text/plain": [
       "<matplotlib.figure.Figure at 0x111550e48>"
      ]
     },
     "metadata": {},
     "output_type": "display_data"
    }
   ],
   "source": [
    "#Figure 4\n",
    "years_to_average_over = 10\n",
    "smoothed_data = data[[\"mixed race\", \"mixed ethnicity\", \"other race\", \"other ethnicity\"]].rolling(window=years_to_average_over).mean()\n",
    "axis = smoothed_data.plot()\n",
    "fig = plt.gcf()\n",
    "fig.set_size_inches((12,6))\n",
    "_ = axis.legend(prop=fontP, loc=\"best\")"
   ]
  },
  {
   "cell_type": "code",
   "execution_count": 68,
   "metadata": {
    "collapsed": false
   },
   "outputs": [
    {
     "data": {
      "image/png": "[encoded data removed]",
      "text/plain": [
       "<matplotlib.figure.Figure at 0x10e487f60>"
      ]
     },
     "metadata": {},
     "output_type": "display_data"
    }
   ],
   "source": [
    "#Figure 5\n",
    "years_to_average_over = 10\n",
    "smoothed_data = data[[\"multiculturalism\", \"polyculturalism\", \"cultural pluralism\"]].rolling(window=years_to_average_over).mean()\n",
    "axis = smoothed_data.plot()\n",
    "fig = plt.gcf()\n",
    "fig.set_size_inches((12,6))\n",
    "_ = axis.legend(prop=fontP, loc=\"best\")"
   ]
  },
  {
   "cell_type": "code",
   "execution_count": 69,
   "metadata": {
    "collapsed": false
   },
   "outputs": [
    {
     "data": {
      "image/png": "[encoded data removed]",
      "text/plain": [
       "<matplotlib.figure.Figure at 0x111b4c390>"
      ]
     },
     "metadata": {},
     "output_type": "display_data"
    }
   ],
   "source": [
    "#Figure 6\n",
    "years_to_average_over = 10\n",
    "smoothed_data = data[[\"monocultural\", \"bicultural\", \"interracial\", \"multiracial\", \"multicultural\", \"mixed race\"]].rolling(window=years_to_average_over).mean()\n",
    "axis = smoothed_data.plot()\n",
    "fig = plt.gcf()\n",
    "fig.set_size_inches((12,6))\n",
    "_ = axis.legend(prop=fontP, loc=\"best\")"
   ]
  },
  {
   "cell_type": "code",
   "execution_count": null,
   "metadata": {
    "collapsed": true
   },
   "outputs": [],
   "source": []
  }
 ],
 "metadata": {
  "kernelspec": {
   "display_name": "Python 3",
   "language": "python",
   "name": "python3"
  },
  "language_info": {
   "codemirror_mode": {
    "name": "ipython",
    "version": 3
   },
   "file_extension": ".py",
   "mimetype": "text/x-python",
   "name": "python",
   "nbconvert_exporter": "python",
   "pygments_lexer": "ipython3",
   "version": "3.5.2"
  }
 },
 "nbformat": 4,
 "nbformat_minor": 0
}
