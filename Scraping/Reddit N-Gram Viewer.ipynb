{
 "cells": [
  {
   "cell_type": "code",
   "execution_count": 3,
   "metadata": {
    "collapsed": false
   },
   "outputs": [],
   "source": [
    "import numpy as np\n",
    "import pandas as pd\n",
    "import matplotlib.pyplot as plt\n",
    "import glob\n",
    "from os import path\n",
    "import itertools\n",
    "import requests\n",
    "from bs4 import BeautifulSoup\n",
    "from io import StringIO\n",
    "from matplotlib.font_manager import FontProperties"
   ]
  },
  {
   "cell_type": "code",
   "execution_count": 4,
   "metadata": {
    "collapsed": true
   },
   "outputs": [],
   "source": [
    "fontP = FontProperties()\n",
    "fontP.set_size('small')"
   ]
  },
  {
   "cell_type": "code",
   "execution_count": 5,
   "metadata": {
    "collapsed": true
   },
   "outputs": [],
   "source": [
    "%matplotlib inline"
   ]
  },
  {
   "cell_type": "code",
   "execution_count": 6,
   "metadata": {
    "collapsed": false,
    "scrolled": false
   },
   "outputs": [],
   "source": [
    "def get_word(word):\n",
    "    old_word = word\n",
    "    word = word.strip()\n",
    "    word = word.lower()\n",
    "    word = word.replace(\" \", \"_\")\n",
    "    first_four = \"/\".join(word[:5])\n",
    "    while True:\n",
    "        request = requests.get(\"https://projects.fivethirtyeight.com/reddit-data/{}/{}.csv\".format(first_four, word))\n",
    "        if request.status_code == requests.codes.NOT_FOUND:\n",
    "            print(\"Word: '{}' was not found.\".format(old_word))\n",
    "            return None\n",
    "\n",
    "        if request.status_code == requests.codes.ok:\n",
    "          return pd.read_csv(StringIO(request.text))\n",
    "        else:\n",
    "          print(\"We could not get the word '{}'\\nsleeping for 10s ...\".format(old_word))\n",
    "          sleep(10)\n",
    "\n",
    "def get_words(words):\n",
    "    frames = [get_word(words[0])]\n",
    "    for word in words[1:]:\n",
    "        df = get_word(word)\n",
    "        if df is not None:\n",
    "          frames.append(df.ngram_fraction)\n",
    "        else:\n",
    "            frames.append(df)\n",
    "    valid_words = []\n",
    "    valid_frames = []\n",
    "    for i, frame in enumerate(frames):\n",
    "        if frame is not None:\n",
    "            valid_words.append(words[i])\n",
    "            valid_frames.append(frames[i])\n",
    "    if not valid_frames:\n",
    "        print(\"None of the words requested were found.\")\n",
    "        return None\n",
    "    if len(valid_frames) > 1:\n",
    "      df = pd.concat(frames, axis=1)\n",
    "    else:\n",
    "      df = frames[0]\n",
    "    df.columns = [\"date\"] + [x.strip().replace(\" \", \"_\") for x in valid_words]\n",
    "    df.set_index(\"date\", inplace=True)\n",
    "    return df"
   ]
  },
  {
   "cell_type": "code",
   "execution_count": 7,
   "metadata": {
    "collapsed": false
   },
   "outputs": [
    {
     "data": {
      "text/html": [
       "<div>\n",
       "<table border=\"1\" class=\"dataframe\">\n",
       "  <thead>\n",
       "    <tr style=\"text-align: right;\">\n",
       "      <th></th>\n",
       "      <th>date</th>\n",
       "      <th>ngram_fraction</th>\n",
       "    </tr>\n",
       "  </thead>\n",
       "  <tbody>\n",
       "    <tr>\n",
       "      <th>2873</th>\n",
       "      <td>2015-08-27</td>\n",
       "      <td>0.000003</td>\n",
       "    </tr>\n",
       "    <tr>\n",
       "      <th>2874</th>\n",
       "      <td>2015-08-28</td>\n",
       "      <td>0.000002</td>\n",
       "    </tr>\n",
       "    <tr>\n",
       "      <th>2875</th>\n",
       "      <td>2015-08-29</td>\n",
       "      <td>0.000003</td>\n",
       "    </tr>\n",
       "    <tr>\n",
       "      <th>2876</th>\n",
       "      <td>2015-08-30</td>\n",
       "      <td>0.000003</td>\n",
       "    </tr>\n",
       "    <tr>\n",
       "      <th>2877</th>\n",
       "      <td>2015-08-31</td>\n",
       "      <td>0.000003</td>\n",
       "    </tr>\n",
       "  </tbody>\n",
       "</table>\n",
       "</div>"
      ],
      "text/plain": [
       "            date  ngram_fraction\n",
       "2873  2015-08-27        0.000003\n",
       "2874  2015-08-28        0.000002\n",
       "2875  2015-08-29        0.000003\n",
       "2876  2015-08-30        0.000003\n",
       "2877  2015-08-31        0.000003"
      ]
     },
     "execution_count": 7,
     "metadata": {},
     "output_type": "execute_result"
    }
   ],
   "source": [
    "data = get_word(\"African American\")\n",
    "data.tail()"
   ]
  },
  {
   "cell_type": "code",
   "execution_count": 8,
   "metadata": {
    "collapsed": false
   },
   "outputs": [
    {
     "data": {
      "text/html": [
       "<div>\n",
       "<table border=\"1\" class=\"dataframe\">\n",
       "  <thead>\n",
       "    <tr style=\"text-align: right;\">\n",
       "      <th></th>\n",
       "      <th>date</th>\n",
       "      <th>ngram_fraction</th>\n",
       "    </tr>\n",
       "  </thead>\n",
       "  <tbody>\n",
       "    <tr>\n",
       "      <th>2873</th>\n",
       "      <td>2015-08-27</td>\n",
       "      <td>0.000030</td>\n",
       "    </tr>\n",
       "    <tr>\n",
       "      <th>2874</th>\n",
       "      <td>2015-08-28</td>\n",
       "      <td>0.000031</td>\n",
       "    </tr>\n",
       "    <tr>\n",
       "      <th>2875</th>\n",
       "      <td>2015-08-29</td>\n",
       "      <td>0.000031</td>\n",
       "    </tr>\n",
       "    <tr>\n",
       "      <th>2876</th>\n",
       "      <td>2015-08-30</td>\n",
       "      <td>0.000030</td>\n",
       "    </tr>\n",
       "    <tr>\n",
       "      <th>2877</th>\n",
       "      <td>2015-08-31</td>\n",
       "      <td>0.000031</td>\n",
       "    </tr>\n",
       "  </tbody>\n",
       "</table>\n",
       "</div>"
      ],
      "text/plain": [
       "            date  ngram_fraction\n",
       "2873  2015-08-27        0.000030\n",
       "2874  2015-08-28        0.000031\n",
       "2875  2015-08-29        0.000031\n",
       "2876  2015-08-30        0.000030\n",
       "2877  2015-08-31        0.000031"
      ]
     },
     "execution_count": 8,
     "metadata": {},
     "output_type": "execute_result"
    }
   ],
   "source": [
    "data = get_word(\"meh\")\n",
    "data.tail()"
   ]
  },
  {
   "cell_type": "code",
   "execution_count": 9,
   "metadata": {
    "collapsed": false
   },
   "outputs": [
    {
     "name": "stdout",
     "output_type": "stream",
     "text": [
      "Word: 'mono-cultural' was not found.\n",
      "Word: 'mono cultural' was not found.\n",
      "Word: 'monoculturals' was not found.\n",
      "Word: 'bi racial' was not found.\n",
      "Word: 'biracials' was not found.\n",
      "Word: 'interracial, inter-racial' was not found.\n",
      "Word: 'inter racial' was not found.\n",
      "Word: 'interracials' was not found.\n",
      "Word: 'multi-racial' was not found.\n",
      "Word: 'multi racial' was not found.\n",
      "Word: 'multiracials' was not found.\n",
      "Word: 'multi ethnic' was not found.\n",
      "Word: 'multiethnics' was not found.\n",
      "Word: 'multi cultural' was not found.\n",
      "Word: 'multiculturals' was not found.\n",
      "Word: 'multi culturalism' was not found.\n",
      "Word: 'multiculturalisms' was not found.\n"
     ]
    }
   ],
   "source": [
    "data = get_words([\"monocultural\", \"mono-cultural\", \"mono cultural\", \"monoculturals\", \n",
    "                  \"biracial\", \"bi-racial\", \"bi racial\", \"biracials\", \n",
    "                 \"interracial, inter-racial\", \"inter racial\", \"interracials\", \n",
    "                 \"multiracial\", \"multi-racial\", \"multi racial\", \"multiracials\", \n",
    "                 \"multiethnic\", \"multi-ethnic\", \"multi ethnic\", \"multiethnics\", \n",
    "                 \"multicultural\", \"multi-cultural\", \"multi cultural\", \"multiculturals\", \n",
    "                 \"multiculturalism\", \"multi-culturalism\", \"multi culturalism\", \"multiculturalisms\"])"
   ]
  },
  {
   "cell_type": "code",
   "execution_count": 10,
   "metadata": {
    "collapsed": false
   },
   "outputs": [],
   "source": [
    "data = get_words([\"monocultural\",\n",
    "                  \"biracial\", \"bi-racial\",\n",
    "                 \"multiracial\",\n",
    "                 \"multiethnic\", \"multi-ethnic\",\n",
    "                 \"multicultural\", \"multi-cultural\",\n",
    "                 \"multiculturalism\", \"multi-culturalism\"])"
   ]
  },
  {
   "cell_type": "code",
   "execution_count": 13,
   "metadata": {
    "collapsed": true
   },
   "outputs": [],
   "source": [
    "data[\"combiracial\"] = data[\"biracial\"] + data[\"bi-racial\"]"
   ]
  },
  {
   "cell_type": "code",
   "execution_count": 14,
   "metadata": {
    "collapsed": true
   },
   "outputs": [],
   "source": [
    "data[\"commultiethnic\"] = data[\"multiethnic\"] + data[\"multi-ethnic\"]"
   ]
  },
  {
   "cell_type": "code",
   "execution_count": 15,
   "metadata": {
    "collapsed": true
   },
   "outputs": [],
   "source": [
    "data[\"commulticultural\"] = data[\"multicultural\"] + data[\"multi-cultural\"]"
   ]
  },
  {
   "cell_type": "code",
   "execution_count": 16,
   "metadata": {
    "collapsed": true
   },
   "outputs": [],
   "source": [
    "data[\"commulticulturalism\"] = data[\"multiculturalism\"] + data[\"multi-culturalism\"]"
   ]
  },
  {
   "cell_type": "code",
   "execution_count": 12,
   "metadata": {
    "collapsed": false
   },
   "outputs": [
    {
     "ename": "AttributeError",
     "evalue": "'DataFrame' object has no attribute 'rolling'",
     "output_type": "error",
     "traceback": [
      "\u001b[0;31m---------------------------------------------------------------------------\u001b[0m",
      "\u001b[0;31mAttributeError\u001b[0m                            Traceback (most recent call last)",
      "\u001b[0;32m<ipython-input-12-ab0f130bd95d>\u001b[0m in \u001b[0;36m<module>\u001b[0;34m()\u001b[0m\n\u001b[1;32m      1\u001b[0m \u001b[0mdays_to_average_over\u001b[0m \u001b[0;34m=\u001b[0m \u001b[0;36m90\u001b[0m\u001b[0;34m\u001b[0m\u001b[0m\n\u001b[0;32m----> 2\u001b[0;31m \u001b[0msmoothed_data\u001b[0m \u001b[0;34m=\u001b[0m \u001b[0mdata\u001b[0m\u001b[0;34m.\u001b[0m\u001b[0mrolling\u001b[0m\u001b[0;34m(\u001b[0m\u001b[0mwindow\u001b[0m\u001b[0;34m=\u001b[0m\u001b[0mdays_to_average_over\u001b[0m\u001b[0;34m)\u001b[0m\u001b[0;34m.\u001b[0m\u001b[0mmean\u001b[0m\u001b[0;34m(\u001b[0m\u001b[0;34m)\u001b[0m\u001b[0;34m\u001b[0m\u001b[0m\n\u001b[0m\u001b[1;32m      3\u001b[0m \u001b[0maxis\u001b[0m \u001b[0;34m=\u001b[0m \u001b[0msmoothed_data\u001b[0m\u001b[0;34m.\u001b[0m\u001b[0mplot\u001b[0m\u001b[0;34m(\u001b[0m\u001b[0;34m)\u001b[0m\u001b[0;34m\u001b[0m\u001b[0m\n\u001b[1;32m      4\u001b[0m \u001b[0mfig\u001b[0m \u001b[0;34m=\u001b[0m \u001b[0mplt\u001b[0m\u001b[0;34m.\u001b[0m\u001b[0mgcf\u001b[0m\u001b[0;34m(\u001b[0m\u001b[0;34m)\u001b[0m\u001b[0;34m\u001b[0m\u001b[0m\n\u001b[1;32m      5\u001b[0m \u001b[0mfig\u001b[0m\u001b[0;34m.\u001b[0m\u001b[0mset_size_inches\u001b[0m\u001b[0;34m(\u001b[0m\u001b[0;34m(\u001b[0m\u001b[0;36m12\u001b[0m\u001b[0;34m,\u001b[0m\u001b[0;36m6\u001b[0m\u001b[0;34m)\u001b[0m\u001b[0;34m)\u001b[0m\u001b[0;34m\u001b[0m\u001b[0m\n",
      "\u001b[0;32m//anaconda/lib/python3.5/site-packages/pandas/core/generic.py\u001b[0m in \u001b[0;36m__getattr__\u001b[0;34m(self, name)\u001b[0m\n\u001b[1;32m   2244\u001b[0m                 \u001b[0;32mreturn\u001b[0m \u001b[0mself\u001b[0m\u001b[0;34m[\u001b[0m\u001b[0mname\u001b[0m\u001b[0;34m]\u001b[0m\u001b[0;34m\u001b[0m\u001b[0m\n\u001b[1;32m   2245\u001b[0m             raise AttributeError(\"'%s' object has no attribute '%s'\" %\n\u001b[0;32m-> 2246\u001b[0;31m                                  (type(self).__name__, name))\n\u001b[0m\u001b[1;32m   2247\u001b[0m \u001b[0;34m\u001b[0m\u001b[0m\n\u001b[1;32m   2248\u001b[0m     \u001b[0;32mdef\u001b[0m \u001b[0m__setattr__\u001b[0m\u001b[0;34m(\u001b[0m\u001b[0mself\u001b[0m\u001b[0;34m,\u001b[0m \u001b[0mname\u001b[0m\u001b[0;34m,\u001b[0m \u001b[0mvalue\u001b[0m\u001b[0;34m)\u001b[0m\u001b[0;34m:\u001b[0m\u001b[0;34m\u001b[0m\u001b[0m\n",
      "\u001b[0;31mAttributeError\u001b[0m: 'DataFrame' object has no attribute 'rolling'"
     ]
    }
   ],
   "source": [
    "days_to_average_over = 90\n",
    "smoothed_data = data.rolling(window=days_to_average_over).mean()\n",
    "axis = smoothed_data.plot()\n",
    "fig = plt.gcf()\n",
    "fig.set_size_inches((12,6))\n",
    "_ = axis.legend(prop=fontP, loc=\"best\")"
   ]
  },
  {
   "cell_type": "code",
   "execution_count": null,
   "metadata": {
    "collapsed": true
   },
   "outputs": [],
   "source": []
  }
 ],
 "metadata": {
  "kernelspec": {
   "display_name": "Python 3",
   "language": "python",
   "name": "python3"
  },
  "language_info": {
   "codemirror_mode": {
    "name": "ipython",
    "version": 3
   },
   "file_extension": ".py",
   "mimetype": "text/x-python",
   "name": "python",
   "nbconvert_exporter": "python",
   "pygments_lexer": "ipython3",
   "version": "3.5.2"
  }
 },
 "nbformat": 4,
 "nbformat_minor": 0
}
