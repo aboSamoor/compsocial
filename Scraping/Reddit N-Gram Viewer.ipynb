{
 "cells": [
  {
   "cell_type": "code",
   "execution_count": 3,
   "metadata": {
    "collapsed": false
   },
   "outputs": [],
   "source": [
    "import numpy as np\n",
    "import pandas as pd\n",
    "import matplotlib.pyplot as plt\n",
    "import glob\n",
    "from os import path\n",
    "import itertools\n",
    "import requests\n",
    "from bs4 import BeautifulSoup\n",
    "from io import StringIO\n",
    "from matplotlib.ticker import ScalarFormatter, LogFormatter, LogFormatterExponent, LogFormatterMathtext"
   ]
  },
  {
   "cell_type": "code",
   "execution_count": 49,
   "metadata": {
    "collapsed": true
   },
   "outputs": [],
   "source": [
    "%matplotlib inline"
   ]
  },
  {
   "cell_type": "code",
   "execution_count": 44,
   "metadata": {
    "collapsed": false,
    "scrolled": false
   },
   "outputs": [],
   "source": [
    "def get_word(word):\n",
    "    old_word = word\n",
    "    word = word.strip()\n",
    "    word = word.lower()\n",
    "    word = word.replace(\" \", \"_\")\n",
    "    first_four = \"/\".join(word[:5])\n",
    "    while True:\n",
    "        request = requests.get(\"https://projects.fivethirtyeight.com/reddit-data/{}/{}.csv\".format(first_four, word))\n",
    "        if request.status_code == requests.codes.NOT_FOUND:\n",
    "            print(\"Word: '{}' was not found.\".format(old_word))\n",
    "            return None\n",
    "\n",
    "        if request.status_code == requests.codes.ok:\n",
    "          return pd.read_csv(StringIO(request.text))\n",
    "        else:\n",
    "          print(\"We could not get the word '{}'\\nsleeping for 10s ...\".format(old_word))\n",
    "          sleep(10)\n",
    "\n",
    "def get_words(words):\n",
    "    frames = [get_word(words[0])]\n",
    "    for word in words[1:]:\n",
    "        df = get_word(word)\n",
    "        if df is not None:\n",
    "          frames.append(df.ngram_fraction)\n",
    "        else:\n",
    "            frames.append(df)\n",
    "    valid_words = []\n",
    "    valid_frames = []\n",
    "    for i, frame in enumerate(frames):\n",
    "        if frame is not None:\n",
    "            valid_words.append(words[i])\n",
    "            valid_frames.append(frames[i])\n",
    "    if not valid_frames:\n",
    "        print(\"None of the words requested were found.\")\n",
    "        return None\n",
    "    if len(valid_frames) > 1:\n",
    "      df = pd.concat(frames, axis=1)\n",
    "    else:\n",
    "      df = frames[0]\n",
    "    df.columns = [\"date\"] + [x.strip().replace(\" \", \"_\") for x in valid_words]\n",
    "    df.set_index(\"date\", inplace=True)\n",
    "    return df"
   ]
  },
  {
   "cell_type": "code",
   "execution_count": null,
   "metadata": {
    "collapsed": true
   },
   "outputs": [],
   "source": [
    "data.set_index()"
   ]
  },
  {
   "cell_type": "code",
   "execution_count": 26,
   "metadata": {
    "collapsed": false
   },
   "outputs": [
    {
     "data": {
      "text/html": [
       "<div>\n",
       "<table border=\"1\" class=\"dataframe\">\n",
       "  <thead>\n",
       "    <tr style=\"text-align: right;\">\n",
       "      <th></th>\n",
       "      <th>date</th>\n",
       "      <th>ngram_fraction</th>\n",
       "    </tr>\n",
       "  </thead>\n",
       "  <tbody>\n",
       "    <tr>\n",
       "      <th>2873</th>\n",
       "      <td>2015-08-27</td>\n",
       "      <td>0.000003</td>\n",
       "    </tr>\n",
       "    <tr>\n",
       "      <th>2874</th>\n",
       "      <td>2015-08-28</td>\n",
       "      <td>0.000002</td>\n",
       "    </tr>\n",
       "    <tr>\n",
       "      <th>2875</th>\n",
       "      <td>2015-08-29</td>\n",
       "      <td>0.000003</td>\n",
       "    </tr>\n",
       "    <tr>\n",
       "      <th>2876</th>\n",
       "      <td>2015-08-30</td>\n",
       "      <td>0.000003</td>\n",
       "    </tr>\n",
       "    <tr>\n",
       "      <th>2877</th>\n",
       "      <td>2015-08-31</td>\n",
       "      <td>0.000003</td>\n",
       "    </tr>\n",
       "  </tbody>\n",
       "</table>\n",
       "</div>"
      ],
      "text/plain": [
       "            date  ngram_fraction\n",
       "2873  2015-08-27        0.000003\n",
       "2874  2015-08-28        0.000002\n",
       "2875  2015-08-29        0.000003\n",
       "2876  2015-08-30        0.000003\n",
       "2877  2015-08-31        0.000003"
      ]
     },
     "execution_count": 26,
     "metadata": {},
     "output_type": "execute_result"
    }
   ],
   "source": [
    "data = get_word(\"African American\")\n",
    "data.tail()"
   ]
  },
  {
   "cell_type": "code",
   "execution_count": 27,
   "metadata": {
    "collapsed": false
   },
   "outputs": [
    {
     "data": {
      "text/html": [
       "<div>\n",
       "<table border=\"1\" class=\"dataframe\">\n",
       "  <thead>\n",
       "    <tr style=\"text-align: right;\">\n",
       "      <th></th>\n",
       "      <th>date</th>\n",
       "      <th>ngram_fraction</th>\n",
       "    </tr>\n",
       "  </thead>\n",
       "  <tbody>\n",
       "    <tr>\n",
       "      <th>2873</th>\n",
       "      <td>2015-08-27</td>\n",
       "      <td>0.000030</td>\n",
       "    </tr>\n",
       "    <tr>\n",
       "      <th>2874</th>\n",
       "      <td>2015-08-28</td>\n",
       "      <td>0.000031</td>\n",
       "    </tr>\n",
       "    <tr>\n",
       "      <th>2875</th>\n",
       "      <td>2015-08-29</td>\n",
       "      <td>0.000031</td>\n",
       "    </tr>\n",
       "    <tr>\n",
       "      <th>2876</th>\n",
       "      <td>2015-08-30</td>\n",
       "      <td>0.000030</td>\n",
       "    </tr>\n",
       "    <tr>\n",
       "      <th>2877</th>\n",
       "      <td>2015-08-31</td>\n",
       "      <td>0.000031</td>\n",
       "    </tr>\n",
       "  </tbody>\n",
       "</table>\n",
       "</div>"
      ],
      "text/plain": [
       "            date  ngram_fraction\n",
       "2873  2015-08-27        0.000030\n",
       "2874  2015-08-28        0.000031\n",
       "2875  2015-08-29        0.000031\n",
       "2876  2015-08-30        0.000030\n",
       "2877  2015-08-31        0.000031"
      ]
     },
     "execution_count": 27,
     "metadata": {},
     "output_type": "execute_result"
    }
   ],
   "source": [
    "data = get_word(\"meh\")\n",
    "data.tail()"
   ]
  },
  {
   "cell_type": "code",
   "execution_count": 46,
   "metadata": {
    "collapsed": false
   },
   "outputs": [
    {
     "name": "stdout",
     "output_type": "stream",
     "text": [
      "Word: 'monoculturals' was not found.\n",
      "Word: 'mono cultural' was not found.\n",
      "Word: 'mono-cultural' was not found.\n"
     ]
    }
   ],
   "source": [
    "data = get_words([\"monocultural\", \"monoculturals\", \"mono cultural\", \"mono-cultural\"])"
   ]
  },
  {
   "cell_type": "code",
   "execution_count": 50,
   "metadata": {
    "collapsed": false
   },
   "outputs": [
    {
     "data": {
      "image/png": "[encoded data removed]",
      "text/plain": [
       "<matplotlib.figure.Figure at 0x7fc4b29b4320>"
      ]
     },
     "metadata": {},
     "output_type": "display_data"
    }
   ],
   "source": [
    "_ = data.plot()"
   ]
  }
 ],
 "metadata": {
  "kernelspec": {
   "display_name": "Python 3",
   "language": "python",
   "name": "python3"
  },
  "language_info": {
   "codemirror_mode": {
    "name": "ipython",
    "version": 3
   },
   "file_extension": ".py",
   "mimetype": "text/x-python",
   "name": "python",
   "nbconvert_exporter": "python",
   "pygments_lexer": "ipython3",
   "version": "3.4.3"
  }
 },
 "nbformat": 4,
 "nbformat_minor": 0
}
