{
 "cells": [
  {
   "cell_type": "code",
   "execution_count": 1,
   "metadata": {
    "collapsed": false
   },
   "outputs": [],
   "source": [
    "import numpy as np\n",
    "import pandas as pd"
   ]
  },
  {
   "cell_type": "code",
   "execution_count": 2,
   "metadata": {
    "collapsed": false
   },
   "outputs": [],
   "source": [
    "df = pd.read_csv('/home/rmyeid/notebooks/compsocial/online_learning/data/HMXPC13_DI_v2_5-14-14.csv')"
   ]
  },
  {
   "cell_type": "code",
   "execution_count": 3,
   "metadata": {
    "collapsed": false
   },
   "outputs": [
    {
     "data": {
      "text/html": [
       "<div style=\"max-height:1000px;max-width:1500px;overflow:auto;\">\n",
       "<table border=\"1\" class=\"dataframe\">\n",
       "  <thead>\n",
       "    <tr style=\"text-align: right;\">\n",
       "      <th></th>\n",
       "      <th>course_id</th>\n",
       "      <th>userid_DI</th>\n",
       "      <th>registered</th>\n",
       "      <th>viewed</th>\n",
       "      <th>explored</th>\n",
       "      <th>certified</th>\n",
       "      <th>final_cc_cname_DI</th>\n",
       "      <th>LoE_DI</th>\n",
       "      <th>YoB</th>\n",
       "      <th>gender</th>\n",
       "      <th>grade</th>\n",
       "      <th>start_time_DI</th>\n",
       "      <th>last_event_DI</th>\n",
       "      <th>nevents</th>\n",
       "      <th>ndays_act</th>\n",
       "      <th>nplay_video</th>\n",
       "      <th>nchapters</th>\n",
       "      <th>nforum_posts</th>\n",
       "      <th>roles</th>\n",
       "      <th>incomplete_flag</th>\n",
       "    </tr>\n",
       "  </thead>\n",
       "  <tbody>\n",
       "    <tr>\n",
       "      <th>0</th>\n",
       "      <td>HarvardX/CB22x/2013_Spring</td>\n",
       "      <td>MHxPC130442623</td>\n",
       "      <td>1</td>\n",
       "      <td>0</td>\n",
       "      <td>0</td>\n",
       "      <td>0</td>\n",
       "      <td>United States</td>\n",
       "      <td>NaN</td>\n",
       "      <td>NaN</td>\n",
       "      <td>NaN</td>\n",
       "      <td>0</td>\n",
       "      <td>2012-12-19</td>\n",
       "      <td>2013-11-17</td>\n",
       "      <td>NaN</td>\n",
       "      <td>9</td>\n",
       "      <td>NaN</td>\n",
       "      <td>NaN</td>\n",
       "      <td>0</td>\n",
       "      <td>NaN</td>\n",
       "      <td>1</td>\n",
       "    </tr>\n",
       "    <tr>\n",
       "      <th>1</th>\n",
       "      <td>HarvardX/CS50x/2012</td>\n",
       "      <td>MHxPC130442623</td>\n",
       "      <td>1</td>\n",
       "      <td>1</td>\n",
       "      <td>0</td>\n",
       "      <td>0</td>\n",
       "      <td>United States</td>\n",
       "      <td>NaN</td>\n",
       "      <td>NaN</td>\n",
       "      <td>NaN</td>\n",
       "      <td>0</td>\n",
       "      <td>2012-10-15</td>\n",
       "      <td>NaN</td>\n",
       "      <td>NaN</td>\n",
       "      <td>9</td>\n",
       "      <td>NaN</td>\n",
       "      <td>1</td>\n",
       "      <td>0</td>\n",
       "      <td>NaN</td>\n",
       "      <td>1</td>\n",
       "    </tr>\n",
       "    <tr>\n",
       "      <th>2</th>\n",
       "      <td>HarvardX/CB22x/2013_Spring</td>\n",
       "      <td>MHxPC130275857</td>\n",
       "      <td>1</td>\n",
       "      <td>0</td>\n",
       "      <td>0</td>\n",
       "      <td>0</td>\n",
       "      <td>United States</td>\n",
       "      <td>NaN</td>\n",
       "      <td>NaN</td>\n",
       "      <td>NaN</td>\n",
       "      <td>0</td>\n",
       "      <td>2013-02-08</td>\n",
       "      <td>2013-11-17</td>\n",
       "      <td>NaN</td>\n",
       "      <td>16</td>\n",
       "      <td>NaN</td>\n",
       "      <td>NaN</td>\n",
       "      <td>0</td>\n",
       "      <td>NaN</td>\n",
       "      <td>1</td>\n",
       "    </tr>\n",
       "    <tr>\n",
       "      <th>3</th>\n",
       "      <td>HarvardX/CS50x/2012</td>\n",
       "      <td>MHxPC130275857</td>\n",
       "      <td>1</td>\n",
       "      <td>0</td>\n",
       "      <td>0</td>\n",
       "      <td>0</td>\n",
       "      <td>United States</td>\n",
       "      <td>NaN</td>\n",
       "      <td>NaN</td>\n",
       "      <td>NaN</td>\n",
       "      <td>0</td>\n",
       "      <td>2012-09-17</td>\n",
       "      <td>NaN</td>\n",
       "      <td>NaN</td>\n",
       "      <td>16</td>\n",
       "      <td>NaN</td>\n",
       "      <td>NaN</td>\n",
       "      <td>0</td>\n",
       "      <td>NaN</td>\n",
       "      <td>1</td>\n",
       "    </tr>\n",
       "    <tr>\n",
       "      <th>4</th>\n",
       "      <td>HarvardX/ER22x/2013_Spring</td>\n",
       "      <td>MHxPC130275857</td>\n",
       "      <td>1</td>\n",
       "      <td>0</td>\n",
       "      <td>0</td>\n",
       "      <td>0</td>\n",
       "      <td>United States</td>\n",
       "      <td>NaN</td>\n",
       "      <td>NaN</td>\n",
       "      <td>NaN</td>\n",
       "      <td>0</td>\n",
       "      <td>2012-12-19</td>\n",
       "      <td>NaN</td>\n",
       "      <td>NaN</td>\n",
       "      <td>16</td>\n",
       "      <td>NaN</td>\n",
       "      <td>NaN</td>\n",
       "      <td>0</td>\n",
       "      <td>NaN</td>\n",
       "      <td>1</td>\n",
       "    </tr>\n",
       "  </tbody>\n",
       "</table>\n",
       "</div>"
      ],
      "text/plain": [
       "                    course_id       userid_DI  registered  viewed  explored  \\\n",
       "0  HarvardX/CB22x/2013_Spring  MHxPC130442623           1       0         0   \n",
       "1         HarvardX/CS50x/2012  MHxPC130442623           1       1         0   \n",
       "2  HarvardX/CB22x/2013_Spring  MHxPC130275857           1       0         0   \n",
       "3         HarvardX/CS50x/2012  MHxPC130275857           1       0         0   \n",
       "4  HarvardX/ER22x/2013_Spring  MHxPC130275857           1       0         0   \n",
       "\n",
       "   certified final_cc_cname_DI LoE_DI  YoB gender grade start_time_DI  \\\n",
       "0          0     United States    NaN  NaN    NaN     0    2012-12-19   \n",
       "1          0     United States    NaN  NaN    NaN     0    2012-10-15   \n",
       "2          0     United States    NaN  NaN    NaN     0    2013-02-08   \n",
       "3          0     United States    NaN  NaN    NaN     0    2012-09-17   \n",
       "4          0     United States    NaN  NaN    NaN     0    2012-12-19   \n",
       "\n",
       "  last_event_DI  nevents  ndays_act  nplay_video  nchapters  nforum_posts  \\\n",
       "0    2013-11-17      NaN          9          NaN        NaN             0   \n",
       "1           NaN      NaN          9          NaN          1             0   \n",
       "2    2013-11-17      NaN         16          NaN        NaN             0   \n",
       "3           NaN      NaN         16          NaN        NaN             0   \n",
       "4           NaN      NaN         16          NaN        NaN             0   \n",
       "\n",
       "   roles  incomplete_flag  \n",
       "0    NaN                1  \n",
       "1    NaN                1  \n",
       "2    NaN                1  \n",
       "3    NaN                1  \n",
       "4    NaN                1  "
      ]
     },
     "execution_count": 3,
     "metadata": {},
     "output_type": "execute_result"
    }
   ],
   "source": [
    "df.head()"
   ]
  },
  {
   "cell_type": "markdown",
   "metadata": {},
   "source": [
    "## Engagement"
   ]
  },
  {
   "cell_type": "code",
   "execution_count": 4,
   "metadata": {
    "collapsed": false
   },
   "outputs": [],
   "source": [
    "df[\"engagement\"] = df.registered\n",
    "df.loc[df.registered == 1, \"engagement\"] =  2.0\n",
    "df.loc[df.viewed == 1, \"engagement\"] =  1.0\n",
    "df.loc[df.explored == 1, \"engagement\"] = 3.0\n",
    "df.loc[df.certified == 1, \"engagement\"] = 4.0"
   ]
  },
  {
   "cell_type": "code",
   "execution_count": 5,
   "metadata": {
    "collapsed": false
   },
   "outputs": [],
   "source": [
    "import matplotlib.pyplot as plt\n",
    "%matplotlib inline"
   ]
  },
  {
   "cell_type": "markdown",
   "metadata": {},
   "source": [
    "## Material Engagement"
   ]
  },
  {
   "cell_type": "code",
   "execution_count": 6,
   "metadata": {
    "collapsed": false
   },
   "outputs": [],
   "source": [
    "df.nchapters.fillna(0, inplace=True)\n",
    "df.nplay_video.fillna(0, inplace=True)\n",
    "df.loc[df.nchapters.values > 20, \"nchapters\"] = 20\n",
    "df.loc[df.nplay_video > 200, \"nplay_video\"] = 200"
   ]
  },
  {
   "cell_type": "code",
   "execution_count": 7,
   "metadata": {
    "collapsed": false
   },
   "outputs": [],
   "source": [
    "df[\"course_material_engagement\"] = df.nchapters + df.nplay_video\n",
    "df.loc[df.course_material_engagement < 0, \"course_material_engagement\"] = 0"
   ]
  },
  {
   "cell_type": "markdown",
   "metadata": {},
   "source": [
    "## Grade"
   ]
  },
  {
   "cell_type": "code",
   "execution_count": 8,
   "metadata": {
    "collapsed": false
   },
   "outputs": [],
   "source": [
    "df.grade.fillna(0, inplace=True)\n",
    "if \" \" in df.grade.values:\n",
    "  df.loc[df.grade == \" \", \"grade\"] = 0\n",
    "df.grade = df.grade.values.astype(np.float) * 100 \n",
    "df.loc[df.grade > 100, \"grade\"] = 100"
   ]
  },
  {
   "cell_type": "markdown",
   "metadata": {},
   "source": [
    "### Load Course Information"
   ]
  },
  {
   "cell_type": "code",
   "execution_count": 9,
   "metadata": {
    "collapsed": false
   },
   "outputs": [],
   "source": [
    "df[\"course_category\"] = pd.Series(np.random.randn(len(df.index)), index=df.index)"
   ]
  },
  {
   "cell_type": "code",
   "execution_count": 10,
   "metadata": {
    "collapsed": false
   },
   "outputs": [],
   "source": [
    "from StringIO import StringIO  # got moved to io in python3.\n",
    "import requests"
   ]
  },
  {
   "cell_type": "code",
   "execution_count": 11,
   "metadata": {
    "collapsed": false
   },
   "outputs": [],
   "source": [
    "r = requests.get('https://docs.google.com/spreadsheets/d/1lXgYlyLlMZs8huZKpymfu7LUhw0dGcRcFzmwtbICNtY/export?format=csv&id=1lXgYlyLlMZs8huZKpymfu7LUhw0dGcRcFzmwtbICNtY')\n",
    "courses_data = r.content"
   ]
  },
  {
   "cell_type": "code",
   "execution_count": 12,
   "metadata": {
    "collapsed": false
   },
   "outputs": [
    {
     "data": {
      "text/html": [
       "<div style=\"max-height:1000px;max-width:1500px;overflow:auto;\">\n",
       "<table border=\"1\" class=\"dataframe\">\n",
       "  <thead>\n",
       "    <tr style=\"text-align: right;\">\n",
       "      <th></th>\n",
       "      <th>Course Title</th>\n",
       "      <th>Category</th>\n",
       "      <th>STEM_Cat</th>\n",
       "      <th>Weeks</th>\n",
       "      <th>Days</th>\n",
       "    </tr>\n",
       "    <tr>\n",
       "      <th>Course</th>\n",
       "      <th></th>\n",
       "      <th></th>\n",
       "      <th></th>\n",
       "      <th></th>\n",
       "      <th></th>\n",
       "    </tr>\n",
       "  </thead>\n",
       "  <tbody>\n",
       "    <tr>\n",
       "      <th>MITx/3.091x/2012_Fall</th>\n",
       "      <td>Introduction to Solid State Chemistry</td>\n",
       "      <td>STEM</td>\n",
       "      <td>STEM</td>\n",
       "      <td>16</td>\n",
       "      <td>112</td>\n",
       "    </tr>\n",
       "    <tr>\n",
       "      <th>MITx/6.002x/2013_Spring</th>\n",
       "      <td>Circuits and Electronics</td>\n",
       "      <td>STEM</td>\n",
       "      <td>STEM</td>\n",
       "      <td>16</td>\n",
       "      <td>112</td>\n",
       "    </tr>\n",
       "    <tr>\n",
       "      <th>MITx/8.MReV/2013_Summer</th>\n",
       "      <td>Mechanics Review</td>\n",
       "      <td>STEM</td>\n",
       "      <td>STEM</td>\n",
       "      <td>15</td>\n",
       "      <td>105</td>\n",
       "    </tr>\n",
       "    <tr>\n",
       "      <th>MITx/6.00x/2012_Fall</th>\n",
       "      <td>Introduction to Computer Science and Programming</td>\n",
       "      <td>STEM</td>\n",
       "      <td>STEM</td>\n",
       "      <td>8</td>\n",
       "      <td>56</td>\n",
       "    </tr>\n",
       "    <tr>\n",
       "      <th>MITx/6.002x/2012_Fall</th>\n",
       "      <td>Circuits and Electronics</td>\n",
       "      <td>STEM</td>\n",
       "      <td>STEM</td>\n",
       "      <td>16</td>\n",
       "      <td>112</td>\n",
       "    </tr>\n",
       "  </tbody>\n",
       "</table>\n",
       "</div>"
      ],
      "text/plain": [
       "                                                             Course Title  \\\n",
       "Course                                                                      \n",
       "MITx/3.091x/2012_Fall               Introduction to Solid State Chemistry   \n",
       "MITx/6.002x/2013_Spring                          Circuits and Electronics   \n",
       "MITx/8.MReV/2013_Summer                                  Mechanics Review   \n",
       "MITx/6.00x/2012_Fall     Introduction to Computer Science and Programming   \n",
       "MITx/6.002x/2012_Fall                            Circuits and Electronics   \n",
       "\n",
       "                        Category STEM_Cat  Weeks  Days  \n",
       "Course                                                  \n",
       "MITx/3.091x/2012_Fall       STEM     STEM     16   112  \n",
       "MITx/6.002x/2013_Spring     STEM     STEM     16   112  \n",
       "MITx/8.MReV/2013_Summer     STEM     STEM     15   105  \n",
       "MITx/6.00x/2012_Fall        STEM     STEM      8    56  \n",
       "MITx/6.002x/2012_Fall       STEM     STEM     16   112  "
      ]
     },
     "execution_count": 12,
     "metadata": {},
     "output_type": "execute_result"
    }
   ],
   "source": [
    "courses_df = pd.read_csv(StringIO(courses_data), index_col=0)\n",
    "courses_df.head()"
   ]
  },
  {
   "cell_type": "markdown",
   "metadata": {},
   "source": [
    "## Course Category"
   ]
  },
  {
   "cell_type": "code",
   "execution_count": 13,
   "metadata": {
    "collapsed": false
   },
   "outputs": [],
   "source": [
    "STEM_courses = [\"MITx/3.091x/2012_Fall\", \"MITx/6.002x/2013_Spring\", \"MITx/8.MReV/2013_Summer\", \n",
    "                \"MITx/6.00x/2012_Fall\", \"MITx/6.002x/2012_Fall\", \"MITx/6.00x/2013_Spring\", \n",
    "                \"MITx/7.00x/2013_Spring\", \"MITx/3.091x/2013_Spring\", \"MITx/2.01x/2013_Spring\", \n",
    "                \"HarvardX/CS50x/2012\", \"HarvardX/PH207x/2012_Fall\", \"MITx/8.02x/2013_Spring\"]\n",
    "Non_STEM_courses = [\"MITx/14.73x/2013_Spring\", \"HarvardX/PH278x/2013_Spring\", \"HarvardX/CB22x/2013_Spring\",\n",
    "                    \"HarvardX/ER22x/2013_Spring\"] \n",
    "df.loc[df.course_id.isin(STEM_courses), \"course_category\"] = 1\n",
    "df.loc[df.course_id.isin(Non_STEM_courses), \"course_category\"] = 0"
   ]
  },
  {
   "cell_type": "markdown",
   "metadata": {},
   "source": [
    "## University"
   ]
  },
  {
   "cell_type": "code",
   "execution_count": 14,
   "metadata": {
    "collapsed": false
   },
   "outputs": [],
   "source": [
    "df[\"university\"] = 0"
   ]
  },
  {
   "cell_type": "code",
   "execution_count": 15,
   "metadata": {
    "collapsed": false
   },
   "outputs": [],
   "source": [
    "MIT = [\"MITx/3.091x/2012_Fall\", \"MITx/6.002x/2013_Spring\", \"MITx/8.MReV/2013_Summer\", \n",
    "       \"MITx/6.00x/2012_Fall\", \"MITx/6.002x/2012_Fall\", \"MITx/6.00x/2013_Spring\", \n",
    "       \"MITx/7.00x/2013_Spring\", \"MITx/3.091x/2013_Spring\", \"MITx/2.01x/2013_Spring\", \n",
    "       \"MITx/8.02x/2013_Spring\", \"MITx/14.73x/2013_Spring\"]\n",
    "\n",
    "Harvard = [\"HarvardX/CS50x/2012\", \"HarvardX/PH207x/2012_Fall\", \"HarvardX/PH278x/2013_Spring\", \n",
    "           \"HarvardX/CB22x/2013_Spring\", \"HarvardX/ER22x/2013_Spring\"]\n",
    "\n",
    "df.loc[df.course_id.isin(MIT), \"university\"] = 1\n",
    "df.loc[df.course_id.isin(Harvard), \"university\"] = 0"
   ]
  },
  {
   "cell_type": "markdown",
   "metadata": {},
   "source": [
    "## Days Ratio"
   ]
  },
  {
   "cell_type": "code",
   "execution_count": 16,
   "metadata": {
    "collapsed": false
   },
   "outputs": [],
   "source": [
    "df[\"days_ratio\"] = 0.0\n",
    "for course_id_, span in zip(courses_df.index, courses_df.Days.values):\n",
    "  df.loc[df.course_id == course_id_, \"days_ratio\"] = (df.ndays_act.values / span) * 100"
   ]
  },
  {
   "cell_type": "code",
   "execution_count": 17,
   "metadata": {
    "collapsed": false
   },
   "outputs": [],
   "source": [
    "df.loc[df.days_ratio>100, \"days_ratio\"] = 100"
   ]
  },
  {
   "cell_type": "markdown",
   "metadata": {},
   "source": [
    "## Age, Gender, $\\&$ Education"
   ]
  },
  {
   "cell_type": "code",
   "execution_count": 18,
   "metadata": {
    "collapsed": false
   },
   "outputs": [],
   "source": [
    "df[\"age\"] = 2014 - df.YoB"
   ]
  },
  {
   "cell_type": "code",
   "execution_count": 19,
   "metadata": {
    "collapsed": false
   },
   "outputs": [],
   "source": [
    "df[\"gender2\"] = df.gender.map({\"o\": np.nan, \"f\": 1, \"m\": 0})"
   ]
  },
  {
   "cell_type": "code",
   "execution_count": 20,
   "metadata": {
    "collapsed": false
   },
   "outputs": [],
   "source": [
    "df[\"Education\"] = df.LoE_DI.map({\"Less than Secondary\": 1, \"Secondary\": 2, \"Bachelor's\": 3, \"Master's\":4, \"Doctorate\":5})"
   ]
  },
  {
   "cell_type": "code",
   "execution_count": 21,
   "metadata": {
    "collapsed": false
   },
   "outputs": [
    {
     "name": "stderr",
     "output_type": "stream",
     "text": [
      "/usr/local/lib/python2.7/dist-packages/matplotlib/font_manager.py:1282: UserWarning: findfont: Font family [u'monospace'] not found. Falling back to Bitstream Vera Sans\n",
      "  (prop.get_family(), self.defaultFamily[fontext]))\n"
     ]
    },
    {
     "data": {
      "image/png": "[encoded data removed]",
      "text/plain": [
       "<matplotlib.figure.Figure at 0x7fbf942d17d0>"
      ]
     },
     "metadata": {},
     "output_type": "display_data"
    }
   ],
   "source": [
    "_ = df.course_material_engagement.hist()"
   ]
  },
  {
   "cell_type": "markdown",
   "metadata": {},
   "source": [
    "### Save data to disk"
   ]
  },
  {
   "cell_type": "code",
   "execution_count": 22,
   "metadata": {
    "collapsed": true
   },
   "outputs": [],
   "source": [
    "df.to_csv(\"Edx_clean.csv\")"
   ]
  },
  {
   "cell_type": "markdown",
   "metadata": {},
   "source": [
    "# Correlation Analysis"
   ]
  },
  {
   "cell_type": "code",
   "execution_count": 23,
   "metadata": {
    "collapsed": false
   },
   "outputs": [
    {
     "data": {
      "text/html": [
       "<div style=\"max-height:1000px;max-width:1500px;overflow:auto;\">\n",
       "<table border=\"1\" class=\"dataframe\">\n",
       "  <thead>\n",
       "    <tr style=\"text-align: right;\">\n",
       "      <th></th>\n",
       "      <th>engagement</th>\n",
       "      <th>days_ratio</th>\n",
       "      <th>ndays_act</th>\n",
       "    </tr>\n",
       "  </thead>\n",
       "  <tbody>\n",
       "    <tr>\n",
       "      <th>engagement</th>\n",
       "      <td>1.000000</td>\n",
       "      <td>-0.012761</td>\n",
       "      <td>0.521110</td>\n",
       "    </tr>\n",
       "    <tr>\n",
       "      <th>days_ratio</th>\n",
       "      <td>-0.012761</td>\n",
       "      <td>1.000000</td>\n",
       "      <td>0.002766</td>\n",
       "    </tr>\n",
       "    <tr>\n",
       "      <th>ndays_act</th>\n",
       "      <td>0.521110</td>\n",
       "      <td>0.002766</td>\n",
       "      <td>1.000000</td>\n",
       "    </tr>\n",
       "  </tbody>\n",
       "</table>\n",
       "</div>"
      ],
      "text/plain": [
       "            engagement  days_ratio  ndays_act\n",
       "engagement    1.000000   -0.012761   0.521110\n",
       "days_ratio   -0.012761    1.000000   0.002766\n",
       "ndays_act     0.521110    0.002766   1.000000"
      ]
     },
     "execution_count": 23,
     "metadata": {},
     "output_type": "execute_result"
    }
   ],
   "source": [
    "df[[\"engagement\", \"days_ratio\", \"ndays_act\"]].corr()"
   ]
  },
  {
   "cell_type": "code",
   "execution_count": 24,
   "metadata": {
    "collapsed": false
   },
   "outputs": [
    {
     "data": {
      "text/html": [
       "<div style=\"max-height:1000px;max-width:1500px;overflow:auto;\">\n",
       "<table border=\"1\" class=\"dataframe\">\n",
       "  <thead>\n",
       "    <tr style=\"text-align: right;\">\n",
       "      <th></th>\n",
       "      <th>gender2</th>\n",
       "      <th>course_category</th>\n",
       "      <th>university</th>\n",
       "      <th>engagement</th>\n",
       "    </tr>\n",
       "  </thead>\n",
       "  <tbody>\n",
       "    <tr>\n",
       "      <th>gender2</th>\n",
       "      <td>1.000000</td>\n",
       "      <td>-0.246703</td>\n",
       "      <td>-0.152826</td>\n",
       "      <td>0.040087</td>\n",
       "    </tr>\n",
       "    <tr>\n",
       "      <th>course_category</th>\n",
       "      <td>-0.246703</td>\n",
       "      <td>1.000000</td>\n",
       "      <td>0.330680</td>\n",
       "      <td>-0.083902</td>\n",
       "    </tr>\n",
       "    <tr>\n",
       "      <th>university</th>\n",
       "      <td>-0.152826</td>\n",
       "      <td>0.330680</td>\n",
       "      <td>1.000000</td>\n",
       "      <td>-0.063927</td>\n",
       "    </tr>\n",
       "    <tr>\n",
       "      <th>engagement</th>\n",
       "      <td>0.040087</td>\n",
       "      <td>-0.083902</td>\n",
       "      <td>-0.063927</td>\n",
       "      <td>1.000000</td>\n",
       "    </tr>\n",
       "  </tbody>\n",
       "</table>\n",
       "</div>"
      ],
      "text/plain": [
       "                  gender2  course_category  university  engagement\n",
       "gender2          1.000000        -0.246703   -0.152826    0.040087\n",
       "course_category -0.246703         1.000000    0.330680   -0.083902\n",
       "university      -0.152826         0.330680    1.000000   -0.063927\n",
       "engagement       0.040087        -0.083902   -0.063927    1.000000"
      ]
     },
     "execution_count": 24,
     "metadata": {},
     "output_type": "execute_result"
    }
   ],
   "source": [
    "df[[\"gender2\", \"course_category\", \"university\", \"engagement\"]].corr()"
   ]
  },
  {
   "cell_type": "code",
   "execution_count": 25,
   "metadata": {
    "collapsed": false
   },
   "outputs": [
    {
     "name": "stdout",
     "output_type": "stream",
     "text": [
      "0.521110308659 0.577862765994\n"
     ]
    }
   ],
   "source": [
    "r = df[\"ndays_act\"].corr(df[\"engagement\"], method='pearson')\n",
    "fisher = lambda r: .5 * (np.log(1+r) - np.log(1-r))\n",
    "print r, fisher(r)\n",
    "#, \"days_ratio\", \"ndays_act\"]].cov(method='spearman')"
   ]
  },
  {
   "cell_type": "code",
   "execution_count": 26,
   "metadata": {
    "collapsed": false
   },
   "outputs": [
    {
     "name": "stdout",
     "output_type": "stream",
     "text": [
      "0.521110308659 0.0 0.577862765994\n"
     ]
    }
   ],
   "source": [
    "from scipy.stats.stats import pearsonr\n",
    "tmp = df[[\"ndays_act\", \"engagement\"]].dropna()\n",
    "r, p = pearsonr(tmp[\"ndays_act\"].values, tmp[\"engagement\"].values)\n",
    "print r, p, fisher(r)"
   ]
  },
  {
   "cell_type": "code",
   "execution_count": 27,
   "metadata": {
    "collapsed": false
   },
   "outputs": [
    {
     "name": "stdout",
     "output_type": "stream",
     "text": [
      "0.598926471994 0.0 0.691471477963\n"
     ]
    }
   ],
   "source": [
    "tmp = df[[\"grade\", \"engagement\"]].dropna()\n",
    "r, p = pearsonr(tmp[\"grade\"].values, tmp[\"engagement\"].values)\n",
    "print r, p, fisher(r)"
   ]
  },
  {
   "cell_type": "code",
   "execution_count": 28,
   "metadata": {
    "collapsed": false
   },
   "outputs": [
    {
     "name": "stdout",
     "output_type": "stream",
     "text": [
      "-0.246702951671 0.0 -0.251899035216\n"
     ]
    }
   ],
   "source": [
    "tmp = df[[\"gender2\", \"course_category\"]].dropna()\n",
    "r, p = pearsonr(tmp[\"gender2\"].values, tmp[\"course_category\"].values)\n",
    "print r, p, fisher(r)"
   ]
  },
  {
   "cell_type": "code",
   "execution_count": 29,
   "metadata": {
    "collapsed": false
   },
   "outputs": [
    {
     "name": "stdout",
     "output_type": "stream",
     "text": [
      "0.0400870247774 6.98265867628e-196 0.0401085183811\n"
     ]
    }
   ],
   "source": [
    "tmp = df[[\"gender2\", \"engagement\"]].dropna()\n",
    "r, p = pearsonr(tmp[\"gender2\"].values, tmp[\"engagement\"].values)\n",
    "print r, p, fisher(r)"
   ]
  },
  {
   "cell_type": "code",
   "execution_count": 30,
   "metadata": {
    "collapsed": false
   },
   "outputs": [
    {
     "name": "stdout",
     "output_type": "stream",
     "text": [
      "0.0226176331371 3.97374571048e-48 0.0226214910599\n"
     ]
    }
   ],
   "source": [
    "tmp = df[df[\"course_category\"] == 1.0]\n",
    "tmp = tmp[[\"gender2\", \"engagement\"]].dropna()\n",
    "r, p = pearsonr(tmp[\"gender2\"].values, tmp[\"engagement\"].values)\n",
    "print r, p, fisher(r)"
   ]
  },
  {
   "cell_type": "code",
   "execution_count": 31,
   "metadata": {
    "collapsed": false
   },
   "outputs": [
    {
     "name": "stdout",
     "output_type": "stream",
     "text": [
      "0.0480294366392 2.74157650609e-14 0.0480664197045\n"
     ]
    }
   ],
   "source": [
    "tmp = df[(df[\"university\"] == 1.0).values * (df[\"course_category\"] == 0).values]\n",
    "tmp = tmp[[\"gender2\", \"engagement\"]].dropna()\n",
    "r, p = pearsonr(tmp[\"gender2\"].values, tmp[\"engagement\"].values)\n",
    "print r, p, fisher(r)"
   ]
  },
  {
   "cell_type": "code",
   "execution_count": 32,
   "metadata": {
    "collapsed": false
   },
   "outputs": [
    {
     "data": {
      "text/plain": [
       "count    338223.000000\n",
       "mean          1.571377\n",
       "std           0.669118\n",
       "min           1.000000\n",
       "25%           1.000000\n",
       "50%           1.000000\n",
       "75%           2.000000\n",
       "max           4.000000\n",
       "Name: engagement, dtype: float64"
      ]
     },
     "execution_count": 32,
     "metadata": {},
     "output_type": "execute_result"
    }
   ],
   "source": [
    "tmp = df[df.university == 0]\n",
    "tmp[\"engagement\"].describe()"
   ]
  },
  {
   "cell_type": "markdown",
   "metadata": {},
   "source": [
    "# Engagement Analysis"
   ]
  },
  {
   "cell_type": "code",
   "execution_count": 39,
   "metadata": {
    "collapsed": false
   },
   "outputs": [
    {
     "data": {
      "text/plain": [
       "0    338223\n",
       "1    302915\n",
       "dtype: int64"
      ]
     },
     "execution_count": 39,
     "metadata": {},
     "output_type": "execute_result"
    }
   ],
   "source": [
    "df.university.value_counts()"
   ]
  },
  {
   "cell_type": "code",
   "execution_count": 33,
   "metadata": {
    "collapsed": false
   },
   "outputs": [],
   "source": [
    "import statsmodels.api as sm"
   ]
  },
  {
   "cell_type": "markdown",
   "metadata": {},
   "source": [
    "### Multinomial Logistic Regression"
   ]
  },
  {
   "cell_type": "code",
   "execution_count": 34,
   "metadata": {
    "collapsed": false
   },
   "outputs": [],
   "source": [
    "cols_to_keep = [\"gender2\", \"Education\", \"course_category\", \"university\", \"age\"]\n",
    "#gender_dummy = pd.get_dummies(df[\"gender\"], prefix=\"gender\")\n",
    "#_dummy = pd.get_dummies(df[\"gender\"], prefix=\"gender\")\n",
    "data = df[cols_to_keep]#.join(gender_dummy)\n",
    "data = sm.add_constant(data)\n",
    "#data.fillna(0.0, inplace=True)"
   ]
  },
  {
   "cell_type": "code",
   "execution_count": 35,
   "metadata": {
    "collapsed": false
   },
   "outputs": [
    {
     "name": "stdout",
     "output_type": "stream",
     "text": [
      "Optimization terminated successfully.\n",
      "         Current function value: 0.885365\n",
      "         Iterations: 17\n",
      "         Function evaluations: 20\n",
      "         Gradient evaluations: 36\n",
      "         Hessian evaluations: 17\n"
     ]
    }
   ],
   "source": [
    "model = sm.MNLogit(df[\"engagement\"], data, missing='drop')\n",
    "results = model.fit(method='ncg')"
   ]
  },
  {
   "cell_type": "code",
   "execution_count": 36,
   "metadata": {
    "collapsed": false
   },
   "outputs": [
    {
     "name": "stdout",
     "output_type": "stream",
     "text": [
      "                          MNLogit Regression Results                          \n",
      "==============================================================================\n",
      "Dep. Variable:             engagement   No. Observations:               530041\n",
      "Model:                        MNLogit   Df Residuals:                   530023\n",
      "Method:                           MLE   Df Model:                           15\n",
      "Date:                Tue, 26 May 2015   Pseudo R-squ.:                 0.01867\n",
      "Time:                        15:33:29   Log-Likelihood:            -4.6928e+05\n",
      "converged:                       True   LL-Null:                   -4.7821e+05\n",
      "                                        LLR p-value:                     0.000\n",
      "===================================================================================\n",
      "   engagement=2       coef    std err          z      P>|z|      [95.0% Conf. Int.]\n",
      "-----------------------------------------------------------------------------------\n",
      "const               0.0445      0.014      3.274      0.001         0.018     0.071\n",
      "gender2             0.1151      0.007     16.855      0.000         0.102     0.128\n",
      "Education           0.0406      0.004     10.367      0.000         0.033     0.048\n",
      "course_category    -0.4555      0.007    -64.168      0.000        -0.469    -0.442\n",
      "university         -0.3185      0.006    -50.891      0.000        -0.331    -0.306\n",
      "age                -0.0031      0.000     -8.300      0.000        -0.004    -0.002\n",
      "-----------------------------------------------------------------------------------\n",
      "   engagement=3       coef    std err          z      P>|z|      [95.0% Conf. Int.]\n",
      "-----------------------------------------------------------------------------------\n",
      "const              -3.1433      0.038    -82.732      0.000        -3.218    -3.069\n",
      "gender2            -0.2579      0.020    -13.057      0.000        -0.297    -0.219\n",
      "Education           0.0572      0.010      5.621      0.000         0.037     0.077\n",
      "course_category     0.6365      0.022     28.616      0.000         0.593     0.680\n",
      "university         -0.8701      0.017    -51.211      0.000        -0.903    -0.837\n",
      "age                 0.0022      0.001      2.263      0.024         0.000     0.004\n",
      "-----------------------------------------------------------------------------------\n",
      "   engagement=4       coef    std err          z      P>|z|      [95.0% Conf. Int.]\n",
      "-----------------------------------------------------------------------------------\n",
      "const              -3.1335      0.042    -73.959      0.000        -3.217    -3.050\n",
      "gender2             0.1877      0.020      9.351      0.000         0.148     0.227\n",
      "Education           0.2412      0.012     20.055      0.000         0.218     0.265\n",
      "course_category    -0.8884      0.021    -42.995      0.000        -0.929    -0.848\n",
      "university          0.6315      0.019     32.808      0.000         0.594     0.669\n",
      "age                -0.0139      0.001    -11.281      0.000        -0.016    -0.012\n",
      "===================================================================================\n"
     ]
    }
   ],
   "source": [
    "print results.summary()"
   ]
  },
  {
   "cell_type": "code",
   "execution_count": 34,
   "metadata": {
    "collapsed": false
   },
   "outputs": [
    {
     "data": {
      "text/html": [
       "<div style=\"max-height:1000px;max-width:1500px;overflow:auto;\">\n",
       "<table border=\"1\" class=\"dataframe\">\n",
       "  <thead>\n",
       "    <tr style=\"text-align: right;\">\n",
       "      <th></th>\n",
       "      <th>0</th>\n",
       "      <th>1</th>\n",
       "      <th>2</th>\n",
       "    </tr>\n",
       "  </thead>\n",
       "  <tbody>\n",
       "    <tr>\n",
       "      <th>const</th>\n",
       "      <td> 1.060394e-03</td>\n",
       "      <td>  0.000000e+00</td>\n",
       "      <td>  0.000000e+00</td>\n",
       "    </tr>\n",
       "    <tr>\n",
       "      <th>gender2</th>\n",
       "      <td> 9.639501e-64</td>\n",
       "      <td>  5.830769e-39</td>\n",
       "      <td>  8.744489e-21</td>\n",
       "    </tr>\n",
       "    <tr>\n",
       "      <th>Education</th>\n",
       "      <td> 3.487381e-25</td>\n",
       "      <td>  1.904316e-08</td>\n",
       "      <td>  1.833345e-89</td>\n",
       "    </tr>\n",
       "    <tr>\n",
       "      <th>course_category</th>\n",
       "      <td> 0.000000e+00</td>\n",
       "      <td> 4.171694e-180</td>\n",
       "      <td>  0.000000e+00</td>\n",
       "    </tr>\n",
       "    <tr>\n",
       "      <th>university</th>\n",
       "      <td> 0.000000e+00</td>\n",
       "      <td>  0.000000e+00</td>\n",
       "      <td> 4.644675e-236</td>\n",
       "    </tr>\n",
       "    <tr>\n",
       "      <th>age</th>\n",
       "      <td> 1.041434e-16</td>\n",
       "      <td>  2.362160e-02</td>\n",
       "      <td>  1.633416e-29</td>\n",
       "    </tr>\n",
       "  </tbody>\n",
       "</table>\n",
       "</div>"
      ],
      "text/plain": [
       "                            0              1              2\n",
       "const            1.060394e-03   0.000000e+00   0.000000e+00\n",
       "gender2          9.639501e-64   5.830769e-39   8.744489e-21\n",
       "Education        3.487381e-25   1.904316e-08   1.833345e-89\n",
       "course_category  0.000000e+00  4.171694e-180   0.000000e+00\n",
       "university       0.000000e+00   0.000000e+00  4.644675e-236\n",
       "age              1.041434e-16   2.362160e-02   1.633416e-29"
      ]
     },
     "execution_count": 34,
     "metadata": {},
     "output_type": "execute_result"
    }
   ],
   "source": [
    "results.pvalues"
   ]
  },
  {
   "cell_type": "markdown",
   "metadata": {},
   "source": [
    "### Multivariate Regression 1"
   ]
  },
  {
   "cell_type": "code",
   "execution_count": 35,
   "metadata": {
    "collapsed": false
   },
   "outputs": [],
   "source": [
    "model = sm.OLS(df[\"grade\"], data, missing='drop')\n",
    "results = model.fit()"
   ]
  },
  {
   "cell_type": "code",
   "execution_count": 36,
   "metadata": {
    "collapsed": false
   },
   "outputs": [
    {
     "name": "stdout",
     "output_type": "stream",
     "text": [
      "                            OLS Regression Results                            \n",
      "==============================================================================\n",
      "Dep. Variable:                  grade   R-squared:                       0.007\n",
      "Model:                            OLS   Adj. R-squared:                  0.007\n",
      "Method:                 Least Squares   F-statistic:                     717.8\n",
      "Date:                Thu, 11 Dec 2014   Prob (F-statistic):               0.00\n",
      "Time:                        00:02:37   Log-Likelihood:            -2.1505e+06\n",
      "No. Observations:              530041   AIC:                         4.301e+06\n",
      "Df Residuals:                  530035   BIC:                         4.301e+06\n",
      "Df Model:                           5                                         \n",
      "Covariance Type:            nonrobust                                         \n",
      "===================================================================================\n",
      "                      coef    std err          t      P>|t|      [95.0% Conf. Int.]\n",
      "-----------------------------------------------------------------------------------\n",
      "const               2.0637      0.090     22.824      0.000         1.886     2.241\n",
      "gender2             0.5676      0.046     12.458      0.000         0.478     0.657\n",
      "Education           0.6498      0.026     25.170      0.000         0.599     0.700\n",
      "course_category    -1.4803      0.048    -30.998      0.000        -1.574    -1.387\n",
      "university          1.9504      0.041     47.426      0.000         1.870     2.031\n",
      "age                -0.0332      0.002    -13.345      0.000        -0.038    -0.028\n",
      "==============================================================================\n",
      "Omnibus:                   548496.300   Durbin-Watson:                   1.904\n",
      "Prob(Omnibus):                  0.000   Jarque-Bera (JB):         22574790.190\n",
      "Skew:                           5.477   Prob(JB):                         0.00\n",
      "Kurtosis:                      33.037   Cond. No.                         149.\n",
      "==============================================================================\n",
      "\n",
      "Warnings:\n",
      "[1] Standard Errors assume that the covariance matrix of the errors is correctly specified.\n"
     ]
    }
   ],
   "source": [
    "print results.summary()"
   ]
  },
  {
   "cell_type": "code",
   "execution_count": 37,
   "metadata": {
    "collapsed": false
   },
   "outputs": [
    {
     "data": {
      "text/plain": [
       "const              3.032840e-115\n",
       "gender2             1.278067e-35\n",
       "Education          1.037729e-139\n",
       "course_category    8.736460e-211\n",
       "university          0.000000e+00\n",
       "age                 1.279031e-40\n",
       "dtype: float64"
      ]
     },
     "execution_count": 37,
     "metadata": {},
     "output_type": "execute_result"
    }
   ],
   "source": [
    "results.pvalues"
   ]
  },
  {
   "cell_type": "markdown",
   "metadata": {},
   "source": [
    "### Multivariate Regression 2"
   ]
  },
  {
   "cell_type": "code",
   "execution_count": 38,
   "metadata": {
    "collapsed": false
   },
   "outputs": [],
   "source": [
    "cols_to_keep = [\"engagement\", \"course_material_engagement\", \"ndays_act\"]\n",
    "data = df[cols_to_keep]\n",
    "data = sm.add_constant(data)\n",
    "model = sm.OLS(df[\"grade\"], data, missing='drop')\n",
    "results = model.fit()"
   ]
  },
  {
   "cell_type": "code",
   "execution_count": 39,
   "metadata": {
    "collapsed": false
   },
   "outputs": [
    {
     "name": "stdout",
     "output_type": "stream",
     "text": [
      "                            OLS Regression Results                            \n",
      "==============================================================================\n",
      "Dep. Variable:                  grade   R-squared:                       0.653\n",
      "Model:                            OLS   Adj. R-squared:                  0.653\n",
      "Method:                 Least Squares   F-statistic:                 3.002e+05\n",
      "Date:                Thu, 11 Dec 2014   Prob (F-statistic):               0.00\n",
      "Time:                        00:02:47   Log-Likelihood:            -1.7705e+06\n",
      "No. Observations:              478395   AIC:                         3.541e+06\n",
      "Df Residuals:                  478391   BIC:                         3.541e+06\n",
      "Df Model:                           3                                         \n",
      "Covariance Type:            nonrobust                                         \n",
      "==============================================================================================\n",
      "                                 coef    std err          t      P>|t|      [95.0% Conf. Int.]\n",
      "----------------------------------------------------------------------------------------------\n",
      "const                        -13.2099      0.033   -395.112      0.000       -13.275   -13.144\n",
      "engagement                     8.6266      0.022    386.835      0.000         8.583     8.670\n",
      "course_material_engagement     0.0256      0.000     69.423      0.000         0.025     0.026\n",
      "ndays_act                      0.6755      0.002    373.156      0.000         0.672     0.679\n",
      "==============================================================================\n",
      "Omnibus:                   198407.412   Durbin-Watson:                   1.912\n",
      "Prob(Omnibus):                  0.000   Jarque-Bera (JB):          4697433.825\n",
      "Skew:                           1.458   Prob(JB):                         0.00\n",
      "Kurtosis:                      18.072   Cond. No.                         159.\n",
      "==============================================================================\n",
      "\n",
      "Warnings:\n",
      "[1] Standard Errors assume that the covariance matrix of the errors is correctly specified.\n"
     ]
    }
   ],
   "source": [
    "print results.summary()"
   ]
  },
  {
   "cell_type": "code",
   "execution_count": 40,
   "metadata": {
    "collapsed": false
   },
   "outputs": [
    {
     "data": {
      "text/plain": [
       "const                         0\n",
       "engagement                    0\n",
       "course_material_engagement    0\n",
       "ndays_act                     0\n",
       "dtype: float64"
      ]
     },
     "execution_count": 40,
     "metadata": {},
     "output_type": "execute_result"
    }
   ],
   "source": [
    "results.pvalues"
   ]
  },
  {
   "cell_type": "markdown",
   "metadata": {},
   "source": [
    "### Multilevel Analysis"
   ]
  },
  {
   "cell_type": "code",
   "execution_count": 60,
   "metadata": {
    "collapsed": false
   },
   "outputs": [
    {
     "name": "stdout",
     "output_type": "stream",
     "text": [
      "       const  grade  gender2  Education  course_category  university  age\n",
      "19329      1      0        0          2                1           0    2\n",
      "19330      1      0        0          2                1           0   27\n",
      "19331      1      0        1          2                1           0   46\n",
      "19332      1      0        0          3                1           0   25\n",
      "19333      1      0        0          4                1           0   36\n",
      "19334      1      0        0          2                1           0   21\n",
      "19335      1      0        0          3                1           0   26\n",
      "19336      1      0        1          2                1           0   21\n",
      "19337      1      0        0          4                1           0   33\n",
      "19338      1      0        1          4                0           0   34\n",
      "19339      1      0        1          4                0           0   34\n",
      "19340      1      0        0          4                1           0   34\n",
      "19341      1      0        0          2                1           0   23\n",
      "19342      1      0        0          4                1           0   33\n",
      "19343      1      0        0          2                1           0   25\n",
      "19344      1      0        0          2                1           0   21\n",
      "19345      1      0        0          3                1           0   23\n",
      "19346      1      0        0          3                1           0   37\n",
      "19347      1      0        1          3                1           0   26\n",
      "19348      1      0        0          2                1           0   22\n",
      "19349      1      0        0          2                1           0   22\n",
      "19350      1      0        1          4                1           0   34\n",
      "19351      1      0        0          3                1           0   24\n",
      "19352      1      0        0          3                0           0   24\n",
      "19353      1      0        1          4                1           0   34\n",
      "19354      1      0        1          4                1           0   34\n",
      "19356      1      0        0          3                1           0   28\n",
      "19357      1      0        0          3                1           0   24\n",
      "19359      1      0        0          3                1           0   28\n",
      "19360      1      0        1          4                1           0   32\n",
      "...      ...    ...      ...        ...              ...         ...  ...\n",
      "99968      1      0        0          2                1           0   18\n",
      "99969      1      0        0          4                1           0   27\n",
      "99970      1      0        0          3                1           0   36\n",
      "99971      1      0        0          3                1           0   34\n",
      "99972      1      0        0          3                1           0   27\n",
      "99974      1      0        1          4                1           0   32\n",
      "99975      1      0        0          2                1           0   21\n",
      "99976      1      0        0          3                1           0   24\n",
      "99977      1      0        1          5                1           0   43\n",
      "99978      1      0        0          2                1           0   37\n",
      "99979      1      0        0          3                1           0   33\n",
      "99980      1      0        0          2                1           0   18\n",
      "99981      1      0        0          3                1           0   26\n",
      "99982      1      0        0          4                1           0   29\n",
      "99983      1      0        0          3                1           0   28\n",
      "99984      1      0        0          3                0           0   28\n",
      "99985      1      0        1          2                0           0   22\n",
      "99986      1      0        0          3                1           0   34\n",
      "99988      1      0        0          2                1           0   29\n",
      "99989      1      0        0          3                1           0   24\n",
      "99990      1      0        0          3                1           0   28\n",
      "99991      1      0        0          4                1           0   34\n",
      "99992      1      0        0          3                1           0   32\n",
      "99993      1      0        1          3                1           0   30\n",
      "99994      1      0        0          2                1           0   26\n",
      "99995      1      0        0          2                0           0   21\n",
      "99996      1      0        0          3                1           0   36\n",
      "99997      1      0        0          2                1           0   29\n",
      "99998      1      0        1          4                1           0   31\n",
      "99999      1      0        0          4                1           0   28\n",
      "\n",
      "[74940 rows x 7 columns]\n"
     ]
    },
    {
     "name": "stderr",
     "output_type": "stream",
     "text": [
      "/usr/local/lib/python2.7/dist-packages/statsmodels/regression/mixed_linear_model.py:1676: ConvergenceWarning: Gradient optimization failed.\n",
      "  warnings.warn(msg, ConvergenceWarning)\n"
     ]
    },
    {
     "ename": "MemoryError",
     "evalue": "",
     "output_type": "error",
     "traceback": [
      "\u001b[1;31m---------------------------------------------------------------------------\u001b[0m\n\u001b[1;31mMemoryError\u001b[0m                               Traceback (most recent call last)",
      "\u001b[1;32m<ipython-input-60-42790cc398c4>\u001b[0m in \u001b[0;36m<module>\u001b[1;34m()\u001b[0m\n\u001b[0;32m      6\u001b[0m \u001b[1;32mprint\u001b[0m \u001b[0mdata\u001b[0m\u001b[1;33m\u001b[0m\u001b[0m\n\u001b[0;32m      7\u001b[0m \u001b[0mmodel\u001b[0m \u001b[1;33m=\u001b[0m \u001b[0msm\u001b[0m\u001b[1;33m.\u001b[0m\u001b[0mMixedLM\u001b[0m\u001b[1;33m(\u001b[0m\u001b[0mdata\u001b[0m\u001b[1;33m[\u001b[0m\u001b[1;34m\"grade\"\u001b[0m\u001b[1;33m]\u001b[0m\u001b[1;33m,\u001b[0m \u001b[0mdata\u001b[0m\u001b[1;33m[\u001b[0m\u001b[0mcols_to_keep\u001b[0m\u001b[1;33m[\u001b[0m\u001b[1;36m1\u001b[0m\u001b[1;33m:\u001b[0m\u001b[1;33m]\u001b[0m\u001b[1;33m]\u001b[0m\u001b[1;33m,\u001b[0m \u001b[0mgroups\u001b[0m\u001b[1;33m=\u001b[0m\u001b[0mdata\u001b[0m\u001b[1;33m[\u001b[0m\u001b[1;34m\"university\"\u001b[0m\u001b[1;33m]\u001b[0m\u001b[1;33m)\u001b[0m\u001b[1;33m\u001b[0m\u001b[0m\n\u001b[1;32m----> 8\u001b[1;33m \u001b[0mresults\u001b[0m \u001b[1;33m=\u001b[0m \u001b[0mmodel\u001b[0m\u001b[1;33m.\u001b[0m\u001b[0mfit\u001b[0m\u001b[1;33m(\u001b[0m\u001b[0mdo_cg\u001b[0m\u001b[1;33m=\u001b[0m\u001b[0mFalse\u001b[0m\u001b[1;33m)\u001b[0m\u001b[1;33m\u001b[0m\u001b[0m\n\u001b[0m",
      "\u001b[1;32m/usr/local/lib/python2.7/dist-packages/statsmodels/regression/mixed_linear_model.pyc\u001b[0m in \u001b[0;36mfit\u001b[1;34m(self, start_params, reml, niter_em, niter_sa, do_cg, fe_pen, cov_pen, free, full_output, **kwargs)\u001b[0m\n\u001b[0;32m   1692\u001b[0m         \u001b[1;31m# (not its square root).  It is used for obtaining standard\u001b[0m\u001b[1;33m\u001b[0m\u001b[1;33m\u001b[0m\u001b[0m\n\u001b[0;32m   1693\u001b[0m         \u001b[1;31m# errors, not for optimization.\u001b[0m\u001b[1;33m\u001b[0m\u001b[1;33m\u001b[0m\u001b[0m\n\u001b[1;32m-> 1694\u001b[1;33m         \u001b[0mhess\u001b[0m \u001b[1;33m=\u001b[0m \u001b[0mself\u001b[0m\u001b[1;33m.\u001b[0m\u001b[0mhessian_full\u001b[0m\u001b[1;33m(\u001b[0m\u001b[0mparams\u001b[0m\u001b[1;33m)\u001b[0m\u001b[1;33m\u001b[0m\u001b[0m\n\u001b[0m\u001b[0;32m   1695\u001b[0m         \u001b[1;32mif\u001b[0m \u001b[0mfree\u001b[0m \u001b[1;32mis\u001b[0m \u001b[1;32mnot\u001b[0m \u001b[0mNone\u001b[0m\u001b[1;33m:\u001b[0m\u001b[1;33m\u001b[0m\u001b[0m\n\u001b[0;32m   1696\u001b[0m             \u001b[0mpcov\u001b[0m \u001b[1;33m=\u001b[0m \u001b[0mnp\u001b[0m\u001b[1;33m.\u001b[0m\u001b[0mzeros_like\u001b[0m\u001b[1;33m(\u001b[0m\u001b[0mhess\u001b[0m\u001b[1;33m)\u001b[0m\u001b[1;33m\u001b[0m\u001b[0m\n",
      "\u001b[1;32m/usr/local/lib/python2.7/dist-packages/statsmodels/regression/mixed_linear_model.pyc\u001b[0m in \u001b[0;36mhessian_full\u001b[1;34m(self, params)\u001b[0m\n\u001b[0;32m   1286\u001b[0m                 \u001b[0mB\u001b[0m\u001b[1;33m[\u001b[0m\u001b[0mjj1\u001b[0m\u001b[1;33m]\u001b[0m \u001b[1;33m+=\u001b[0m \u001b[0mnp\u001b[0m\u001b[1;33m.\u001b[0m\u001b[0mdot\u001b[0m\u001b[1;33m(\u001b[0m\u001b[0mvir\u001b[0m\u001b[1;33m,\u001b[0m \u001b[0mnp\u001b[0m\u001b[1;33m.\u001b[0m\u001b[0mdot\u001b[0m\u001b[1;33m(\u001b[0m\u001b[0mmat1\u001b[0m\u001b[1;33m,\u001b[0m \u001b[0mvir\u001b[0m\u001b[1;33m)\u001b[0m\u001b[1;33m)\u001b[0m\u001b[1;33m\u001b[0m\u001b[0m\n\u001b[0;32m   1287\u001b[0m                 E = _smw_solve(1., ex_r, ex2_r, cov_re, cov_re_inv,\n\u001b[1;32m-> 1288\u001b[1;33m                                mat1)\n\u001b[0m\u001b[0;32m   1289\u001b[0m \u001b[1;33m\u001b[0m\u001b[0m\n\u001b[0;32m   1290\u001b[0m                 \u001b[1;32mfor\u001b[0m \u001b[0mjj2\u001b[0m\u001b[1;33m,\u001b[0m\u001b[0mmat2\u001b[0m \u001b[1;32min\u001b[0m \u001b[0mself\u001b[0m\u001b[1;33m.\u001b[0m\u001b[0m_gen_dV_dPsi\u001b[0m\u001b[1;33m(\u001b[0m\u001b[0mex_r\u001b[0m\u001b[1;33m,\u001b[0m \u001b[0mjj1\u001b[0m\u001b[1;33m)\u001b[0m\u001b[1;33m:\u001b[0m\u001b[1;33m\u001b[0m\u001b[0m\n",
      "\u001b[1;32m/usr/local/lib/python2.7/dist-packages/statsmodels/regression/mixed_linear_model.pyc\u001b[0m in \u001b[0;36m_smw_solve\u001b[1;34m(s, A, AtA, B, BI, rhs)\u001b[0m\n\u001b[0;32m    369\u001b[0m     \u001b[0mqmat\u001b[0m \u001b[1;33m=\u001b[0m \u001b[0mnp\u001b[0m\u001b[1;33m.\u001b[0m\u001b[0mlinalg\u001b[0m\u001b[1;33m.\u001b[0m\u001b[0msolve\u001b[0m\u001b[1;33m(\u001b[0m\u001b[0mqmat\u001b[0m\u001b[1;33m,\u001b[0m \u001b[0mu\u001b[0m\u001b[1;33m)\u001b[0m\u001b[1;33m\u001b[0m\u001b[0m\n\u001b[0;32m    370\u001b[0m     \u001b[0mqmat\u001b[0m \u001b[1;33m=\u001b[0m \u001b[0mnp\u001b[0m\u001b[1;33m.\u001b[0m\u001b[0mdot\u001b[0m\u001b[1;33m(\u001b[0m\u001b[0mA\u001b[0m\u001b[1;33m,\u001b[0m \u001b[0mqmat\u001b[0m\u001b[1;33m)\u001b[0m\u001b[1;33m\u001b[0m\u001b[0m\n\u001b[1;32m--> 371\u001b[1;33m     \u001b[0mrslt\u001b[0m \u001b[1;33m=\u001b[0m \u001b[0mrhs\u001b[0m \u001b[1;33m/\u001b[0m \u001b[0ms\u001b[0m \u001b[1;33m-\u001b[0m \u001b[0mqmat\u001b[0m \u001b[1;33m/\u001b[0m \u001b[0ms\u001b[0m\u001b[1;33m**\u001b[0m\u001b[1;36m2\u001b[0m\u001b[1;33m\u001b[0m\u001b[0m\n\u001b[0m\u001b[0;32m    372\u001b[0m     \u001b[1;32mreturn\u001b[0m \u001b[0mrslt\u001b[0m\u001b[1;33m\u001b[0m\u001b[0m\n\u001b[0;32m    373\u001b[0m \u001b[1;33m\u001b[0m\u001b[0m\n",
      "\u001b[1;31mMemoryError\u001b[0m: "
     ]
    }
   ],
   "source": [
    "cols_to_keep =  [\"grade\", \"gender2\", \"Education\", \"course_category\", \"university\", \"age\"]\n",
    "data = df[cols_to_keep]\n",
    "data = sm.add_constant(data)\n",
    "data = data.ix[np.arange(100000)]\n",
    "data = data.dropna()\n",
    "\n",
    "model = sm.MixedLM(data[\"grade\"], data[cols_to_keep[1:]], groups=data[\"university\"])\n",
    "results = model.fit(do_cg=False)"
   ]
  },
  {
   "cell_type": "code",
   "execution_count": 145,
   "metadata": {
    "collapsed": false
   },
   "outputs": [
    {
     "data": {
      "text/plain": [
       "[0, 1]"
      ]
     },
     "execution_count": 145,
     "metadata": {},
     "output_type": "execute_result"
    }
   ],
   "source": [
    "row_indices.keys()"
   ]
  },
  {
   "cell_type": "code",
   "execution_count": 131,
   "metadata": {
    "collapsed": false
   },
   "outputs": [
    {
     "ename": "AttributeError",
     "evalue": "'OLS' object has no attribute 'group_labels'",
     "output_type": "error",
     "traceback": [
      "\u001b[1;31m---------------------------------------------------------------------------\u001b[0m\n\u001b[1;31mAttributeError\u001b[0m                            Traceback (most recent call last)",
      "\u001b[1;32m<ipython-input-131-4d54ae8da477>\u001b[0m in \u001b[0;36m<module>\u001b[1;34m()\u001b[0m\n\u001b[1;32m----> 1\u001b[1;33m \u001b[0mmodel\u001b[0m\u001b[1;33m.\u001b[0m\u001b[0mgroup_labels\u001b[0m\u001b[1;33m\u001b[0m\u001b[0m\n\u001b[0m",
      "\u001b[1;31mAttributeError\u001b[0m: 'OLS' object has no attribute 'group_labels'"
     ]
    }
   ],
   "source": [
    "model.group_labels"
   ]
  },
  {
   "cell_type": "code",
   "execution_count": 124,
   "metadata": {
    "collapsed": false
   },
   "outputs": [
    {
     "name": "stdout",
     "output_type": "stream",
     "text": [
      "                            OLS Regression Results                            \n",
      "==============================================================================\n",
      "Dep. Variable:                  grade   R-squared:                       0.666\n",
      "Model:                            OLS   Adj. R-squared:                  0.666\n",
      "Method:                 Least Squares   F-statistic:                 2.388e+05\n",
      "Date:                Wed, 10 Dec 2014   Prob (F-statistic):               0.00\n",
      "Time:                        23:30:45   Log-Likelihood:            -1.7612e+06\n",
      "No. Observations:              478395   AIC:                         3.522e+06\n",
      "Df Residuals:                  478390   BIC:                         3.522e+06\n",
      "Df Model:                           4                                         \n",
      "Covariance Type:            nonrobust                                         \n",
      "==============================================================================================\n",
      "                                 coef    std err          t      P>|t|      [95.0% Conf. Int.]\n",
      "----------------------------------------------------------------------------------------------\n",
      "const                        -15.4307      0.041   -377.330      0.000       -15.511   -15.351\n",
      "engagement                     9.4916      0.023    415.904      0.000         9.447     9.536\n",
      "course_material_engagement     1.6015      0.010    154.367      0.000         1.581     1.622\n",
      "ndays_act                      0.5988      0.002    350.815      0.000         0.595     0.602\n",
      "university                    -0.6295      0.029    -21.722      0.000        -0.686    -0.573\n",
      "==============================================================================\n",
      "Omnibus:                   165890.207   Durbin-Watson:                   1.915\n",
      "Prob(Omnibus):                  0.000   Jarque-Bera (JB):          3583086.842\n",
      "Skew:                           1.153   Prob(JB):                         0.00\n",
      "Kurtosis:                      16.207   Cond. No.                         44.9\n",
      "==============================================================================\n",
      "\n",
      "Warnings:\n",
      "[1] Standard Errors assume that the covariance matrix of the errors is correctly specified.\n"
     ]
    }
   ],
   "source": [
    "print results.summary()"
   ]
  }
 ],
 "metadata": {
  "kernelspec": {
   "display_name": "Python 2",
   "language": "python",
   "name": "python2"
  },
  "language_info": {
   "codemirror_mode": {
    "name": "ipython",
    "version": 2
   },
   "file_extension": ".py",
   "mimetype": "text/x-python",
   "name": "python",
   "nbconvert_exporter": "python",
   "pygments_lexer": "ipython2",
   "version": "2.7.6"
  }
 },
 "nbformat": 4,
 "nbformat_minor": 0
}
